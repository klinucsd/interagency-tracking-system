{
 "cells": [
  {
   "cell_type": "code",
   "execution_count": 1,
   "id": "5a9b28d6",
   "metadata": {},
   "outputs": [],
   "source": [
    "import os\n",
    "import numpy as np\n",
    "import pandas as pd\n",
    "import geopandas as gpd\n",
    "import sys\n",
    "import math\n",
    "import logging\n",
    "sys.path.append('../')\n",
    "\n",
    "#import dask_geopandas\n",
    "# some data need to be converted to multi-type again\n",
    "from utils.save_gdf_to_gdb import save_gdf_to_gdb\n",
    "#from process.footprint_report import update_ln, update_poly, update_pt\n",
    "from shapely import Polygon, MultiPolygon\n",
    "from shapely import affinity\n",
    "#import dask_geopandas\n",
    "\n",
    "from its_logging.logger_config import logger\n",
    "logger = logging.getLogger('process.footprint')"
   ]
  },
  {
   "cell_type": "code",
   "execution_count": 2,
   "id": "c5046982",
   "metadata": {},
   "outputs": [],
   "source": [
    "report_path = r\"D:\\WORK\\wildfire\\Interagency-Tracking-System\\its\\ITSGDB_backup\\V2.0.1\\reports.gdb\""
   ]
  },
  {
   "cell_type": "code",
   "execution_count": 3,
   "id": "cb4a4a7e",
   "metadata": {},
   "outputs": [],
   "source": [
    "years = ['2021', '2022', '2023', '2024']"
   ]
  },
  {
   "cell_type": "code",
   "execution_count": 4,
   "id": "a31cd13b",
   "metadata": {},
   "outputs": [],
   "source": [
    "temp_path = 'temp_mns.gdb'"
   ]
  },
  {
   "cell_type": "code",
   "execution_count": null,
   "id": "1bc45749",
   "metadata": {},
   "outputs": [],
   "source": []
  },
  {
   "cell_type": "code",
   "execution_count": 5,
   "id": "22d105af",
   "metadata": {},
   "outputs": [
    {
     "name": "stderr",
     "output_type": "stream",
     "text": [
      "C:\\Users\\sky\\.conda\\envs\\its_recode\\Lib\\site-packages\\pyogrio\\raw.py:198: RuntimeWarning: driver OpenFileGDB does not support open option DRIVER\n",
      "  return ogr_read(\n",
      "C:\\Users\\sky\\.conda\\envs\\its_recode\\Lib\\site-packages\\pyogrio\\raw.py:198: RuntimeWarning: organizePolygons() received a polygon with more than 100 parts. The processing may be really slow.  You can skip the processing by setting METHOD=SKIP, or only make it analyze counter-clock wise parts by setting METHOD=ONLY_CCW if you can assume that the outline of holes is counter-clock wise defined\n",
      "  return ogr_read(\n",
      "C:\\Users\\sky\\.conda\\envs\\its_recode\\Lib\\site-packages\\pyogrio\\raw.py:198: RuntimeWarning: driver OpenFileGDB does not support open option DRIVER\n",
      "  return ogr_read(\n",
      "C:\\Users\\sky\\.conda\\envs\\its_recode\\Lib\\site-packages\\pyogrio\\raw.py:198: RuntimeWarning: driver OpenFileGDB does not support open option DRIVER\n",
      "  return ogr_read(\n",
      "C:\\Users\\sky\\.conda\\envs\\its_recode\\Lib\\site-packages\\pyogrio\\raw.py:198: RuntimeWarning: driver OpenFileGDB does not support open option DRIVER\n",
      "  return ogr_read(\n",
      "2025-08-20 11:58:53,756 INFO  [utils.save_gdf_to_gdb ]        Windows machine detected\n",
      "2025-08-20 11:58:53,756 INFO  [utils.save_gdf_to_gdb ]        Check geodataframe geometry object and cast to Multi-x type if both exist\n",
      "2025-08-20 11:58:53,757 INFO  [utils.save_gdf_to_gdb ]        Running GDAL OpenFileGDB to save to file\n"
     ]
    },
    {
     "name": "stdout",
     "output_type": "stream",
     "text": [
      "all file read\n",
      "D:\\WORK\\wildfire\\Interagency-Tracking-System\\its\\ITSGDB_backup\\V2.0.1\\reports.gdb\n"
     ]
    },
    {
     "name": "stderr",
     "output_type": "stream",
     "text": [
      "2025-08-20 11:58:54,190 INFO  [pyogrio._io           ]  Created 6,425 records\n",
      "2025-08-20 11:58:54,379 INFO  [utils.save_gdf_to_gdb ]        File saved to D:\\WORK\\wildfire\\Interagency-Tracking-System\\its\\ITSGDB_backup\\V2.0.1\\reports.gdb footprint2021\n",
      "C:\\Users\\sky\\.conda\\envs\\its_recode\\Lib\\site-packages\\pyogrio\\raw.py:198: RuntimeWarning: driver OpenFileGDB does not support open option DRIVER\n",
      "  return ogr_read(\n",
      "C:\\Users\\sky\\.conda\\envs\\its_recode\\Lib\\site-packages\\pyogrio\\raw.py:198: RuntimeWarning: driver OpenFileGDB does not support open option DRIVER\n",
      "  return ogr_read(\n",
      "C:\\Users\\sky\\.conda\\envs\\its_recode\\Lib\\site-packages\\pyogrio\\raw.py:198: RuntimeWarning: driver OpenFileGDB does not support open option DRIVER\n",
      "  return ogr_read(\n",
      "C:\\Users\\sky\\.conda\\envs\\its_recode\\Lib\\site-packages\\pyogrio\\raw.py:198: RuntimeWarning: driver OpenFileGDB does not support open option DRIVER\n",
      "  return ogr_read(\n",
      "2025-08-20 11:58:55,411 INFO  [utils.save_gdf_to_gdb ]        Windows machine detected\n",
      "2025-08-20 11:58:55,412 INFO  [utils.save_gdf_to_gdb ]        Check geodataframe geometry object and cast to Multi-x type if both exist\n",
      "2025-08-20 11:58:55,414 INFO  [utils.save_gdf_to_gdb ]        Running GDAL OpenFileGDB to save to file\n"
     ]
    },
    {
     "name": "stdout",
     "output_type": "stream",
     "text": [
      "all file read\n",
      "D:\\WORK\\wildfire\\Interagency-Tracking-System\\its\\ITSGDB_backup\\V2.0.1\\reports.gdb\n"
     ]
    },
    {
     "name": "stderr",
     "output_type": "stream",
     "text": [
      "2025-08-20 11:58:55,909 INFO  [pyogrio._io           ]  Created 8,379 records\n",
      "2025-08-20 11:58:56,131 INFO  [utils.save_gdf_to_gdb ]        File saved to D:\\WORK\\wildfire\\Interagency-Tracking-System\\its\\ITSGDB_backup\\V2.0.1\\reports.gdb footprint2022\n",
      "C:\\Users\\sky\\.conda\\envs\\its_recode\\Lib\\site-packages\\pyogrio\\raw.py:198: RuntimeWarning: driver OpenFileGDB does not support open option DRIVER\n",
      "  return ogr_read(\n",
      "C:\\Users\\sky\\.conda\\envs\\its_recode\\Lib\\site-packages\\pyogrio\\raw.py:198: RuntimeWarning: driver OpenFileGDB does not support open option DRIVER\n",
      "  return ogr_read(\n",
      "C:\\Users\\sky\\.conda\\envs\\its_recode\\Lib\\site-packages\\pyogrio\\raw.py:198: RuntimeWarning: driver OpenFileGDB does not support open option DRIVER\n",
      "  return ogr_read(\n",
      "C:\\Users\\sky\\.conda\\envs\\its_recode\\Lib\\site-packages\\pyogrio\\raw.py:198: RuntimeWarning: driver OpenFileGDB does not support open option DRIVER\n",
      "  return ogr_read(\n",
      "2025-08-20 11:58:57,372 INFO  [utils.save_gdf_to_gdb ]        Windows machine detected\n",
      "2025-08-20 11:58:57,373 INFO  [utils.save_gdf_to_gdb ]        Check geodataframe geometry object and cast to Multi-x type if both exist\n",
      "2025-08-20 11:58:57,374 INFO  [utils.save_gdf_to_gdb ]        Running GDAL OpenFileGDB to save to file\n"
     ]
    },
    {
     "name": "stdout",
     "output_type": "stream",
     "text": [
      "all file read\n",
      "D:\\WORK\\wildfire\\Interagency-Tracking-System\\its\\ITSGDB_backup\\V2.0.1\\reports.gdb\n"
     ]
    },
    {
     "name": "stderr",
     "output_type": "stream",
     "text": [
      "2025-08-20 11:58:57,949 INFO  [pyogrio._io           ]  Created 9,352 records\n",
      "2025-08-20 11:58:58,206 INFO  [utils.save_gdf_to_gdb ]        File saved to D:\\WORK\\wildfire\\Interagency-Tracking-System\\its\\ITSGDB_backup\\V2.0.1\\reports.gdb footprint2023\n",
      "C:\\Users\\sky\\.conda\\envs\\its_recode\\Lib\\site-packages\\pyogrio\\raw.py:198: RuntimeWarning: driver OpenFileGDB does not support open option DRIVER\n",
      "  return ogr_read(\n",
      "C:\\Users\\sky\\.conda\\envs\\its_recode\\Lib\\site-packages\\pyogrio\\raw.py:198: RuntimeWarning: driver OpenFileGDB does not support open option DRIVER\n",
      "  return ogr_read(\n",
      "C:\\Users\\sky\\.conda\\envs\\its_recode\\Lib\\site-packages\\pyogrio\\raw.py:198: RuntimeWarning: driver OpenFileGDB does not support open option DRIVER\n",
      "  return ogr_read(\n",
      "C:\\Users\\sky\\.conda\\envs\\its_recode\\Lib\\site-packages\\pyogrio\\raw.py:198: RuntimeWarning: driver OpenFileGDB does not support open option DRIVER\n",
      "  return ogr_read(\n",
      "2025-08-20 11:58:59,400 INFO  [utils.save_gdf_to_gdb ]        Windows machine detected\n",
      "2025-08-20 11:58:59,400 INFO  [utils.save_gdf_to_gdb ]        Check geodataframe geometry object and cast to Multi-x type if both exist\n",
      "2025-08-20 11:58:59,402 INFO  [utils.save_gdf_to_gdb ]        Running GDAL OpenFileGDB to save to file\n"
     ]
    },
    {
     "name": "stdout",
     "output_type": "stream",
     "text": [
      "all file read\n",
      "D:\\WORK\\wildfire\\Interagency-Tracking-System\\its\\ITSGDB_backup\\V2.0.1\\reports.gdb\n"
     ]
    },
    {
     "name": "stderr",
     "output_type": "stream",
     "text": [
      "2025-08-20 11:58:59,942 INFO  [pyogrio._io           ]  Created 10,374 records\n",
      "2025-08-20 11:59:00,194 INFO  [utils.save_gdf_to_gdb ]        File saved to D:\\WORK\\wildfire\\Interagency-Tracking-System\\its\\ITSGDB_backup\\V2.0.1\\reports.gdb footprint2024\n"
     ]
    }
   ],
   "source": [
    "for y in years:\n",
    "    spaghetti = gpd.read_file(temp_path, driver='OpenFileGDB', layer='Spaghetti_FeatureToPolygon' + y)\n",
    "    dissolved_point = gpd.read_file(temp_path, driver='OpenFileGDB', layer='meatball' + y)\n",
    "    dissolved_cur_y = gpd.read_file(temp_path, driver='OpenFileGDB', layer='original' + y)\n",
    "    timber_cur_y = gpd.read_file(temp_path, driver='OpenFileGDB', layer='timber' + y)\n",
    "    \n",
    "    print('all file read')\n",
    "    \n",
    "    # keep all NOP by left join\n",
    "    footprint_temp = spaghetti.sjoin(dissolved_point, how='left', predicate='intersects').reset_index()\n",
    "    # keep max value of each NOP\n",
    "    footprint_temp = footprint_temp.dropna().sort_values('ACTIVITY_QUANTITY').drop_duplicates('TRMTID_USER', keep='last')\n",
    "    # find original geometry with treatment id\n",
    "    footprint_gdf = dissolved_cur_y.set_index('TRMTID_USER').loc[footprint_temp.TRMTID_USER].reset_index()\n",
    "    # concat with timber\n",
    "    footprint_enriched = pd.concat([footprint_gdf, timber_cur_y[footprint_gdf.columns]])\n",
    "    # save to file\n",
    "    save_gdf_to_gdb(footprint_enriched, report_path, 'footprint'+ y)"
   ]
  },
  {
   "cell_type": "code",
   "execution_count": 4,
   "id": "8afe07d3",
   "metadata": {},
   "outputs": [
    {
     "data": {
      "text/html": [
       "<div>\n",
       "<style scoped>\n",
       "    .dataframe tbody tr th:only-of-type {\n",
       "        vertical-align: middle;\n",
       "    }\n",
       "\n",
       "    .dataframe tbody tr th {\n",
       "        vertical-align: top;\n",
       "    }\n",
       "\n",
       "    .dataframe thead th {\n",
       "        text-align: right;\n",
       "    }\n",
       "</style>\n",
       "<table border=\"1\" class=\"dataframe\">\n",
       "  <thead>\n",
       "    <tr style=\"text-align: right;\">\n",
       "      <th></th>\n",
       "      <th>name</th>\n",
       "      <th>geometry_type</th>\n",
       "    </tr>\n",
       "  </thead>\n",
       "  <tbody>\n",
       "    <tr>\n",
       "      <th>0</th>\n",
       "      <td>activity_report20250814</td>\n",
       "      <td>Point</td>\n",
       "    </tr>\n",
       "    <tr>\n",
       "      <th>1</th>\n",
       "      <td>footprint2021</td>\n",
       "      <td>MultiPolygon</td>\n",
       "    </tr>\n",
       "    <tr>\n",
       "      <th>2</th>\n",
       "      <td>footprint2022</td>\n",
       "      <td>MultiPolygon</td>\n",
       "    </tr>\n",
       "    <tr>\n",
       "      <th>3</th>\n",
       "      <td>footprint2023</td>\n",
       "      <td>MultiPolygon</td>\n",
       "    </tr>\n",
       "    <tr>\n",
       "      <th>4</th>\n",
       "      <td>footprint2024</td>\n",
       "      <td>MultiPolygon</td>\n",
       "    </tr>\n",
       "  </tbody>\n",
       "</table>\n",
       "</div>"
      ],
      "text/plain": [
       "                      name geometry_type\n",
       "0  activity_report20250814         Point\n",
       "1            footprint2021  MultiPolygon\n",
       "2            footprint2022  MultiPolygon\n",
       "3            footprint2023  MultiPolygon\n",
       "4            footprint2024  MultiPolygon"
      ]
     },
     "execution_count": 4,
     "metadata": {},
     "output_type": "execute_result"
    }
   ],
   "source": [
    "gpd.list_layers(report_path)"
   ]
  },
  {
   "cell_type": "code",
   "execution_count": 5,
   "id": "b289d69c",
   "metadata": {},
   "outputs": [
    {
     "name": "stderr",
     "output_type": "stream",
     "text": [
      "C:\\Users\\sky\\.conda\\envs\\its_recode\\Lib\\site-packages\\pyogrio\\raw.py:198: RuntimeWarning: driver OpenFileGDB does not support open option DRIVER\n",
      "  return ogr_read(\n",
      "C:\\Users\\sky\\.conda\\envs\\its_recode\\Lib\\site-packages\\pyogrio\\raw.py:198: RuntimeWarning: organizePolygons() received a polygon with more than 100 parts. The processing may be really slow.  You can skip the processing by setting METHOD=SKIP, or only make it analyze counter-clock wise parts by setting METHOD=ONLY_CCW if you can assume that the outline of holes is counter-clock wise defined\n",
      "  return ogr_read(\n",
      "C:\\Users\\sky\\.conda\\envs\\its_recode\\Lib\\site-packages\\pyogrio\\raw.py:198: RuntimeWarning: driver OpenFileGDB does not support open option DRIVER\n",
      "  return ogr_read(\n",
      "C:\\Users\\sky\\.conda\\envs\\its_recode\\Lib\\site-packages\\pyogrio\\raw.py:198: RuntimeWarning: driver OpenFileGDB does not support open option DRIVER\n",
      "  return ogr_read(\n",
      "C:\\Users\\sky\\.conda\\envs\\its_recode\\Lib\\site-packages\\pyogrio\\raw.py:198: RuntimeWarning: driver OpenFileGDB does not support open option DRIVER\n",
      "  return ogr_read(\n"
     ]
    }
   ],
   "source": [
    "footprint_list = []\n",
    "for y in years:\n",
    "    footprint_list.append(gpd.read_file(report_path, driver='OpenFileGDB', layer='footprint'+ y))"
   ]
  },
  {
   "cell_type": "code",
   "execution_count": 6,
   "id": "17f70a26",
   "metadata": {},
   "outputs": [],
   "source": [
    "upload_path = r\"D:\\WORK\\wildfire\\Interagency-Tracking-System\\its\\ITSGDB_backup\\V2.0upload\""
   ]
  },
  {
   "cell_type": "code",
   "execution_count": 7,
   "id": "7d8657ce",
   "metadata": {},
   "outputs": [
    {
     "name": "stderr",
     "output_type": "stream",
     "text": [
      "C:\\Users\\sky\\.conda\\envs\\its_recode\\Lib\\site-packages\\pyogrio\\raw.py:198: RuntimeWarning: driver OpenFileGDB does not support open option DRIVER\n",
      "  return ogr_read(\n"
     ]
    }
   ],
   "source": [
    "its_points = gpd.read_file(os.path.join(upload_path,'ITS_V2_0_Points.gdb'), driver='OpenFileGDB', layer='ITS_V2_0_Points')"
   ]
  },
  {
   "cell_type": "code",
   "execution_count": 8,
   "id": "b06c8fb6",
   "metadata": {},
   "outputs": [],
   "source": [
    "timber_id = its_points[(its_points['AGENCY'] == 'TIMBER') & (its_points['TRMTID_USER'].apply(lambda x: x[:5]) != \"PFIRS\")]['TRMTID_USER']"
   ]
  },
  {
   "cell_type": "code",
   "execution_count": 11,
   "id": "6a2e9690",
   "metadata": {},
   "outputs": [],
   "source": [
    "for gdf, y in zip(footprint_list, years):\n",
    "    gdf.loc[gdf.TRMTID_USER.isin(timber_id), 'REGION'] = 'Private – Industrial'\n",
    "    gdf['Year_txt'] = y"
   ]
  },
  {
   "cell_type": "code",
   "execution_count": 21,
   "id": "017fb5ce",
   "metadata": {},
   "outputs": [
    {
     "name": "stderr",
     "output_type": "stream",
     "text": [
      "2025-08-22 11:32:36,069 INFO  [pyogrio._io           ]  Created 6,425 records\n",
      "2025-08-22 11:32:36,784 INFO  [pyogrio._io           ]  Created 8,379 records\n",
      "2025-08-22 11:32:37,611 INFO  [pyogrio._io           ]  Created 9,352 records\n",
      "2025-08-22 11:32:38,418 INFO  [pyogrio._io           ]  Created 10,374 records\n"
     ]
    }
   ],
   "source": [
    "for gdf, y in zip(footprint_list, years):\n",
    "    gdf.to_file(report_path, driver='OpenFileGDB', layer='footprint'+ y)"
   ]
  },
  {
   "cell_type": "code",
   "execution_count": 14,
   "id": "686dcc3f",
   "metadata": {},
   "outputs": [],
   "source": [
    "footprint_gdf = pd.concat(footprint_list)"
   ]
  },
  {
   "cell_type": "code",
   "execution_count": 17,
   "id": "3cc2989f",
   "metadata": {},
   "outputs": [
    {
     "name": "stderr",
     "output_type": "stream",
     "text": [
      "C:\\Users\\sky\\.conda\\envs\\its_recode\\Lib\\site-packages\\pyogrio\\raw.py:723: RuntimeWarning: Normalized/laundered layer name: 'ITS_V2_0_Footprint_Polygons.gdb' to 'ITS_V2_0_Footprint_Polygons_gdb'\n",
      "  ogr_write(\n",
      "2025-08-22 11:23:50,439 INFO  [pyogrio._io           ]  Created 34,530 records\n"
     ]
    }
   ],
   "source": [
    "footprint_gdf.to_file(os.path.join(upload_path, 'ITS_V2_0_Footprint_Polygons.gdb'), \n",
    "                      driver='OpenFileGDB', \n",
    "                      layer='ITS_V2_0_Footprint_Polygons.gdb')"
   ]
  },
  {
   "cell_type": "code",
   "execution_count": 18,
   "id": "0d159d39",
   "metadata": {},
   "outputs": [
    {
     "name": "stderr",
     "output_type": "stream",
     "text": [
      "C:\\Users\\sky\\.conda\\envs\\its_recode\\Lib\\site-packages\\pyogrio\\raw.py:723: RuntimeWarning: Normalized/laundered layer name: 'ITS_V2_0_Footprint_Points.gdb' to 'ITS_V2_0_Footprint_Points_gdb'\n",
      "  ogr_write(\n",
      "2025-08-22 11:23:55,824 INFO  [pyogrio._io           ]  Created 34,530 records\n"
     ]
    }
   ],
   "source": [
    "footprint_gdf.set_geometry(\n",
    "    footprint_gdf.representative_point()).to_file(os.path.join(upload_path, 'ITS_V2_0_Footprint_Points.gdb'), \n",
    "                      driver='OpenFileGDB', \n",
    "                      layer='ITS_V2_0_Footprint_Points.gdb')"
   ]
  },
  {
   "cell_type": "code",
   "execution_count": null,
   "id": "9e712d67",
   "metadata": {},
   "outputs": [],
   "source": []
  },
  {
   "cell_type": "code",
   "execution_count": null,
   "id": "f7204c35",
   "metadata": {},
   "outputs": [],
   "source": []
  },
  {
   "cell_type": "code",
   "execution_count": null,
   "id": "2861a80e",
   "metadata": {},
   "outputs": [],
   "source": []
  }
 ],
 "metadata": {
  "kernelspec": {
   "display_name": "Python 3 (ipykernel)",
   "language": "python",
   "name": "python3"
  },
  "language_info": {
   "codemirror_mode": {
    "name": "ipython",
    "version": 3
   },
   "file_extension": ".py",
   "mimetype": "text/x-python",
   "name": "python",
   "nbconvert_exporter": "python",
   "pygments_lexer": "ipython3",
   "version": "3.13.1"
  }
 },
 "nbformat": 4,
 "nbformat_minor": 5
}

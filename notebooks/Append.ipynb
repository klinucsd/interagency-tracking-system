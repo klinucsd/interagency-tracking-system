{
 "cells": [
  {
   "cell_type": "code",
   "execution_count": 1,
   "id": "cfb78e7c",
   "metadata": {},
   "outputs": [],
   "source": [
    "import os\n",
    "import geopandas as gpd\n",
    "import pandas as pd"
   ]
  },
  {
   "cell_type": "code",
   "execution_count": 11,
   "id": "dace346a",
   "metadata": {},
   "outputs": [],
   "source": [
    "import sys\n",
    "sys.path.append('../')\n",
    "from process.append import get_enriched_features"
   ]
  },
  {
   "cell_type": "code",
   "execution_count": 5,
   "id": "e995681e",
   "metadata": {},
   "outputs": [],
   "source": [
    "enriched_path = r\"D:\\WORK\\wildfire\\Interagency-Tracking-System\\its\\ITSGDB_backup\\V2.0\""
   ]
  },
  {
   "cell_type": "code",
   "execution_count": 6,
   "id": "99d3a3ef",
   "metadata": {},
   "outputs": [],
   "source": [
    "enriched_list = os.listdir(enriched_path)"
   ]
  },
  {
   "cell_type": "code",
   "execution_count": 7,
   "id": "3ec6c132",
   "metadata": {},
   "outputs": [],
   "source": [
    "# skip the append, reports gdb file path\n",
    "skip_list = ['appended.gdb', 'reports.gdb']"
   ]
  },
  {
   "cell_type": "code",
   "execution_count": 8,
   "id": "ff16cb9e",
   "metadata": {},
   "outputs": [],
   "source": [
    "point_layers = []\n",
    "line_layers = []\n",
    "poly_layers = []\n",
    "for f in enriched_list:\n",
    "    if f in skip_list:\n",
    "        continue\n",
    "    f_path = enriched_path + r\"\\{}\".format(f)\n",
    "    gdb_layers = gpd.list_layers(f_path)\n",
    "    for i in range(len(gdb_layers)):\n",
    "        if 'point' in gdb_layers.loc[i, 'geometry_type'].lower():\n",
    "            point_layers.append({'gdb_path': f_path, 'layer_name':gdb_layers.loc[i, 'name']})\n",
    "        elif 'line' in gdb_layers.loc[i, 'geometry_type'].lower():\n",
    "            line_layers.append({'gdb_path': f_path, 'layer_name':gdb_layers.loc[i, 'name']})\n",
    "        else:\n",
    "            poly_layers.append({'gdb_path': f_path, 'layer_name':gdb_layers.loc[i, 'name']})\n",
    "            \n",
    "enriched_layers = {'point': point_layers, \n",
    "                  'line': line_layers,\n",
    "                  'polygon': poly_layers}"
   ]
  },
  {
   "cell_type": "code",
   "execution_count": 9,
   "id": "4a21f861",
   "metadata": {},
   "outputs": [
    {
     "data": {
      "text/plain": [
       "{'point': [{'gdb_path': 'D:\\\\WORK\\\\wildfire\\\\Interagency-Tracking-System\\\\its\\\\ITSGDB_backup\\\\V2.0\\\\CNRA_1950_2025.gdb',\n",
       "   'layer_name': 'CNRA_enriched_20250512_point'},\n",
       "  {'gdb_path': 'D:\\\\WORK\\\\wildfire\\\\Interagency-Tracking-System\\\\its\\\\ITSGDB_backup\\\\V2.0\\\\NFPORS_1950_2025.gdb',\n",
       "   'layer_name': 'NFPORS_enriched_20250509_point'},\n",
       "  {'gdb_path': 'D:\\\\WORK\\\\wildfire\\\\Interagency-Tracking-System\\\\its\\\\ITSGDB_backup\\\\V2.0\\\\Timber_Nonspatial_1950_2025.gdb',\n",
       "   'layer_name': 'Timber_Nonspatial_20250523'}],\n",
       " 'line': [{'gdb_path': 'D:\\\\WORK\\\\wildfire\\\\Interagency-Tracking-System\\\\its\\\\ITSGDB_backup\\\\V2.0\\\\CalTRANS_1950_2025.gdb',\n",
       "   'layer_name': 'CalTRANS_enriched_20250512'},\n",
       "  {'gdb_path': 'D:\\\\WORK\\\\wildfire\\\\Interagency-Tracking-System\\\\its\\\\ITSGDB_backup\\\\V2.0\\\\CNRA_1950_2025.gdb',\n",
       "   'layer_name': 'CNRA_enriched_20250512_line'}],\n",
       " 'polygon': [{'gdb_path': 'D:\\\\WORK\\\\wildfire\\\\Interagency-Tracking-System\\\\its\\\\ITSGDB_backup\\\\V2.0\\\\BLM_1950_2025.gdb',\n",
       "   'layer_name': 'BLM_enriched_20250509'},\n",
       "  {'gdb_path': 'D:\\\\WORK\\\\wildfire\\\\Interagency-Tracking-System\\\\its\\\\ITSGDB_backup\\\\V2.0\\\\CNRA_1950_2025.gdb',\n",
       "   'layer_name': 'CNRA_enriched_20250512_polygon'},\n",
       "  {'gdb_path': 'D:\\\\WORK\\\\wildfire\\\\Interagency-Tracking-System\\\\its\\\\ITSGDB_backup\\\\V2.0\\\\NFPORS_1950_2025.gdb',\n",
       "   'layer_name': 'NFPORS_enriched_20250509_polygon'},\n",
       "  {'gdb_path': 'D:\\\\WORK\\\\wildfire\\\\Interagency-Tracking-System\\\\its\\\\ITSGDB_backup\\\\V2.0\\\\NPS_1950_2025.gdb',\n",
       "   'layer_name': 'NPS_enriched_20250509'},\n",
       "  {'gdb_path': 'D:\\\\WORK\\\\wildfire\\\\Interagency-Tracking-System\\\\its\\\\ITSGDB_backup\\\\V2.0\\\\Timber_Spatial_1950_2025.gdb',\n",
       "   'layer_name': 'Timber_Industry_Spatial_20250515'},\n",
       "  {'gdb_path': 'D:\\\\WORK\\\\wildfire\\\\Interagency-Tracking-System\\\\its\\\\ITSGDB_backup\\\\V2.0\\\\USFS_1950_2025.gdb',\n",
       "   'layer_name': 'USFS_Region04_enriched_20250509'},\n",
       "  {'gdb_path': 'D:\\\\WORK\\\\wildfire\\\\Interagency-Tracking-System\\\\its\\\\ITSGDB_backup\\\\V2.0\\\\USFS_1950_2025.gdb',\n",
       "   'layer_name': 'USFS_Region05_enriched_20250509'},\n",
       "  {'gdb_path': 'D:\\\\WORK\\\\wildfire\\\\Interagency-Tracking-System\\\\its\\\\ITSGDB_backup\\\\V2.0\\\\USFS_1950_2025.gdb',\n",
       "   'layer_name': 'USFS_Region06_enriched_20250509'}]}"
      ]
     },
     "execution_count": 9,
     "metadata": {},
     "output_type": "execute_result"
    }
   ],
   "source": [
    "enriched_layers"
   ]
  },
  {
   "cell_type": "code",
   "execution_count": 13,
   "id": "2b1ca74a",
   "metadata": {},
   "outputs": [
    {
     "name": "stderr",
     "output_type": "stream",
     "text": [
      "C:\\Users\\sky\\.conda\\envs\\its_recode\\Lib\\site-packages\\pyogrio\\raw.py:198: RuntimeWarning: driver OpenFileGDB does not support open option DRIVER\n",
      "  return ogr_read(\n"
     ]
    }
   ],
   "source": [
    "timber_ns = gpd.read_file(r'D:\\\\WORK\\\\wildfire\\\\Interagency-Tracking-System\\\\its\\\\ITSGDB_backup\\\\V2.0\\\\Timber_Nonspatial_1950_2025.gdb',\n",
    "                         driver = 'OpenFileGDB',\n",
    "                         layer='Timber_Nonspatial_20250523')"
   ]
  },
  {
   "cell_type": "code",
   "execution_count": 17,
   "id": "be7cdcca",
   "metadata": {},
   "outputs": [
    {
     "data": {
      "text/plain": [
       "4       0.0\n",
       "9     500.0\n",
       "17      5.0\n",
       "Name: ACTIVITY_QUANTITY, dtype: float64"
      ]
     },
     "execution_count": 17,
     "metadata": {},
     "output_type": "execute_result"
    }
   ],
   "source": [
    "timber_ns[timber_ns.geometry == None].ACTIVITY_QUANTITY"
   ]
  },
  {
   "cell_type": "code",
   "execution_count": 12,
   "id": "aa7704ac",
   "metadata": {},
   "outputs": [
    {
     "name": "stderr",
     "output_type": "stream",
     "text": [
      "2025-05-23 11:24:34,852 INFO  [process.append_polygon]  --------------------------------------------------------------------------------\n",
      "2025-05-23 11:24:34,853 INFO  [process.append_polygon]  Concatenate all polygon records\n",
      "2025-05-23 11:24:34,853 INFO  [process.append_polygon]  Load GeoDataFrame from the layer 'BLM_enriched_20250509' in 'D:\\WORK\\wildfire\\Interagency-Tracking-System\\its\\ITSGDB_backup\\V2.0\\BLM_1950_2025.gdb' \n",
      "C:\\Users\\sky\\.conda\\envs\\its_recode\\Lib\\site-packages\\pyogrio\\raw.py:198: RuntimeWarning: driver OpenFileGDB does not support open option DRIVER\n",
      "  return ogr_read(\n",
      "C:\\Users\\sky\\.conda\\envs\\its_recode\\Lib\\site-packages\\pyogrio\\raw.py:198: RuntimeWarning: organizePolygons() received a polygon with more than 100 parts. The processing may be really slow.  You can skip the processing by setting METHOD=SKIP, or only make it analyze counter-clock wise parts by setting METHOD=ONLY_CCW if you can assume that the outline of holes is counter-clock wise defined\n",
      "  return ogr_read(\n",
      "2025-05-23 11:24:34,962 INFO  [process.append_polygon]  Load GeoDataFrame from the layer 'CNRA_enriched_20250512_polygon' in 'D:\\WORK\\wildfire\\Interagency-Tracking-System\\its\\ITSGDB_backup\\V2.0\\CNRA_1950_2025.gdb' \n",
      "C:\\Users\\sky\\.conda\\envs\\its_recode\\Lib\\site-packages\\pyogrio\\raw.py:198: RuntimeWarning: driver OpenFileGDB does not support open option DRIVER\n",
      "  return ogr_read(\n",
      "2025-05-23 11:24:38,378 INFO  [process.append_polygon]  Load GeoDataFrame from the layer 'NFPORS_enriched_20250509_polygon' in 'D:\\WORK\\wildfire\\Interagency-Tracking-System\\its\\ITSGDB_backup\\V2.0\\NFPORS_1950_2025.gdb' \n",
      "C:\\Users\\sky\\.conda\\envs\\its_recode\\Lib\\site-packages\\pyogrio\\raw.py:198: RuntimeWarning: driver OpenFileGDB does not support open option DRIVER\n",
      "  return ogr_read(\n",
      "2025-05-23 11:24:38,517 INFO  [process.append_polygon]  Load GeoDataFrame from the layer 'NPS_enriched_20250509' in 'D:\\WORK\\wildfire\\Interagency-Tracking-System\\its\\ITSGDB_backup\\V2.0\\NPS_1950_2025.gdb' \n",
      "C:\\Users\\sky\\.conda\\envs\\its_recode\\Lib\\site-packages\\pyogrio\\raw.py:198: RuntimeWarning: driver OpenFileGDB does not support open option DRIVER\n",
      "  return ogr_read(\n",
      "2025-05-23 11:24:38,584 INFO  [process.append_polygon]  Load GeoDataFrame from the layer 'Timber_Industry_Spatial_20250515' in 'D:\\WORK\\wildfire\\Interagency-Tracking-System\\its\\ITSGDB_backup\\V2.0\\Timber_Spatial_1950_2025.gdb' \n",
      "C:\\Users\\sky\\.conda\\envs\\its_recode\\Lib\\site-packages\\pyogrio\\raw.py:198: RuntimeWarning: driver OpenFileGDB does not support open option DRIVER\n",
      "  return ogr_read(\n",
      "2025-05-23 11:24:38,736 INFO  [process.append_polygon]  Load GeoDataFrame from the layer 'USFS_Region04_enriched_20250509' in 'D:\\WORK\\wildfire\\Interagency-Tracking-System\\its\\ITSGDB_backup\\V2.0\\USFS_1950_2025.gdb' \n",
      "C:\\Users\\sky\\.conda\\envs\\its_recode\\Lib\\site-packages\\pyogrio\\raw.py:198: RuntimeWarning: driver OpenFileGDB does not support open option DRIVER\n",
      "  return ogr_read(\n",
      "2025-05-23 11:24:38,784 INFO  [process.append_polygon]  Load GeoDataFrame from the layer 'USFS_Region05_enriched_20250509' in 'D:\\WORK\\wildfire\\Interagency-Tracking-System\\its\\ITSGDB_backup\\V2.0\\USFS_1950_2025.gdb' \n",
      "C:\\Users\\sky\\.conda\\envs\\its_recode\\Lib\\site-packages\\pyogrio\\raw.py:198: RuntimeWarning: driver OpenFileGDB does not support open option DRIVER\n",
      "  return ogr_read(\n",
      "2025-05-23 11:24:57,139 INFO  [process.append_polygon]  Load GeoDataFrame from the layer 'USFS_Region06_enriched_20250509' in 'D:\\WORK\\wildfire\\Interagency-Tracking-System\\its\\ITSGDB_backup\\V2.0\\USFS_1950_2025.gdb' \n",
      "C:\\Users\\sky\\.conda\\envs\\its_recode\\Lib\\site-packages\\pyogrio\\raw.py:198: RuntimeWarning: driver OpenFileGDB does not support open option DRIVER\n",
      "  return ogr_read(\n",
      "D:\\WORK\\wildfire\\ITS_RECODE\\interagency-tracking-system\\notebooks\\..\\process\\append.py:45: FutureWarning: The behavior of DataFrame concatenation with empty or all-NA entries is deprecated. In a future version, this will no longer exclude empty or all-NA columns when determining the result dtypes. To retain the old behavior, exclude the relevant entries before the concat operation.\n",
      "  final_gdf = pd.concat(gdfs_to_append, ignore_index=True)\n",
      "D:\\WORK\\wildfire\\ITS_RECODE\\interagency-tracking-system\\notebooks\\..\\process\\append.py:45: FutureWarning: The behavior of DataFrame concatenation with empty or all-NA entries is deprecated. In a future version, this will no longer exclude empty or all-NA columns when determining the result dtypes. To retain the old behavior, exclude the relevant entries before the concat operation.\n",
      "  final_gdf = pd.concat(gdfs_to_append, ignore_index=True)\n",
      "2025-05-23 11:24:58,817 INFO  [process.append_polygon]  Concatenated all geodataframes and got 441729 records\n",
      "2025-05-23 11:24:58,959 INFO  [process.append_polygon]  --------------------------------------------------------------------------------\n",
      "2025-05-23 11:24:58,960 INFO  [process.append_polygon]  Concatenate all line records\n",
      "2025-05-23 11:24:58,960 INFO  [process.append_polygon]  Load GeoDataFrame from the layer 'CalTRANS_enriched_20250512' in 'D:\\WORK\\wildfire\\Interagency-Tracking-System\\its\\ITSGDB_backup\\V2.0\\CalTRANS_1950_2025.gdb' \n",
      "C:\\Users\\sky\\.conda\\envs\\its_recode\\Lib\\site-packages\\pyogrio\\raw.py:198: RuntimeWarning: driver OpenFileGDB does not support open option DRIVER\n",
      "  return ogr_read(\n",
      "2025-05-23 11:25:10,625 INFO  [process.append_polygon]  Load GeoDataFrame from the layer 'CNRA_enriched_20250512_line' in 'D:\\WORK\\wildfire\\Interagency-Tracking-System\\its\\ITSGDB_backup\\V2.0\\CNRA_1950_2025.gdb' \n",
      "C:\\Users\\sky\\.conda\\envs\\its_recode\\Lib\\site-packages\\pyogrio\\raw.py:198: RuntimeWarning: driver OpenFileGDB does not support open option DRIVER\n",
      "  return ogr_read(\n",
      "2025-05-23 11:25:11,350 INFO  [process.append_polygon]  Concatenated all geodataframes and got 131654 records\n",
      "2025-05-23 11:25:11,391 INFO  [process.append_polygon]  --------------------------------------------------------------------------------\n",
      "2025-05-23 11:25:11,391 INFO  [process.append_polygon]  Concatenate all point records\n",
      "2025-05-23 11:25:11,392 INFO  [process.append_polygon]  Load GeoDataFrame from the layer 'CNRA_enriched_20250512_point' in 'D:\\WORK\\wildfire\\Interagency-Tracking-System\\its\\ITSGDB_backup\\V2.0\\CNRA_1950_2025.gdb' \n",
      "C:\\Users\\sky\\.conda\\envs\\its_recode\\Lib\\site-packages\\pyogrio\\raw.py:198: RuntimeWarning: driver OpenFileGDB does not support open option DRIVER\n",
      "  return ogr_read(\n",
      "2025-05-23 11:25:11,500 INFO  [process.append_polygon]  Load GeoDataFrame from the layer 'NFPORS_enriched_20250509_point' in 'D:\\WORK\\wildfire\\Interagency-Tracking-System\\its\\ITSGDB_backup\\V2.0\\NFPORS_1950_2025.gdb' \n",
      "C:\\Users\\sky\\.conda\\envs\\its_recode\\Lib\\site-packages\\pyogrio\\raw.py:198: RuntimeWarning: driver OpenFileGDB does not support open option DRIVER\n",
      "  return ogr_read(\n",
      "2025-05-23 11:25:11,689 INFO  [process.append_polygon]  Load GeoDataFrame from the layer 'Timber_Nonspatial_20250523' in 'D:\\WORK\\wildfire\\Interagency-Tracking-System\\its\\ITSGDB_backup\\V2.0\\Timber_Nonspatial_1950_2025.gdb' \n",
      "C:\\Users\\sky\\.conda\\envs\\its_recode\\Lib\\site-packages\\pyogrio\\raw.py:198: RuntimeWarning: driver OpenFileGDB does not support open option DRIVER\n",
      "  return ogr_read(\n",
      "2025-05-23 11:25:11,707 INFO  [process.append_polygon]  Found empty geometry in the data in Timber_Nonspatial_20250523\n",
      "2025-05-23 11:25:11,709 INFO  [process.append_polygon]  Only COUNTS_TO_MAS == YES, error\n"
     ]
    },
    {
     "ename": "NameError",
     "evalue": "name 'exit' is not defined",
     "output_type": "error",
     "traceback": [
      "\u001b[1;31m---------------------------------------------------------------------------\u001b[0m",
      "\u001b[1;31mNameError\u001b[0m                                 Traceback (most recent call last)",
      "Cell \u001b[1;32mIn[12], line 1\u001b[0m\n\u001b[1;32m----> 1\u001b[0m enriched_polygons, enriched_lines, enriched_points \u001b[38;5;241m=\u001b[39m get_enriched_features(enriched_layers)\n",
      "File \u001b[1;32mD:\\WORK\\wildfire\\ITS_RECODE\\interagency-tracking-system\\notebooks\\..\\process\\append.py:66\u001b[0m, in \u001b[0;36mget_enriched_features\u001b[1;34m(enriched_data_spec)\u001b[0m\n\u001b[0;32m     64\u001b[0m logger\u001b[38;5;241m.\u001b[39minfo(\u001b[38;5;124m\"\u001b[39m\u001b[38;5;124m-\u001b[39m\u001b[38;5;124m\"\u001b[39m\u001b[38;5;241m*\u001b[39m\u001b[38;5;241m80\u001b[39m)\n\u001b[0;32m     65\u001b[0m logger\u001b[38;5;241m.\u001b[39minfo(\u001b[38;5;124m\"\u001b[39m\u001b[38;5;124mConcatenate all point records\u001b[39m\u001b[38;5;124m\"\u001b[39m)\n\u001b[1;32m---> 66\u001b[0m enriched_points \u001b[38;5;241m=\u001b[39m append_enriched_features(enriched_data_spec[\u001b[38;5;124m'\u001b[39m\u001b[38;5;124mpoint\u001b[39m\u001b[38;5;124m'\u001b[39m])\n\u001b[0;32m     68\u001b[0m \u001b[38;5;28;01mreturn\u001b[39;00m enriched_polygons, enriched_lines, enriched_points\n",
      "File \u001b[1;32mD:\\WORK\\wildfire\\ITS_RECODE\\interagency-tracking-system\\notebooks\\..\\process\\append.py:42\u001b[0m, in \u001b[0;36mappend_enriched_features\u001b[1;34m(layers)\u001b[0m\n\u001b[0;32m     39\u001b[0m         \u001b[38;5;66;03m# found data error\u001b[39;00m\n\u001b[0;32m     40\u001b[0m         \u001b[38;5;28;01melse\u001b[39;00m:\n\u001b[0;32m     41\u001b[0m             logger\u001b[38;5;241m.\u001b[39minfo(\u001b[38;5;124m\"\u001b[39m\u001b[38;5;124mOnly COUNTS_TO_MAS == YES, error\u001b[39m\u001b[38;5;124m\"\u001b[39m)\n\u001b[1;32m---> 42\u001b[0m             exit()\n\u001b[0;32m     43\u001b[0m     gdfs_to_append\u001b[38;5;241m.\u001b[39mappend(gdf)\n\u001b[0;32m     44\u001b[0m \u001b[38;5;28;01mif\u001b[39;00m gdfs_to_append:\n",
      "\u001b[1;31mNameError\u001b[0m: name 'exit' is not defined"
     ]
    }
   ],
   "source": [
    "enriched_polygons, enriched_lines, enriched_points = get_enriched_features(enriched_layers)"
   ]
  },
  {
   "cell_type": "code",
   "execution_count": null,
   "id": "820b7965",
   "metadata": {},
   "outputs": [],
   "source": []
  },
  {
   "cell_type": "code",
   "execution_count": 9,
   "id": "34438cae",
   "metadata": {},
   "outputs": [
    {
     "name": "stderr",
     "output_type": "stream",
     "text": [
      "C:\\Users\\sky\\.conda\\envs\\its_recode\\Lib\\site-packages\\pyogrio\\raw.py:198: RuntimeWarning: driver OpenFileGDB does not support open option DRIVER\n",
      "  return ogr_read(\n"
     ]
    }
   ],
   "source": [
    "california_boundary = gpd.read_file(r'D:\\WORK\\wildfire\\Interagency-Tracking-System\\its\\Interagency Tracking System.gdb', \n",
    "                                    driver='OpenFileGDB', \n",
    "                                    layer='California')"
   ]
  },
  {
   "cell_type": "code",
   "execution_count": 10,
   "id": "d240ba99",
   "metadata": {},
   "outputs": [],
   "source": [
    "import dask_geopandas\n",
    "# some data need to be converted to multi-type again\n",
    "from utils.save_gdf_to_gdb import save_gdf_to_gdb"
   ]
  },
  {
   "cell_type": "code",
   "execution_count": 11,
   "id": "d1829668",
   "metadata": {},
   "outputs": [],
   "source": [
    "append_path = r\"D:\\WORK\\wildfire\\Interagency-Tracking-System\\its\\ITSGDB_backup\\V2.0\\appended.gdb\""
   ]
  },
  {
   "cell_type": "code",
   "execution_count": 12,
   "id": "8a398d5d",
   "metadata": {},
   "outputs": [],
   "source": [
    "# grab timber non spatial path again\n",
    "timber_nonspatial_path = None\n",
    "for p in enriched_layers['point']:\n",
    "    if 'Timber_Nonspatial' in p['gdb_path']:\n",
    "        timber_nonspatial_path = p\n",
    "        break"
   ]
  },
  {
   "cell_type": "code",
   "execution_count": 13,
   "id": "a1eb46b1",
   "metadata": {},
   "outputs": [
    {
     "data": {
      "text/plain": [
       "{'gdb_path': 'D:\\\\WORK\\\\wildfire\\\\Interagency-Tracking-System\\\\its\\\\ITSGDB_backup\\\\tmp\\\\Timber_Nonspatial_2020_2025.gdb',\n",
       " 'layer_name': 'Timber_Nonspatial_20250221'}"
      ]
     },
     "execution_count": 13,
     "metadata": {},
     "output_type": "execute_result"
    }
   ],
   "source": [
    "timber_nonspatial_path"
   ]
  },
  {
   "cell_type": "code",
   "execution_count": 14,
   "id": "1b1366d8",
   "metadata": {},
   "outputs": [
    {
     "name": "stderr",
     "output_type": "stream",
     "text": [
      "C:\\Users\\sky\\.conda\\envs\\its_recode\\Lib\\site-packages\\pyogrio\\raw.py:198: RuntimeWarning: driver OpenFileGDB does not support open option DRIVER\n",
      "  return ogr_read(\n"
     ]
    }
   ],
   "source": [
    "timber_nonspatial = gpd.read_file(timber_nonspatial_path['gdb_path'], \n",
    "                                    driver='OpenFileGDB', \n",
    "                                    layer=timber_nonspatial_path['layer_name'])\n",
    "        "
   ]
  },
  {
   "cell_type": "code",
   "execution_count": 15,
   "id": "9857fdc4",
   "metadata": {},
   "outputs": [
    {
     "name": "stderr",
     "output_type": "stream",
     "text": [
      "2025-05-08 13:10:11,353 INFO  [utils.save_gdf_to_gdb ]        Windows machine detected\n",
      "2025-05-08 13:10:11,353 INFO  [utils.save_gdf_to_gdb ]        Check geodataframe geometry object and cast to Multi-x type if both exist\n",
      "2025-05-08 13:10:11,358 INFO  [utils.save_gdf_to_gdb ]        Running GDAL OpenFileGDB to save to file\n"
     ]
    },
    {
     "name": "stdout",
     "output_type": "stream",
     "text": [
      "D:\\WORK\\wildfire\\Interagency-Tracking-System\\its\\ITSGDB_backup\\V2.0\\appended.gdb\n"
     ]
    },
    {
     "name": "stderr",
     "output_type": "stream",
     "text": [
      "C:\\Users\\sky\\.conda\\envs\\its_recode\\Lib\\site-packages\\pyogrio\\raw.py:723: RuntimeWarning: Field index_right of type Integer64 will be written as a Float64. To get Integer64, use layer creation option TARGET_ARCGIS_VERSION=ARCGIS_PRO_3_2_OR_LATER\n",
      "  ogr_write(\n",
      "C:\\Users\\sky\\.conda\\envs\\its_recode\\Lib\\site-packages\\pyogrio\\raw.py:723: RuntimeWarning: Normalized/laundered field name: 'Shape_Length' to 'Shape_Length_1'\n",
      "  ogr_write(\n",
      "C:\\Users\\sky\\.conda\\envs\\its_recode\\Lib\\site-packages\\pyogrio\\raw.py:723: RuntimeWarning: Normalized/laundered field name: 'Shape_Area' to 'Shape_Area_1'\n",
      "  ogr_write(\n",
      "2025-05-08 13:10:19,952 INFO  [pyogrio._io           ]  Created 62,088 records\n",
      "2025-05-08 13:10:23,178 INFO  [utils.save_gdf_to_gdb ]        File saved to D:\\WORK\\wildfire\\Interagency-Tracking-System\\its\\ITSGDB_backup\\V2.0\\appended.gdb appended_poly\n",
      "2025-05-08 13:11:33,993 INFO  [utils.save_gdf_to_gdb ]        Windows machine detected\n",
      "2025-05-08 13:11:33,993 INFO  [utils.save_gdf_to_gdb ]        Check geodataframe geometry object and cast to Multi-x type if both exist\n",
      "2025-05-08 13:11:34,004 INFO  [utils.save_gdf_to_gdb ]        Running GDAL OpenFileGDB to save to file\n"
     ]
    },
    {
     "name": "stdout",
     "output_type": "stream",
     "text": [
      "D:\\WORK\\wildfire\\Interagency-Tracking-System\\its\\ITSGDB_backup\\V2.0\\appended.gdb\n"
     ]
    },
    {
     "name": "stderr",
     "output_type": "stream",
     "text": [
      "C:\\Users\\sky\\.conda\\envs\\its_recode\\Lib\\site-packages\\pyogrio\\raw.py:723: RuntimeWarning: Field index_right of type Integer64 will be written as a Float64. To get Integer64, use layer creation option TARGET_ARCGIS_VERSION=ARCGIS_PRO_3_2_OR_LATER\n",
      "  ogr_write(\n",
      "2025-05-08 13:11:52,784 INFO  [pyogrio._io           ]  Created 103,837 records\n",
      "2025-05-08 13:11:56,295 INFO  [utils.save_gdf_to_gdb ]        File saved to D:\\WORK\\wildfire\\Interagency-Tracking-System\\its\\ITSGDB_backup\\V2.0\\appended.gdb appended_line\n",
      "C:\\Users\\sky\\.conda\\envs\\its_recode\\Lib\\site-packages\\pyogrio\\raw.py:198: RuntimeWarning: driver OpenFileGDB does not support open option DRIVER\n",
      "  return ogr_read(\n",
      "<timed exec>:12: FutureWarning: The behavior of DataFrame concatenation with empty or all-NA entries is deprecated. In a future version, this will no longer exclude empty or all-NA columns when determining the result dtypes. To retain the old behavior, exclude the relevant entries before the concat operation.\n",
      "<timed exec>:12: FutureWarning: The behavior of DataFrame concatenation with empty or all-NA entries is deprecated. In a future version, this will no longer exclude empty or all-NA columns when determining the result dtypes. To retain the old behavior, exclude the relevant entries before the concat operation.\n",
      "<timed exec>:12: FutureWarning: The behavior of DataFrame concatenation with empty or all-NA entries is deprecated. In a future version, this will no longer exclude empty or all-NA columns when determining the result dtypes. To retain the old behavior, exclude the relevant entries before the concat operation.\n",
      "<timed exec>:12: FutureWarning: The behavior of DataFrame concatenation with empty or all-NA entries is deprecated. In a future version, this will no longer exclude empty or all-NA columns when determining the result dtypes. To retain the old behavior, exclude the relevant entries before the concat operation.\n",
      "<timed exec>:12: FutureWarning: The behavior of DataFrame concatenation with empty or all-NA entries is deprecated. In a future version, this will no longer exclude empty or all-NA columns when determining the result dtypes. To retain the old behavior, exclude the relevant entries before the concat operation.\n",
      "2025-05-08 13:11:57,969 INFO  [utils.save_gdf_to_gdb ]        Windows machine detected\n",
      "2025-05-08 13:11:57,969 INFO  [utils.save_gdf_to_gdb ]        Check geodataframe geometry object and cast to Multi-x type if both exist\n",
      "2025-05-08 13:11:58,061 INFO  [utils.save_gdf_to_gdb ]        Running GDAL OpenFileGDB to save to file\n"
     ]
    },
    {
     "name": "stdout",
     "output_type": "stream",
     "text": [
      "D:\\WORK\\wildfire\\Interagency-Tracking-System\\its\\ITSGDB_backup\\V2.0\\appended.gdb\n"
     ]
    },
    {
     "name": "stderr",
     "output_type": "stream",
     "text": [
      "2025-05-08 13:11:58,935 INFO  [pyogrio._io           ]  Created 14,415 records\n",
      "2025-05-08 13:11:59,055 INFO  [utils.save_gdf_to_gdb ]        File saved to D:\\WORK\\wildfire\\Interagency-Tracking-System\\its\\ITSGDB_backup\\V2.0\\appended.gdb appended_point\n"
     ]
    },
    {
     "name": "stdout",
     "output_type": "stream",
     "text": [
      "CPU times: total: 16min 21s\n",
      "Wall time: 2min 29s\n"
     ]
    }
   ],
   "source": [
    "%%time\n",
    "\n",
    "\n",
    "\n",
    "for df, lyr_name in zip([enriched_polygons,enriched_lines,enriched_points], [\"appended_poly\",\"appended_line\",\"appended_point\"]):\n",
    "    # init dask gdf for multithread clipping\n",
    "    ddf = dask_geopandas.from_geopandas(df, npartitions=16)\n",
    "    # clip to california bounds\n",
    "    append_clipped = ddf.sjoin(california_boundary, how='inner', predicate='intersects').compute()\n",
    "    # industry nonspatial is by design out of california bounds and got clipped, manually concat it back\n",
    "    if lyr_name == 'appended_point':\n",
    "        timber_nonspatial = gpd.read_file(timber_nonspatial_path['gdb_path'], \n",
    "                                    driver='OpenFileGDB', \n",
    "                                    layer=timber_nonspatial_path['layer_name'])\n",
    "        \n",
    "        append_clipped = pd.concat([append_clipped, timber_nonspatial], ignore_index=True)\n",
    "    save_gdf_to_gdb(append_clipped, append_path, lyr_name)"
   ]
  },
  {
   "cell_type": "code",
   "execution_count": 16,
   "id": "c515fb32",
   "metadata": {},
   "outputs": [
    {
     "name": "stderr",
     "output_type": "stream",
     "text": [
      "C:\\Users\\sky\\.conda\\envs\\its_recode\\Lib\\site-packages\\pyogrio\\raw.py:198: RuntimeWarning: driver OpenFileGDB does not support open option DRIVER\n",
      "  return ogr_read(\n",
      "C:\\Users\\sky\\.conda\\envs\\its_recode\\Lib\\site-packages\\pyogrio\\raw.py:198: RuntimeWarning: driver OpenFileGDB does not support open option DRIVER\n",
      "  return ogr_read(\n",
      "C:\\Users\\sky\\.conda\\envs\\its_recode\\Lib\\site-packages\\pyogrio\\raw.py:198: RuntimeWarning: driver OpenFileGDB does not support open option DRIVER\n",
      "  return ogr_read(\n"
     ]
    }
   ],
   "source": [
    "enriched_polygons = gpd.read_file(append_path, driver='OpenFileGDB', layer='appended_poly')\n",
    "enriched_points = gpd.read_file(append_path, driver='OpenFileGDB', layer='appended_point')\n",
    "enriched_lines = gpd.read_file(append_path, driver='OpenFileGDB', layer='appended_line')"
   ]
  },
  {
   "cell_type": "code",
   "execution_count": 24,
   "id": "05e8cbac",
   "metadata": {},
   "outputs": [
    {
     "data": {
      "text/html": [
       "<div>\n",
       "<style scoped>\n",
       "    .dataframe tbody tr th:only-of-type {\n",
       "        vertical-align: middle;\n",
       "    }\n",
       "\n",
       "    .dataframe tbody tr th {\n",
       "        vertical-align: top;\n",
       "    }\n",
       "\n",
       "    .dataframe thead th {\n",
       "        text-align: right;\n",
       "    }\n",
       "</style>\n",
       "<table border=\"1\" class=\"dataframe\">\n",
       "  <thead>\n",
       "    <tr style=\"text-align: right;\">\n",
       "      <th></th>\n",
       "      <th>PROJECTID_USER</th>\n",
       "      <th>AGENCY</th>\n",
       "      <th>ORG_ADMIN_p</th>\n",
       "      <th>PROJECT_CONTACT</th>\n",
       "      <th>PROJECT_EMAIL</th>\n",
       "      <th>ADMINISTERING_ORG</th>\n",
       "      <th>PROJECT_NAME</th>\n",
       "      <th>PROJECT_STATUS</th>\n",
       "      <th>PROJECT_START</th>\n",
       "      <th>PROJECT_END</th>\n",
       "      <th>...</th>\n",
       "      <th>COUNTS_TO_MAS</th>\n",
       "      <th>index_right</th>\n",
       "      <th>FIPS</th>\n",
       "      <th>STATE</th>\n",
       "      <th>ST_ABBREV</th>\n",
       "      <th>SQMI</th>\n",
       "      <th>POPULATION</th>\n",
       "      <th>Shape_Length</th>\n",
       "      <th>Shape_Area</th>\n",
       "      <th>geometry</th>\n",
       "    </tr>\n",
       "  </thead>\n",
       "  <tbody>\n",
       "    <tr>\n",
       "      <th>14341</th>\n",
       "      <td>TI-0</td>\n",
       "      <td>TIMBER</td>\n",
       "      <td>None</td>\n",
       "      <td>None</td>\n",
       "      <td>None</td>\n",
       "      <td>None</td>\n",
       "      <td>TI-0</td>\n",
       "      <td>None</td>\n",
       "      <td>NaT</td>\n",
       "      <td>NaT</td>\n",
       "      <td>...</td>\n",
       "      <td>YES</td>\n",
       "      <td>NaN</td>\n",
       "      <td>None</td>\n",
       "      <td>None</td>\n",
       "      <td>None</td>\n",
       "      <td>NaN</td>\n",
       "      <td>NaN</td>\n",
       "      <td>NaN</td>\n",
       "      <td>NaN</td>\n",
       "      <td>MULTIPOINT ((-294794.243 -53503.055))</td>\n",
       "    </tr>\n",
       "    <tr>\n",
       "      <th>14342</th>\n",
       "      <td>TI-1</td>\n",
       "      <td>TIMBER</td>\n",
       "      <td>None</td>\n",
       "      <td>None</td>\n",
       "      <td>None</td>\n",
       "      <td>None</td>\n",
       "      <td>TI-1</td>\n",
       "      <td>None</td>\n",
       "      <td>NaT</td>\n",
       "      <td>NaT</td>\n",
       "      <td>...</td>\n",
       "      <td>YES</td>\n",
       "      <td>NaN</td>\n",
       "      <td>None</td>\n",
       "      <td>None</td>\n",
       "      <td>None</td>\n",
       "      <td>NaN</td>\n",
       "      <td>NaN</td>\n",
       "      <td>NaN</td>\n",
       "      <td>NaN</td>\n",
       "      <td>MULTIPOINT ((-294794.243 -53503.055))</td>\n",
       "    </tr>\n",
       "    <tr>\n",
       "      <th>14343</th>\n",
       "      <td>TI-2</td>\n",
       "      <td>TIMBER</td>\n",
       "      <td>None</td>\n",
       "      <td>None</td>\n",
       "      <td>None</td>\n",
       "      <td>None</td>\n",
       "      <td>TI-2</td>\n",
       "      <td>None</td>\n",
       "      <td>NaT</td>\n",
       "      <td>NaT</td>\n",
       "      <td>...</td>\n",
       "      <td>YES</td>\n",
       "      <td>NaN</td>\n",
       "      <td>None</td>\n",
       "      <td>None</td>\n",
       "      <td>None</td>\n",
       "      <td>NaN</td>\n",
       "      <td>NaN</td>\n",
       "      <td>NaN</td>\n",
       "      <td>NaN</td>\n",
       "      <td>MULTIPOINT ((-294794.243 -53503.055))</td>\n",
       "    </tr>\n",
       "    <tr>\n",
       "      <th>14344</th>\n",
       "      <td>TI-3</td>\n",
       "      <td>TIMBER</td>\n",
       "      <td>None</td>\n",
       "      <td>None</td>\n",
       "      <td>None</td>\n",
       "      <td>None</td>\n",
       "      <td>TI-3</td>\n",
       "      <td>None</td>\n",
       "      <td>NaT</td>\n",
       "      <td>NaT</td>\n",
       "      <td>...</td>\n",
       "      <td>YES</td>\n",
       "      <td>NaN</td>\n",
       "      <td>None</td>\n",
       "      <td>None</td>\n",
       "      <td>None</td>\n",
       "      <td>NaN</td>\n",
       "      <td>NaN</td>\n",
       "      <td>NaN</td>\n",
       "      <td>NaN</td>\n",
       "      <td>MULTIPOINT ((-284207.67 -54506.164))</td>\n",
       "    </tr>\n",
       "    <tr>\n",
       "      <th>14345</th>\n",
       "      <td>TI-4</td>\n",
       "      <td>TIMBER</td>\n",
       "      <td>None</td>\n",
       "      <td>None</td>\n",
       "      <td>None</td>\n",
       "      <td>None</td>\n",
       "      <td>TI-4</td>\n",
       "      <td>None</td>\n",
       "      <td>NaT</td>\n",
       "      <td>NaT</td>\n",
       "      <td>...</td>\n",
       "      <td>YES</td>\n",
       "      <td>NaN</td>\n",
       "      <td>None</td>\n",
       "      <td>None</td>\n",
       "      <td>None</td>\n",
       "      <td>NaN</td>\n",
       "      <td>NaN</td>\n",
       "      <td>NaN</td>\n",
       "      <td>NaN</td>\n",
       "      <td>MULTIPOINT ((-284207.67 -54506.164))</td>\n",
       "    </tr>\n",
       "    <tr>\n",
       "      <th>...</th>\n",
       "      <td>...</td>\n",
       "      <td>...</td>\n",
       "      <td>...</td>\n",
       "      <td>...</td>\n",
       "      <td>...</td>\n",
       "      <td>...</td>\n",
       "      <td>...</td>\n",
       "      <td>...</td>\n",
       "      <td>...</td>\n",
       "      <td>...</td>\n",
       "      <td>...</td>\n",
       "      <td>...</td>\n",
       "      <td>...</td>\n",
       "      <td>...</td>\n",
       "      <td>...</td>\n",
       "      <td>...</td>\n",
       "      <td>...</td>\n",
       "      <td>...</td>\n",
       "      <td>...</td>\n",
       "      <td>...</td>\n",
       "      <td>...</td>\n",
       "    </tr>\n",
       "    <tr>\n",
       "      <th>14410</th>\n",
       "      <td>TI-69</td>\n",
       "      <td>TIMBER</td>\n",
       "      <td>None</td>\n",
       "      <td>None</td>\n",
       "      <td>None</td>\n",
       "      <td>None</td>\n",
       "      <td>TI-69</td>\n",
       "      <td>None</td>\n",
       "      <td>NaT</td>\n",
       "      <td>NaT</td>\n",
       "      <td>...</td>\n",
       "      <td>YES</td>\n",
       "      <td>NaN</td>\n",
       "      <td>None</td>\n",
       "      <td>None</td>\n",
       "      <td>None</td>\n",
       "      <td>NaN</td>\n",
       "      <td>NaN</td>\n",
       "      <td>NaN</td>\n",
       "      <td>NaN</td>\n",
       "      <td>MULTIPOINT ((-293152.972 -48482.165))</td>\n",
       "    </tr>\n",
       "    <tr>\n",
       "      <th>14411</th>\n",
       "      <td>TI-70</td>\n",
       "      <td>TIMBER</td>\n",
       "      <td>None</td>\n",
       "      <td>None</td>\n",
       "      <td>None</td>\n",
       "      <td>None</td>\n",
       "      <td>TI-70</td>\n",
       "      <td>None</td>\n",
       "      <td>NaT</td>\n",
       "      <td>NaT</td>\n",
       "      <td>...</td>\n",
       "      <td>YES</td>\n",
       "      <td>NaN</td>\n",
       "      <td>None</td>\n",
       "      <td>None</td>\n",
       "      <td>None</td>\n",
       "      <td>NaN</td>\n",
       "      <td>NaN</td>\n",
       "      <td>NaN</td>\n",
       "      <td>NaN</td>\n",
       "      <td>MULTIPOINT ((-293152.972 -48482.165))</td>\n",
       "    </tr>\n",
       "    <tr>\n",
       "      <th>14412</th>\n",
       "      <td>TI-71</td>\n",
       "      <td>TIMBER</td>\n",
       "      <td>None</td>\n",
       "      <td>None</td>\n",
       "      <td>None</td>\n",
       "      <td>None</td>\n",
       "      <td>TI-71</td>\n",
       "      <td>None</td>\n",
       "      <td>NaT</td>\n",
       "      <td>NaT</td>\n",
       "      <td>...</td>\n",
       "      <td>YES</td>\n",
       "      <td>NaN</td>\n",
       "      <td>None</td>\n",
       "      <td>None</td>\n",
       "      <td>None</td>\n",
       "      <td>NaN</td>\n",
       "      <td>NaN</td>\n",
       "      <td>NaN</td>\n",
       "      <td>NaN</td>\n",
       "      <td>MULTIPOINT ((-284207.655 -50310.285))</td>\n",
       "    </tr>\n",
       "    <tr>\n",
       "      <th>14413</th>\n",
       "      <td>TI-72</td>\n",
       "      <td>TIMBER</td>\n",
       "      <td>None</td>\n",
       "      <td>None</td>\n",
       "      <td>None</td>\n",
       "      <td>None</td>\n",
       "      <td>TI-72</td>\n",
       "      <td>None</td>\n",
       "      <td>NaT</td>\n",
       "      <td>NaT</td>\n",
       "      <td>...</td>\n",
       "      <td>YES</td>\n",
       "      <td>NaN</td>\n",
       "      <td>None</td>\n",
       "      <td>None</td>\n",
       "      <td>None</td>\n",
       "      <td>NaN</td>\n",
       "      <td>NaN</td>\n",
       "      <td>NaN</td>\n",
       "      <td>NaN</td>\n",
       "      <td>MULTIPOINT ((-284207.655 -50310.285))</td>\n",
       "    </tr>\n",
       "    <tr>\n",
       "      <th>14414</th>\n",
       "      <td>TI-73</td>\n",
       "      <td>TIMBER</td>\n",
       "      <td>None</td>\n",
       "      <td>None</td>\n",
       "      <td>None</td>\n",
       "      <td>None</td>\n",
       "      <td>TI-73</td>\n",
       "      <td>None</td>\n",
       "      <td>NaT</td>\n",
       "      <td>NaT</td>\n",
       "      <td>...</td>\n",
       "      <td>YES</td>\n",
       "      <td>NaN</td>\n",
       "      <td>None</td>\n",
       "      <td>None</td>\n",
       "      <td>None</td>\n",
       "      <td>NaN</td>\n",
       "      <td>NaN</td>\n",
       "      <td>NaN</td>\n",
       "      <td>NaN</td>\n",
       "      <td>MULTIPOINT ((-284207.655 -50310.285))</td>\n",
       "    </tr>\n",
       "  </tbody>\n",
       "</table>\n",
       "<p>74 rows × 99 columns</p>\n",
       "</div>"
      ],
      "text/plain": [
       "      PROJECTID_USER  AGENCY ORG_ADMIN_p PROJECT_CONTACT PROJECT_EMAIL  \\\n",
       "14341           TI-0  TIMBER        None            None          None   \n",
       "14342           TI-1  TIMBER        None            None          None   \n",
       "14343           TI-2  TIMBER        None            None          None   \n",
       "14344           TI-3  TIMBER        None            None          None   \n",
       "14345           TI-4  TIMBER        None            None          None   \n",
       "...              ...     ...         ...             ...           ...   \n",
       "14410          TI-69  TIMBER        None            None          None   \n",
       "14411          TI-70  TIMBER        None            None          None   \n",
       "14412          TI-71  TIMBER        None            None          None   \n",
       "14413          TI-72  TIMBER        None            None          None   \n",
       "14414          TI-73  TIMBER        None            None          None   \n",
       "\n",
       "      ADMINISTERING_ORG PROJECT_NAME PROJECT_STATUS PROJECT_START PROJECT_END  \\\n",
       "14341              None         TI-0           None           NaT         NaT   \n",
       "14342              None         TI-1           None           NaT         NaT   \n",
       "14343              None         TI-2           None           NaT         NaT   \n",
       "14344              None         TI-3           None           NaT         NaT   \n",
       "14345              None         TI-4           None           NaT         NaT   \n",
       "...                 ...          ...            ...           ...         ...   \n",
       "14410              None        TI-69           None           NaT         NaT   \n",
       "14411              None        TI-70           None           NaT         NaT   \n",
       "14412              None        TI-71           None           NaT         NaT   \n",
       "14413              None        TI-72           None           NaT         NaT   \n",
       "14414              None        TI-73           None           NaT         NaT   \n",
       "\n",
       "       ... COUNTS_TO_MAS index_right  FIPS  STATE  ST_ABBREV SQMI POPULATION  \\\n",
       "14341  ...           YES         NaN  None   None       None  NaN        NaN   \n",
       "14342  ...           YES         NaN  None   None       None  NaN        NaN   \n",
       "14343  ...           YES         NaN  None   None       None  NaN        NaN   \n",
       "14344  ...           YES         NaN  None   None       None  NaN        NaN   \n",
       "14345  ...           YES         NaN  None   None       None  NaN        NaN   \n",
       "...    ...           ...         ...   ...    ...        ...  ...        ...   \n",
       "14410  ...           YES         NaN  None   None       None  NaN        NaN   \n",
       "14411  ...           YES         NaN  None   None       None  NaN        NaN   \n",
       "14412  ...           YES         NaN  None   None       None  NaN        NaN   \n",
       "14413  ...           YES         NaN  None   None       None  NaN        NaN   \n",
       "14414  ...           YES         NaN  None   None       None  NaN        NaN   \n",
       "\n",
       "      Shape_Length Shape_Area                               geometry  \n",
       "14341          NaN        NaN  MULTIPOINT ((-294794.243 -53503.055))  \n",
       "14342          NaN        NaN  MULTIPOINT ((-294794.243 -53503.055))  \n",
       "14343          NaN        NaN  MULTIPOINT ((-294794.243 -53503.055))  \n",
       "14344          NaN        NaN   MULTIPOINT ((-284207.67 -54506.164))  \n",
       "14345          NaN        NaN   MULTIPOINT ((-284207.67 -54506.164))  \n",
       "...            ...        ...                                    ...  \n",
       "14410          NaN        NaN  MULTIPOINT ((-293152.972 -48482.165))  \n",
       "14411          NaN        NaN  MULTIPOINT ((-293152.972 -48482.165))  \n",
       "14412          NaN        NaN  MULTIPOINT ((-284207.655 -50310.285))  \n",
       "14413          NaN        NaN  MULTIPOINT ((-284207.655 -50310.285))  \n",
       "14414          NaN        NaN  MULTIPOINT ((-284207.655 -50310.285))  \n",
       "\n",
       "[74 rows x 99 columns]"
      ]
     },
     "execution_count": 24,
     "metadata": {},
     "output_type": "execute_result"
    }
   ],
   "source": [
    "enriched_points[enriched_points.AGENCY == 'TIMBER']"
   ]
  },
  {
   "cell_type": "code",
   "execution_count": 17,
   "id": "16b9ac1c",
   "metadata": {},
   "outputs": [],
   "source": [
    "f_path =r'D:\\WORK\\wildfire\\Interagency-Tracking-System\\its\\ITSGDB_backup\\temp_tables'"
   ]
  },
  {
   "cell_type": "code",
   "execution_count": null,
   "id": "b5c25717",
   "metadata": {},
   "outputs": [],
   "source": []
  },
  {
   "cell_type": "raw",
   "id": "3d186de9",
   "metadata": {},
   "source": []
  },
  {
   "cell_type": "code",
   "execution_count": null,
   "id": "4ad1ede9",
   "metadata": {},
   "outputs": [],
   "source": []
  },
  {
   "cell_type": "code",
   "execution_count": null,
   "id": "86910ef6",
   "metadata": {},
   "outputs": [],
   "source": []
  },
  {
   "cell_type": "code",
   "execution_count": 18,
   "id": "e77da3f4",
   "metadata": {},
   "outputs": [],
   "source": [
    "import pandas as pd"
   ]
  },
  {
   "cell_type": "code",
   "execution_count": 19,
   "id": "92137e85",
   "metadata": {},
   "outputs": [],
   "source": [
    "from datetime import datetime"
   ]
  },
  {
   "cell_type": "code",
   "execution_count": 20,
   "id": "10b1d4bd",
   "metadata": {},
   "outputs": [],
   "source": [
    "def get_activity_report(enriched_points, enriched_lines, enriched_polygons):\n",
    "    append_all = pd.concat([enriched_lines, enriched_points, enriched_polygons])\n",
    "    append_all = append_all[(append_all['COUNTS_TO_MAS'] == 'YES')]\n",
    "    \n",
    "    append_all.geometry = gpd.points_from_xy(append_all['LONGITUDE'],append_all['LATITUDE'])\n",
    "    \n",
    "    \n",
    "    append_all = append_all[[\"AGENCY\",\n",
    "        \"ADMINISTERING_ORG\",\n",
    "        \"PRIMARY_OWNERSHIP_GROUP\",\n",
    "        \"COUNTY\",\n",
    "        \"REGION\",\n",
    "        \"ACTIVITY_DESCRIPTION\",\n",
    "        \"ACTIVITY_CAT\",\n",
    "        \"BROAD_VEGETATION_TYPE\",\n",
    "        \"ACTIVITY_STATUS\",\n",
    "        \"ACTIVITY_QUANTITY\",\n",
    "        \"ACTIVITY_UOM\",\n",
    "        \"ACTIVITY_END\",\n",
    "        \"Year_txt\",\n",
    "        \"geometry\"\n",
    "    ]]\n",
    "    \n",
    "    # check if geometry is_valid\n",
    "    # personally this is redundent, unless lat, lon is not valid, but that would throw an error in previous part\n",
    "    append_all = append_all[append_all.is_valid]\n",
    "    \n",
    "    \n",
    "    def get_entity_type(agency):\n",
    "        if agency in ['CALEPA', 'CALSTA', 'CNRA', 'PARKS', 'California State Parks']:\n",
    "            return 'State'\n",
    "        if agency in ['DOD', 'DOI', 'USDA', 'US Department of Energy', 'NPS']:\n",
    "            return 'Federal'\n",
    "        if agency in ['Industrial Timber', 'Timber Companies', 'TIMBER']:\n",
    "            return 'Timber Companies'\n",
    "        else:\n",
    "            return None\n",
    "        \n",
    "        \n",
    "    append_all['ENTITY_TYPE'] = append_all['AGENCY'].apply(get_entity_type)\n",
    "    \n",
    "    return append_all"
   ]
  },
  {
   "cell_type": "code",
   "execution_count": 21,
   "id": "9f23c46f",
   "metadata": {},
   "outputs": [],
   "source": [
    "activity_report_gdf = get_activity_report(enriched_points, enriched_lines, enriched_polygons)"
   ]
  },
  {
   "cell_type": "code",
   "execution_count": 22,
   "id": "00fa7cb6",
   "metadata": {},
   "outputs": [
    {
     "name": "stderr",
     "output_type": "stream",
     "text": [
      "2025-05-08 13:12:20,547 INFO  [utils.save_gdf_to_gdb ]        Windows machine detected\n",
      "2025-05-08 13:12:20,548 INFO  [utils.save_gdf_to_gdb ]        Check geodataframe geometry object and cast to Multi-x type if both exist\n",
      "2025-05-08 13:12:20,557 INFO  [utils.save_gdf_to_gdb ]        Running GDAL OpenFileGDB to save to file\n"
     ]
    },
    {
     "name": "stdout",
     "output_type": "stream",
     "text": [
      "D:\\WORK\\wildfire\\Interagency-Tracking-System\\its\\ITSGDB_backup\\V2.0\\reports.gdb\n"
     ]
    },
    {
     "name": "stderr",
     "output_type": "stream",
     "text": [
      "2025-05-08 13:12:22,146 INFO  [pyogrio._io           ]  Created 121,225 records\n",
      "2025-05-08 13:12:22,954 INFO  [utils.save_gdf_to_gdb ]        File saved to D:\\WORK\\wildfire\\Interagency-Tracking-System\\its\\ITSGDB_backup\\V2.0\\reports.gdb activity_report20250508\n"
     ]
    }
   ],
   "source": [
    "save_gdf_to_gdb(activity_report_gdf, \n",
    "                r'D:\\WORK\\wildfire\\Interagency-Tracking-System\\its\\ITSGDB_backup\\V2.0\\reports.gdb', \n",
    "                f'activity_report{datetime.today().strftime('%Y%m%d')}')"
   ]
  },
  {
   "cell_type": "code",
   "execution_count": null,
   "id": "814d9c5b",
   "metadata": {},
   "outputs": [],
   "source": []
  }
 ],
 "metadata": {
  "kernelspec": {
   "display_name": "Python 3 (ipykernel)",
   "language": "python",
   "name": "python3"
  },
  "language_info": {
   "codemirror_mode": {
    "name": "ipython",
    "version": 3
   },
   "file_extension": ".py",
   "mimetype": "text/x-python",
   "name": "python",
   "nbconvert_exporter": "python",
   "pygments_lexer": "ipython3",
   "version": "3.13.1"
  }
 },
 "nbformat": 4,
 "nbformat_minor": 5
}

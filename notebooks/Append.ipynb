{
 "cells": [
  {
   "cell_type": "code",
   "execution_count": 1,
   "id": "cfb78e7c",
   "metadata": {},
   "outputs": [],
   "source": [
    "import os\n",
    "import geopandas as gpd\n",
    "import pandas as pd"
   ]
  },
  {
   "cell_type": "code",
   "execution_count": 2,
   "id": "dace346a",
   "metadata": {},
   "outputs": [],
   "source": [
    "import sys\n",
    "sys.path.append('../')\n",
    "from process.append import get_enriched_features"
   ]
  },
  {
   "cell_type": "code",
   "execution_count": 3,
   "id": "34438cae",
   "metadata": {},
   "outputs": [
    {
     "name": "stderr",
     "output_type": "stream",
     "text": [
      "C:\\Users\\sky\\.conda\\envs\\its_recode\\Lib\\site-packages\\pyogrio\\raw.py:198: RuntimeWarning: driver OpenFileGDB does not support open option DRIVER\n",
      "  return ogr_read(\n",
      "C:\\Users\\sky\\.conda\\envs\\its_recode\\Lib\\site-packages\\pyogrio\\raw.py:198: RuntimeWarning: organizePolygons() received a polygon with more than 100 parts. The processing may be really slow.  You can skip the processing by setting METHOD=SKIP, or only make it analyze counter-clock wise parts by setting METHOD=ONLY_CCW if you can assume that the outline of holes is counter-clock wise defined\n",
      "  return ogr_read(\n"
     ]
    }
   ],
   "source": [
    "california_boundary = gpd.read_file(r'D:\\WORK\\wildfire\\Interagency-Tracking-System\\its\\Interagency Tracking System.gdb', \n",
    "                                    driver='OpenFileGDB', \n",
    "                                    layer='California')"
   ]
  },
  {
   "cell_type": "code",
   "execution_count": 4,
   "id": "d37c70fc",
   "metadata": {},
   "outputs": [],
   "source": [
    "enriched_path = r\"D:\\WORK\\wildfire\\Interagency-Tracking-System\\its\\ITSGDB_backup\\V2.0\""
   ]
  },
  {
   "cell_type": "code",
   "execution_count": 5,
   "id": "99d3a3ef",
   "metadata": {},
   "outputs": [],
   "source": [
    "enriched_list = os.listdir(enriched_path)"
   ]
  },
  {
   "cell_type": "code",
   "execution_count": 6,
   "id": "d1829668",
   "metadata": {},
   "outputs": [],
   "source": [
    "append_path = r\"D:\\WORK\\wildfire\\Interagency-Tracking-System\\its\\ITSGDB_backup\\V2.0\\appended.gdb\""
   ]
  },
  {
   "cell_type": "code",
   "execution_count": 7,
   "id": "df6516c7",
   "metadata": {},
   "outputs": [],
   "source": [
    "# skip the append, reports gdb file path\n",
    "skip_list = ['appended.gdb', 'reports.gdb']"
   ]
  },
  {
   "cell_type": "code",
   "execution_count": 8,
   "id": "ff16cb9e",
   "metadata": {},
   "outputs": [],
   "source": [
    "point_layers = []\n",
    "line_layers = []\n",
    "poly_layers = []\n",
    "for f in enriched_list:\n",
    "    if f in skip_list:\n",
    "        continue\n",
    "    f_path = enriched_path + r\"\\{}\".format(f)\n",
    "    gdb_layers = gpd.list_layers(f_path)\n",
    "    for i in range(len(gdb_layers)):\n",
    "        if 'point' in gdb_layers.loc[i, 'geometry_type'].lower():\n",
    "            point_layers.append({'gdb_path': f_path, 'layer_name':gdb_layers.loc[i, 'name']})\n",
    "        elif 'line' in gdb_layers.loc[i, 'geometry_type'].lower():\n",
    "            line_layers.append({'gdb_path': f_path, 'layer_name':gdb_layers.loc[i, 'name']})\n",
    "        else:\n",
    "            poly_layers.append({'gdb_path': f_path, 'layer_name':gdb_layers.loc[i, 'name']})\n",
    "            \n",
    "enriched_layers = {'point': point_layers, \n",
    "                  'line': line_layers,\n",
    "                  'polygon': poly_layers}"
   ]
  },
  {
   "cell_type": "code",
   "execution_count": 10,
   "id": "6aaab5f9",
   "metadata": {},
   "outputs": [],
   "source": [
    "# one time change for activity category"
   ]
  },
  {
   "cell_type": "raw",
   "id": "b7a6eda5",
   "metadata": {},
   "source": [
    "from utils.category import categorize_activity\n",
    "from utils.standardize_domains import standardize_domains\n",
    "from utils.counts_to_mas import counts_to_mas"
   ]
  },
  {
   "cell_type": "code",
   "execution_count": 11,
   "id": "74a26a44",
   "metadata": {},
   "outputs": [],
   "source": [
    "pfirs_path = r\"D:\\WORK\\wildfire\\Interagency-Tracking-System\\its\\ITSGDB_backup\\tmp\\PFIRS_2020_2025.gdb\"\n",
    "layer_name = 'PFIRS_20250402'"
   ]
  },
  {
   "cell_type": "code",
   "execution_count": 12,
   "id": "59b203f7",
   "metadata": {},
   "outputs": [],
   "source": [
    "enriched_layers['point'].append({'gdb_path': pfirs_path, 'layer_name': layer_name})"
   ]
  },
  {
   "cell_type": "raw",
   "id": "3e017aa0",
   "metadata": {},
   "source": [
    "for lyr_type in enriched_layers.keys():\n",
    "    for path_dict in enriched_layers[lyr_type]:\n",
    "        gdf = gpd.read_file(path_dict['gdb_path'], driver='OpenFileGDB', layer=path_dict['layer_name'])\n",
    "        gdf = counts_to_mas(standardize_domains(categorize_activity(gdf)), 1950, 2025)\n",
    "\n",
    "        if ('BLM' in path_dict['layer_name']) or ('NFPORS' in path_dict['layer_name']) or ('NPS' in path_dict['layer_name']):\n",
    "            print(path_dict['layer_name'])\n",
    "            gdf.loc[gdf['ACTIVITY_START'] >= f'2023-10-01', gdf['COUNTS_TO_MAS']] = 'NO'\n",
    "\n",
    "        gdf.to_file(path_dict['gdb_path'], driver='OpenFileGDB', layer=path_dict['layer_name'])\n",
    "    "
   ]
  },
  {
   "cell_type": "code",
   "execution_count": 23,
   "id": "06852a31",
   "metadata": {},
   "outputs": [
    {
     "name": "stderr",
     "output_type": "stream",
     "text": [
      "2025-06-04 16:16:59,791 INFO  [process.append_polygon]  --------------------------------------------------------------------------------\n",
      "2025-06-04 16:16:59,791 INFO  [process.append_polygon]  Concatenate all polygon records\n",
      "2025-06-04 16:16:59,792 INFO  [process.append_polygon]  Load GeoDataFrame from the layer 'BLM_enriched_20250509' in 'D:\\WORK\\wildfire\\Interagency-Tracking-System\\its\\ITSGDB_backup\\V2.0\\BLM_1950_2025.gdb' \n",
      "C:\\Users\\sky\\.conda\\envs\\its_recode\\Lib\\site-packages\\pyogrio\\raw.py:198: RuntimeWarning: driver OpenFileGDB does not support open option DRIVER\n",
      "  return ogr_read(\n",
      "2025-06-04 16:16:59,890 INFO  [process.append_polygon]  Load GeoDataFrame from the layer 'CNRA_enriched_20250512_polygon' in 'D:\\WORK\\wildfire\\Interagency-Tracking-System\\its\\ITSGDB_backup\\V2.0\\CNRA_1950_2025.gdb' \n",
      "C:\\Users\\sky\\.conda\\envs\\its_recode\\Lib\\site-packages\\pyogrio\\raw.py:198: RuntimeWarning: driver OpenFileGDB does not support open option DRIVER\n",
      "  return ogr_read(\n",
      "2025-06-04 16:17:03,336 INFO  [process.append_polygon]  Load GeoDataFrame from the layer 'IFPRS_enriched_20250603' in 'D:\\WORK\\wildfire\\Interagency-Tracking-System\\its\\ITSGDB_backup\\V2.0\\IFPRS_2023_2025.gdb' \n",
      "C:\\Users\\sky\\.conda\\envs\\its_recode\\Lib\\site-packages\\pyogrio\\raw.py:198: RuntimeWarning: driver OpenFileGDB does not support open option DRIVER\n",
      "  return ogr_read(\n",
      "2025-06-04 16:17:03,365 INFO  [process.append_polygon]  Load GeoDataFrame from the layer 'NFPORS_enriched_20250604_polygon' in 'D:\\WORK\\wildfire\\Interagency-Tracking-System\\its\\ITSGDB_backup\\V2.0\\NFPORS_1950_2025.gdb' \n",
      "C:\\Users\\sky\\.conda\\envs\\its_recode\\Lib\\site-packages\\pyogrio\\raw.py:198: RuntimeWarning: driver OpenFileGDB does not support open option DRIVER\n",
      "  return ogr_read(\n",
      "2025-06-04 16:17:03,486 INFO  [process.append_polygon]  Load GeoDataFrame from the layer 'NPS_enriched_20250509' in 'D:\\WORK\\wildfire\\Interagency-Tracking-System\\its\\ITSGDB_backup\\V2.0\\NPS_1950_2025.gdb' \n",
      "C:\\Users\\sky\\.conda\\envs\\its_recode\\Lib\\site-packages\\pyogrio\\raw.py:198: RuntimeWarning: driver OpenFileGDB does not support open option DRIVER\n",
      "  return ogr_read(\n",
      "2025-06-04 16:17:03,546 INFO  [process.append_polygon]  Load GeoDataFrame from the layer 'Timber_Industry_Spatial_20250515' in 'D:\\WORK\\wildfire\\Interagency-Tracking-System\\its\\ITSGDB_backup\\V2.0\\Timber_Spatial_1950_2025.gdb' \n",
      "C:\\Users\\sky\\.conda\\envs\\its_recode\\Lib\\site-packages\\pyogrio\\raw.py:198: RuntimeWarning: driver OpenFileGDB does not support open option DRIVER\n",
      "  return ogr_read(\n",
      "2025-06-04 16:17:03,690 INFO  [process.append_polygon]  Load GeoDataFrame from the layer 'USFS_Region05_enriched_20250604' in 'D:\\WORK\\wildfire\\Interagency-Tracking-System\\its\\ITSGDB_backup\\V2.0\\USFS_1950_2025.gdb' \n",
      "C:\\Users\\sky\\.conda\\envs\\its_recode\\Lib\\site-packages\\pyogrio\\raw.py:198: RuntimeWarning: driver OpenFileGDB does not support open option DRIVER\n",
      "  return ogr_read(\n",
      "2025-06-04 16:17:22,522 INFO  [process.append_polygon]  Load GeoDataFrame from the layer 'USFS_Region04_enriched_20250604' in 'D:\\WORK\\wildfire\\Interagency-Tracking-System\\its\\ITSGDB_backup\\V2.0\\USFS_1950_2025.gdb' \n",
      "C:\\Users\\sky\\.conda\\envs\\its_recode\\Lib\\site-packages\\pyogrio\\raw.py:198: RuntimeWarning: driver OpenFileGDB does not support open option DRIVER\n",
      "  return ogr_read(\n",
      "2025-06-04 16:17:22,571 INFO  [process.append_polygon]  Load GeoDataFrame from the layer 'USFS_Region06_enriched_20250604' in 'D:\\WORK\\wildfire\\Interagency-Tracking-System\\its\\ITSGDB_backup\\V2.0\\USFS_1950_2025.gdb' \n",
      "C:\\Users\\sky\\.conda\\envs\\its_recode\\Lib\\site-packages\\pyogrio\\raw.py:198: RuntimeWarning: driver OpenFileGDB does not support open option DRIVER\n",
      "  return ogr_read(\n",
      "D:\\WORK\\wildfire\\ITS_RECODE\\interagency-tracking-system\\notebooks\\..\\process\\append.py:45: FutureWarning: The behavior of DataFrame concatenation with empty or all-NA entries is deprecated. In a future version, this will no longer exclude empty or all-NA columns when determining the result dtypes. To retain the old behavior, exclude the relevant entries before the concat operation.\n",
      "  final_gdf = pd.concat(gdfs_to_append, ignore_index=True)\n",
      "D:\\WORK\\wildfire\\ITS_RECODE\\interagency-tracking-system\\notebooks\\..\\process\\append.py:45: FutureWarning: The behavior of DataFrame concatenation with empty or all-NA entries is deprecated. In a future version, this will no longer exclude empty or all-NA columns when determining the result dtypes. To retain the old behavior, exclude the relevant entries before the concat operation.\n",
      "  final_gdf = pd.concat(gdfs_to_append, ignore_index=True)\n",
      "2025-06-04 16:17:24,368 INFO  [process.append_polygon]  Concatenated all geodataframes and got 442065 records\n",
      "2025-06-04 16:17:24,566 INFO  [process.append_polygon]  --------------------------------------------------------------------------------\n",
      "2025-06-04 16:17:24,567 INFO  [process.append_polygon]  Concatenate all line records\n",
      "2025-06-04 16:17:24,567 INFO  [process.append_polygon]  Load GeoDataFrame from the layer 'CalTRANS_enriched_20250512' in 'D:\\WORK\\wildfire\\Interagency-Tracking-System\\its\\ITSGDB_backup\\V2.0\\CalTRANS_1950_2025.gdb' \n",
      "C:\\Users\\sky\\.conda\\envs\\its_recode\\Lib\\site-packages\\pyogrio\\raw.py:198: RuntimeWarning: driver OpenFileGDB does not support open option DRIVER\n",
      "  return ogr_read(\n",
      "2025-06-04 16:17:44,502 INFO  [process.append_polygon]  Load GeoDataFrame from the layer 'CNRA_enriched_20250512_line' in 'D:\\WORK\\wildfire\\Interagency-Tracking-System\\its\\ITSGDB_backup\\V2.0\\CNRA_1950_2025.gdb' \n",
      "C:\\Users\\sky\\.conda\\envs\\its_recode\\Lib\\site-packages\\pyogrio\\raw.py:198: RuntimeWarning: driver OpenFileGDB does not support open option DRIVER\n",
      "  return ogr_read(\n",
      "2025-06-04 16:17:45,203 INFO  [process.append_polygon]  Concatenated all geodataframes and got 131654 records\n",
      "2025-06-04 16:17:45,251 INFO  [process.append_polygon]  --------------------------------------------------------------------------------\n",
      "2025-06-04 16:17:45,252 INFO  [process.append_polygon]  Concatenate all point records\n",
      "2025-06-04 16:17:45,253 INFO  [process.append_polygon]  Load GeoDataFrame from the layer 'CNRA_enriched_20250512_point' in 'D:\\WORK\\wildfire\\Interagency-Tracking-System\\its\\ITSGDB_backup\\V2.0\\CNRA_1950_2025.gdb' \n",
      "C:\\Users\\sky\\.conda\\envs\\its_recode\\Lib\\site-packages\\pyogrio\\raw.py:198: RuntimeWarning: driver OpenFileGDB does not support open option DRIVER\n",
      "  return ogr_read(\n",
      "2025-06-04 16:17:45,357 INFO  [process.append_polygon]  Load GeoDataFrame from the layer 'PFIRS_20250523' in 'D:\\WORK\\wildfire\\Interagency-Tracking-System\\its\\ITSGDB_backup\\V2.0\\PFIRS_1950_2025.gdb' \n",
      "C:\\Users\\sky\\.conda\\envs\\its_recode\\Lib\\site-packages\\pyogrio\\raw.py:198: RuntimeWarning: driver OpenFileGDB does not support open option DRIVER\n",
      "  return ogr_read(\n",
      "2025-06-04 16:17:45,514 INFO  [process.append_polygon]  Load GeoDataFrame from the layer 'Timber_Nonspatial_20250604' in 'D:\\WORK\\wildfire\\Interagency-Tracking-System\\its\\ITSGDB_backup\\V2.0\\Timber_Nonspatial_1950_2025.gdb' \n",
      "C:\\Users\\sky\\.conda\\envs\\its_recode\\Lib\\site-packages\\pyogrio\\raw.py:198: RuntimeWarning: driver OpenFileGDB does not support open option DRIVER\n",
      "  return ogr_read(\n",
      "2025-06-04 16:17:45,535 INFO  [process.append_polygon]  Load GeoDataFrame from the layer 'PFIRS_20250402' in 'D:\\WORK\\wildfire\\Interagency-Tracking-System\\its\\ITSGDB_backup\\tmp\\PFIRS_2020_2025.gdb' \n",
      "C:\\Users\\sky\\.conda\\envs\\its_recode\\Lib\\site-packages\\pyogrio\\raw.py:198: RuntimeWarning: driver OpenFileGDB does not support open option DRIVER\n",
      "  return ogr_read(\n",
      "2025-06-04 16:18:09,917 INFO  [process.append_polygon]  Concatenated all geodataframes and got 17360 records\n"
     ]
    }
   ],
   "source": [
    "enriched_polygons, enriched_lines, enriched_points = get_enriched_features(enriched_layers)"
   ]
  },
  {
   "cell_type": "code",
   "execution_count": 16,
   "id": "d240ba99",
   "metadata": {},
   "outputs": [],
   "source": [
    "import dask_geopandas\n",
    "# some data need to be converted to multi-type again\n",
    "from utils.save_gdf_to_gdb import save_gdf_to_gdb"
   ]
  },
  {
   "cell_type": "code",
   "execution_count": 15,
   "id": "8a398d5d",
   "metadata": {},
   "outputs": [],
   "source": [
    "# grab timber non spatial path again\n",
    "timber_nonspatial_path = None\n",
    "for p in enriched_layers['point']:\n",
    "    if 'Timber_Nonspatial' in p['gdb_path']:\n",
    "        timber_nonspatial_path = p\n",
    "        break"
   ]
  },
  {
   "cell_type": "code",
   "execution_count": 24,
   "id": "9857fdc4",
   "metadata": {},
   "outputs": [
    {
     "name": "stderr",
     "output_type": "stream",
     "text": [
      "2025-06-04 16:45:12,203 INFO  [utils.save_gdf_to_gdb ]        Windows machine detected\n",
      "2025-06-04 16:45:12,204 INFO  [utils.save_gdf_to_gdb ]        Check geodataframe geometry object and cast to Multi-x type if both exist\n",
      "2025-06-04 16:45:12,234 INFO  [utils.save_gdf_to_gdb ]        Running GDAL OpenFileGDB to save to file\n"
     ]
    },
    {
     "name": "stdout",
     "output_type": "stream",
     "text": [
      "D:\\WORK\\wildfire\\Interagency-Tracking-System\\its\\ITSGDB_backup\\V2.0\\appended.gdb\n"
     ]
    },
    {
     "name": "stderr",
     "output_type": "stream",
     "text": [
      "C:\\Users\\sky\\.conda\\envs\\its_recode\\Lib\\site-packages\\pyogrio\\raw.py:723: RuntimeWarning: Field index_right of type Integer64 will be written as a Float64. To get Integer64, use layer creation option TARGET_ARCGIS_VERSION=ARCGIS_PRO_3_2_OR_LATER\n",
      "  ogr_write(\n",
      "2025-06-04 16:45:42,840 INFO  [pyogrio._io           ]  Created 441,964 records\n",
      "2025-06-04 16:45:50,028 INFO  [utils.save_gdf_to_gdb ]        File saved to D:\\WORK\\wildfire\\Interagency-Tracking-System\\its\\ITSGDB_backup\\V2.0\\appended.gdb appended_poly\n",
      "2025-06-04 16:53:33,698 INFO  [utils.save_gdf_to_gdb ]        Windows machine detected\n",
      "2025-06-04 16:53:33,699 INFO  [utils.save_gdf_to_gdb ]        Check geodataframe geometry object and cast to Multi-x type if both exist\n",
      "2025-06-04 16:53:33,709 INFO  [utils.save_gdf_to_gdb ]        Running GDAL OpenFileGDB to save to file\n"
     ]
    },
    {
     "name": "stdout",
     "output_type": "stream",
     "text": [
      "D:\\WORK\\wildfire\\Interagency-Tracking-System\\its\\ITSGDB_backup\\V2.0\\appended.gdb\n"
     ]
    },
    {
     "name": "stderr",
     "output_type": "stream",
     "text": [
      "C:\\Users\\sky\\.conda\\envs\\its_recode\\Lib\\site-packages\\pyogrio\\raw.py:723: RuntimeWarning: Field index_right of type Integer64 will be written as a Float64. To get Integer64, use layer creation option TARGET_ARCGIS_VERSION=ARCGIS_PRO_3_2_OR_LATER\n",
      "  ogr_write(\n",
      "2025-06-04 16:53:55,149 INFO  [pyogrio._io           ]  Created 131,654 records\n",
      "2025-06-04 16:54:04,957 INFO  [utils.save_gdf_to_gdb ]        File saved to D:\\WORK\\wildfire\\Interagency-Tracking-System\\its\\ITSGDB_backup\\V2.0\\appended.gdb appended_line\n",
      "C:\\Users\\sky\\.conda\\envs\\its_recode\\Lib\\site-packages\\pyogrio\\raw.py:198: RuntimeWarning: driver OpenFileGDB does not support open option DRIVER\n",
      "  return ogr_read(\n",
      "<timed exec>:12: FutureWarning: The behavior of DataFrame concatenation with empty or all-NA entries is deprecated. In a future version, this will no longer exclude empty or all-NA columns when determining the result dtypes. To retain the old behavior, exclude the relevant entries before the concat operation.\n",
      "<timed exec>:12: FutureWarning: The behavior of DataFrame concatenation with empty or all-NA entries is deprecated. In a future version, this will no longer exclude empty or all-NA columns when determining the result dtypes. To retain the old behavior, exclude the relevant entries before the concat operation.\n",
      "<timed exec>:12: FutureWarning: The behavior of DataFrame concatenation with empty or all-NA entries is deprecated. In a future version, this will no longer exclude empty or all-NA columns when determining the result dtypes. To retain the old behavior, exclude the relevant entries before the concat operation.\n",
      "<timed exec>:12: FutureWarning: The behavior of DataFrame concatenation with empty or all-NA entries is deprecated. In a future version, this will no longer exclude empty or all-NA columns when determining the result dtypes. To retain the old behavior, exclude the relevant entries before the concat operation.\n",
      "<timed exec>:12: FutureWarning: The behavior of DataFrame concatenation with empty or all-NA entries is deprecated. In a future version, this will no longer exclude empty or all-NA columns when determining the result dtypes. To retain the old behavior, exclude the relevant entries before the concat operation.\n",
      "2025-06-04 16:54:06,760 INFO  [utils.save_gdf_to_gdb ]        Windows machine detected\n",
      "2025-06-04 16:54:06,760 INFO  [utils.save_gdf_to_gdb ]        Check geodataframe geometry object and cast to Multi-x type if both exist\n",
      "2025-06-04 16:54:06,762 INFO  [utils.save_gdf_to_gdb ]        Running GDAL OpenFileGDB to save to file\n"
     ]
    },
    {
     "name": "stdout",
     "output_type": "stream",
     "text": [
      "D:\\WORK\\wildfire\\Interagency-Tracking-System\\its\\ITSGDB_backup\\V2.0\\appended.gdb\n"
     ]
    },
    {
     "name": "stderr",
     "output_type": "stream",
     "text": [
      "2025-06-04 16:54:07,643 INFO  [pyogrio._io           ]  Created 17,357 records\n",
      "2025-06-04 16:54:07,760 INFO  [utils.save_gdf_to_gdb ]        File saved to D:\\WORK\\wildfire\\Interagency-Tracking-System\\its\\ITSGDB_backup\\V2.0\\appended.gdb appended_point\n"
     ]
    },
    {
     "name": "stdout",
     "output_type": "stream",
     "text": [
      "CPU times: total: 1h 4min 17s\n",
      "Wall time: 35min 57s\n"
     ]
    }
   ],
   "source": [
    "%%time\n",
    "for df, lyr_name in zip([enriched_polygons,enriched_lines,enriched_points], [\"appended_poly\",\"appended_line\",\"appended_point\"]):\n",
    "    # init dask gdf for multithread clipping\n",
    "    ddf = dask_geopandas.from_geopandas(df, npartitions=16)\n",
    "    # clip to california bounds\n",
    "    append_clipped = ddf.sjoin(california_boundary, how='inner', predicate='intersects').compute()\n",
    "    # drop unwanted artifact columns from California boundary df\n",
    "    append_clipped = append_clipped.drop(['index_right', 'Shape_Area', 'Shape_Length'], axis=1)\n",
    "    \n",
    "    # industry nonspatial is by design out of california bounds and got clipped, manually concat it back\n",
    "    if lyr_name == 'appended_point':\n",
    "        timber_nonspatial = gpd.read_file(timber_nonspatial_path['gdb_path'], \n",
    "                                    driver='OpenFileGDB', \n",
    "                                    layer=timber_nonspatial_path['layer_name'])\n",
    "        \n",
    "        append_clipped = pd.concat([append_clipped, timber_nonspatial], ignore_index=True)\n",
    "    save_gdf_to_gdb(append_clipped, append_path, lyr_name)"
   ]
  },
  {
   "cell_type": "code",
   "execution_count": 36,
   "id": "c515fb32",
   "metadata": {},
   "outputs": [
    {
     "name": "stderr",
     "output_type": "stream",
     "text": [
      "C:\\Users\\sky\\.conda\\envs\\its_recode\\Lib\\site-packages\\pyogrio\\raw.py:198: RuntimeWarning: driver OpenFileGDB does not support open option DRIVER\n",
      "  return ogr_read(\n",
      "C:\\Users\\sky\\.conda\\envs\\its_recode\\Lib\\site-packages\\pyogrio\\raw.py:198: RuntimeWarning: driver OpenFileGDB does not support open option DRIVER\n",
      "  return ogr_read(\n",
      "C:\\Users\\sky\\.conda\\envs\\its_recode\\Lib\\site-packages\\pyogrio\\raw.py:198: RuntimeWarning: driver OpenFileGDB does not support open option DRIVER\n",
      "  return ogr_read(\n"
     ]
    }
   ],
   "source": [
    "enriched_polygons = gpd.read_file(append_path, driver='OpenFileGDB', layer='appended_poly')\n",
    "enriched_points = gpd.read_file(append_path, driver='OpenFileGDB', layer='appended_point')\n",
    "enriched_lines = gpd.read_file(append_path, driver='OpenFileGDB', layer='appended_line')"
   ]
  },
  {
   "cell_type": "code",
   "execution_count": 26,
   "id": "92137e85",
   "metadata": {},
   "outputs": [],
   "source": [
    "from datetime import datetime"
   ]
  },
  {
   "cell_type": "code",
   "execution_count": 27,
   "id": "10b1d4bd",
   "metadata": {},
   "outputs": [],
   "source": [
    "def get_activity_report(enriched_points, enriched_lines, enriched_polygons):\n",
    "    append_all = pd.concat([enriched_lines, enriched_points, enriched_polygons])\n",
    "    append_all = append_all[(append_all['COUNTS_TO_MAS'] == 'YES')]\n",
    "    \n",
    "    append_all.geometry = gpd.points_from_xy(append_all['LONGITUDE'],append_all['LATITUDE'])\n",
    "    \n",
    "    \n",
    "    append_all = append_all[[\"AGENCY\",\n",
    "        \"ADMINISTERING_ORG\",\n",
    "        \"PRIMARY_OWNERSHIP_GROUP\",\n",
    "        \"COUNTY\",\n",
    "        \"REGION\",\n",
    "        \"ACTIVITY_DESCRIPTION\",\n",
    "        \"ACTIVITY_CAT\",\n",
    "        \"BROAD_VEGETATION_TYPE\",\n",
    "        \"ACTIVITY_STATUS\",\n",
    "        \"ACTIVITY_QUANTITY\",\n",
    "        \"ACTIVITY_UOM\",\n",
    "        \"ACTIVITY_END\",\n",
    "        \"Year_txt\",\n",
    "        \"geometry\"\n",
    "    ]]\n",
    "    \n",
    "    # check if geometry is_valid\n",
    "    # personally this is redundent, unless lat, lon is not valid, but that would throw an error in previous part\n",
    "    append_all = append_all[append_all.is_valid]\n",
    "    \n",
    "    \n",
    "    def get_entity_type(agency):\n",
    "        if agency in ['CALEPA', 'CALSTA', 'CNRA', 'PARKS', 'California State Parks']:\n",
    "            return 'State'\n",
    "        if agency in ['DOD', 'DOI', 'USDA', 'DOE', 'NPS']:\n",
    "            return 'Federal'\n",
    "        if agency in ['Industrial Timber', 'Timber Companies', 'TIMBER']:\n",
    "            return 'Timber Companies'\n",
    "        else:\n",
    "            return None\n",
    "        \n",
    "        \n",
    "    append_all['ENTITY_TYPE'] = append_all['AGENCY'].apply(get_entity_type)\n",
    "    \n",
    "    return append_all"
   ]
  },
  {
   "cell_type": "code",
   "execution_count": 28,
   "id": "9f23c46f",
   "metadata": {},
   "outputs": [],
   "source": [
    "activity_report_gdf = get_activity_report(enriched_points, enriched_lines, enriched_polygons)"
   ]
  },
  {
   "cell_type": "code",
   "execution_count": 29,
   "id": "00fa7cb6",
   "metadata": {},
   "outputs": [
    {
     "name": "stderr",
     "output_type": "stream",
     "text": [
      "2025-06-04 16:55:19,868 INFO  [utils.save_gdf_to_gdb ]        Windows machine detected\n",
      "2025-06-04 16:55:19,868 INFO  [utils.save_gdf_to_gdb ]        Check geodataframe geometry object and cast to Multi-x type if both exist\n",
      "2025-06-04 16:55:19,898 INFO  [utils.save_gdf_to_gdb ]        Running GDAL OpenFileGDB to save to file\n"
     ]
    },
    {
     "name": "stdout",
     "output_type": "stream",
     "text": [
      "D:\\WORK\\wildfire\\Interagency-Tracking-System\\its\\ITSGDB_backup\\V2.0\\reports.gdb\n"
     ]
    },
    {
     "name": "stderr",
     "output_type": "stream",
     "text": [
      "2025-06-04 16:55:25,458 INFO  [pyogrio._io           ]  Created 489,897 records\n",
      "2025-06-04 16:55:28,365 INFO  [utils.save_gdf_to_gdb ]        File saved to D:\\WORK\\wildfire\\Interagency-Tracking-System\\its\\ITSGDB_backup\\V2.0\\reports.gdb activity_report20250604\n"
     ]
    }
   ],
   "source": [
    "save_gdf_to_gdb(activity_report_gdf, \n",
    "                r'D:\\WORK\\wildfire\\Interagency-Tracking-System\\its\\ITSGDB_backup\\V2.0\\reports.gdb', \n",
    "                f'activity_report{datetime.today().strftime('%Y%m%d')}')"
   ]
  }
 ],
 "metadata": {
  "kernelspec": {
   "display_name": "Python 3 (ipykernel)",
   "language": "python",
   "name": "python3"
  },
  "language_info": {
   "codemirror_mode": {
    "name": "ipython",
    "version": 3
   },
   "file_extension": ".py",
   "mimetype": "text/x-python",
   "name": "python",
   "nbconvert_exporter": "python",
   "pygments_lexer": "ipython3",
   "version": "3.13.1"
  }
 },
 "nbformat": 4,
 "nbformat_minor": 5
}

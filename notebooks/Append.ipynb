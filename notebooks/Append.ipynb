{
 "cells": [
  {
   "cell_type": "code",
   "execution_count": 1,
   "id": "cfb78e7c",
   "metadata": {},
   "outputs": [],
   "source": [
    "import os\n",
    "import geopandas as gpd"
   ]
  },
  {
   "cell_type": "code",
   "execution_count": 2,
   "id": "99d3a3ef",
   "metadata": {},
   "outputs": [],
   "source": [
    "enriched_list = os.listdir(r\"D:\\WORK\\wildfire\\Interagency-Tracking-System\\its\\ITSGDB_backup\\tmp\")"
   ]
  },
  {
   "cell_type": "code",
   "execution_count": 3,
   "id": "ff16cb9e",
   "metadata": {},
   "outputs": [],
   "source": [
    "point_layers = []\n",
    "line_layers = []\n",
    "poly_layers = []\n",
    "for f in enriched_list:\n",
    "    f_path = r\"D:\\WORK\\wildfire\\Interagency-Tracking-System\\its\\ITSGDB_backup\\tmp\\{}\".format(f)\n",
    "    gdb_layers = gpd.list_layers(f_path)\n",
    "    for i in range(len(gdb_layers)):\n",
    "        if 'point' in gdb_layers.loc[i, 'geometry_type'].lower():\n",
    "            point_layers.append({'gdb_path': f_path, 'layer_name':gdb_layers.loc[i, 'name']})\n",
    "        elif 'line' in gdb_layers.loc[i, 'geometry_type'].lower():\n",
    "            line_layers.append({'gdb_path': f_path, 'layer_name':gdb_layers.loc[i, 'name']})\n",
    "        else:\n",
    "            poly_layers.append({'gdb_path': f_path, 'layer_name':gdb_layers.loc[i, 'name']})\n",
    "            \n",
    "enriched_layers = {'point': point_layers, \n",
    "                  'line': line_layers,\n",
    "                  'polygon': poly_layers}"
   ]
  },
  {
   "cell_type": "code",
   "execution_count": 4,
   "id": "40f44e89",
   "metadata": {},
   "outputs": [],
   "source": [
    "enriched_layers['polygon'].append({'gdb_path': r\"D:\\WORK\\wildfire\\Interagency-Tracking-System\\its\\Interagency Tracking System.gdb\", 'layer_name': 'Timber_Industry_Spatial_20241130'})"
   ]
  },
  {
   "cell_type": "code",
   "execution_count": 5,
   "id": "4a21f861",
   "metadata": {},
   "outputs": [
    {
     "data": {
      "text/plain": [
       "{'point': [{'gdb_path': 'D:\\\\WORK\\\\wildfire\\\\Interagency-Tracking-System\\\\its\\\\ITSGDB_backup\\\\tmp\\\\CNRA_2020_2025.gdb',\n",
       "   'layer_name': 'CNRA_enriched_20250421_point'},\n",
       "  {'gdb_path': 'D:\\\\WORK\\\\wildfire\\\\Interagency-Tracking-System\\\\its\\\\ITSGDB_backup\\\\tmp\\\\NFPORS_2020_2025.gdb',\n",
       "   'layer_name': 'NFPORS_20250407_point'},\n",
       "  {'gdb_path': 'D:\\\\WORK\\\\wildfire\\\\Interagency-Tracking-System\\\\its\\\\ITSGDB_backup\\\\tmp\\\\PFIRS_2020_2025.gdb',\n",
       "   'layer_name': 'PFIRS_20250402'},\n",
       "  {'gdb_path': 'D:\\\\WORK\\\\wildfire\\\\Interagency-Tracking-System\\\\its\\\\ITSGDB_backup\\\\tmp\\\\Timber_Nonspatial_2020_2025.gdb',\n",
       "   'layer_name': 'Timber_Nonspatial_20250221'}],\n",
       " 'line': [{'gdb_path': 'D:\\\\WORK\\\\wildfire\\\\Interagency-Tracking-System\\\\its\\\\ITSGDB_backup\\\\tmp\\\\CalTRANS_2021_2023.gdb',\n",
       "   'layer_name': 'CalTRANS_enriched_20250108'},\n",
       "  {'gdb_path': 'D:\\\\WORK\\\\wildfire\\\\Interagency-Tracking-System\\\\its\\\\ITSGDB_backup\\\\tmp\\\\CNRA_2020_2025.gdb',\n",
       "   'layer_name': 'CNRA_enriched_20250421_line'}],\n",
       " 'polygon': [{'gdb_path': 'D:\\\\WORK\\\\wildfire\\\\Interagency-Tracking-System\\\\its\\\\ITSGDB_backup\\\\tmp\\\\BLM_2020_2025.gdb',\n",
       "   'layer_name': 'BLM_enriched_20250425'},\n",
       "  {'gdb_path': 'D:\\\\WORK\\\\wildfire\\\\Interagency-Tracking-System\\\\its\\\\ITSGDB_backup\\\\tmp\\\\CNRA_2020_2025.gdb',\n",
       "   'layer_name': 'CNRA_enriched_20250421_polygon'},\n",
       "  {'gdb_path': 'D:\\\\WORK\\\\wildfire\\\\Interagency-Tracking-System\\\\its\\\\ITSGDB_backup\\\\tmp\\\\NFPORS_2020_2025.gdb',\n",
       "   'layer_name': 'NFPORS_20250407_polygon'},\n",
       "  {'gdb_path': 'D:\\\\WORK\\\\wildfire\\\\Interagency-Tracking-System\\\\its\\\\ITSGDB_backup\\\\tmp\\\\NPS_2020_2025.gdb',\n",
       "   'layer_name': 'NPS_enriched_20250205'},\n",
       "  {'gdb_path': 'D:\\\\WORK\\\\wildfire\\\\Interagency-Tracking-System\\\\its\\\\ITSGDB_backup\\\\tmp\\\\USFS_2020_2025.gdb',\n",
       "   'layer_name': 'USFS_Region05_enriched_20250321'},\n",
       "  {'gdb_path': 'D:\\\\WORK\\\\wildfire\\\\Interagency-Tracking-System\\\\its\\\\ITSGDB_backup\\\\tmp\\\\USFS_2020_2025.gdb',\n",
       "   'layer_name': 'USFS_Region04_enriched_20250321'},\n",
       "  {'gdb_path': 'D:\\\\WORK\\\\wildfire\\\\Interagency-Tracking-System\\\\its\\\\ITSGDB_backup\\\\tmp\\\\USFS_2020_2025.gdb',\n",
       "   'layer_name': 'USFS_Region06_enriched_20250321'},\n",
       "  {'gdb_path': 'D:\\\\WORK\\\\wildfire\\\\Interagency-Tracking-System\\\\its\\\\Interagency Tracking System.gdb',\n",
       "   'layer_name': 'Timber_Industry_Spatial_20241130'}]}"
      ]
     },
     "execution_count": 5,
     "metadata": {},
     "output_type": "execute_result"
    }
   ],
   "source": [
    "enriched_layers"
   ]
  },
  {
   "cell_type": "code",
   "execution_count": 6,
   "id": "dace346a",
   "metadata": {},
   "outputs": [],
   "source": [
    "import sys\n",
    "sys.path.append('../')\n",
    "from process.append import get_enriched_features"
   ]
  },
  {
   "cell_type": "code",
   "execution_count": 7,
   "id": "aa7704ac",
   "metadata": {},
   "outputs": [
    {
     "name": "stderr",
     "output_type": "stream",
     "text": [
      "2025-04-25 15:10:48,751 INFO  [process.append_polygon]  --------------------------------------------------------------------------------\n",
      "2025-04-25 15:10:48,752 INFO  [process.append_polygon]  Concatenate all polygon records\n",
      "2025-04-25 15:10:48,752 INFO  [process.append_polygon]  Load GeoDataFrame from the layer 'BLM_enriched_20250425' in 'D:\\WORK\\wildfire\\Interagency-Tracking-System\\its\\ITSGDB_backup\\tmp\\BLM_2020_2025.gdb' \n",
      "C:\\Users\\sky\\.conda\\envs\\its_recode\\Lib\\site-packages\\pyogrio\\raw.py:198: RuntimeWarning: driver OpenFileGDB does not support open option DRIVER\n",
      "  return ogr_read(\n",
      "C:\\Users\\sky\\.conda\\envs\\its_recode\\Lib\\site-packages\\pyogrio\\raw.py:198: RuntimeWarning: organizePolygons() received a polygon with more than 100 parts. The processing may be really slow.  You can skip the processing by setting METHOD=SKIP, or only make it analyze counter-clock wise parts by setting METHOD=ONLY_CCW if you can assume that the outline of holes is counter-clock wise defined\n",
      "  return ogr_read(\n",
      "2025-04-25 15:10:48,792 INFO  [process.append_polygon]  Load GeoDataFrame from the layer 'CNRA_enriched_20250421_polygon' in 'D:\\WORK\\wildfire\\Interagency-Tracking-System\\its\\ITSGDB_backup\\tmp\\CNRA_2020_2025.gdb' \n",
      "C:\\Users\\sky\\.conda\\envs\\its_recode\\Lib\\site-packages\\pyogrio\\raw.py:198: RuntimeWarning: driver OpenFileGDB does not support open option DRIVER\n",
      "  return ogr_read(\n",
      "2025-04-25 15:10:51,671 INFO  [process.append_polygon]  Load GeoDataFrame from the layer 'NFPORS_20250407_polygon' in 'D:\\WORK\\wildfire\\Interagency-Tracking-System\\its\\ITSGDB_backup\\tmp\\NFPORS_2020_2025.gdb' \n",
      "C:\\Users\\sky\\.conda\\envs\\its_recode\\Lib\\site-packages\\pyogrio\\raw.py:198: RuntimeWarning: driver OpenFileGDB does not support open option DRIVER\n",
      "  return ogr_read(\n",
      "2025-04-25 15:10:51,886 INFO  [process.append_polygon]  Load GeoDataFrame from the layer 'NPS_enriched_20250205' in 'D:\\WORK\\wildfire\\Interagency-Tracking-System\\its\\ITSGDB_backup\\tmp\\NPS_2020_2025.gdb' \n",
      "C:\\Users\\sky\\.conda\\envs\\its_recode\\Lib\\site-packages\\pyogrio\\raw.py:198: RuntimeWarning: driver OpenFileGDB does not support open option DRIVER\n",
      "  return ogr_read(\n",
      "2025-04-25 15:10:51,910 INFO  [process.append_polygon]  Load GeoDataFrame from the layer 'USFS_Region05_enriched_20250321' in 'D:\\WORK\\wildfire\\Interagency-Tracking-System\\its\\ITSGDB_backup\\tmp\\USFS_2020_2025.gdb' \n",
      "C:\\Users\\sky\\.conda\\envs\\its_recode\\Lib\\site-packages\\pyogrio\\raw.py:198: RuntimeWarning: driver OpenFileGDB does not support open option DRIVER\n",
      "  return ogr_read(\n",
      "2025-04-25 15:10:54,212 INFO  [process.append_polygon]  Load GeoDataFrame from the layer 'USFS_Region04_enriched_20250321' in 'D:\\WORK\\wildfire\\Interagency-Tracking-System\\its\\ITSGDB_backup\\tmp\\USFS_2020_2025.gdb' \n",
      "C:\\Users\\sky\\.conda\\envs\\its_recode\\Lib\\site-packages\\pyogrio\\raw.py:198: RuntimeWarning: driver OpenFileGDB does not support open option DRIVER\n",
      "  return ogr_read(\n",
      "2025-04-25 15:10:54,230 INFO  [process.append_polygon]  Load GeoDataFrame from the layer 'USFS_Region06_enriched_20250321' in 'D:\\WORK\\wildfire\\Interagency-Tracking-System\\its\\ITSGDB_backup\\tmp\\USFS_2020_2025.gdb' \n",
      "C:\\Users\\sky\\.conda\\envs\\its_recode\\Lib\\site-packages\\pyogrio\\raw.py:198: RuntimeWarning: driver OpenFileGDB does not support open option DRIVER\n",
      "  return ogr_read(\n",
      "2025-04-25 15:10:54,244 INFO  [process.append_polygon]  Load GeoDataFrame from the layer 'Timber_Industry_Spatial_20241130' in 'D:\\WORK\\wildfire\\Interagency-Tracking-System\\its\\Interagency Tracking System.gdb' \n",
      "C:\\Users\\sky\\.conda\\envs\\its_recode\\Lib\\site-packages\\pyogrio\\raw.py:198: RuntimeWarning: driver OpenFileGDB does not support open option DRIVER\n",
      "  return ogr_read(\n",
      "D:\\WORK\\wildfire\\ITS_RECODE\\interagency-tracking-system\\notebooks\\..\\process\\append.py:43: FutureWarning: The behavior of DataFrame concatenation with empty or all-NA entries is deprecated. In a future version, this will no longer exclude empty or all-NA columns when determining the result dtypes. To retain the old behavior, exclude the relevant entries before the concat operation.\n",
      "  final_gdf = pd.concat(gdfs_to_append, ignore_index=True)\n",
      "D:\\WORK\\wildfire\\ITS_RECODE\\interagency-tracking-system\\notebooks\\..\\process\\append.py:43: FutureWarning: The behavior of DataFrame concatenation with empty or all-NA entries is deprecated. In a future version, this will no longer exclude empty or all-NA columns when determining the result dtypes. To retain the old behavior, exclude the relevant entries before the concat operation.\n",
      "  final_gdf = pd.concat(gdfs_to_append, ignore_index=True)\n",
      "2025-04-25 15:10:54,825 INFO  [process.append_polygon]  Concatenated all geodataframes and got 62150 records\n",
      "2025-04-25 15:10:54,843 INFO  [process.append_polygon]  --------------------------------------------------------------------------------\n",
      "2025-04-25 15:10:54,844 INFO  [process.append_polygon]  Concatenate all line records\n",
      "2025-04-25 15:10:54,844 INFO  [process.append_polygon]  Load GeoDataFrame from the layer 'CalTRANS_enriched_20250108' in 'D:\\WORK\\wildfire\\Interagency-Tracking-System\\its\\ITSGDB_backup\\tmp\\CalTRANS_2021_2023.gdb' \n",
      "C:\\Users\\sky\\.conda\\envs\\its_recode\\Lib\\site-packages\\pyogrio\\raw.py:198: RuntimeWarning: driver OpenFileGDB does not support open option DRIVER\n",
      "  return ogr_read(\n",
      "2025-04-25 15:11:03,468 INFO  [process.append_polygon]  Load GeoDataFrame from the layer 'CNRA_enriched_20250421_line' in 'D:\\WORK\\wildfire\\Interagency-Tracking-System\\its\\ITSGDB_backup\\tmp\\CNRA_2020_2025.gdb' \n",
      "C:\\Users\\sky\\.conda\\envs\\its_recode\\Lib\\site-packages\\pyogrio\\raw.py:198: RuntimeWarning: driver OpenFileGDB does not support open option DRIVER\n",
      "  return ogr_read(\n",
      "2025-04-25 15:11:04,062 INFO  [process.append_polygon]  Concatenated all geodataframes and got 103837 records\n",
      "2025-04-25 15:11:04,097 INFO  [process.append_polygon]  --------------------------------------------------------------------------------\n",
      "2025-04-25 15:11:04,097 INFO  [process.append_polygon]  Concatenate all point records\n",
      "2025-04-25 15:11:04,097 INFO  [process.append_polygon]  Load GeoDataFrame from the layer 'CNRA_enriched_20250421_point' in 'D:\\WORK\\wildfire\\Interagency-Tracking-System\\its\\ITSGDB_backup\\tmp\\CNRA_2020_2025.gdb' \n",
      "C:\\Users\\sky\\.conda\\envs\\its_recode\\Lib\\site-packages\\pyogrio\\raw.py:198: RuntimeWarning: driver OpenFileGDB does not support open option DRIVER\n",
      "  return ogr_read(\n",
      "2025-04-25 15:11:04,192 INFO  [process.append_polygon]  Found empty geometry in the data in CNRA_enriched_20250421_point\n",
      "2025-04-25 15:11:04,194 INFO  [process.append_polygon]  Only COUNTS_TO_MAS == NO, remove empty geometry in the data\n",
      "2025-04-25 15:11:04,196 INFO  [process.append_polygon]  Load GeoDataFrame from the layer 'NFPORS_20250407_point' in 'D:\\WORK\\wildfire\\Interagency-Tracking-System\\its\\ITSGDB_backup\\tmp\\NFPORS_2020_2025.gdb' \n",
      "C:\\Users\\sky\\.conda\\envs\\its_recode\\Lib\\site-packages\\pyogrio\\raw.py:198: RuntimeWarning: driver OpenFileGDB does not support open option DRIVER\n",
      "  return ogr_read(\n",
      "2025-04-25 15:11:04,214 INFO  [process.append_polygon]  Load GeoDataFrame from the layer 'PFIRS_20250402' in 'D:\\WORK\\wildfire\\Interagency-Tracking-System\\its\\ITSGDB_backup\\tmp\\PFIRS_2020_2025.gdb' \n",
      "C:\\Users\\sky\\.conda\\envs\\its_recode\\Lib\\site-packages\\pyogrio\\raw.py:198: RuntimeWarning: driver OpenFileGDB does not support open option DRIVER\n",
      "  return ogr_read(\n",
      "2025-04-25 15:11:04,703 INFO  [process.append_polygon]  Load GeoDataFrame from the layer 'Timber_Nonspatial_20250221' in 'D:\\WORK\\wildfire\\Interagency-Tracking-System\\its\\ITSGDB_backup\\tmp\\Timber_Nonspatial_2020_2025.gdb' \n",
      "C:\\Users\\sky\\.conda\\envs\\its_recode\\Lib\\site-packages\\pyogrio\\raw.py:198: RuntimeWarning: driver OpenFileGDB does not support open option DRIVER\n",
      "  return ogr_read(\n",
      "D:\\WORK\\wildfire\\ITS_RECODE\\interagency-tracking-system\\notebooks\\..\\process\\append.py:43: FutureWarning: The behavior of DataFrame concatenation with empty or all-NA entries is deprecated. In a future version, this will no longer exclude empty or all-NA columns when determining the result dtypes. To retain the old behavior, exclude the relevant entries before the concat operation.\n",
      "  final_gdf = pd.concat(gdfs_to_append, ignore_index=True)\n",
      "2025-04-25 15:11:04,794 INFO  [process.append_polygon]  Concatenated all geodataframes and got 14417 records\n"
     ]
    }
   ],
   "source": [
    "enriched_polygons, enriched_lines, enriched_points = get_enriched_features(enriched_layers)"
   ]
  },
  {
   "cell_type": "code",
   "execution_count": null,
   "id": "820b7965",
   "metadata": {},
   "outputs": [],
   "source": []
  },
  {
   "cell_type": "code",
   "execution_count": 8,
   "id": "34438cae",
   "metadata": {},
   "outputs": [
    {
     "name": "stderr",
     "output_type": "stream",
     "text": [
      "C:\\Users\\sky\\.conda\\envs\\its_recode\\Lib\\site-packages\\pyogrio\\raw.py:198: RuntimeWarning: driver OpenFileGDB does not support open option DRIVER\n",
      "  return ogr_read(\n"
     ]
    }
   ],
   "source": [
    "california_boundary = gpd.read_file(r'D:\\WORK\\wildfire\\Interagency-Tracking-System\\its\\Interagency Tracking System.gdb', \n",
    "                                    driver='OpenFileGDB', \n",
    "                                    layer='California')"
   ]
  },
  {
   "cell_type": "code",
   "execution_count": 9,
   "id": "d240ba99",
   "metadata": {},
   "outputs": [],
   "source": [
    "import dask_geopandas\n",
    "# some data need to be converted to multi-type again\n",
    "from utils.save_gdf_to_gdb import save_gdf_to_gdb"
   ]
  },
  {
   "cell_type": "code",
   "execution_count": 11,
   "id": "9857fdc4",
   "metadata": {},
   "outputs": [
    {
     "name": "stderr",
     "output_type": "stream",
     "text": [
      "2025-04-25 15:16:31,932 INFO  [utils.save_gdf_to_gdb ]        Windows machine detected\n",
      "2025-04-25 15:16:31,932 INFO  [utils.save_gdf_to_gdb ]        Check geodataframe geometry object and cast to Multi-x type if both exist\n",
      "2025-04-25 15:16:31,936 INFO  [utils.save_gdf_to_gdb ]        Running GDAL OpenFileGDB to save to file\n"
     ]
    },
    {
     "name": "stdout",
     "output_type": "stream",
     "text": [
      "D:\\WORK\\wildfire\\Interagency-Tracking-System\\its\\ITSGDB_backup\\V2.0\\appended.gdb\n"
     ]
    },
    {
     "name": "stderr",
     "output_type": "stream",
     "text": [
      "C:\\Users\\sky\\.conda\\envs\\its_recode\\Lib\\site-packages\\pyogrio\\raw.py:723: RuntimeWarning: Field index_right of type Integer64 will be written as a Float64. To get Integer64, use layer creation option TARGET_ARCGIS_VERSION=ARCGIS_PRO_3_2_OR_LATER\n",
      "  ogr_write(\n",
      "C:\\Users\\sky\\.conda\\envs\\its_recode\\Lib\\site-packages\\pyogrio\\raw.py:723: RuntimeWarning: Normalized/laundered field name: 'Shape_Length' to 'Shape_Length_1'\n",
      "  ogr_write(\n",
      "C:\\Users\\sky\\.conda\\envs\\its_recode\\Lib\\site-packages\\pyogrio\\raw.py:723: RuntimeWarning: Normalized/laundered field name: 'Shape_Area' to 'Shape_Area_1'\n",
      "  ogr_write(\n",
      "2025-04-25 15:16:38,965 INFO  [pyogrio._io           ]  Created 62,088 records\n",
      "2025-04-25 15:16:41,714 INFO  [utils.save_gdf_to_gdb ]        File saved to D:\\WORK\\wildfire\\Interagency-Tracking-System\\its\\ITSGDB_backup\\V2.0\\appended.gdb appended_poly\n",
      "2025-04-25 15:18:08,996 INFO  [utils.save_gdf_to_gdb ]        Windows machine detected\n",
      "2025-04-25 15:18:08,996 INFO  [utils.save_gdf_to_gdb ]        Check geodataframe geometry object and cast to Multi-x type if both exist\n",
      "2025-04-25 15:18:09,003 INFO  [utils.save_gdf_to_gdb ]        Running GDAL OpenFileGDB to save to file\n"
     ]
    },
    {
     "name": "stdout",
     "output_type": "stream",
     "text": [
      "D:\\WORK\\wildfire\\Interagency-Tracking-System\\its\\ITSGDB_backup\\V2.0\\appended.gdb\n"
     ]
    },
    {
     "name": "stderr",
     "output_type": "stream",
     "text": [
      "C:\\Users\\sky\\.conda\\envs\\its_recode\\Lib\\site-packages\\pyogrio\\raw.py:723: RuntimeWarning: Field index_right of type Integer64 will be written as a Float64. To get Integer64, use layer creation option TARGET_ARCGIS_VERSION=ARCGIS_PRO_3_2_OR_LATER\n",
      "  ogr_write(\n",
      "2025-04-25 15:18:24,821 INFO  [pyogrio._io           ]  Created 103,837 records\n",
      "2025-04-25 15:18:27,854 INFO  [utils.save_gdf_to_gdb ]        File saved to D:\\WORK\\wildfire\\Interagency-Tracking-System\\its\\ITSGDB_backup\\V2.0\\appended.gdb appended_line\n",
      "2025-04-25 15:18:29,282 INFO  [utils.save_gdf_to_gdb ]        Windows machine detected\n",
      "2025-04-25 15:18:29,283 INFO  [utils.save_gdf_to_gdb ]        Check geodataframe geometry object and cast to Multi-x type if both exist\n",
      "2025-04-25 15:18:29,357 INFO  [utils.save_gdf_to_gdb ]        Running GDAL OpenFileGDB to save to file\n"
     ]
    },
    {
     "name": "stdout",
     "output_type": "stream",
     "text": [
      "D:\\WORK\\wildfire\\Interagency-Tracking-System\\its\\ITSGDB_backup\\V2.0\\appended.gdb\n"
     ]
    },
    {
     "name": "stderr",
     "output_type": "stream",
     "text": [
      "C:\\Users\\sky\\.conda\\envs\\its_recode\\Lib\\site-packages\\pyogrio\\raw.py:723: RuntimeWarning: Field index_right of type Integer64 will be written as a Float64. To get Integer64, use layer creation option TARGET_ARCGIS_VERSION=ARCGIS_PRO_3_2_OR_LATER\n",
      "  ogr_write(\n",
      "2025-04-25 15:18:30,092 INFO  [pyogrio._io           ]  Created 14,341 records\n",
      "2025-04-25 15:18:30,204 INFO  [utils.save_gdf_to_gdb ]        File saved to D:\\WORK\\wildfire\\Interagency-Tracking-System\\its\\ITSGDB_backup\\V2.0\\appended.gdb appended_point\n"
     ]
    },
    {
     "name": "stdout",
     "output_type": "stream",
     "text": [
      "CPU times: total: 15min 45s\n",
      "Wall time: 2min 34s\n"
     ]
    }
   ],
   "source": [
    "%%time\n",
    "\n",
    "append_path = r\"D:\\WORK\\wildfire\\Interagency-Tracking-System\\its\\ITSGDB_backup\\V2.0\\appended.gdb\"\n",
    "\n",
    "for df, lyr_name in zip([enriched_polygons,enriched_lines,enriched_points], [\"appended_poly\",\"appended_line\",\"appended_point\"]):\n",
    "    # init dask gdf for multithread clipping\n",
    "    ddf = dask_geopandas.from_geopandas(df, npartitions=16)\n",
    "    # clip to california bounds\n",
    "    append_clipped = ddf.sjoin(california_boundary, how='inner', predicate='intersects').compute()\n",
    "    save_gdf_to_gdb(append_clipped, append_path, lyr_name)"
   ]
  },
  {
   "cell_type": "code",
   "execution_count": 12,
   "id": "c515fb32",
   "metadata": {},
   "outputs": [
    {
     "name": "stderr",
     "output_type": "stream",
     "text": [
      "C:\\Users\\sky\\.conda\\envs\\its_recode\\Lib\\site-packages\\pyogrio\\raw.py:198: RuntimeWarning: driver OpenFileGDB does not support open option DRIVER\n",
      "  return ogr_read(\n",
      "C:\\Users\\sky\\.conda\\envs\\its_recode\\Lib\\site-packages\\pyogrio\\raw.py:198: RuntimeWarning: driver OpenFileGDB does not support open option DRIVER\n",
      "  return ogr_read(\n",
      "C:\\Users\\sky\\.conda\\envs\\its_recode\\Lib\\site-packages\\pyogrio\\raw.py:198: RuntimeWarning: driver OpenFileGDB does not support open option DRIVER\n",
      "  return ogr_read(\n"
     ]
    }
   ],
   "source": [
    "enriched_polygons = gpd.read_file(append_path, driver='OpenFileGDB', layer='appended_poly')\n",
    "enriched_points = gpd.read_file(append_path, driver='OpenFileGDB', layer='appended_point')\n",
    "enriched_lines = gpd.read_file(append_path, driver='OpenFileGDB', layer='appended_line')"
   ]
  },
  {
   "cell_type": "code",
   "execution_count": 17,
   "id": "16b9ac1c",
   "metadata": {},
   "outputs": [],
   "source": [
    "f_path =r'D:\\WORK\\wildfire\\Interagency-Tracking-System\\its\\ITSGDB_backup\\temp_tables'"
   ]
  },
  {
   "cell_type": "code",
   "execution_count": 46,
   "id": "b5c25717",
   "metadata": {},
   "outputs": [],
   "source": []
  },
  {
   "cell_type": "raw",
   "id": "3d186de9",
   "metadata": {},
   "source": []
  },
  {
   "cell_type": "code",
   "execution_count": 47,
   "id": "4ad1ede9",
   "metadata": {},
   "outputs": [],
   "source": []
  },
  {
   "cell_type": "code",
   "execution_count": 56,
   "id": "86910ef6",
   "metadata": {},
   "outputs": [],
   "source": []
  },
  {
   "cell_type": "code",
   "execution_count": 58,
   "id": "e77da3f4",
   "metadata": {},
   "outputs": [],
   "source": []
  },
  {
   "cell_type": "code",
   "execution_count": 67,
   "id": "92137e85",
   "metadata": {},
   "outputs": [],
   "source": [
    "from datetime import datetime"
   ]
  },
  {
   "cell_type": "code",
   "execution_count": 62,
   "id": "10b1d4bd",
   "metadata": {},
   "outputs": [],
   "source": [
    "def get_activity_report(enriched_points, enriched_lines, enriched_polygons):\n",
    "    append_all = pd.concat([enriched_lines, enriched_points, enriched_polygons])\n",
    "    append_all = append_all[(append_all['COUNTS_TO_MAS'] == 'YES')]\n",
    "    \n",
    "    append_all.geometry = gpd.points_from_xy(append_all['LONGITUDE'],append_all['LATITUDE'])\n",
    "    \n",
    "    \n",
    "    append_all = append_all[[\"AGENCY\",\n",
    "        \"ADMINISTERING_ORG\",\n",
    "        \"PRIMARY_OWNERSHIP_GROUP\",\n",
    "        \"COUNTY\",\n",
    "        \"REGION\",\n",
    "        \"ACTIVITY_DESCRIPTION\",\n",
    "        \"ACTIVITY_CAT\",\n",
    "        \"BROAD_VEGETATION_TYPE\",\n",
    "        \"ACTIVITY_STATUS\",\n",
    "        \"ACTIVITY_QUANTITY\",\n",
    "        \"ACTIVITY_UOM\",\n",
    "        \"ACTIVITY_END\",\n",
    "        \"Year_txt\",\n",
    "        \"geometry\"\n",
    "    ]]\n",
    "    \n",
    "    # check if geometry is_valid\n",
    "    # personally this is redundent, unless lat, lon is not valid, but that would throw an error in previous part\n",
    "    append_all = append_all[append_all.is_valid]\n",
    "    \n",
    "    \n",
    "    def get_entity_type(agency):\n",
    "        if agency in ['CALEPA', 'CALSTA', 'CNRA', 'PARKS', 'California State Parks']:\n",
    "            return 'State'\n",
    "        if agency in ['DOD', 'DOI', 'USDA', 'US Department of Energy', 'NPS']:\n",
    "            return 'Federal'\n",
    "        if agency in ['Industrial Timber', 'Timber Companies', 'TIMBER']:\n",
    "            return 'Timber Companies'\n",
    "        else:\n",
    "            return None\n",
    "        \n",
    "        \n",
    "    append_all['ENTITY_TYPE'] = append_all['AGENCY'].apply(get_entity_type)\n",
    "    \n",
    "    return append_all"
   ]
  },
  {
   "cell_type": "code",
   "execution_count": 63,
   "id": "9f23c46f",
   "metadata": {},
   "outputs": [],
   "source": [
    "activity_report_gdf = get_activity_report(enriched_points, enriched_lines, enriched_polygons)"
   ]
  },
  {
   "cell_type": "code",
   "execution_count": 69,
   "id": "00fa7cb6",
   "metadata": {},
   "outputs": [
    {
     "name": "stderr",
     "output_type": "stream",
     "text": [
      "2025-04-25 15:42:46,650 INFO  [utils.save_gdf_to_gdb ]        Windows machine detected\n",
      "2025-04-25 15:42:46,650 INFO  [utils.save_gdf_to_gdb ]        Check geodataframe geometry object and cast to Multi-x type if both exist\n",
      "2025-04-25 15:42:46,661 INFO  [utils.save_gdf_to_gdb ]        Running GDAL OpenFileGDB to save to file\n"
     ]
    },
    {
     "name": "stdout",
     "output_type": "stream",
     "text": [
      "D:\\WORK\\wildfire\\Interagency-Tracking-System\\its\\ITSGDB_backup\\V2.0\\reports.gdb\n"
     ]
    },
    {
     "name": "stderr",
     "output_type": "stream",
     "text": [
      "2025-04-25 15:42:47,998 INFO  [pyogrio._io           ]  Created 121,153 records\n",
      "2025-04-25 15:42:48,713 INFO  [utils.save_gdf_to_gdb ]        File saved to D:\\WORK\\wildfire\\Interagency-Tracking-System\\its\\ITSGDB_backup\\V2.0\\reports.gdb activity_report20250425\n"
     ]
    }
   ],
   "source": [
    "save_gdf_to_gdb(activity_report_gdf, \n",
    "                r'D:\\WORK\\wildfire\\Interagency-Tracking-System\\its\\ITSGDB_backup\\V2.0\\reports.gdb', \n",
    "                f'activity_report{datetime.today().strftime('%Y%m%d')}')"
   ]
  },
  {
   "cell_type": "code",
   "execution_count": 45,
   "id": "35030b2e",
   "metadata": {},
   "outputs": [],
   "source": [
    "append_all = pd.concat([enriched_lines, enriched_points, enriched_polygons])\n",
    "append_all = append_all[(append_all['COUNTS_TO_MAS'] == 'YES')]\n",
    "for y in ['2021', '2022', '2023']:\n",
    "    \n",
    "    \n",
    "    temp_report = append_all[append_all['Year_txt'] == y]\n",
    "    temp_report.dropna(subset=['ACTIVITY_QUANTITY'])\n",
    "    \n",
    "    # table by admin org\n",
    "    \n",
    "    temp_report[['ADMINISTERING_ORG', 'ACTIVITY_QUANTITY']]\\\n",
    "        .groupby(['ADMINISTERING_ORG']).sum().to_csv(os.path.join(f_path, f'ADMINISTERING_ORG{y}.csv'))\n",
    "    \n",
    "    # table act cat\n",
    "    temp_report[['ACTIVITY_CAT', 'ACTIVITY_QUANTITY']]\\\n",
    "        .groupby(['ACTIVITY_CAT']).sum().to_csv(os.path.join(f_path, f'ACTIVITY_CAT{y}.csv'))\n",
    "    \n",
    "    # PRIMARY_OWNERSHIP_GROUP\n",
    "    temp_report[['PRIMARY_OWNERSHIP_GROUP', 'ACTIVITY_QUANTITY']]\\\n",
    "        .groupby(['PRIMARY_OWNERSHIP_GROUP']).sum().to_csv(os.path.join(f_path, f'PRIMARY_OWNERSHIP_GROUP{y}.csv'))\n",
    "    \n",
    "    # COUNTY\n",
    "    temp_report[['COUNTY', 'ACTIVITY_QUANTITY']]\\\n",
    "        .groupby(['COUNTY']).sum().to_csv(os.path.join(f_path, f'COUNTY{y}.csv'))\n",
    "    "
   ]
  },
  {
   "cell_type": "code",
   "execution_count": null,
   "id": "814d9c5b",
   "metadata": {},
   "outputs": [],
   "source": []
  }
 ],
 "metadata": {
  "kernelspec": {
   "display_name": "Python 3 (ipykernel)",
   "language": "python",
   "name": "python3"
  },
  "language_info": {
   "codemirror_mode": {
    "name": "ipython",
    "version": 3
   },
   "file_extension": ".py",
   "mimetype": "text/x-python",
   "name": "python",
   "nbconvert_exporter": "python",
   "pygments_lexer": "ipython3",
   "version": "3.13.1"
  }
 },
 "nbformat": 4,
 "nbformat_minor": 5
}

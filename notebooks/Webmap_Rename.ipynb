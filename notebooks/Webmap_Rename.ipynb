{
 "cells": [
  {
   "cell_type": "code",
   "execution_count": 1,
   "id": "21d38a4f",
   "metadata": {},
   "outputs": [],
   "source": [
    "import os\n",
    "import numpy as np\n",
    "import pandas as pd\n",
    "import geopandas as gpd\n",
    "import sys\n",
    "import math\n",
    "import logging\n",
    "sys.path.append('../')\n",
    "\n",
    "#import dask_geopandas\n",
    "# some data need to be converted to multi-type again\n",
    "from utils.save_gdf_to_gdb import save_gdf_to_gdb\n",
    "#from process.footprint_report import update_ln, update_poly, update_pt\n",
    "from shapely import Polygon, MultiPolygon\n",
    "from shapely import affinity\n",
    "#import dask_geopandas\n",
    "\n",
    "from its_logging.logger_config import logger\n",
    "logger = logging.getLogger('process.footprint')"
   ]
  },
  {
   "cell_type": "code",
   "execution_count": 2,
   "id": "719258a0",
   "metadata": {},
   "outputs": [],
   "source": [
    "upload_path = r\"D:\\WORK\\wildfire\\Interagency-Tracking-System\\its\\ITSGDB_backup\\V2.0upload\""
   ]
  },
  {
   "cell_type": "code",
   "execution_count": null,
   "id": "a8a23c24",
   "metadata": {},
   "outputs": [],
   "source": [
    "activity_gdf = gpd.read_file(os.path.join(upload_path, 'ITS_V2_0_Activity_webmap.gdb'),\n",
    "                            driver='OpenFileGDB',\n",
    "                            layer='ITSV2_0_Activity')"
   ]
  },
  {
   "cell_type": "code",
   "execution_count": 9,
   "id": "3c4244ec",
   "metadata": {},
   "outputs": [
    {
     "name": "stderr",
     "output_type": "stream",
     "text": [
      "C:\\Users\\sky\\.conda\\envs\\its_recode\\Lib\\site-packages\\pyogrio\\raw.py:198: RuntimeWarning: driver OpenFileGDB does not support open option DRIVER\n",
      "  return ogr_read(\n"
     ]
    }
   ],
   "source": [
    "footprint_gdf = gpd.read_file(os.path.join(upload_path, 'ITS_V2_0_Footprint_Polygons.gdb'),\n",
    "                            driver='OpenFileGDB',\n",
    "                            layer='ITS_V2_0_Footprint_Polygons_gdb')"
   ]
  },
  {
   "cell_type": "code",
   "execution_count": 3,
   "id": "ad831a64",
   "metadata": {},
   "outputs": [
    {
     "name": "stderr",
     "output_type": "stream",
     "text": [
      "C:\\Users\\sky\\.conda\\envs\\its_recode\\Lib\\site-packages\\pyogrio\\raw.py:198: RuntimeWarning: driver OpenFileGDB does not support open option DRIVER\n",
      "  return ogr_read(\n",
      "C:\\Users\\sky\\.conda\\envs\\its_recode\\Lib\\site-packages\\pyogrio\\raw.py:198: RuntimeWarning: driver OpenFileGDB does not support open option DRIVER\n",
      "  return ogr_read(\n",
      "C:\\Users\\sky\\.conda\\envs\\its_recode\\Lib\\site-packages\\pyogrio\\raw.py:198: RuntimeWarning: driver OpenFileGDB does not support open option DRIVER\n",
      "  return ogr_read(\n",
      "C:\\Users\\sky\\.conda\\envs\\its_recode\\Lib\\site-packages\\pyogrio\\raw.py:198: RuntimeWarning: organizePolygons() received a polygon with more than 100 parts. The processing may be really slow.  You can skip the processing by setting METHOD=SKIP, or only make it analyze counter-clock wise parts by setting METHOD=ONLY_CCW if you can assume that the outline of holes is counter-clock wise defined\n",
      "  return ogr_read(\n"
     ]
    }
   ],
   "source": [
    "line_gdf = gpd.read_file(os.path.join(upload_path, 'ITS_V2_0_Lines.gdb'),\n",
    "                            driver='OpenFileGDB',\n",
    "                            layer='ITS_V2_0_Lines')\n",
    "point_gdf = gpd.read_file(os.path.join(upload_path, 'ITS_V2_0_Points.gdb'),\n",
    "                            driver='OpenFileGDB',\n",
    "                            layer='ITS_V2_0_Points')\n",
    "poly_gdf = gpd.read_file(os.path.join(upload_path, 'ITS_V2_0_Polygons.gdb'),\n",
    "                            driver='OpenFileGDB',\n",
    "                            layer='ITS_V2_0_Polygons')"
   ]
  },
  {
   "cell_type": "code",
   "execution_count": null,
   "id": "bb3ed170",
   "metadata": {},
   "outputs": [],
   "source": []
  },
  {
   "cell_type": "code",
   "execution_count": null,
   "id": "b1112686",
   "metadata": {},
   "outputs": [],
   "source": []
  },
  {
   "cell_type": "code",
   "execution_count": 21,
   "id": "377a7e90",
   "metadata": {},
   "outputs": [],
   "source": [
    "from datetime import datetime"
   ]
  },
  {
   "cell_type": "code",
   "execution_count": 28,
   "id": "4e4cf260",
   "metadata": {},
   "outputs": [],
   "source": [
    "def get_activity_report(enriched_points, enriched_lines, enriched_polygons):\n",
    "    append_all = pd.concat([enriched_lines, enriched_points, enriched_polygons])\n",
    "    append_all = append_all[(append_all['COUNTS_TO_MAS'] == 'YES')]\n",
    "    \n",
    "    # \n",
    "    append_all.geometry = append_all.representative_point()\n",
    "    \n",
    "    \n",
    "    append_all = append_all[[\"AGENCY\",\n",
    "        \"ADMINISTERING_ORG\",\n",
    "        \"PRIMARY_OWNERSHIP_GROUP\",\n",
    "        \"COUNTY\",\n",
    "        \"REGION\",\n",
    "        \"ACTIVITY_DESCRIPTION\",\n",
    "        \"ACTIVITY_CAT\",\n",
    "        \"BROAD_VEGETATION_TYPE\",\n",
    "        \"ACTIVITY_STATUS\",\n",
    "        \"ACTIVITY_QUANTITY\",\n",
    "        \"ACTIVITY_UOM\",\n",
    "        \"ACTIVITY_END\",\n",
    "        \"Year_txt\",\n",
    "        \"geometry\"\n",
    "    ]]\n",
    "    \n",
    "    # check if geometry is_valid\n",
    "    # personally this is redundent, unless lat, lon is not valid, but that would throw an error in previous part\n",
    "    append_all = append_all[append_all.is_valid]\n",
    "    \n",
    "    \n",
    "    def get_entity_type(agency):\n",
    "        if agency in ['CALEPA', 'CALSTA', 'CNRA', 'PARKS', 'California State Parks']:\n",
    "            return 'State'\n",
    "        if agency in ['DOD', 'DOI', 'USDA', 'DOE', 'NPS']:\n",
    "            return 'Federal'\n",
    "        if agency in ['Industrial Timber', 'Timber Companies', 'TIMBER']:\n",
    "            return 'Timber Companies'\n",
    "        else:\n",
    "            return None\n",
    "        \n",
    "        \n",
    "    append_all['ENTITY_TYPE'] = append_all['AGENCY'].apply(get_entity_type)\n",
    "    \n",
    "    return append_all"
   ]
  },
  {
   "cell_type": "code",
   "execution_count": 29,
   "id": "5278ba71",
   "metadata": {},
   "outputs": [],
   "source": [
    "activity_report_gdf = get_activity_report(point_gdf, line_gdf, poly_gdf)"
   ]
  },
  {
   "cell_type": "code",
   "execution_count": 30,
   "id": "71f1dc52",
   "metadata": {},
   "outputs": [
    {
     "data": {
      "text/plain": [
       "array(['COMPLETE', 'ACTIVE'], dtype=object)"
      ]
     },
     "execution_count": 30,
     "metadata": {},
     "output_type": "execute_result"
    }
   ],
   "source": [
    "activity_report_gdf.ACTIVITY_STATUS.unique()"
   ]
  },
  {
   "cell_type": "code",
   "execution_count": 31,
   "id": "394a9ad7",
   "metadata": {},
   "outputs": [
    {
     "data": {
      "text/plain": [
       "array([], dtype=object)"
      ]
     },
     "execution_count": 31,
     "metadata": {},
     "output_type": "execute_result"
    }
   ],
   "source": [
    "activity_report_gdf[activity_report_gdf.ACTIVITY_CAT.isna()].AGENCY.unique()"
   ]
  },
  {
   "cell_type": "code",
   "execution_count": 32,
   "id": "20829727",
   "metadata": {},
   "outputs": [
    {
     "data": {
      "text/plain": [
       "array(['MECH_HFR'], dtype=object)"
      ]
     },
     "execution_count": 32,
     "metadata": {},
     "output_type": "execute_result"
    }
   ],
   "source": [
    "activity_report_gdf[(activity_report_gdf.ACTIVITY_DESCRIPTION == \"AMW_AREA_RESTOR\") | (activity_report_gdf.ACTIVITY_DESCRIPTION == \"OAK_WDLND_MGMT\")].ACTIVITY_CAT.unique()"
   ]
  },
  {
   "cell_type": "code",
   "execution_count": 36,
   "id": "cf00fe30",
   "metadata": {},
   "outputs": [],
   "source": [
    "activity_report_gdf = activity_report_gdf[(activity_report_gdf.Year_txt == '2021') |\n",
    "                    (activity_report_gdf.Year_txt == '2022') |\n",
    "                    (activity_report_gdf.Year_txt == '2023') |\n",
    "                    (activity_report_gdf.Year_txt == '2024')]"
   ]
  },
  {
   "cell_type": "code",
   "execution_count": 38,
   "id": "16e76db1",
   "metadata": {},
   "outputs": [
    {
     "name": "stderr",
     "output_type": "stream",
     "text": [
      "2025-08-29 11:50:00,716 INFO  [pyogrio._io           ]  Created 160,989 records\n"
     ]
    }
   ],
   "source": [
    "activity_report_gdf.to_file(os.path.join(upload_path, 'ITS_V2_0_Activity_webmap2.gdb'),\n",
    "                            driver='OpenFileGDB',\n",
    "                            layer='ITSV2_0_Activity')"
   ]
  },
  {
   "cell_type": "code",
   "execution_count": 14,
   "id": "a84e591f",
   "metadata": {},
   "outputs": [],
   "source": [
    "def get_tp(gdf):\n",
    "    gdf = gdf[gdf.COUNTS_TO_MAS == \"YES\"]\n",
    "    gdf = gdf[gdf.Year_txt == '2023']\n",
    "    return gdf[gdf.ACTIVITY_CAT == 'TREE_PLNTING']"
   ]
  },
  {
   "cell_type": "code",
   "execution_count": 15,
   "id": "57f1dd3c",
   "metadata": {},
   "outputs": [],
   "source": [
    "tp_2023_gdf = pd.concat([get_tp(line_gdf), get_tp(poly_gdf), get_tp(point_gdf)])"
   ]
  },
  {
   "cell_type": "code",
   "execution_count": 4,
   "id": "385d36da",
   "metadata": {},
   "outputs": [
    {
     "name": "stderr",
     "output_type": "stream",
     "text": [
      "C:\\Users\\sky\\.conda\\envs\\its_recode\\Lib\\site-packages\\pyogrio\\raw.py:198: RuntimeWarning: driver OpenFileGDB does not support open option DRIVER\n",
      "  return ogr_read(\n"
     ]
    }
   ],
   "source": [
    "f_path = r\"D:\\WORK\\wildfire\\Interagency-Tracking-System\\its\\ITSGDB_backup\\V1.1\"\n",
    "f_name = \"Interagency_Tracking_System_V1.1_full_no_personal.gdb\"\n",
    "\n",
    "colname_sample_gdf = gpd.read_file(os.path.join(f_path, f_name), driver=\"OpenFileGDB\", layer=\"ITS_V1_1_points\")"
   ]
  },
  {
   "cell_type": "code",
   "execution_count": 5,
   "id": "6092f2e1",
   "metadata": {},
   "outputs": [],
   "source": [
    "import numpy as np"
   ]
  },
  {
   "cell_type": "code",
   "execution_count": 6,
   "id": "49adc3bb",
   "metadata": {},
   "outputs": [],
   "source": [
    "no_personal_cols = np.intersect1d(line_gdf.columns,colname_sample_gdf.columns)"
   ]
  },
  {
   "cell_type": "code",
   "execution_count": 7,
   "id": "5d88aa92",
   "metadata": {},
   "outputs": [],
   "source": [
    "dash_name= \"Interagency_Tracking_System_V1.1_dashboard.gdb\""
   ]
  },
  {
   "cell_type": "code",
   "execution_count": 8,
   "id": "55d65cb6",
   "metadata": {},
   "outputs": [
    {
     "name": "stderr",
     "output_type": "stream",
     "text": [
      "C:\\Users\\sky\\.conda\\envs\\its_recode\\Lib\\site-packages\\pyogrio\\raw.py:198: RuntimeWarning: driver OpenFileGDB does not support open option DRIVER\n",
      "  return ogr_read(\n"
     ]
    }
   ],
   "source": [
    "\n",
    "dashname_gdf = gpd.read_file(os.path.join(f_path, dash_name), driver=\"OpenFileGDB\", layer=\"ITS_V1_1_points\")"
   ]
  },
  {
   "cell_type": "code",
   "execution_count": 28,
   "id": "b11d0788",
   "metadata": {},
   "outputs": [],
   "source": [
    "line_gdf = line_gdf[no_personal_cols]\n",
    "point_gdf = point_gdf[no_personal_cols]\n",
    "poly_gdf = poly_gdf[no_personal_cols]"
   ]
  },
  {
   "cell_type": "code",
   "execution_count": 29,
   "id": "cc5d6767",
   "metadata": {},
   "outputs": [
    {
     "name": "stderr",
     "output_type": "stream",
     "text": [
      "2025-09-05 10:58:41,158 INFO  [pyogrio._io           ]  Created 131,658 records\n",
      "2025-09-05 10:58:46,200 INFO  [pyogrio._io           ]  Created 20,443 records\n",
      "2025-09-05 10:59:13,017 INFO  [pyogrio._io           ]  Created 454,597 records\n"
     ]
    }
   ],
   "source": [
    "line_gdf.to_file(os.path.join(upload_path, 'ITS_V2_0_Lines.gdb'),\n",
    "                            driver='OpenFileGDB',\n",
    "                            layer='ITS_V2_0_Lines')\n",
    "point_gdf.to_file(os.path.join(upload_path, 'ITS_V2_0_Points.gdb'),\n",
    "                            driver='OpenFileGDB',\n",
    "                            layer='ITS_V2_0_Points')\n",
    "poly_gdf.to_file(os.path.join(upload_path, 'ITS_V2_0_Polygons.gdb'),\n",
    "                            driver='OpenFileGDB',\n",
    "                            layer='ITS_V2_0_Polygons')"
   ]
  },
  {
   "cell_type": "code",
   "execution_count": 44,
   "id": "3d1677db",
   "metadata": {},
   "outputs": [
    {
     "name": "stderr",
     "output_type": "stream",
     "text": [
      "2025-09-05 11:28:33,713 INFO  [pyogrio._io           ]  Created 131,658 records\n",
      "2025-09-05 11:28:38,734 INFO  [pyogrio._io           ]  Created 20,443 records\n",
      "2025-09-05 11:29:05,114 INFO  [pyogrio._io           ]  Created 454,597 records\n",
      "2025-09-05 11:29:14,610 INFO  [pyogrio._io           ]  Created 160,989 records\n",
      "2025-09-05 11:29:17,932 INFO  [pyogrio._io           ]  Created 34,530 records\n"
     ]
    }
   ],
   "source": [
    "line_gdf.to_file(os.path.join(upload_path, 'ITS_V2_0.gdb'),\n",
    "                            driver='OpenFileGDB',\n",
    "                            layer='ITS_V2_0_Lines')\n",
    "point_gdf.to_file(os.path.join(upload_path, 'ITS_V2_0.gdb'),\n",
    "                            driver='OpenFileGDB',\n",
    "                            layer='ITS_V2_0_Points')\n",
    "poly_gdf.to_file(os.path.join(upload_path, 'ITS_V2_0.gdb'),\n",
    "                            driver='OpenFileGDB',\n",
    "                            layer='ITS_V2_0_Polygons')\n",
    "activity_gdf.to_file(os.path.join(upload_path, 'ITS_V2_0.gdb'),\n",
    "                            driver='OpenFileGDB',\n",
    "                            layer='ITS_V2_0_Activity')\n",
    "footprint_gdf.to_file(os.path.join(upload_path, 'ITS_V2_0.gdb'),\n",
    "                            driver='OpenFileGDB',\n",
    "                            layer='ITS_V2_0_Footprint')"
   ]
  },
  {
   "cell_type": "code",
   "execution_count": 9,
   "id": "9cf3e9f9",
   "metadata": {},
   "outputs": [],
   "source": [
    "dash_cols = np.intersect1d(line_gdf.columns,dashname_gdf.columns)"
   ]
  },
  {
   "cell_type": "code",
   "execution_count": 10,
   "id": "fc2076ff",
   "metadata": {},
   "outputs": [],
   "source": [
    "dash_line_gdf = line_gdf[dash_cols][line_gdf.Year > 2020]\n",
    "dash_point_gdf = point_gdf[dash_cols][point_gdf.Year > 2020]\n",
    "dash_poly_gdf = poly_gdf[dash_cols][poly_gdf.Year > 2020]"
   ]
  },
  {
   "cell_type": "code",
   "execution_count": 12,
   "id": "ca1fc698",
   "metadata": {},
   "outputs": [
    {
     "name": "stderr",
     "output_type": "stream",
     "text": [
      "2025-09-05 11:49:34,863 INFO  [pyogrio._io           ]  Created 103,807 records\n",
      "2025-09-05 11:49:38,265 INFO  [pyogrio._io           ]  Created 11,174 records\n",
      "2025-09-05 11:49:44,592 INFO  [pyogrio._io           ]  Created 69,308 records\n"
     ]
    }
   ],
   "source": [
    "dash_line_gdf.to_file(os.path.join(upload_path, 'ITS_V2_0_Lines_webmap.gdb'),\n",
    "                            driver='OpenFileGDB',\n",
    "                            layer='ITS_V2_0_Lines')\n",
    "dash_point_gdf.to_file(os.path.join(upload_path, 'ITS_V2_0_Points_webmap.gdb'),\n",
    "                            driver='OpenFileGDB',\n",
    "                            layer='ITS_V2_0_Points')\n",
    "dash_poly_gdf.to_file(os.path.join(upload_path, 'ITS_V2_0_Polygons_webmap.gdb'),\n",
    "                            driver='OpenFileGDB',\n",
    "                            layer='ITS_V2_0_Polygons')"
   ]
  },
  {
   "cell_type": "code",
   "execution_count": null,
   "id": "0c66299a",
   "metadata": {},
   "outputs": [],
   "source": []
  },
  {
   "cell_type": "code",
   "execution_count": 15,
   "id": "5c8508e1",
   "metadata": {},
   "outputs": [
    {
     "data": {
      "text/plain": [
       "97"
      ]
     },
     "execution_count": 15,
     "metadata": {},
     "output_type": "execute_result"
    }
   ],
   "source": [
    "len(line_gdf.columns)"
   ]
  },
  {
   "cell_type": "code",
   "execution_count": 26,
   "id": "782ae91d",
   "metadata": {},
   "outputs": [
    {
     "data": {
      "text/plain": [
       "0         CA\n",
       "1         CA\n",
       "2         CA\n",
       "3         CA\n",
       "4         CA\n",
       "          ..\n",
       "131653    CA\n",
       "131654    CA\n",
       "131655    CA\n",
       "131656    CA\n",
       "131657    CA\n",
       "Name: ST_ABBREV, Length: 131658, dtype: object"
      ]
     },
     "execution_count": 26,
     "metadata": {},
     "output_type": "execute_result"
    }
   ],
   "source": [
    "line_gdf.ST_ABBREV"
   ]
  },
  {
   "cell_type": "code",
   "execution_count": 10,
   "id": "105ca23d",
   "metadata": {},
   "outputs": [
    {
     "data": {
      "text/plain": [
       "array(['DOI', 'FWS'], dtype=object)"
      ]
     },
     "execution_count": 10,
     "metadata": {},
     "output_type": "execute_result"
    }
   ],
   "source": [
    "activity_gdf[activity_gdf.ADMINISTERING_ORG == 'FWS'].AGENCY.unique()"
   ]
  },
  {
   "cell_type": "code",
   "execution_count": null,
   "id": "e13cf069",
   "metadata": {},
   "outputs": [],
   "source": []
  }
 ],
 "metadata": {
  "kernelspec": {
   "display_name": "Python 3 (ipykernel)",
   "language": "python",
   "name": "python3"
  },
  "language_info": {
   "codemirror_mode": {
    "name": "ipython",
    "version": 3
   },
   "file_extension": ".py",
   "mimetype": "text/x-python",
   "name": "python",
   "nbconvert_exporter": "python",
   "pygments_lexer": "ipython3",
   "version": "3.13.1"
  }
 },
 "nbformat": 4,
 "nbformat_minor": 5
}

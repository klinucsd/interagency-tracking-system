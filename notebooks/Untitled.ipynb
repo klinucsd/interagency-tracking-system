{
 "cells": [
  {
   "cell_type": "code",
   "execution_count": 1,
   "id": "bb7b438b",
   "metadata": {},
   "outputs": [],
   "source": [
    "import sys\n",
    "sys.path.append('../')"
   ]
  },
  {
   "cell_type": "code",
   "execution_count": 2,
   "id": "b48ec6b0",
   "metadata": {},
   "outputs": [],
   "source": [
    "import geopandas as gpd\n",
    "import pandas as pd\n",
    "import time\n",
    "from datetime import datetime"
   ]
  },
  {
   "cell_type": "code",
   "execution_count": 3,
   "id": "cb5bc9bd",
   "metadata": {},
   "outputs": [],
   "source": [
    "from its_logging.logger_config import logger"
   ]
  },
  {
   "cell_type": "code",
   "execution_count": 4,
   "id": "8e42f4a2",
   "metadata": {},
   "outputs": [],
   "source": [
    "a_reference_gdb_path = r\"D:\\WORK\\wildfire\\Interagency-Tracking-System\\its\\Interagency Tracking System.gdb\"\n",
    "start_year, end_year = 1950, 2025"
   ]
  },
  {
   "cell_type": "code",
   "execution_count": 5,
   "id": "ce7874da",
   "metadata": {},
   "outputs": [],
   "source": [
    "from enrich.enrich_Timber_Nonspatial import enrich_Timber_Nonspatial"
   ]
  },
  {
   "cell_type": "code",
   "execution_count": 6,
   "id": "d043e17f",
   "metadata": {},
   "outputs": [],
   "source": [
    "# v1.1 inputs\n",
    "tn_input_excel_path = r'D:\\WORK\\wildfire\\Interagency-Tracking-System\\2023\\Industry_nonspatial_2023\\Timber_Industry_Acres_{}.xlsx'\n"
   ]
  },
  {
   "cell_type": "code",
   "execution_count": 7,
   "id": "85b8b916",
   "metadata": {},
   "outputs": [],
   "source": [
    "# concat all timber nonspatial xlsx files\n",
    "tn21_df = pd.read_excel(tn_input_excel_path.format(2021))\n",
    "tn22_df = pd.read_excel(tn_input_excel_path.format(2022))\n",
    "tn23_df = pd.read_excel(tn_input_excel_path.format(2023))\n"
   ]
  },
  {
   "cell_type": "code",
   "execution_count": null,
   "id": "bedfe8b9",
   "metadata": {},
   "outputs": [],
   "source": []
  },
  {
   "cell_type": "code",
   "execution_count": 8,
   "id": "f109ea47",
   "metadata": {},
   "outputs": [],
   "source": [
    "tn24_df = pd.read_excel(r'D:\\WORK\\wildfire\\Interagency-Tracking-System\\V2.0\\Industry_nonspatial_V2.0\\Timber Industry Acres 2024 for UCSD 20Jun2025.xlsx')"
   ]
  },
  {
   "cell_type": "code",
   "execution_count": 9,
   "id": "deed473e",
   "metadata": {},
   "outputs": [],
   "source": [
    "tn_df = pd.concat([tn21_df, tn22_df, tn23_df, tn24_df])\n",
    "tn_input_excel_path = r'D:\\WORK\\wildfire\\Interagency-Tracking-System\\V2.0\\Industry_nonspatial_V2.0\\Timber_Industry_Acres_concat.xlsx'\n",
    "output_gdb_path =  r\"D:\\WORK\\wildfire\\Interagency-Tracking-System\\its\\ITSGDB_backup\\V2.0\\Timber_Nonspatial_{}_{}.gdb\".format(start_year, end_year)\n",
    "output_layer_name = f\"Timber_Nonspatial_{datetime.today().strftime('%Y%m%d')}\"\n",
    "tn_df.to_excel(tn_input_excel_path)"
   ]
  },
  {
   "cell_type": "code",
   "execution_count": 10,
   "id": "5dc6c5ad",
   "metadata": {},
   "outputs": [
    {
     "name": "stderr",
     "output_type": "stream",
     "text": [
      "2025-06-25 11:11:31,986 INFO  [enrich.Timber_NSpatial]  Load the Timeber Industry Nonspatial data into a DataFrame\n",
      "2025-06-25 11:11:31,999 INFO  [enrich.Timber_NSpatial]     time for loading D:\\WORK\\wildfire\\Interagency-Tracking-System\\V2.0\\Industry_nonspatial_V2.0\\Timber_Industry_Acres_concat.xlsx: 0.012203216552734375\n",
      "2025-06-25 11:11:31,999 INFO  [enrich.Timber_NSpatial]  Performing Standardization\n",
      "2025-06-25 11:11:32,000 INFO  [enrich.Timber_NSpatial]     step 1/10 convert Excel sheet to table\n",
      "2025-06-25 11:11:32,049 INFO  [enrich.Timber_NSpatial]     all required columns are present.\n",
      "2025-06-25 11:11:32,050 INFO  [enrich.Timber_NSpatial]     step 2/10 rename and add fields\n",
      "2025-06-25 11:11:32,050 INFO  [enrich.Timber_NSpatial]     step 3/10 adding common columns...\n",
      "2025-06-25 11:11:32,071 INFO  [enrich.Timber_NSpatial]     step 4/10 calculate fields\n",
      "2025-06-25 11:11:32,074 INFO  [enrich.Timber_NSpatial]     step 5/10 converting Table to Geodataframe\n",
      "2025-06-25 11:11:32,104 INFO  [enrich.Timber_NSpatial]     step 6/10 Remove Unnecessary Columns...\n",
      "2025-06-25 11:11:32,106 INFO  [enrich.Timber_NSpatial]     step 7/10 Enrich Points\n",
      "2025-06-25 11:11:32,106 INFO  [utils.enrich_points   ]        Executing Point Enrichments...\n",
      "2025-06-25 11:11:32,107 INFO  [utils.enrich_points   ]           Calculating WUI...\n",
      "2025-06-25 11:11:32,107 INFO  [utils.enrich_points   ]              enrich step 1/16 loading WUI from cache\n",
      "2025-06-25 11:11:32,279 INFO  [utils.enrich_points   ]                 time for loading WUI: 0.1715083122253418\n",
      "2025-06-25 11:11:32,279 INFO  [utils.enrich_points   ]              enrich step 2/16 select records with null WUI\n",
      "2025-06-25 11:11:32,281 INFO  [utils.enrich_points   ]              enrich step 3/16 select by WUI location\n",
      "2025-06-25 11:11:32,315 INFO  [utils.enrich_points   ]              enrich step 4/16 calculate WUI yes\n",
      "2025-06-25 11:11:32,315 INFO  [utils.enrich_points   ]              enrich step 5/16 select remaining null records\n",
      "2025-06-25 11:11:32,317 INFO  [utils.enrich_points   ]              enrich step 6/16 calculate WUI no\n",
      "2025-06-25 11:11:32,317 INFO  [utils.enrich_points   ]           Calculating Ownership, Counties, and Regions...\n",
      "2025-06-25 11:11:32,318 INFO  [utils.enrich_points   ]              enrich step 7/16 loading CALFIRE_Ownership_Update from cache\n",
      "2025-06-25 11:11:32,753 INFO  [utils.enrich_points   ]                 time for loading CALFIRE_Ownership_Update: 0.4355652332305908\n",
      "2025-06-25 11:11:32,754 INFO  [utils.enrich_points   ]              enrich step 8/16 spatial join ownership\n",
      "2025-06-25 11:11:33,247 INFO  [utils.enrich_points   ]              enrich step 9/16 loading WFRTF_Regions from cache\n",
      "2025-06-25 11:11:33,258 INFO  [utils.enrich_points   ]                 time for loading WFRTF_Regions: 0.010245323181152344\n",
      "2025-06-25 11:11:33,258 INFO  [utils.enrich_points   ]              enrich step 10/16 spatial join regions\n",
      "2025-06-25 11:11:33,338 INFO  [utils.enrich_points   ]              enrich step 11/16 loading Broad_Vegetation_Types from cache\n",
      "2025-06-25 11:11:37,344 INFO  [utils.enrich_points   ]                 time for loading Broad_Vegetation_Types: 4.0965211391448975\n",
      "2025-06-25 11:11:37,345 INFO  [utils.enrich_points   ]              enrich step 12/16 spatial join veg and calculations\n",
      "2025-06-25 11:11:38,612 INFO  [utils.enrich_points   ]              enrich step 13/16 Initiating Crosswalk\n",
      "2025-06-25 11:11:38,612 INFO  [utils.crosswalk       ]           Calculating Crosswalking Activites...\n",
      "2025-06-25 11:11:38,612 INFO  [utils.crosswalk       ]              Load Crosswalk table...\n",
      "2025-06-25 11:11:38,650 INFO  [utils.crosswalk       ]              cross step 1/8 add join\n",
      "2025-06-25 11:11:38,653 INFO  [utils.crosswalk       ]              cross step 2/8 calculate activities\n",
      "2025-06-25 11:11:38,654 INFO  [utils.crosswalk       ]              cross step 3/8 calculate residue fate field\n",
      "2025-06-25 11:11:38,655 INFO  [utils.crosswalk       ]              cross step 4/8 select attribute by layer\n",
      "2025-06-25 11:11:38,656 INFO  [utils.crosswalk       ]              cross step 5/8 calculating objective...\n",
      "C:\\Users\\sky\\.conda\\envs\\its_recode\\Lib\\site-packages\\geopandas\\geodataframe.py:1819: SettingWithCopyWarning: \n",
      "A value is trying to be set on a copy of a slice from a DataFrame.\n",
      "Try using .loc[row_indexer,col_indexer] = value instead\n",
      "\n",
      "See the caveats in the documentation: https://pandas.pydata.org/pandas-docs/stable/user_guide/indexing.html#returning-a-view-versus-a-copy\n",
      "  super().__setitem__(key, value)\n",
      "2025-06-25 11:11:38,659 INFO  [utils.crosswalk       ]              cross step 6/8 calculate category\n",
      "2025-06-25 11:11:38,662 INFO  [utils.crosswalk       ]              cross step 7/8 standardize domains\n",
      "2025-06-25 11:11:38,667 INFO  [utils.crosswalk       ]              cross step 8/8 counts towards MAS\n",
      "2025-06-25 11:11:38,668 INFO  [utils.counts_to_mas   ]           Calculating Counts to MAS\n",
      "2025-06-25 11:11:38,668 INFO  [utils.counts_to_mas   ]              counts step 1/8: set to 'NO'\n",
      "2025-06-25 11:11:38,668 INFO  [utils.counts_to_mas   ]              counts step 2/8: select by bounding years (1950-2025)\n",
      "2025-06-25 11:11:38,669 INFO  [utils.counts_to_mas   ]              counts step 3/8: set to 'YES' if activity description is in the list\n",
      "2025-06-25 11:11:38,670 INFO  [utils.counts_to_mas   ]              counts step 4/8: set to 'NO' if not 'Acres'\n",
      "2025-06-25 11:11:38,670 INFO  [utils.counts_to_mas   ]              counts step 5/8: set to 'NO' if status is 'Canceled', 'Planned', 'Outyear', or 'Proposed'\n",
      "2025-06-25 11:11:38,671 INFO  [utils.counts_to_mas   ]              counts step 6/8: set to 'NO' if Activity Category is 'Watershed Improvement'\n",
      "2025-06-25 11:11:38,671 INFO  [utils.counts_to_mas   ]              counts step 7/8: set to 'NO' if Agency is 'Other' and Admin is 'CARB'\n",
      "2025-06-25 11:11:38,672 INFO  [utils.counts_to_mas   ]              counts step 8/8: set to 'NO' if Org is 'USFS' and Status is 'Active'\n",
      "2025-06-25 11:11:38,674 INFO  [utils.enrich_points   ]           Crosswalk Complete. Continuing Enrichment...\n",
      "2025-06-25 11:11:38,674 INFO  [utils.enrich_points   ]              enrich step 14/16 calculating Years\n",
      "2025-06-25 11:11:38,676 INFO  [utils.enrich_points   ]              enrich step 15/16 calculating Latitude and Longitude\n",
      "2025-06-25 11:11:38,677 INFO  [utils.enrich_points   ]              enrich step 16/16 removing unnecessary fields\n",
      "2025-06-25 11:11:38,678 INFO  [utils.enrich_points   ]           Enrich Points Complete...\n",
      "2025-06-25 11:11:38,877 INFO  [enrich.Timber_NSpatial]     step 8/10 Fix board veg types and others\n"
     ]
    },
    {
     "name": "stdout",
     "output_type": "stream",
     "text": [
      "TBD\n",
      "TBD\n",
      "TBD\n",
      "TBD\n",
      "TBD\n",
      "TBD\n",
      "TBD\n",
      "TBD\n",
      "TBD\n",
      "TBD\n",
      "TBD\n",
      "TBD\n",
      "TBD\n",
      "TBD\n",
      "TBD\n",
      "TBD\n",
      "TBD\n",
      "TBD\n",
      "TBD\n",
      "TBD\n",
      "TBD\n",
      "TBD\n",
      "TBD\n",
      "TBD\n",
      "TBD\n",
      "TBD\n"
     ]
    },
    {
     "name": "stderr",
     "output_type": "stream",
     "text": [
      "2025-06-25 11:11:38,880 INFO  [enrich.Timber_NSpatial]     step 9/10 Assign Domains...\n",
      "2025-06-25 11:11:39,069 INFO  [utils.assign_domains  ]        Created domain 'D_OBJECTIVE' with 27 values\n",
      "2025-06-25 11:11:39,076 INFO  [utils.assign_domains  ]        Created domain 'D_STATUS' with 6 values\n",
      "2025-06-25 11:11:39,083 INFO  [utils.assign_domains  ]        Created domain 'D_CNTY' with 59 values\n",
      "2025-06-25 11:11:39,088 INFO  [utils.assign_domains  ]        Created domain 'D_IN_WUI' with 4 values\n",
      "2025-06-25 11:11:39,096 INFO  [utils.assign_domains  ]        Created domain 'D_ACTVDSCRP' with 61 values\n",
      "2025-06-25 11:11:39,102 INFO  [utils.assign_domains  ]        Created domain 'D_ACTVCAT' with 8 values\n",
      "2025-06-25 11:11:39,108 INFO  [utils.assign_domains  ]        Created domain 'D_USERDEFINED' with 2 values\n",
      "2025-06-25 11:11:39,114 INFO  [utils.assign_domains  ]        Created domain 'D_BVT' with 8 values\n",
      "2025-06-25 11:11:39,120 INFO  [utils.assign_domains  ]        Created domain 'D_RESIDUEFATE' with 15 values\n",
      "2025-06-25 11:11:39,126 INFO  [utils.assign_domains  ]        Created domain 'D_UOM' with 6 values\n",
      "2025-06-25 11:11:39,132 INFO  [utils.assign_domains  ]        Created domain 'D_TASKFORCE' with 5 values\n",
      "2025-06-25 11:11:39,138 INFO  [utils.assign_domains  ]        Created domain 'D_PR_OWN_GR' with 7 values\n",
      "2025-06-25 11:11:39,144 INFO  [utils.assign_domains  ]        Created domain 'D_FNDSRC' with 11 values\n",
      "2025-06-25 11:11:39,150 INFO  [utils.assign_domains  ]        Created domain 'D_AGENCY' with 9 values\n",
      "2025-06-25 11:11:39,157 INFO  [utils.assign_domains  ]        Created domain 'D_ORGANIZATION' with 32 values\n",
      "2025-06-25 11:11:39,163 INFO  [utils.assign_domains  ]        Warning: 1 rows with NULL values were dropped from 'D_DATASTATUS'\n",
      "2025-06-25 11:11:39,163 INFO  [utils.assign_domains  ]        Created domain 'D_DATASTATUS' with 2 values\n",
      "2025-06-25 11:11:39,169 INFO  [utils.assign_domains  ]        Created domain 'D_DATAMSG' with 3 values\n",
      "2025-06-25 11:11:39,175 INFO  [utils.assign_domains  ]        Created domain 'D_VERFIEDMSG' with 2 values\n",
      "2025-06-25 11:11:39,180 INFO  [utils.assign_domains  ]        Created domain 'D_TRMT_GEOM' with 4 values\n",
      "2025-06-25 11:11:39,181 INFO  [utils.assign_domains  ]        Assign domains to project-related columns\n",
      "2025-06-25 11:11:39,185 INFO  [utils.assign_domains  ]        Assign domains to treatment-related columns\n",
      "2025-06-25 11:11:39,190 INFO  [utils.assign_domains  ]        Assign domains to activity-related columns\n",
      "2025-06-25 11:11:39,198 INFO  [enrich.Timber_NSpatial]     step 10/10 Save Result...\n",
      "2025-06-25 11:11:39,198 INFO  [utils.save_gdf_to_gdb ]        Windows machine detected\n",
      "2025-06-25 11:11:39,199 INFO  [utils.save_gdf_to_gdb ]        Check geodataframe geometry object and cast to Multi-x type if both exist\n",
      "2025-06-25 11:11:39,199 INFO  [utils.save_gdf_to_gdb ]        Running GDAL OpenFileGDB to save to file\n",
      "2025-06-25 11:11:39,265 INFO  [utils.save_gdf_to_gdb ]        File saved to D:\\WORK\\wildfire\\Interagency-Tracking-System\\its\\ITSGDB_backup\\V2.0\\Timber_Nonspatial_1950_2025.gdb Timber_Nonspatial_20250625\n"
     ]
    },
    {
     "name": "stdout",
     "output_type": "stream",
     "text": [
      "D:\\WORK\\wildfire\\Interagency-Tracking-System\\its\\ITSGDB_backup\\V2.0\\Timber_Nonspatial_1950_2025.gdb\n"
     ]
    }
   ],
   "source": [
    "enrich_Timber_Nonspatial(tn_input_excel_path,\n",
    "                         a_reference_gdb_path,\n",
    "                         start_year,\n",
    "                         end_year,\n",
    "                         output_gdb_path,\n",
    "                         output_layer_name)\n"
   ]
  },
  {
   "cell_type": "code",
   "execution_count": 11,
   "id": "43660e4d",
   "metadata": {},
   "outputs": [],
   "source": [
    "tn_gdf = gpd.read_file(output_gdb_path, driver='OpenFileGDB', layer=output_layer_name)"
   ]
  },
  {
   "cell_type": "code",
   "execution_count": 13,
   "id": "bd29456b",
   "metadata": {},
   "outputs": [
    {
     "data": {
      "text/plain": [
       "0          TRANSITION_HARVEST\n",
       "1          TRANSITION_HARVEST\n",
       "2          TRANSITION_HARVEST\n",
       "3          TRANSITION_HARVEST\n",
       "4             AMW_AREA_RESTOR\n",
       "                ...          \n",
       "96               TREE_PLNTING\n",
       "97     VARIABLE_RETEN_HARVEST\n",
       "98     VARIABLE_RETEN_HARVEST\n",
       "99     VARIABLE_RETEN_HARVEST\n",
       "100    VARIABLE_RETEN_HARVEST\n",
       "Name: ACTIVITY_DESCRIPTION, Length: 101, dtype: object"
      ]
     },
     "execution_count": 13,
     "metadata": {},
     "output_type": "execute_result"
    }
   ],
   "source": [
    "tn_gdf.ACTIVITY_DESCRIPTION"
   ]
  },
  {
   "cell_type": "code",
   "execution_count": 23,
   "id": "10dc2466",
   "metadata": {},
   "outputs": [
    {
     "data": {
      "text/html": [
       "<div>\n",
       "<style scoped>\n",
       "    .dataframe tbody tr th:only-of-type {\n",
       "        vertical-align: middle;\n",
       "    }\n",
       "\n",
       "    .dataframe tbody tr th {\n",
       "        vertical-align: top;\n",
       "    }\n",
       "\n",
       "    .dataframe thead th {\n",
       "        text-align: right;\n",
       "    }\n",
       "</style>\n",
       "<table border=\"1\" class=\"dataframe\">\n",
       "  <thead>\n",
       "    <tr style=\"text-align: right;\">\n",
       "      <th></th>\n",
       "      <th>ACTIVITY_DESCRIPTION</th>\n",
       "      <th>PRIMARY_OBJECTIVE</th>\n",
       "    </tr>\n",
       "  </thead>\n",
       "  <tbody>\n",
       "    <tr>\n",
       "      <th>64</th>\n",
       "      <td>None</td>\n",
       "      <td>None</td>\n",
       "    </tr>\n",
       "  </tbody>\n",
       "</table>\n",
       "</div>"
      ],
      "text/plain": [
       "   ACTIVITY_DESCRIPTION PRIMARY_OBJECTIVE\n",
       "64                 None              None"
      ]
     },
     "execution_count": 23,
     "metadata": {},
     "output_type": "execute_result"
    }
   ],
   "source": [
    "tn_gdf[tn_gdf.ACTIVITY_CAT == 'NOT_DEFINED'][['ACTIVITY_DESCRIPTION', 'PRIMARY_OBJECTIVE']]"
   ]
  },
  {
   "cell_type": "code",
   "execution_count": 24,
   "id": "eda6c60a",
   "metadata": {},
   "outputs": [
    {
     "data": {
      "text/html": [
       "<div>\n",
       "<style scoped>\n",
       "    .dataframe tbody tr th:only-of-type {\n",
       "        vertical-align: middle;\n",
       "    }\n",
       "\n",
       "    .dataframe tbody tr th {\n",
       "        vertical-align: top;\n",
       "    }\n",
       "\n",
       "    .dataframe thead th {\n",
       "        text-align: right;\n",
       "    }\n",
       "</style>\n",
       "<table border=\"1\" class=\"dataframe\">\n",
       "  <thead>\n",
       "    <tr style=\"text-align: right;\">\n",
       "      <th></th>\n",
       "      <th>PROJECTID_USER</th>\n",
       "      <th>AGENCY</th>\n",
       "      <th>ORG_ADMIN_p</th>\n",
       "      <th>PROJECT_CONTACT</th>\n",
       "      <th>PROJECT_EMAIL</th>\n",
       "      <th>ADMINISTERING_ORG</th>\n",
       "      <th>PROJECT_NAME</th>\n",
       "      <th>PROJECT_STATUS</th>\n",
       "      <th>PROJECT_START</th>\n",
       "      <th>PROJECT_END</th>\n",
       "      <th>...</th>\n",
       "      <th>Source</th>\n",
       "      <th>Year</th>\n",
       "      <th>Year_txt</th>\n",
       "      <th>Act_Code</th>\n",
       "      <th>Crosswalk</th>\n",
       "      <th>Federal_FY</th>\n",
       "      <th>State_FY</th>\n",
       "      <th>TRMT_GEOM</th>\n",
       "      <th>COUNTS_TO_MAS</th>\n",
       "      <th>geometry</th>\n",
       "    </tr>\n",
       "  </thead>\n",
       "  <tbody>\n",
       "    <tr>\n",
       "      <th>64</th>\n",
       "      <td>TI-64</td>\n",
       "      <td>TIMBER</td>\n",
       "      <td>None</td>\n",
       "      <td>None</td>\n",
       "      <td>None</td>\n",
       "      <td>TIMBER</td>\n",
       "      <td>TI-64</td>\n",
       "      <td>None</td>\n",
       "      <td>NaT</td>\n",
       "      <td>NaT</td>\n",
       "      <td>...</td>\n",
       "      <td>Industrial Timber</td>\n",
       "      <td>2024.000000000000000</td>\n",
       "      <td>2024</td>\n",
       "      <td>NaN</td>\n",
       "      <td>TBD</td>\n",
       "      <td>2025</td>\n",
       "      <td>2025</td>\n",
       "      <td>POINT</td>\n",
       "      <td>YES</td>\n",
       "      <td>POINT (-319030.071 -36578.296)</td>\n",
       "    </tr>\n",
       "  </tbody>\n",
       "</table>\n",
       "<p>1 rows × 91 columns</p>\n",
       "</div>"
      ],
      "text/plain": [
       "   PROJECTID_USER  AGENCY ORG_ADMIN_p PROJECT_CONTACT PROJECT_EMAIL  \\\n",
       "64          TI-64  TIMBER        None            None          None   \n",
       "\n",
       "   ADMINISTERING_ORG PROJECT_NAME PROJECT_STATUS PROJECT_START PROJECT_END  \\\n",
       "64            TIMBER        TI-64           None           NaT         NaT   \n",
       "\n",
       "    ...             Source                 Year Year_txt  Act_Code  Crosswalk  \\\n",
       "64  ...  Industrial Timber 2024.000000000000000     2024       NaN        TBD   \n",
       "\n",
       "   Federal_FY State_FY TRMT_GEOM COUNTS_TO_MAS                        geometry  \n",
       "64       2025     2025     POINT           YES  POINT (-319030.071 -36578.296)  \n",
       "\n",
       "[1 rows x 91 columns]"
      ]
     },
     "execution_count": 24,
     "metadata": {},
     "output_type": "execute_result"
    }
   ],
   "source": [
    "tn_gdf[tn_gdf.ACTIVITY_CAT == 'NOT_DEFINED']"
   ]
  },
  {
   "cell_type": "code",
   "execution_count": null,
   "id": "08aae092",
   "metadata": {},
   "outputs": [],
   "source": []
  }
 ],
 "metadata": {
  "kernelspec": {
   "display_name": "Python 3 (ipykernel)",
   "language": "python",
   "name": "python3"
  },
  "language_info": {
   "codemirror_mode": {
    "name": "ipython",
    "version": 3
   },
   "file_extension": ".py",
   "mimetype": "text/x-python",
   "name": "python",
   "nbconvert_exporter": "python",
   "pygments_lexer": "ipython3",
   "version": "3.13.1"
  }
 },
 "nbformat": 4,
 "nbformat_minor": 5
}

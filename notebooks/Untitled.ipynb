{
 "cells": [
  {
   "cell_type": "code",
   "execution_count": 1,
   "id": "bb7b438b",
   "metadata": {},
   "outputs": [],
   "source": [
    "import sys\n",
    "sys.path.append('../')"
   ]
  },
  {
   "cell_type": "code",
   "execution_count": 2,
   "id": "47f5a3b3",
   "metadata": {},
   "outputs": [],
   "source": [
    "import os"
   ]
  },
  {
   "cell_type": "code",
   "execution_count": 3,
   "id": "b48ec6b0",
   "metadata": {},
   "outputs": [],
   "source": [
    "import geopandas as gpd\n",
    "import pandas as pd\n",
    "import time\n",
    "from datetime import datetime"
   ]
  },
  {
   "cell_type": "code",
   "execution_count": 4,
   "id": "cb5bc9bd",
   "metadata": {},
   "outputs": [],
   "source": [
    "from its_logging.logger_config import logger"
   ]
  },
  {
   "cell_type": "code",
   "execution_count": 5,
   "id": "8e42f4a2",
   "metadata": {},
   "outputs": [],
   "source": [
    "a_reference_gdb_path = r\"D:\\WORK\\wildfire\\Interagency-Tracking-System\\its\\Interagency Tracking System.gdb\"\n",
    "start_year, end_year = 1950, 2025"
   ]
  },
  {
   "cell_type": "code",
   "execution_count": 6,
   "id": "556aea3a",
   "metadata": {},
   "outputs": [],
   "source": [
    "append_path = r\"D:/WORK/wildfire/Interagency-Tracking-System/its/ITSGDB_backup/V2.0.1/appended.gdb\""
   ]
  },
  {
   "cell_type": "code",
   "execution_count": 7,
   "id": "6d1e511c",
   "metadata": {},
   "outputs": [],
   "source": [
    "upload_path = r\"D:/WORK/wildfire/Interagency-Tracking-System/its/ITSGDB_backup/V2.0upload\""
   ]
  },
  {
   "cell_type": "code",
   "execution_count": 9,
   "id": "95aac462",
   "metadata": {},
   "outputs": [
    {
     "name": "stderr",
     "output_type": "stream",
     "text": [
      "C:\\Users\\sky\\.conda\\envs\\its_recode\\Lib\\site-packages\\pyogrio\\raw.py:198: RuntimeWarning: driver OpenFileGDB does not support open option DRIVER\n",
      "  return ogr_read(\n"
     ]
    }
   ],
   "source": [
    "its_points = gpd.read_file(os.path.join(upload_path,'ITS_V2_0_Points.gdb'), driver='OpenFileGDB', layer='ITS_V2_0_Points')"
   ]
  },
  {
   "cell_type": "code",
   "execution_count": 15,
   "id": "cd61e2e9",
   "metadata": {},
   "outputs": [],
   "source": [
    "timber_id = its_points[(its_points['AGENCY'] == 'TIMBER') & (its_points['TRMTID_USER'].apply(lambda x: x[:5]) != \"PFIRS\")]['TRMTID_USER']"
   ]
  },
  {
   "cell_type": "code",
   "execution_count": 22,
   "id": "8c8f151d",
   "metadata": {},
   "outputs": [
    {
     "data": {
      "text/plain": [
       "Index(['PROJECTID_USER', 'AGENCY', 'ORG_ADMIN_p', 'PROJECT_CONTACT',\n",
       "       'PROJECT_EMAIL', 'ADMINISTERING_ORG', 'PROJECT_NAME', 'PROJECT_STATUS',\n",
       "       'PROJECT_START', 'PROJECT_END', 'PRIMARY_FUNDING_SOURCE',\n",
       "       'PRIMARY_FUNDING_ORG', 'IMPLEMENTING_ORG', 'LATITUDE', 'LONGITUDE',\n",
       "       'Val_Status_p', 'Val_Message_p', 'Val_RunDate_p', 'Review_Status_p',\n",
       "       'Review_Message_p', 'Review_RunDate_p', 'Dataload_Status_p',\n",
       "       'Dataload_Msg_p', 'TRMTID_USER', 'PROJECTID', 'PROJECTNAME_',\n",
       "       'ORG_ADMIN_t', 'PRIMARY_OWNERSHIP_GROUP', 'PRIMARY_OBJECTIVE',\n",
       "       'SECONDARY_OBJECTIVE', 'TERTIARY_OBJECTIVE', 'TREATMENT_STATUS',\n",
       "       'COUNTY', 'IN_WUI', 'REGION', 'TREATMENT_AREA', 'TREATMENT_START',\n",
       "       'TREATMENT_END', 'RETREATMENT_DATE_EST', 'TREATMENT_NAME',\n",
       "       'Val_Status_t', 'Val_Message_t', 'Val_RunDate_t', 'Review_Status_t',\n",
       "       'Review_Message_t', 'Review_RunDate_t', 'Dataload_Status_t',\n",
       "       'Dataload_Msg_t', 'ACTIVID_USER', 'TREATMENTID_', 'ORG_ADMIN_a',\n",
       "       'ACTIVITY_DESCRIPTION', 'ACTIVITY_CAT', 'BROAD_VEGETATION_TYPE',\n",
       "       'BVT_USERD', 'ACTIVITY_STATUS', 'ACTIVITY_QUANTITY', 'ACTIVITY_UOM',\n",
       "       'ACTIVITY_START', 'ACTIVITY_END', 'ADMIN_ORG_NAME', 'IMPLEM_ORG_NAME',\n",
       "       'PRIMARY_FUND_SRC_NAME', 'PRIMARY_FUND_ORG_NAME',\n",
       "       'SECONDARY_FUND_SRC_NAME', 'SECONDARY_FUND_ORG_NAME',\n",
       "       'TERTIARY_FUND_SRC_NAME', 'TERTIARY_FUND_ORG_NAME', 'ACTIVITY_PRCT',\n",
       "       'RESIDUE_FATE', 'RESIDUE_FATE_QUANTITY', 'RESIDUE_FATE_UNITS',\n",
       "       'ACTIVITY_NAME', 'VAL_STATUS_a', 'VAL_MSG_a', 'VAL_RUNDATE_a',\n",
       "       'REVIEW_STATUS_a', 'REVIEW_MSG_a', 'REVIEW_RUNDATE_a',\n",
       "       'DATALOAD_STATUS_a', 'DATALOAD_MSG_a', 'Source', 'Year', 'Year_txt',\n",
       "       'Act_Code', 'Crosswalk', 'Federal_FY', 'State_FY', 'TRMT_GEOM',\n",
       "       'COUNTS_TO_MAS', 'FIPS', 'STATE', 'ST_ABBREV', 'SQMI', 'POPULATION',\n",
       "       'geometry'],\n",
       "      dtype='object')"
      ]
     },
     "execution_count": 22,
     "metadata": {},
     "output_type": "execute_result"
    }
   ],
   "source": [
    "its_points.columns"
   ]
  },
  {
   "cell_type": "code",
   "execution_count": 23,
   "id": "b1bf2620",
   "metadata": {},
   "outputs": [
    {
     "data": {
      "text/plain": [
       "20342    CENTRAL_COAST\n",
       "20343    CENTRAL_COAST\n",
       "20344    CENTRAL_COAST\n",
       "20345    CENTRAL_COAST\n",
       "20346    CENTRAL_COAST\n",
       "             ...      \n",
       "20438    CENTRAL_COAST\n",
       "20439    CENTRAL_COAST\n",
       "20440    CENTRAL_COAST\n",
       "20441    CENTRAL_COAST\n",
       "20442    CENTRAL_COAST\n",
       "Name: REGION, Length: 101, dtype: object"
      ]
     },
     "execution_count": 23,
     "metadata": {},
     "output_type": "execute_result"
    }
   ],
   "source": [
    "its_points.loc[its_points.TRMTID_USER.isin(timber_id), \"REGION\"]"
   ]
  },
  {
   "cell_type": "code",
   "execution_count": 26,
   "id": "fe5302eb",
   "metadata": {},
   "outputs": [
    {
     "ename": "AttributeError",
     "evalue": "'GeoDataFrame' object has no attribute 'TRMTID_USER'",
     "output_type": "error",
     "traceback": [
      "\u001b[1;31m---------------------------------------------------------------------------\u001b[0m",
      "\u001b[1;31mAttributeError\u001b[0m                            Traceback (most recent call last)",
      "\u001b[1;32m~\\AppData\\Local\\Temp\\ipykernel_541840\\4213917781.py\u001b[0m in \u001b[0;36m?\u001b[1;34m()\u001b[0m\n\u001b[1;32m----> 1\u001b[1;33m \u001b[0mgdf\u001b[0m\u001b[1;33m.\u001b[0m\u001b[0mloc\u001b[0m\u001b[1;33m[\u001b[0m\u001b[0mgdf\u001b[0m\u001b[1;33m.\u001b[0m\u001b[0mTRMTID_USER\u001b[0m\u001b[1;33m.\u001b[0m\u001b[0misin\u001b[0m\u001b[1;33m(\u001b[0m\u001b[0mtimber_id\u001b[0m\u001b[1;33m)\u001b[0m\u001b[1;33m,\u001b[0m \u001b[1;34m'REGION'\u001b[0m\u001b[1;33m]\u001b[0m\u001b[1;33m\u001b[0m\u001b[1;33m\u001b[0m\u001b[0m\n\u001b[0m",
      "\u001b[1;32m~\\.conda\\envs\\its_recode\\Lib\\site-packages\\pandas\\core\\generic.py\u001b[0m in \u001b[0;36m?\u001b[1;34m(self, name)\u001b[0m\n\u001b[0;32m   6295\u001b[0m             \u001b[1;32mand\u001b[0m \u001b[0mname\u001b[0m \u001b[1;32mnot\u001b[0m \u001b[1;32min\u001b[0m \u001b[0mself\u001b[0m\u001b[1;33m.\u001b[0m\u001b[0m_accessors\u001b[0m\u001b[1;33m\u001b[0m\u001b[1;33m\u001b[0m\u001b[0m\n\u001b[0;32m   6296\u001b[0m             \u001b[1;32mand\u001b[0m \u001b[0mself\u001b[0m\u001b[1;33m.\u001b[0m\u001b[0m_info_axis\u001b[0m\u001b[1;33m.\u001b[0m\u001b[0m_can_hold_identifiers_and_holds_name\u001b[0m\u001b[1;33m(\u001b[0m\u001b[0mname\u001b[0m\u001b[1;33m)\u001b[0m\u001b[1;33m\u001b[0m\u001b[1;33m\u001b[0m\u001b[0m\n\u001b[0;32m   6297\u001b[0m         \u001b[1;33m)\u001b[0m\u001b[1;33m:\u001b[0m\u001b[1;33m\u001b[0m\u001b[1;33m\u001b[0m\u001b[0m\n\u001b[0;32m   6298\u001b[0m             \u001b[1;32mreturn\u001b[0m \u001b[0mself\u001b[0m\u001b[1;33m[\u001b[0m\u001b[0mname\u001b[0m\u001b[1;33m]\u001b[0m\u001b[1;33m\u001b[0m\u001b[1;33m\u001b[0m\u001b[0m\n\u001b[1;32m-> 6299\u001b[1;33m         \u001b[1;32mreturn\u001b[0m \u001b[0mobject\u001b[0m\u001b[1;33m.\u001b[0m\u001b[0m__getattribute__\u001b[0m\u001b[1;33m(\u001b[0m\u001b[0mself\u001b[0m\u001b[1;33m,\u001b[0m \u001b[0mname\u001b[0m\u001b[1;33m)\u001b[0m\u001b[1;33m\u001b[0m\u001b[1;33m\u001b[0m\u001b[0m\n\u001b[0m",
      "\u001b[1;31mAttributeError\u001b[0m: 'GeoDataFrame' object has no attribute 'TRMTID_USER'"
     ]
    }
   ],
   "source": [
    "gdf.loc[gdf.TRMTID_USER.isin(timber_id), 'REGION']"
   ]
  },
  {
   "cell_type": "code",
   "execution_count": 32,
   "id": "546b4b7f",
   "metadata": {},
   "outputs": [
    {
     "name": "stderr",
     "output_type": "stream",
     "text": [
      "C:\\Users\\sky\\.conda\\envs\\its_recode\\Lib\\site-packages\\pyogrio\\raw.py:198: RuntimeWarning: driver OpenFileGDB does not support open option DRIVER\n",
      "  return ogr_read(\n",
      "2025-08-22 00:18:44,397 INFO  [pyogrio._io           ]  Created 34,530 records\n",
      "C:\\Users\\sky\\.conda\\envs\\its_recode\\Lib\\site-packages\\pyogrio\\raw.py:198: RuntimeWarning: driver OpenFileGDB does not support open option DRIVER\n",
      "  return ogr_read(\n",
      "C:\\Users\\sky\\.conda\\envs\\its_recode\\Lib\\site-packages\\pyogrio\\raw.py:198: RuntimeWarning: organizePolygons() received a polygon with more than 100 parts. The processing may be really slow.  You can skip the processing by setting METHOD=SKIP, or only make it analyze counter-clock wise parts by setting METHOD=ONLY_CCW if you can assume that the outline of holes is counter-clock wise defined\n",
      "  return ogr_read(\n",
      "2025-08-22 00:18:47,784 INFO  [pyogrio._io           ]  Created 34,530 records\n",
      "C:\\Users\\sky\\.conda\\envs\\its_recode\\Lib\\site-packages\\pyogrio\\raw.py:198: RuntimeWarning: driver OpenFileGDB does not support open option DRIVER\n",
      "  return ogr_read(\n",
      "2025-08-22 00:18:50,595 INFO  [pyogrio._io           ]  Created 20,443 records\n"
     ]
    }
   ],
   "source": [
    "for f in os.listdir(upload_path):\n",
    "    gdb_layer = gpd.list_layers(os.path.join(upload_path,f)).loc[0, 'name']\n",
    "    gdf = gpd.read_file(os.path.join(upload_path,f), driver='OpenFileGDB', layer=gdb_layer)\n",
    "    gdf.loc[gdf.TRMTID_USER.isin(timber_id), 'REGION'] = 'Private – Industrial'\n",
    "    gdf.to_file(os.path.join(upload_path,f), driver='OpenFileGDB', layer=gdb_layer)"
   ]
  },
  {
   "cell_type": "code",
   "execution_count": null,
   "id": "ad025d6b",
   "metadata": {},
   "outputs": [],
   "source": []
  },
  {
   "cell_type": "code",
   "execution_count": 8,
   "id": "15cf6eee",
   "metadata": {},
   "outputs": [
    {
     "name": "stderr",
     "output_type": "stream",
     "text": [
      "C:\\Users\\sky\\.conda\\envs\\its_recode\\Lib\\site-packages\\pyogrio\\raw.py:198: RuntimeWarning: driver OpenFileGDB does not support open option DRIVER\n",
      "  return ogr_read(\n"
     ]
    }
   ],
   "source": [
    "enriched_lines = gpd.read_file(append_path, driver='OpenFileGDB', layer='appended_line')"
   ]
  },
  {
   "cell_type": "code",
   "execution_count": null,
   "id": "f69da64d",
   "metadata": {},
   "outputs": [],
   "source": [
    "enriched_lines[enriched_lines.TRMTID_USER == '{2B7C8CAC-0BB7-422C-B3B6-55A71A50679D}-CNRA']"
   ]
  },
  {
   "cell_type": "code",
   "execution_count": 32,
   "id": "27de1579",
   "metadata": {},
   "outputs": [
    {
     "data": {
      "text/html": [
       "<div>\n",
       "<style scoped>\n",
       "    .dataframe tbody tr th:only-of-type {\n",
       "        vertical-align: middle;\n",
       "    }\n",
       "\n",
       "    .dataframe tbody tr th {\n",
       "        vertical-align: top;\n",
       "    }\n",
       "\n",
       "    .dataframe thead th {\n",
       "        text-align: right;\n",
       "    }\n",
       "</style>\n",
       "<table border=\"1\" class=\"dataframe\">\n",
       "  <thead>\n",
       "    <tr style=\"text-align: right;\">\n",
       "      <th></th>\n",
       "      <th>TRMTID_USER</th>\n",
       "      <th>ACTIVITY_END</th>\n",
       "      <th>Year</th>\n",
       "      <th>COUNTS_TO_MAS</th>\n",
       "      <th>geometry</th>\n",
       "    </tr>\n",
       "  </thead>\n",
       "  <tbody>\n",
       "    <tr>\n",
       "      <th>131269</th>\n",
       "      <td>{2B7C8CAC-0BB7-422C-B3B6-55A71A50679D}-CNRA</td>\n",
       "      <td>2022-12-31 00:00:00+00:00</td>\n",
       "      <td>2022.0</td>\n",
       "      <td>YES</td>\n",
       "      <td>MULTILINESTRING ((-230774.51 56448.636, -23076...</td>\n",
       "    </tr>\n",
       "    <tr>\n",
       "      <th>131270</th>\n",
       "      <td>{2B7C8CAC-0BB7-422C-B3B6-55A71A50679D}-CNRA</td>\n",
       "      <td>2022-12-31 00:00:00+00:00</td>\n",
       "      <td>2025.0</td>\n",
       "      <td>NO</td>\n",
       "      <td>MULTILINESTRING ((-230774.51 56448.636, -23076...</td>\n",
       "    </tr>\n",
       "    <tr>\n",
       "      <th>131271</th>\n",
       "      <td>{2B7C8CAC-0BB7-422C-B3B6-55A71A50679D}-CNRA</td>\n",
       "      <td>2022-12-31 00:00:00+00:00</td>\n",
       "      <td>2025.0</td>\n",
       "      <td>NO</td>\n",
       "      <td>MULTILINESTRING ((-230774.51 56448.636, -23076...</td>\n",
       "    </tr>\n",
       "    <tr>\n",
       "      <th>131272</th>\n",
       "      <td>{2B7C8CAC-0BB7-422C-B3B6-55A71A50679D}-CNRA</td>\n",
       "      <td>2022-12-31 00:00:00+00:00</td>\n",
       "      <td>2025.0</td>\n",
       "      <td>NO</td>\n",
       "      <td>MULTILINESTRING ((-230774.51 56448.636, -23076...</td>\n",
       "    </tr>\n",
       "    <tr>\n",
       "      <th>131273</th>\n",
       "      <td>{2B7C8CAC-0BB7-422C-B3B6-55A71A50679D}-CNRA</td>\n",
       "      <td>2022-12-31 00:00:00+00:00</td>\n",
       "      <td>2025.0</td>\n",
       "      <td>NO</td>\n",
       "      <td>MULTILINESTRING ((-230774.51 56448.636, -23076...</td>\n",
       "    </tr>\n",
       "    <tr>\n",
       "      <th>131274</th>\n",
       "      <td>{2B7C8CAC-0BB7-422C-B3B6-55A71A50679D}-CNRA</td>\n",
       "      <td>2022-12-31 00:00:00+00:00</td>\n",
       "      <td>2025.0</td>\n",
       "      <td>NO</td>\n",
       "      <td>MULTILINESTRING ((-230774.51 56448.636, -23076...</td>\n",
       "    </tr>\n",
       "    <tr>\n",
       "      <th>131275</th>\n",
       "      <td>{2B7C8CAC-0BB7-422C-B3B6-55A71A50679D}-CNRA</td>\n",
       "      <td>2023-12-31 00:00:00+00:00</td>\n",
       "      <td>2023.0</td>\n",
       "      <td>YES</td>\n",
       "      <td>MULTILINESTRING ((-230774.51 56448.636, -23076...</td>\n",
       "    </tr>\n",
       "  </tbody>\n",
       "</table>\n",
       "</div>"
      ],
      "text/plain": [
       "                                        TRMTID_USER              ACTIVITY_END  \\\n",
       "131269  {2B7C8CAC-0BB7-422C-B3B6-55A71A50679D}-CNRA 2022-12-31 00:00:00+00:00   \n",
       "131270  {2B7C8CAC-0BB7-422C-B3B6-55A71A50679D}-CNRA 2022-12-31 00:00:00+00:00   \n",
       "131271  {2B7C8CAC-0BB7-422C-B3B6-55A71A50679D}-CNRA 2022-12-31 00:00:00+00:00   \n",
       "131272  {2B7C8CAC-0BB7-422C-B3B6-55A71A50679D}-CNRA 2022-12-31 00:00:00+00:00   \n",
       "131273  {2B7C8CAC-0BB7-422C-B3B6-55A71A50679D}-CNRA 2022-12-31 00:00:00+00:00   \n",
       "131274  {2B7C8CAC-0BB7-422C-B3B6-55A71A50679D}-CNRA 2022-12-31 00:00:00+00:00   \n",
       "131275  {2B7C8CAC-0BB7-422C-B3B6-55A71A50679D}-CNRA 2023-12-31 00:00:00+00:00   \n",
       "\n",
       "          Year COUNTS_TO_MAS  \\\n",
       "131269  2022.0           YES   \n",
       "131270  2025.0            NO   \n",
       "131271  2025.0            NO   \n",
       "131272  2025.0            NO   \n",
       "131273  2025.0            NO   \n",
       "131274  2025.0            NO   \n",
       "131275  2023.0           YES   \n",
       "\n",
       "                                                 geometry  \n",
       "131269  MULTILINESTRING ((-230774.51 56448.636, -23076...  \n",
       "131270  MULTILINESTRING ((-230774.51 56448.636, -23076...  \n",
       "131271  MULTILINESTRING ((-230774.51 56448.636, -23076...  \n",
       "131272  MULTILINESTRING ((-230774.51 56448.636, -23076...  \n",
       "131273  MULTILINESTRING ((-230774.51 56448.636, -23076...  \n",
       "131274  MULTILINESTRING ((-230774.51 56448.636, -23076...  \n",
       "131275  MULTILINESTRING ((-230774.51 56448.636, -23076...  "
      ]
     },
     "execution_count": 32,
     "metadata": {},
     "output_type": "execute_result"
    }
   ],
   "source": [
    "enriched_lines[enriched_lines.TRMTID_USER == '{2B7C8CAC-0BB7-422C-B3B6-55A71A50679D}-CNRA'][['TRMTID_USER', 'ACTIVITY_END', 'Year', 'COUNTS_TO_MAS', 'geometry']]"
   ]
  },
  {
   "cell_type": "code",
   "execution_count": 21,
   "id": "87a1ad81",
   "metadata": {},
   "outputs": [],
   "source": [
    "cnra_input_gdb_path = r\"D:\\WORK\\wildfire\\Interagency-Tracking-System\\V2.0\\CNRA_V2.0\\CNRA_TRMT_DATA_Pv6c_20250620.gdb\"\n",
    "cnra_polygon_layer_name = \"TREATMENT_POLY\"\n",
    "cnra_line_layer_name = \"TREATMENT_LINE\"\n",
    "cnra_point_layer_name = \"TREATMENT_POINT\"\n",
    "cnra_project_polygon_layer_name = \"PROJECT_POLY\"\n",
    "cnra_activity_layer_name = \"ACTIVITIES\""
   ]
  },
  {
   "cell_type": "code",
   "execution_count": 55,
   "id": "2b126980",
   "metadata": {
    "scrolled": true
   },
   "outputs": [
    {
     "name": "stderr",
     "output_type": "stream",
     "text": [
      "C:\\Users\\sky\\.conda\\envs\\its_recode\\Lib\\site-packages\\pyogrio\\raw.py:198: RuntimeWarning: driver OpenFileGDB does not support open option DRIVER\n",
      "  return ogr_read(\n",
      "C:\\Users\\sky\\.conda\\envs\\its_recode\\Lib\\site-packages\\pyogrio\\raw.py:198: RuntimeWarning: driver OpenFileGDB does not support open option DRIVER\n",
      "  return ogr_read(\n",
      "C:\\Users\\sky\\.conda\\envs\\its_recode\\Lib\\site-packages\\pyogrio\\raw.py:198: RuntimeWarning: driver OpenFileGDB does not support open option DRIVER\n",
      "  return ogr_read(\n"
     ]
    }
   ],
   "source": [
    "cnra_line_raw = capitalize_columns(gpd.read_file(cnra_input_gdb_path, driver='OpenFileGDB', layer=cnra_line_layer_name).to_crs(3310))\n",
    "cnra_project_raw = capitalize_columns(gpd.read_file(cnra_input_gdb_path, driver='OpenFileGDB', layer=cnra_project_polygon_layer_name))\n",
    "cnra_activity_raw = capitalize_columns(gpd.read_file(cnra_input_gdb_path, driver='OpenFileGDB', layer=cnra_activity_layer_name))"
   ]
  },
  {
   "cell_type": "code",
   "execution_count": 57,
   "id": "60298248",
   "metadata": {},
   "outputs": [],
   "source": [
    "li = cnra_line_raw[cnra_line_raw.GlobalID == '{2B7C8CAC-0BB7-422C-B3B6-55A71A50679D}']"
   ]
  },
  {
   "cell_type": "code",
   "execution_count": 68,
   "id": "047590e9",
   "metadata": {},
   "outputs": [],
   "source": [
    "from enrich.enrich_CNRA import *"
   ]
  },
  {
   "cell_type": "code",
   "execution_count": 40,
   "id": "35f1d332",
   "metadata": {},
   "outputs": [],
   "source": [
    "cnra_project_raw = cnra_project_raw.to_crs(3310)"
   ]
  },
  {
   "cell_type": "code",
   "execution_count": 41,
   "id": "a5259d9b",
   "metadata": {},
   "outputs": [
    {
     "name": "stderr",
     "output_type": "stream",
     "text": [
      "2025-08-18 12:17:05,547 INFO  [enrich.enrich_CNRA    ]     Part 2 Prepare Activity Table\n",
      "2025-08-18 12:17:05,834 INFO  [enrich.enrich_CNRA    ]        step 2/17 remove milliseconds from dates\n",
      "2025-08-18 12:17:05,852 INFO  [enrich.enrich_CNRA    ]        step 3/17 create standardized activity table\n",
      "2025-08-18 12:17:05,857 INFO  [enrich.enrich_CNRA    ]        step 4/17 import activities into standardized table\n",
      "D:\\WORK\\wildfire\\ITS_RECODE\\interagency-tracking-system\\notebooks\\..\\enrich\\enrich_CNRA.py:197: FutureWarning: The behavior of DataFrame concatenation with empty or all-NA entries is deprecated. In a future version, this will no longer exclude empty or all-NA columns when determining the result dtypes. To retain the old behavior, exclude the relevant entries before the concat operation.\n",
      "  activity_table = pd.concat([standardized_df, activity_table[common_columns]], ignore_index=True)\n"
     ]
    }
   ],
   "source": [
    "activity_table = prepare_activity_table(cnra_activity_raw)"
   ]
  },
  {
   "cell_type": "code",
   "execution_count": 84,
   "id": "3ab35244",
   "metadata": {},
   "outputs": [],
   "source": [
    "merged_data = cnra_line_raw.merge(\n",
    "        activity_table,\n",
    "        left_on='GlobalID',\n",
    "        right_on='TREATMENTID_',\n",
    "        how='left'\n",
    "    )"
   ]
  },
  {
   "cell_type": "code",
   "execution_count": 87,
   "id": "783bc0b1",
   "metadata": {},
   "outputs": [
    {
     "data": {
      "text/html": [
       "<div>\n",
       "<style scoped>\n",
       "    .dataframe tbody tr th:only-of-type {\n",
       "        vertical-align: middle;\n",
       "    }\n",
       "\n",
       "    .dataframe tbody tr th {\n",
       "        vertical-align: top;\n",
       "    }\n",
       "\n",
       "    .dataframe thead th {\n",
       "        text-align: right;\n",
       "    }\n",
       "</style>\n",
       "<table border=\"1\" class=\"dataframe\">\n",
       "  <thead>\n",
       "    <tr style=\"text-align: right;\">\n",
       "      <th></th>\n",
       "      <th>ACTIVID_USER</th>\n",
       "      <th>TREATMENTID_</th>\n",
       "      <th>ORG_ADMIN_a</th>\n",
       "      <th>ACTIVITY_DESCRIPTION</th>\n",
       "      <th>ACTIVITY_CAT</th>\n",
       "      <th>BROAD_VEGETATION_TYPE</th>\n",
       "      <th>BVT_USERD</th>\n",
       "      <th>ACTIVITY_STATUS</th>\n",
       "      <th>ACTIVITY_QUANTITY</th>\n",
       "      <th>ACTIVITY_UOM</th>\n",
       "      <th>...</th>\n",
       "      <th>Year</th>\n",
       "      <th>Year_txt</th>\n",
       "      <th>Act_Code</th>\n",
       "      <th>Crosswalk</th>\n",
       "      <th>Federal_FY</th>\n",
       "      <th>State_FY</th>\n",
       "      <th>TRMTID_USER</th>\n",
       "      <th>BATCHID_a</th>\n",
       "      <th>TRMT_GEOM</th>\n",
       "      <th>COUNTS_TO_MAS</th>\n",
       "    </tr>\n",
       "  </thead>\n",
       "  <tbody>\n",
       "    <tr>\n",
       "      <th>188</th>\n",
       "      <td>None</td>\n",
       "      <td>{2B7C8CAC-0BB7-422C-B3B6-55A71A50679D}</td>\n",
       "      <td>SCC</td>\n",
       "      <td>THIN_MECH</td>\n",
       "      <td>NOT_DEFINED</td>\n",
       "      <td>FOREST</td>\n",
       "      <td>NO</td>\n",
       "      <td>ACTIVE</td>\n",
       "      <td>53.000000000000000</td>\n",
       "      <td>AC</td>\n",
       "      <td>...</td>\n",
       "      <td>&lt;NA&gt;</td>\n",
       "      <td>NaN</td>\n",
       "      <td>&lt;NA&gt;</td>\n",
       "      <td>NaN</td>\n",
       "      <td>&lt;NA&gt;</td>\n",
       "      <td>&lt;NA&gt;</td>\n",
       "      <td>21-020-01-T1</td>\n",
       "      <td>NaN</td>\n",
       "      <td>LINE</td>\n",
       "      <td>YES</td>\n",
       "    </tr>\n",
       "    <tr>\n",
       "      <th>196</th>\n",
       "      <td>A1</td>\n",
       "      <td>{2B7C8CAC-0BB7-422C-B3B6-55A71A50679D}</td>\n",
       "      <td>SCC</td>\n",
       "      <td>THIN_MECH</td>\n",
       "      <td>NOT_DEFINED</td>\n",
       "      <td>FOREST</td>\n",
       "      <td>YES</td>\n",
       "      <td>COMPLETE</td>\n",
       "      <td>53.000000000000000</td>\n",
       "      <td>AC</td>\n",
       "      <td>...</td>\n",
       "      <td>&lt;NA&gt;</td>\n",
       "      <td>NaN</td>\n",
       "      <td>&lt;NA&gt;</td>\n",
       "      <td>NaN</td>\n",
       "      <td>&lt;NA&gt;</td>\n",
       "      <td>&lt;NA&gt;</td>\n",
       "      <td>21-020-01-T1</td>\n",
       "      <td>NaN</td>\n",
       "      <td>LINE</td>\n",
       "      <td>YES</td>\n",
       "    </tr>\n",
       "  </tbody>\n",
       "</table>\n",
       "<p>2 rows × 44 columns</p>\n",
       "</div>"
      ],
      "text/plain": [
       "    ACTIVID_USER                            TREATMENTID_ ORG_ADMIN_a  \\\n",
       "188         None  {2B7C8CAC-0BB7-422C-B3B6-55A71A50679D}         SCC   \n",
       "196           A1  {2B7C8CAC-0BB7-422C-B3B6-55A71A50679D}         SCC   \n",
       "\n",
       "    ACTIVITY_DESCRIPTION ACTIVITY_CAT BROAD_VEGETATION_TYPE BVT_USERD  \\\n",
       "188            THIN_MECH  NOT_DEFINED                FOREST        NO   \n",
       "196            THIN_MECH  NOT_DEFINED                FOREST       YES   \n",
       "\n",
       "    ACTIVITY_STATUS  ACTIVITY_QUANTITY ACTIVITY_UOM  ...  Year Year_txt  \\\n",
       "188          ACTIVE 53.000000000000000           AC  ...  <NA>      NaN   \n",
       "196        COMPLETE 53.000000000000000           AC  ...  <NA>      NaN   \n",
       "\n",
       "    Act_Code Crosswalk Federal_FY State_FY   TRMTID_USER BATCHID_a TRMT_GEOM  \\\n",
       "188     <NA>       NaN       <NA>     <NA>  21-020-01-T1       NaN      LINE   \n",
       "196     <NA>       NaN       <NA>     <NA>  21-020-01-T1       NaN      LINE   \n",
       "\n",
       "    COUNTS_TO_MAS  \n",
       "188           YES  \n",
       "196           YES  \n",
       "\n",
       "[2 rows x 44 columns]"
      ]
     },
     "execution_count": 87,
     "metadata": {},
     "output_type": "execute_result"
    }
   ],
   "source": [
    "activity_table[activity_table.TREATMENTID_ ==  '{2B7C8CAC-0BB7-422C-B3B6-55A71A50679D}']"
   ]
  },
  {
   "cell_type": "code",
   "execution_count": 88,
   "id": "a82f444f",
   "metadata": {},
   "outputs": [],
   "source": [
    "merged_data['TRMTID_USER'] = merged_data['GlobalID'] + '-CNRA'"
   ]
  },
  {
   "cell_type": "code",
   "execution_count": 89,
   "id": "4a37bc6a",
   "metadata": {},
   "outputs": [
    {
     "name": "stderr",
     "output_type": "stream",
     "text": [
      "2025-08-18 12:28:30,487 INFO  [enrich.enrich_CNRA    ]     Part 4 Prepare Project Table\n",
      "2025-08-18 12:28:30,490 INFO  [enrich.enrich_CNRA    ]        step 7/17 calculate unique Project ID if null\n"
     ]
    }
   ],
   "source": [
    "project_table = prepare_project_table(cnra_project_raw)"
   ]
  },
  {
   "cell_type": "code",
   "execution_count": 90,
   "id": "3173daad",
   "metadata": {},
   "outputs": [],
   "source": [
    "project_table_no_geom = project_table.drop(columns=['geometry'])"
   ]
  },
  {
   "cell_type": "code",
   "execution_count": 91,
   "id": "7f1f7e7a",
   "metadata": {},
   "outputs": [],
   "source": [
    "cnra_flat = merged_data.merge(\n",
    "        project_table_no_geom,\n",
    "        left_on='PROJECTID',\n",
    "        right_on='GlobalID',\n",
    "        how='left'\n",
    "    )"
   ]
  },
  {
   "cell_type": "code",
   "execution_count": 106,
   "id": "36c40654",
   "metadata": {},
   "outputs": [
    {
     "data": {
      "text/html": [
       "<div>\n",
       "<style scoped>\n",
       "    .dataframe tbody tr th:only-of-type {\n",
       "        vertical-align: middle;\n",
       "    }\n",
       "\n",
       "    .dataframe tbody tr th {\n",
       "        vertical-align: top;\n",
       "    }\n",
       "\n",
       "    .dataframe thead th {\n",
       "        text-align: right;\n",
       "    }\n",
       "</style>\n",
       "<table border=\"1\" class=\"dataframe\">\n",
       "  <thead>\n",
       "    <tr style=\"text-align: right;\">\n",
       "      <th></th>\n",
       "      <th>TRMTID_USER_x</th>\n",
       "      <th>PROJECTID_USER_x</th>\n",
       "      <th>PROJECTNAME_</th>\n",
       "      <th>ORG_ADMIN_t</th>\n",
       "      <th>PRIMARY_OWNERSHIP_GROUP</th>\n",
       "      <th>PRIMARY_OBJECTIVE</th>\n",
       "      <th>SECONDARY_OBJECTIVE</th>\n",
       "      <th>TERTIARY_OBJECTIVE</th>\n",
       "      <th>TREATMENT_STATUS</th>\n",
       "      <th>COUNTY</th>\n",
       "      <th>...</th>\n",
       "      <th>LONGITUDE</th>\n",
       "      <th>GlobalID_text_y</th>\n",
       "      <th>CREATED_USER_y</th>\n",
       "      <th>CREATED_DATE_y</th>\n",
       "      <th>LAST_EDITED_USER_y</th>\n",
       "      <th>LAST_EDITED_DATE_y</th>\n",
       "      <th>VALIDATIONSTATUS_y</th>\n",
       "      <th>SHAPE_LENGTH_y</th>\n",
       "      <th>SHAPE_AREA</th>\n",
       "      <th>PROJECTID_USER</th>\n",
       "    </tr>\n",
       "  </thead>\n",
       "  <tbody>\n",
       "    <tr>\n",
       "      <th>0</th>\n",
       "      <td>21-020-01-T1</td>\n",
       "      <td>21-020-01</td>\n",
       "      <td>Shaded fuel break</td>\n",
       "      <td>SCC</td>\n",
       "      <td>LOCAL</td>\n",
       "      <td>FUEL_BREAK</td>\n",
       "      <td>Other Fuels Reduction</td>\n",
       "      <td>None</td>\n",
       "      <td>ACTIVE</td>\n",
       "      <td>SON</td>\n",
       "      <td>...</td>\n",
       "      <td>-122.636384010000000</td>\n",
       "      <td>{D9B4FADF-DA71-43E7-B223-D34BD96D1636}</td>\n",
       "      <td>reis.thomas@fire.ca.gov</td>\n",
       "      <td>2024-01-12 17:33:23+00:00</td>\n",
       "      <td>mami.odaya@fire.ca.gov</td>\n",
       "      <td>2025-04-04 22:40:19+00:00</td>\n",
       "      <td>2.000000000000000</td>\n",
       "      <td>11946.276430181480464</td>\n",
       "      <td>822493.980739386170171</td>\n",
       "      <td>{D9B4FADF-DA71-43E7-B223-D34BD96D1636}-CNRA</td>\n",
       "    </tr>\n",
       "    <tr>\n",
       "      <th>1</th>\n",
       "      <td>21-020-01-T1</td>\n",
       "      <td>21-020-01</td>\n",
       "      <td>Shaded fuel break</td>\n",
       "      <td>SCC</td>\n",
       "      <td>LOCAL</td>\n",
       "      <td>FUEL_BREAK</td>\n",
       "      <td>Other Fuels Reduction</td>\n",
       "      <td>None</td>\n",
       "      <td>ACTIVE</td>\n",
       "      <td>SON</td>\n",
       "      <td>...</td>\n",
       "      <td>-122.636384010000000</td>\n",
       "      <td>{D9B4FADF-DA71-43E7-B223-D34BD96D1636}</td>\n",
       "      <td>reis.thomas@fire.ca.gov</td>\n",
       "      <td>2024-01-12 17:33:23+00:00</td>\n",
       "      <td>mami.odaya@fire.ca.gov</td>\n",
       "      <td>2025-04-04 22:40:19+00:00</td>\n",
       "      <td>2.000000000000000</td>\n",
       "      <td>11946.276430181480464</td>\n",
       "      <td>822493.980739386170171</td>\n",
       "      <td>{D9B4FADF-DA71-43E7-B223-D34BD96D1636}-CNRA</td>\n",
       "    </tr>\n",
       "  </tbody>\n",
       "</table>\n",
       "<p>2 rows × 97 columns</p>\n",
       "</div>"
      ],
      "text/plain": [
       "  TRMTID_USER_x PROJECTID_USER_x       PROJECTNAME_ ORG_ADMIN_t  \\\n",
       "0  21-020-01-T1        21-020-01  Shaded fuel break         SCC   \n",
       "1  21-020-01-T1        21-020-01  Shaded fuel break         SCC   \n",
       "\n",
       "  PRIMARY_OWNERSHIP_GROUP PRIMARY_OBJECTIVE    SECONDARY_OBJECTIVE  \\\n",
       "0                   LOCAL        FUEL_BREAK  Other Fuels Reduction   \n",
       "1                   LOCAL        FUEL_BREAK  Other Fuels Reduction   \n",
       "\n",
       "  TERTIARY_OBJECTIVE TREATMENT_STATUS COUNTY  ...            LONGITUDE  \\\n",
       "0               None           ACTIVE    SON  ... -122.636384010000000   \n",
       "1               None           ACTIVE    SON  ... -122.636384010000000   \n",
       "\n",
       "                          GlobalID_text_y           CREATED_USER_y  \\\n",
       "0  {D9B4FADF-DA71-43E7-B223-D34BD96D1636}  reis.thomas@fire.ca.gov   \n",
       "1  {D9B4FADF-DA71-43E7-B223-D34BD96D1636}  reis.thomas@fire.ca.gov   \n",
       "\n",
       "             CREATED_DATE_y      LAST_EDITED_USER_y        LAST_EDITED_DATE_y  \\\n",
       "0 2024-01-12 17:33:23+00:00  mami.odaya@fire.ca.gov 2025-04-04 22:40:19+00:00   \n",
       "1 2024-01-12 17:33:23+00:00  mami.odaya@fire.ca.gov 2025-04-04 22:40:19+00:00   \n",
       "\n",
       "  VALIDATIONSTATUS_y        SHAPE_LENGTH_y             SHAPE_AREA  \\\n",
       "0  2.000000000000000 11946.276430181480464 822493.980739386170171   \n",
       "1  2.000000000000000 11946.276430181480464 822493.980739386170171   \n",
       "\n",
       "                                PROJECTID_USER  \n",
       "0  {D9B4FADF-DA71-43E7-B223-D34BD96D1636}-CNRA  \n",
       "1  {D9B4FADF-DA71-43E7-B223-D34BD96D1636}-CNRA  \n",
       "\n",
       "[2 rows x 97 columns]"
      ]
     },
     "execution_count": 106,
     "metadata": {},
     "output_type": "execute_result"
    }
   ],
   "source": [
    "cnra_flat[cnra_flat.TRMTID_USER ==  '{2B7C8CAC-0BB7-422C-B3B6-55A71A50679D}-CNRA']"
   ]
  },
  {
   "cell_type": "code",
   "execution_count": 107,
   "id": "db86fd4c",
   "metadata": {},
   "outputs": [],
   "source": [
    "# UDPATE: update PROJECTID_USER as PROJECTID for reports\n",
    "cnra_flat['PROJECTID_USER'] = cnra_flat['PROJECTID']\n",
    "cnra_flat.loc[cnra_flat['PROJECTID_USER'].notna(), 'PROJECTID_USER'] = \\\n",
    "    cnra_flat.loc[cnra_flat['PROJECTID_USER'].notna(), 'PROJECTID_USER'] + '-CNRA'"
   ]
  },
  {
   "cell_type": "code",
   "execution_count": 108,
   "id": "4ec901b4",
   "metadata": {},
   "outputs": [],
   "source": [
    "cnra_flat_copy = cnra_flat.copy(deep=True)"
   ]
  },
  {
   "cell_type": "code",
   "execution_count": 109,
   "id": "3b2aac22",
   "metadata": {},
   "outputs": [
    {
     "name": "stderr",
     "output_type": "stream",
     "text": [
      "C:\\Users\\sky\\.conda\\envs\\its_recode\\Lib\\site-packages\\pyogrio\\raw.py:198: RuntimeWarning: driver OpenFileGDB does not support open option DRIVER\n",
      "  return ogr_read(\n"
     ]
    }
   ],
   "source": [
    "standardized_features = create_standardized_features(get_wfr_tf_template(a_reference_gdb_path))"
   ]
  },
  {
   "cell_type": "code",
   "execution_count": 110,
   "id": "2b362aec",
   "metadata": {},
   "outputs": [],
   "source": [
    "common_columns = list(set(standardized_features.columns) & set(cnra_flat_copy.columns))"
   ]
  },
  {
   "cell_type": "code",
   "execution_count": 133,
   "id": "7eb2ec6c",
   "metadata": {},
   "outputs": [
    {
     "data": {
      "text/plain": [
       "0    POINT (-229293.646 56946.178)\n",
       "1    POINT (-229293.646 56946.178)\n",
       "dtype: geometry"
      ]
     },
     "execution_count": 133,
     "metadata": {},
     "output_type": "execute_result"
    }
   ],
   "source": [
    "cnra_flat_copy[cnra_flat_copy.TRMTID_USER ==  '{2B7C8CAC-0BB7-422C-B3B6-55A71A50679D}-CNRA'].representative_point()"
   ]
  },
  {
   "cell_type": "code",
   "execution_count": 111,
   "id": "863888ba",
   "metadata": {},
   "outputs": [],
   "source": [
    "standardized_features = gpd.GeoDataFrame(\n",
    "        cnra_flat_copy[common_columns],\n",
    "        geometry='geometry',\n",
    "        crs=standardized_features.crs\n",
    "    )"
   ]
  },
  {
   "cell_type": "code",
   "execution_count": 112,
   "id": "9c0f7a7d",
   "metadata": {},
   "outputs": [
    {
     "data": {
      "text/html": [
       "<div>\n",
       "<style scoped>\n",
       "    .dataframe tbody tr th:only-of-type {\n",
       "        vertical-align: middle;\n",
       "    }\n",
       "\n",
       "    .dataframe tbody tr th {\n",
       "        vertical-align: top;\n",
       "    }\n",
       "\n",
       "    .dataframe thead th {\n",
       "        text-align: right;\n",
       "    }\n",
       "</style>\n",
       "<table border=\"1\" class=\"dataframe\">\n",
       "  <thead>\n",
       "    <tr style=\"text-align: right;\">\n",
       "      <th></th>\n",
       "      <th>PRIMARY_OWNERSHIP_GROUP</th>\n",
       "      <th>REVIEW_RUNDATE_a</th>\n",
       "      <th>IMPLEM_ORG_NAME</th>\n",
       "      <th>SECONDARY_FUND_SRC_NAME</th>\n",
       "      <th>TREATMENT_AREA</th>\n",
       "      <th>TERTIARY_OBJECTIVE</th>\n",
       "      <th>TREATMENT_NAME</th>\n",
       "      <th>DATALOAD_STATUS_a</th>\n",
       "      <th>ACTIVITY_STATUS</th>\n",
       "      <th>Source</th>\n",
       "      <th>...</th>\n",
       "      <th>ACTIVID_USER</th>\n",
       "      <th>ORG_ADMIN_t</th>\n",
       "      <th>TRMTID_USER</th>\n",
       "      <th>Act_Code</th>\n",
       "      <th>PROJECT_START</th>\n",
       "      <th>TREATMENT_END</th>\n",
       "      <th>IN_WUI</th>\n",
       "      <th>PROJECT_NAME</th>\n",
       "      <th>Federal_FY</th>\n",
       "      <th>PRIMARY_FUND_ORG_NAME</th>\n",
       "    </tr>\n",
       "  </thead>\n",
       "  <tbody>\n",
       "    <tr>\n",
       "      <th>0</th>\n",
       "      <td>LOCAL</td>\n",
       "      <td>NaT</td>\n",
       "      <td>Sonoma County Agricultural Preservation and Op...</td>\n",
       "      <td>None</td>\n",
       "      <td>0.000000000000000</td>\n",
       "      <td>None</td>\n",
       "      <td>None</td>\n",
       "      <td>NaN</td>\n",
       "      <td>ACTIVE</td>\n",
       "      <td>NaN</td>\n",
       "      <td>...</td>\n",
       "      <td>None</td>\n",
       "      <td>SCC</td>\n",
       "      <td>{2B7C8CAC-0BB7-422C-B3B6-55A71A50679D}-CNRA</td>\n",
       "      <td>&lt;NA&gt;</td>\n",
       "      <td>2022-08-05 00:00:00+00:00</td>\n",
       "      <td>2025-05-30 00:00:00+00:00</td>\n",
       "      <td>WUI_AUTO_POP</td>\n",
       "      <td>Wildfire Resilience at Saddle Mountain Open Sp...</td>\n",
       "      <td>&lt;NA&gt;</td>\n",
       "      <td>None</td>\n",
       "    </tr>\n",
       "    <tr>\n",
       "      <th>1</th>\n",
       "      <td>LOCAL</td>\n",
       "      <td>NaT</td>\n",
       "      <td>Sonoma County Agricultural Preservation and Op...</td>\n",
       "      <td>None</td>\n",
       "      <td>0.000000000000000</td>\n",
       "      <td>None</td>\n",
       "      <td>None</td>\n",
       "      <td>NaN</td>\n",
       "      <td>COMPLETE</td>\n",
       "      <td>NaN</td>\n",
       "      <td>...</td>\n",
       "      <td>A1</td>\n",
       "      <td>SCC</td>\n",
       "      <td>{2B7C8CAC-0BB7-422C-B3B6-55A71A50679D}-CNRA</td>\n",
       "      <td>&lt;NA&gt;</td>\n",
       "      <td>2022-08-05 00:00:00+00:00</td>\n",
       "      <td>2025-05-30 00:00:00+00:00</td>\n",
       "      <td>WUI_AUTO_POP</td>\n",
       "      <td>Wildfire Resilience at Saddle Mountain Open Sp...</td>\n",
       "      <td>&lt;NA&gt;</td>\n",
       "      <td>SCC</td>\n",
       "    </tr>\n",
       "  </tbody>\n",
       "</table>\n",
       "<p>2 rows × 75 columns</p>\n",
       "</div>"
      ],
      "text/plain": [
       "  PRIMARY_OWNERSHIP_GROUP REVIEW_RUNDATE_a  \\\n",
       "0                   LOCAL              NaT   \n",
       "1                   LOCAL              NaT   \n",
       "\n",
       "                                     IMPLEM_ORG_NAME SECONDARY_FUND_SRC_NAME  \\\n",
       "0  Sonoma County Agricultural Preservation and Op...                    None   \n",
       "1  Sonoma County Agricultural Preservation and Op...                    None   \n",
       "\n",
       "     TREATMENT_AREA TERTIARY_OBJECTIVE TREATMENT_NAME DATALOAD_STATUS_a  \\\n",
       "0 0.000000000000000               None           None               NaN   \n",
       "1 0.000000000000000               None           None               NaN   \n",
       "\n",
       "  ACTIVITY_STATUS Source  ... ACTIVID_USER ORG_ADMIN_t  \\\n",
       "0          ACTIVE    NaN  ...         None         SCC   \n",
       "1        COMPLETE    NaN  ...           A1         SCC   \n",
       "\n",
       "                                   TRMTID_USER Act_Code  \\\n",
       "0  {2B7C8CAC-0BB7-422C-B3B6-55A71A50679D}-CNRA     <NA>   \n",
       "1  {2B7C8CAC-0BB7-422C-B3B6-55A71A50679D}-CNRA     <NA>   \n",
       "\n",
       "              PROJECT_START             TREATMENT_END        IN_WUI  \\\n",
       "0 2022-08-05 00:00:00+00:00 2025-05-30 00:00:00+00:00  WUI_AUTO_POP   \n",
       "1 2022-08-05 00:00:00+00:00 2025-05-30 00:00:00+00:00  WUI_AUTO_POP   \n",
       "\n",
       "                                        PROJECT_NAME Federal_FY  \\\n",
       "0  Wildfire Resilience at Saddle Mountain Open Sp...       <NA>   \n",
       "1  Wildfire Resilience at Saddle Mountain Open Sp...       <NA>   \n",
       "\n",
       "   PRIMARY_FUND_ORG_NAME  \n",
       "0                   None  \n",
       "1                    SCC  \n",
       "\n",
       "[2 rows x 75 columns]"
      ]
     },
     "execution_count": 112,
     "metadata": {},
     "output_type": "execute_result"
    }
   ],
   "source": [
    "standardized_features[standardized_features.TRMTID_USER ==  '{2B7C8CAC-0BB7-422C-B3B6-55A71A50679D}-CNRA']"
   ]
  },
  {
   "cell_type": "code",
   "execution_count": 113,
   "id": "c18c7a00",
   "metadata": {
    "scrolled": true
   },
   "outputs": [
    {
     "name": "stderr",
     "output_type": "stream",
     "text": [
      "2025-08-18 12:31:15,802 INFO  [enrich.enrich_CNRA    ]     Part 6 Standardize and Enrich\n",
      "2025-08-18 12:31:15,803 INFO  [enrich.enrich_CNRA    ]        step 11/17 calculate crosswalk\n",
      "2025-08-18 12:31:15,803 INFO  [enrich.enrich_CNRA    ]        step 12/17 calculate source\n",
      "2025-08-18 12:31:15,804 INFO  [enrich.enrich_CNRA    ]        step 13/17 calculate admin\n",
      "2025-08-18 12:31:15,805 INFO  [enrich.enrich_CNRA    ]        step 14/17 update status\n",
      "2025-08-18 12:31:15,806 INFO  [enrich.enrich_CNRA    ]        step 15/17 update activity end date\n"
     ]
    }
   ],
   "source": [
    "standardized_features = enrich_standardized_features(standardized_features)"
   ]
  },
  {
   "cell_type": "code",
   "execution_count": 114,
   "id": "f731d6e7",
   "metadata": {},
   "outputs": [
    {
     "data": {
      "text/html": [
       "<div>\n",
       "<style scoped>\n",
       "    .dataframe tbody tr th:only-of-type {\n",
       "        vertical-align: middle;\n",
       "    }\n",
       "\n",
       "    .dataframe tbody tr th {\n",
       "        vertical-align: top;\n",
       "    }\n",
       "\n",
       "    .dataframe thead th {\n",
       "        text-align: right;\n",
       "    }\n",
       "</style>\n",
       "<table border=\"1\" class=\"dataframe\">\n",
       "  <thead>\n",
       "    <tr style=\"text-align: right;\">\n",
       "      <th></th>\n",
       "      <th>PRIMARY_OWNERSHIP_GROUP</th>\n",
       "      <th>REVIEW_RUNDATE_a</th>\n",
       "      <th>IMPLEM_ORG_NAME</th>\n",
       "      <th>SECONDARY_FUND_SRC_NAME</th>\n",
       "      <th>TREATMENT_AREA</th>\n",
       "      <th>TERTIARY_OBJECTIVE</th>\n",
       "      <th>TREATMENT_NAME</th>\n",
       "      <th>DATALOAD_STATUS_a</th>\n",
       "      <th>ACTIVITY_STATUS</th>\n",
       "      <th>Source</th>\n",
       "      <th>...</th>\n",
       "      <th>Dataload_Msg_p</th>\n",
       "      <th>BatchID</th>\n",
       "      <th>Val_Status_t</th>\n",
       "      <th>Val_Message_t</th>\n",
       "      <th>Val_RunDate_t</th>\n",
       "      <th>Review_Status_t</th>\n",
       "      <th>Review_Message_t</th>\n",
       "      <th>Review_RunDate_t</th>\n",
       "      <th>Dataload_Status_t</th>\n",
       "      <th>Dataload_Msg_t</th>\n",
       "    </tr>\n",
       "  </thead>\n",
       "  <tbody>\n",
       "    <tr>\n",
       "      <th>0</th>\n",
       "      <td>LOCAL</td>\n",
       "      <td>NaT</td>\n",
       "      <td>Sonoma County Agricultural Preservation and Op...</td>\n",
       "      <td>None</td>\n",
       "      <td>0.000000000000000</td>\n",
       "      <td>None</td>\n",
       "      <td>None</td>\n",
       "      <td>NaN</td>\n",
       "      <td>ACTIVE</td>\n",
       "      <td>CNRA</td>\n",
       "      <td>...</td>\n",
       "      <td>&lt;NA&gt;</td>\n",
       "      <td>&lt;NA&gt;</td>\n",
       "      <td>&lt;NA&gt;</td>\n",
       "      <td>&lt;NA&gt;</td>\n",
       "      <td>NaT</td>\n",
       "      <td>&lt;NA&gt;</td>\n",
       "      <td>&lt;NA&gt;</td>\n",
       "      <td>NaT</td>\n",
       "      <td>&lt;NA&gt;</td>\n",
       "      <td>&lt;NA&gt;</td>\n",
       "    </tr>\n",
       "    <tr>\n",
       "      <th>1</th>\n",
       "      <td>LOCAL</td>\n",
       "      <td>NaT</td>\n",
       "      <td>Sonoma County Agricultural Preservation and Op...</td>\n",
       "      <td>None</td>\n",
       "      <td>0.000000000000000</td>\n",
       "      <td>None</td>\n",
       "      <td>None</td>\n",
       "      <td>NaN</td>\n",
       "      <td>COMPLETE</td>\n",
       "      <td>CNRA</td>\n",
       "      <td>...</td>\n",
       "      <td>&lt;NA&gt;</td>\n",
       "      <td>&lt;NA&gt;</td>\n",
       "      <td>&lt;NA&gt;</td>\n",
       "      <td>&lt;NA&gt;</td>\n",
       "      <td>NaT</td>\n",
       "      <td>&lt;NA&gt;</td>\n",
       "      <td>&lt;NA&gt;</td>\n",
       "      <td>NaT</td>\n",
       "      <td>&lt;NA&gt;</td>\n",
       "      <td>&lt;NA&gt;</td>\n",
       "    </tr>\n",
       "  </tbody>\n",
       "</table>\n",
       "<p>2 rows × 93 columns</p>\n",
       "</div>"
      ],
      "text/plain": [
       "  PRIMARY_OWNERSHIP_GROUP REVIEW_RUNDATE_a  \\\n",
       "0                   LOCAL              NaT   \n",
       "1                   LOCAL              NaT   \n",
       "\n",
       "                                     IMPLEM_ORG_NAME SECONDARY_FUND_SRC_NAME  \\\n",
       "0  Sonoma County Agricultural Preservation and Op...                    None   \n",
       "1  Sonoma County Agricultural Preservation and Op...                    None   \n",
       "\n",
       "     TREATMENT_AREA TERTIARY_OBJECTIVE TREATMENT_NAME DATALOAD_STATUS_a  \\\n",
       "0 0.000000000000000               None           None               NaN   \n",
       "1 0.000000000000000               None           None               NaN   \n",
       "\n",
       "  ACTIVITY_STATUS Source  ... Dataload_Msg_p BatchID  Val_Status_t  \\\n",
       "0          ACTIVE   CNRA  ...           <NA>    <NA>          <NA>   \n",
       "1        COMPLETE   CNRA  ...           <NA>    <NA>          <NA>   \n",
       "\n",
       "  Val_Message_t Val_RunDate_t Review_Status_t  Review_Message_t  \\\n",
       "0          <NA>           NaT            <NA>              <NA>   \n",
       "1          <NA>           NaT            <NA>              <NA>   \n",
       "\n",
       "  Review_RunDate_t Dataload_Status_t  Dataload_Msg_t  \n",
       "0              NaT              <NA>            <NA>  \n",
       "1              NaT              <NA>            <NA>  \n",
       "\n",
       "[2 rows x 93 columns]"
      ]
     },
     "execution_count": 114,
     "metadata": {},
     "output_type": "execute_result"
    }
   ],
   "source": [
    "standardized_features[standardized_features.TRMTID_USER ==  '{2B7C8CAC-0BB7-422C-B3B6-55A71A50679D}-CNRA']"
   ]
  },
  {
   "cell_type": "code",
   "execution_count": 115,
   "id": "fef663a7",
   "metadata": {},
   "outputs": [],
   "source": [
    "standardized_features = keep_fields(standardized_features)"
   ]
  },
  {
   "cell_type": "code",
   "execution_count": 116,
   "id": "70299eda",
   "metadata": {},
   "outputs": [
    {
     "data": {
      "text/html": [
       "<div>\n",
       "<style scoped>\n",
       "    .dataframe tbody tr th:only-of-type {\n",
       "        vertical-align: middle;\n",
       "    }\n",
       "\n",
       "    .dataframe tbody tr th {\n",
       "        vertical-align: top;\n",
       "    }\n",
       "\n",
       "    .dataframe thead th {\n",
       "        text-align: right;\n",
       "    }\n",
       "</style>\n",
       "<table border=\"1\" class=\"dataframe\">\n",
       "  <thead>\n",
       "    <tr style=\"text-align: right;\">\n",
       "      <th></th>\n",
       "      <th>PROJECTID_USER</th>\n",
       "      <th>AGENCY</th>\n",
       "      <th>ORG_ADMIN_p</th>\n",
       "      <th>PROJECT_CONTACT</th>\n",
       "      <th>PROJECT_EMAIL</th>\n",
       "      <th>ADMINISTERING_ORG</th>\n",
       "      <th>PROJECT_NAME</th>\n",
       "      <th>PROJECT_STATUS</th>\n",
       "      <th>PROJECT_START</th>\n",
       "      <th>PROJECT_END</th>\n",
       "      <th>...</th>\n",
       "      <th>Source</th>\n",
       "      <th>Year</th>\n",
       "      <th>Year_txt</th>\n",
       "      <th>Act_Code</th>\n",
       "      <th>Crosswalk</th>\n",
       "      <th>Federal_FY</th>\n",
       "      <th>State_FY</th>\n",
       "      <th>TRMT_GEOM</th>\n",
       "      <th>COUNTS_TO_MAS</th>\n",
       "      <th>geometry</th>\n",
       "    </tr>\n",
       "  </thead>\n",
       "  <tbody>\n",
       "    <tr>\n",
       "      <th>0</th>\n",
       "      <td>{D9B4FADF-DA71-43E7-B223-D34BD96D1636}-CNRA</td>\n",
       "      <td>CNRA</td>\n",
       "      <td>SCC</td>\n",
       "      <td>Sonoma County Agricultural Preservation*</td>\n",
       "      <td>monica.delmartini@sonoma-county.org</td>\n",
       "      <td>SCC</td>\n",
       "      <td>Wildfire Resilience at Saddle Mountain Open Sp...</td>\n",
       "      <td>Active</td>\n",
       "      <td>2022-08-05 00:00:00+00:00</td>\n",
       "      <td>2025-05-30 00:00:00+00:00</td>\n",
       "      <td>...</td>\n",
       "      <td>CNRA</td>\n",
       "      <td>0</td>\n",
       "      <td>NaN</td>\n",
       "      <td>0</td>\n",
       "      <td>THIN_MECH</td>\n",
       "      <td>0</td>\n",
       "      <td>0</td>\n",
       "      <td>LINE</td>\n",
       "      <td>YES</td>\n",
       "      <td>MULTILINESTRING ((-230774.51 56448.636, -23076...</td>\n",
       "    </tr>\n",
       "    <tr>\n",
       "      <th>1</th>\n",
       "      <td>{D9B4FADF-DA71-43E7-B223-D34BD96D1636}-CNRA</td>\n",
       "      <td>CNRA</td>\n",
       "      <td>SCC</td>\n",
       "      <td>Sonoma County Agricultural Preservation*</td>\n",
       "      <td>monica.delmartini@sonoma-county.org</td>\n",
       "      <td>SCC</td>\n",
       "      <td>Wildfire Resilience at Saddle Mountain Open Sp...</td>\n",
       "      <td>Active</td>\n",
       "      <td>2022-08-05 00:00:00+00:00</td>\n",
       "      <td>2025-05-30 00:00:00+00:00</td>\n",
       "      <td>...</td>\n",
       "      <td>CNRA</td>\n",
       "      <td>0</td>\n",
       "      <td>NaN</td>\n",
       "      <td>0</td>\n",
       "      <td>THIN_MECH</td>\n",
       "      <td>0</td>\n",
       "      <td>0</td>\n",
       "      <td>LINE</td>\n",
       "      <td>YES</td>\n",
       "      <td>MULTILINESTRING ((-230774.51 56448.636, -23076...</td>\n",
       "    </tr>\n",
       "  </tbody>\n",
       "</table>\n",
       "<p>2 rows × 91 columns</p>\n",
       "</div>"
      ],
      "text/plain": [
       "                                PROJECTID_USER AGENCY ORG_ADMIN_p  \\\n",
       "0  {D9B4FADF-DA71-43E7-B223-D34BD96D1636}-CNRA   CNRA         SCC   \n",
       "1  {D9B4FADF-DA71-43E7-B223-D34BD96D1636}-CNRA   CNRA         SCC   \n",
       "\n",
       "                            PROJECT_CONTACT  \\\n",
       "0  Sonoma County Agricultural Preservation*   \n",
       "1  Sonoma County Agricultural Preservation*   \n",
       "\n",
       "                         PROJECT_EMAIL ADMINISTERING_ORG  \\\n",
       "0  monica.delmartini@sonoma-county.org               SCC   \n",
       "1  monica.delmartini@sonoma-county.org               SCC   \n",
       "\n",
       "                                        PROJECT_NAME PROJECT_STATUS  \\\n",
       "0  Wildfire Resilience at Saddle Mountain Open Sp...         Active   \n",
       "1  Wildfire Resilience at Saddle Mountain Open Sp...         Active   \n",
       "\n",
       "              PROJECT_START               PROJECT_END  ... Source Year  \\\n",
       "0 2022-08-05 00:00:00+00:00 2025-05-30 00:00:00+00:00  ...   CNRA    0   \n",
       "1 2022-08-05 00:00:00+00:00 2025-05-30 00:00:00+00:00  ...   CNRA    0   \n",
       "\n",
       "  Year_txt  Act_Code  Crosswalk Federal_FY State_FY TRMT_GEOM COUNTS_TO_MAS  \\\n",
       "0      NaN         0  THIN_MECH          0        0      LINE           YES   \n",
       "1      NaN         0  THIN_MECH          0        0      LINE           YES   \n",
       "\n",
       "                                            geometry  \n",
       "0  MULTILINESTRING ((-230774.51 56448.636, -23076...  \n",
       "1  MULTILINESTRING ((-230774.51 56448.636, -23076...  \n",
       "\n",
       "[2 rows x 91 columns]"
      ]
     },
     "execution_count": 116,
     "metadata": {},
     "output_type": "execute_result"
    }
   ],
   "source": [
    "standardized_features[standardized_features.TRMTID_USER ==  '{2B7C8CAC-0BB7-422C-B3B6-55A71A50679D}-CNRA']"
   ]
  },
  {
   "cell_type": "code",
   "execution_count": 117,
   "id": "f0e0e3fd",
   "metadata": {},
   "outputs": [
    {
     "name": "stderr",
     "output_type": "stream",
     "text": [
      "2025-08-18 12:31:28,306 INFO  [utils.enrich_lines    ]        Executing Line Enrichments...\n",
      "C:\\Users\\sky\\.conda\\envs\\its_recode\\Lib\\site-packages\\pyogrio\\raw.py:198: RuntimeWarning: driver OpenFileGDB does not support open option DRIVER\n",
      "  return ogr_read(\n",
      "2025-08-18 12:31:28,337 INFO  [utils.enrich_lines    ]           enrich line step 1/4 convert to points\n",
      "2025-08-18 12:31:28,339 INFO  [utils.enrich_lines    ]           enrich line step 2/4 execute enrich_points...\n",
      "2025-08-18 12:31:28,339 INFO  [utils.enrich_points   ]        Executing Point Enrichments...\n",
      "2025-08-18 12:31:28,340 INFO  [utils.enrich_points   ]           Calculating WUI...\n",
      "2025-08-18 12:31:28,340 INFO  [utils.enrich_points   ]              enrich step 1/16 loading WUI from cache\n",
      "2025-08-18 12:31:28,784 INFO  [utils.enrich_points   ]                 time for loading WUI: 0.44379568099975586\n",
      "2025-08-18 12:31:28,785 INFO  [utils.enrich_points   ]              enrich step 2/16 select records with null WUI\n",
      "2025-08-18 12:31:28,786 INFO  [utils.enrich_points   ]              enrich step 3/16 select by WUI location\n",
      "2025-08-18 12:31:28,826 INFO  [utils.enrich_points   ]              enrich step 4/16 calculate WUI yes\n",
      "2025-08-18 12:31:28,826 INFO  [utils.enrich_points   ]              enrich step 5/16 select remaining null records\n",
      "2025-08-18 12:31:28,828 INFO  [utils.enrich_points   ]              enrich step 6/16 calculate WUI no\n",
      "2025-08-18 12:31:28,828 INFO  [utils.enrich_points   ]           Calculating Ownership, Counties, and Regions...\n",
      "2025-08-18 12:31:28,829 INFO  [utils.enrich_points   ]              enrich step 7/16 loading CALFIRE_Ownership_Update from cache\n",
      "2025-08-18 12:31:29,250 INFO  [utils.enrich_points   ]                 time for loading CALFIRE_Ownership_Update: 0.42136263847351074\n",
      "2025-08-18 12:31:29,251 INFO  [utils.enrich_points   ]              enrich step 8/16 spatial join ownership\n",
      "2025-08-18 12:31:31,624 INFO  [utils.enrich_points   ]              enrich step 9/16 loading WFRTF_Regions from cache\n",
      "2025-08-18 12:31:31,644 INFO  [utils.enrich_points   ]                 time for loading WFRTF_Regions: 0.02045297622680664\n",
      "2025-08-18 12:31:31,645 INFO  [utils.enrich_points   ]              enrich step 10/16 spatial join regions\n",
      "2025-08-18 12:31:32,254 INFO  [utils.enrich_points   ]              enrich step 11/16 loading Broad_Vegetation_Types from cache\n",
      "2025-08-18 12:31:39,692 INFO  [utils.enrich_points   ]                 time for loading Broad_Vegetation_Types: 8.068104982376099\n",
      "2025-08-18 12:31:39,692 INFO  [utils.enrich_points   ]              enrich step 12/16 spatial join veg and calculations\n",
      "2025-08-18 12:31:42,299 INFO  [utils.enrich_points   ]              enrich step 13/16 Initiating Crosswalk\n",
      "2025-08-18 12:31:42,300 INFO  [utils.crosswalk       ]           Calculating Crosswalking Activites...\n",
      "2025-08-18 12:31:42,300 INFO  [utils.crosswalk       ]              Load Crosswalk table...\n",
      "2025-08-18 12:31:42,332 INFO  [utils.crosswalk       ]              cross step 1/8 add join\n",
      "2025-08-18 12:31:42,335 INFO  [utils.crosswalk       ]              cross step 2/8 calculate activities\n",
      "2025-08-18 12:31:42,336 INFO  [utils.crosswalk       ]              cross step 3/8 calculate residue fate field\n",
      "2025-08-18 12:31:42,337 INFO  [utils.crosswalk       ]              cross step 4/8 select attribute by layer\n",
      "2025-08-18 12:31:42,337 INFO  [utils.crosswalk       ]              cross step 5/8 calculating objective...\n",
      "C:\\Users\\sky\\.conda\\envs\\its_recode\\Lib\\site-packages\\geopandas\\geodataframe.py:1819: SettingWithCopyWarning: \n",
      "A value is trying to be set on a copy of a slice from a DataFrame.\n",
      "Try using .loc[row_indexer,col_indexer] = value instead\n",
      "\n",
      "See the caveats in the documentation: https://pandas.pydata.org/pandas-docs/stable/user_guide/indexing.html#returning-a-view-versus-a-copy\n",
      "  super().__setitem__(key, value)\n",
      "2025-08-18 12:31:42,340 INFO  [utils.crosswalk       ]              cross step 6/8 calculate category\n",
      "2025-08-18 12:31:42,346 INFO  [utils.crosswalk       ]              cross step 7/8 standardize domains\n",
      "2025-08-18 12:31:42,358 INFO  [utils.crosswalk       ]              cross step 8/8 counts towards MAS\n",
      "2025-08-18 12:31:42,358 INFO  [utils.counts_to_mas   ]           Calculating Counts to MAS\n",
      "2025-08-18 12:31:42,358 INFO  [utils.counts_to_mas   ]              counts step 1/8: set to 'NO'\n",
      "2025-08-18 12:31:42,359 INFO  [utils.counts_to_mas   ]              counts step 2/8: select by bounding years (1950-2025)\n",
      "2025-08-18 12:31:42,359 INFO  [utils.counts_to_mas   ]              counts step 3/8: set to 'YES' if activity description is in the list\n",
      "2025-08-18 12:31:42,360 INFO  [utils.counts_to_mas   ]              counts step 4/8: set to 'NO' if not 'Acres'\n",
      "2025-08-18 12:31:42,361 INFO  [utils.counts_to_mas   ]              counts step 5/8: set to 'NO' if status is 'Canceled', 'Planned', 'Outyear', or 'Proposed'\n",
      "2025-08-18 12:31:42,361 INFO  [utils.counts_to_mas   ]              counts step 6/8: set to 'NO' if Activity Category is 'Watershed Improvement'\n",
      "2025-08-18 12:31:42,362 INFO  [utils.counts_to_mas   ]              counts step 7/8: set to 'NO' if Agency is 'Other' and Admin is 'CARB'\n",
      "2025-08-18 12:31:42,362 INFO  [utils.counts_to_mas   ]              counts step 8/8: set to 'NO' if Status is 'Active' unless Agency is 'CNRA' \n",
      "2025-08-18 12:31:42,365 INFO  [utils.enrich_points   ]           Crosswalk Complete. Continuing Enrichment...\n",
      "2025-08-18 12:31:42,366 INFO  [utils.enrich_points   ]              enrich step 14/16 calculating Years\n",
      "2025-08-18 12:31:42,368 INFO  [utils.enrich_points   ]              enrich step 15/16 calculating Latitude and Longitude\n",
      "2025-08-18 12:31:42,369 INFO  [utils.enrich_points   ]              enrich step 16/16 removing unnecessary fields\n",
      "2025-08-18 12:31:42,371 INFO  [utils.enrich_points   ]           Enrich Points Complete...\n",
      "2025-08-18 12:31:42,602 INFO  [utils.enrich_lines    ]           enrich line step 3/4 importing attributes\n"
     ]
    },
    {
     "name": "stdout",
     "output_type": "stream",
     "text": [
      "NOT_DEFINED\n",
      "OTHER_FUELS_REDUCTION\n",
      "NOT_DEFINED\n",
      "OTHER_FUELS_REDUCTION\n",
      "NOT_DEFINED\n",
      "OTHER_FUELS_REDUCTION\n",
      "TBD\n",
      "ROADWAY_CLEARANCE\n",
      "NOT_DEFINED\n",
      "OTHER_FUELS_REDUCTION\n",
      "TBD\n",
      "FUEL_BREAK\n",
      "NOT_DEFINED\n",
      "OTHER_FUELS_REDUCTION\n",
      "TBD\n",
      "FUEL_BREAK\n",
      "TBD\n",
      "OTHER_FUELS_REDUCTION\n",
      "TBD\n",
      "FUEL_BREAK\n",
      "FOUND TBD ACTIVITY DESCRIPTION:\n",
      "TBD\n",
      "FOUND TBD ACTIVITY DESCRIPTION:\n",
      "TBD\n",
      "FOUND TBD ACTIVITY DESCRIPTION:\n",
      "TBD\n",
      "FOUND TBD ACTIVITY DESCRIPTION:\n",
      "TBD\n",
      "FOUND TBD ACTIVITY DESCRIPTION:\n",
      "TBD\n"
     ]
    },
    {
     "name": "stderr",
     "output_type": "stream",
     "text": [
      "2025-08-18 12:31:42,629 INFO  [utils.enrich_lines    ]           enrich line step 4/4 align to template\n"
     ]
    }
   ],
   "source": [
    "standardized_features = enrich_lines(standardized_features, a_reference_gdb_path, start_year, end_year)"
   ]
  },
  {
   "cell_type": "code",
   "execution_count": null,
   "id": "adfc2ad1",
   "metadata": {},
   "outputs": [],
   "source": []
  },
  {
   "cell_type": "code",
   "execution_count": 142,
   "id": "0bde3ecc",
   "metadata": {},
   "outputs": [
    {
     "data": {
      "text/plain": [
       "0    2022-12-31\n",
       "1    2022-12-31\n",
       "2    2022-12-31\n",
       "3    2022-12-31\n",
       "4    2022-12-31\n",
       "5    2022-12-31\n",
       "6    2023-12-31\n",
       "Name: ACTIVITY_END, dtype: object"
      ]
     },
     "execution_count": 142,
     "metadata": {},
     "output_type": "execute_result"
    }
   ],
   "source": [
    "standardized_features[standardized_features.TRMTID_USER ==  '{2B7C8CAC-0BB7-422C-B3B6-55A71A50679D}-CNRA'].ACTIVITY_END"
   ]
  },
  {
   "cell_type": "code",
   "execution_count": 143,
   "id": "77e0e021",
   "metadata": {},
   "outputs": [
    {
     "data": {
      "text/plain": [
       "0    2022\n",
       "1    2025\n",
       "2    2025\n",
       "3    2025\n",
       "4    2025\n",
       "5    2025\n",
       "6    2023\n",
       "Name: Year, dtype: int64"
      ]
     },
     "execution_count": 143,
     "metadata": {},
     "output_type": "execute_result"
    }
   ],
   "source": [
    "standardized_features[standardized_features.TRMTID_USER ==  '{2B7C8CAC-0BB7-422C-B3B6-55A71A50679D}-CNRA'].Year"
   ]
  },
  {
   "cell_type": "code",
   "execution_count": 122,
   "id": "5f44eb84",
   "metadata": {},
   "outputs": [],
   "source": [
    "standardized_features = keep_fields(standardized_features)"
   ]
  },
  {
   "cell_type": "code",
   "execution_count": 123,
   "id": "0e2b020a",
   "metadata": {},
   "outputs": [
    {
     "name": "stderr",
     "output_type": "stream",
     "text": [
      "2025-08-18 12:34:07,096 INFO  [utils.assign_domains  ]        Created domain 'D_OBJECTIVE' with 27 values\n",
      "2025-08-18 12:34:07,102 INFO  [utils.assign_domains  ]        Created domain 'D_STATUS' with 6 values\n",
      "2025-08-18 12:34:07,111 INFO  [utils.assign_domains  ]        Created domain 'D_CNTY' with 59 values\n",
      "2025-08-18 12:34:07,118 INFO  [utils.assign_domains  ]        Created domain 'D_IN_WUI' with 4 values\n",
      "2025-08-18 12:34:07,125 INFO  [utils.assign_domains  ]        Created domain 'D_ACTVDSCRP' with 61 values\n",
      "2025-08-18 12:34:07,131 INFO  [utils.assign_domains  ]        Created domain 'D_ACTVCAT' with 8 values\n",
      "2025-08-18 12:34:07,137 INFO  [utils.assign_domains  ]        Created domain 'D_USERDEFINED' with 2 values\n",
      "2025-08-18 12:34:07,143 INFO  [utils.assign_domains  ]        Created domain 'D_BVT' with 8 values\n",
      "2025-08-18 12:34:07,149 INFO  [utils.assign_domains  ]        Created domain 'D_RESIDUEFATE' with 15 values\n",
      "2025-08-18 12:34:07,156 INFO  [utils.assign_domains  ]        Created domain 'D_UOM' with 6 values\n",
      "2025-08-18 12:34:07,162 INFO  [utils.assign_domains  ]        Created domain 'D_TASKFORCE' with 5 values\n",
      "2025-08-18 12:34:07,169 INFO  [utils.assign_domains  ]        Created domain 'D_PR_OWN_GR' with 7 values\n",
      "2025-08-18 12:34:07,176 INFO  [utils.assign_domains  ]        Created domain 'D_FNDSRC' with 11 values\n",
      "2025-08-18 12:34:07,182 INFO  [utils.assign_domains  ]        Created domain 'D_AGENCY' with 9 values\n",
      "2025-08-18 12:34:07,189 INFO  [utils.assign_domains  ]        Created domain 'D_ORGANIZATION' with 32 values\n",
      "2025-08-18 12:34:07,195 INFO  [utils.assign_domains  ]        Warning: 1 rows with NULL values were dropped from 'D_DATASTATUS'\n",
      "2025-08-18 12:34:07,196 INFO  [utils.assign_domains  ]        Created domain 'D_DATASTATUS' with 2 values\n",
      "2025-08-18 12:34:07,201 INFO  [utils.assign_domains  ]        Created domain 'D_DATAMSG' with 3 values\n",
      "2025-08-18 12:34:07,207 INFO  [utils.assign_domains  ]        Created domain 'D_VERFIEDMSG' with 2 values\n",
      "2025-08-18 12:34:07,213 INFO  [utils.assign_domains  ]        Created domain 'D_TRMT_GEOM' with 4 values\n",
      "2025-08-18 12:34:07,213 INFO  [utils.assign_domains  ]        Assign domains to project-related columns\n",
      "2025-08-18 12:34:07,218 INFO  [utils.assign_domains  ]        Assign domains to treatment-related columns\n",
      "2025-08-18 12:34:07,224 INFO  [utils.assign_domains  ]        Assign domains to activity-related columns\n"
     ]
    }
   ],
   "source": [
    "standardized_features = assign_domains(standardized_features)"
   ]
  },
  {
   "cell_type": "code",
   "execution_count": 146,
   "id": "4e2e6c64",
   "metadata": {},
   "outputs": [
    {
     "data": {
      "text/plain": [
       "0   53.000000000000000\n",
       "1   53.000000000000000\n",
       "2   53.000000000000000\n",
       "3   53.000000000000000\n",
       "4   53.000000000000000\n",
       "5   53.000000000000000\n",
       "6   53.000000000000000\n",
       "Name: ACTIVITY_QUANTITY, dtype: float64"
      ]
     },
     "execution_count": 146,
     "metadata": {},
     "output_type": "execute_result"
    }
   ],
   "source": [
    "standardized_features[standardized_features.TRMTID_USER ==  '{2B7C8CAC-0BB7-422C-B3B6-55A71A50679D}-CNRA'].ACTIVITY_QUANTITY"
   ]
  },
  {
   "cell_type": "code",
   "execution_count": 144,
   "id": "c0c5cbf9",
   "metadata": {},
   "outputs": [
    {
     "data": {
      "text/html": [
       "<div>\n",
       "<style scoped>\n",
       "    .dataframe tbody tr th:only-of-type {\n",
       "        vertical-align: middle;\n",
       "    }\n",
       "\n",
       "    .dataframe tbody tr th {\n",
       "        vertical-align: top;\n",
       "    }\n",
       "\n",
       "    .dataframe thead th {\n",
       "        text-align: right;\n",
       "    }\n",
       "</style>\n",
       "<table border=\"1\" class=\"dataframe\">\n",
       "  <thead>\n",
       "    <tr style=\"text-align: right;\">\n",
       "      <th></th>\n",
       "      <th>IN_WUI</th>\n",
       "      <th>REGION</th>\n",
       "      <th>BROAD_VEGETATION_TYPE</th>\n",
       "      <th>PRIMARY_OWNERSHIP_GROUP</th>\n",
       "      <th>ACTIVITY_DESCRIPTION</th>\n",
       "    </tr>\n",
       "  </thead>\n",
       "  <tbody>\n",
       "    <tr>\n",
       "      <th>0</th>\n",
       "      <td>WUI_AUTO_POP</td>\n",
       "      <td>NORTH_COAST</td>\n",
       "      <td>FOREST</td>\n",
       "      <td>LOCAL</td>\n",
       "      <td>THIN_MECH</td>\n",
       "    </tr>\n",
       "    <tr>\n",
       "      <th>1</th>\n",
       "      <td>WUI_USER_DEFINED</td>\n",
       "      <td>CENTRAL_COAST</td>\n",
       "      <td>FOREST</td>\n",
       "      <td>STATE</td>\n",
       "      <td>NaN</td>\n",
       "    </tr>\n",
       "    <tr>\n",
       "      <th>2</th>\n",
       "      <td>NON-WUI_USER_DEFINED</td>\n",
       "      <td>CENTRAL_COAST</td>\n",
       "      <td>WETLAND</td>\n",
       "      <td>STATE</td>\n",
       "      <td>NaN</td>\n",
       "    </tr>\n",
       "    <tr>\n",
       "      <th>3</th>\n",
       "      <td>NON-WUI_USER_DEFINED</td>\n",
       "      <td>CENTRAL_COAST</td>\n",
       "      <td>WETLAND</td>\n",
       "      <td>STATE</td>\n",
       "      <td>NaN</td>\n",
       "    </tr>\n",
       "    <tr>\n",
       "      <th>4</th>\n",
       "      <td>WUI_AUTO_POP</td>\n",
       "      <td>SIERRA_NEVADA</td>\n",
       "      <td>FOREST</td>\n",
       "      <td>NGO</td>\n",
       "      <td>NaN</td>\n",
       "    </tr>\n",
       "    <tr>\n",
       "      <th>5</th>\n",
       "      <td>WUI_AUTO_POP</td>\n",
       "      <td>SIERRA_NEVADA</td>\n",
       "      <td>FOREST</td>\n",
       "      <td>PRIVATE_NON-INDUSTRY</td>\n",
       "      <td>NaN</td>\n",
       "    </tr>\n",
       "    <tr>\n",
       "      <th>6</th>\n",
       "      <td>WUI_AUTO_POP</td>\n",
       "      <td>NORTH_COAST</td>\n",
       "      <td>FOREST</td>\n",
       "      <td>LOCAL</td>\n",
       "      <td>THIN_MECH</td>\n",
       "    </tr>\n",
       "  </tbody>\n",
       "</table>\n",
       "</div>"
      ],
      "text/plain": [
       "                 IN_WUI         REGION BROAD_VEGETATION_TYPE  \\\n",
       "0          WUI_AUTO_POP    NORTH_COAST                FOREST   \n",
       "1      WUI_USER_DEFINED  CENTRAL_COAST                FOREST   \n",
       "2  NON-WUI_USER_DEFINED  CENTRAL_COAST               WETLAND   \n",
       "3  NON-WUI_USER_DEFINED  CENTRAL_COAST               WETLAND   \n",
       "4          WUI_AUTO_POP  SIERRA_NEVADA                FOREST   \n",
       "5          WUI_AUTO_POP  SIERRA_NEVADA                FOREST   \n",
       "6          WUI_AUTO_POP    NORTH_COAST                FOREST   \n",
       "\n",
       "  PRIMARY_OWNERSHIP_GROUP ACTIVITY_DESCRIPTION  \n",
       "0                   LOCAL            THIN_MECH  \n",
       "1                   STATE                  NaN  \n",
       "2                   STATE                  NaN  \n",
       "3                   STATE                  NaN  \n",
       "4                     NGO                  NaN  \n",
       "5    PRIVATE_NON-INDUSTRY                  NaN  \n",
       "6                   LOCAL            THIN_MECH  "
      ]
     },
     "execution_count": 144,
     "metadata": {},
     "output_type": "execute_result"
    }
   ],
   "source": [
    "standardized_features[standardized_features.TRMTID_USER ==  '{2B7C8CAC-0BB7-422C-B3B6-55A71A50679D}-CNRA'][['IN_WUI', 'REGION', 'BROAD_VEGETATION_TYPE', 'PRIMARY_OWNERSHIP_GROUP', 'ACTIVITY_DESCRIPTION']]"
   ]
  },
  {
   "cell_type": "code",
   "execution_count": 6,
   "id": "583e27e1",
   "metadata": {},
   "outputs": [
    {
     "name": "stderr",
     "output_type": "stream",
     "text": [
      "C:\\Users\\sky\\.conda\\envs\\its_recode\\Lib\\site-packages\\pyogrio\\raw.py:198: RuntimeWarning: driver OpenFileGDB does not support open option DRIVER\n",
      "  return ogr_read(\n",
      "C:\\Users\\sky\\.conda\\envs\\its_recode\\Lib\\site-packages\\pyogrio\\raw.py:198: RuntimeWarning: organizePolygons() received a polygon with more than 100 parts. The processing may be really slow.  You can skip the processing by setting METHOD=SKIP, or only make it analyze counter-clock wise parts by setting METHOD=ONLY_CCW if you can assume that the outline of holes is counter-clock wise defined\n",
      "  return ogr_read(\n"
     ]
    }
   ],
   "source": [
    "wui_layer = gpd.read_file(a_reference_gdb_path, driver=\"OpenFileGDB\", layer='WUI')"
   ]
  },
  {
   "cell_type": "code",
   "execution_count": 9,
   "id": "1c8be662",
   "metadata": {},
   "outputs": [
    {
     "data": {
      "text/html": [
       "<div>\n",
       "<style scoped>\n",
       "    .dataframe tbody tr th:only-of-type {\n",
       "        vertical-align: middle;\n",
       "    }\n",
       "\n",
       "    .dataframe tbody tr th {\n",
       "        vertical-align: top;\n",
       "    }\n",
       "\n",
       "    .dataframe thead th {\n",
       "        text-align: right;\n",
       "    }\n",
       "</style>\n",
       "<table border=\"1\" class=\"dataframe\">\n",
       "  <thead>\n",
       "    <tr style=\"text-align: right;\">\n",
       "      <th></th>\n",
       "      <th>Id</th>\n",
       "      <th>gridcode</th>\n",
       "      <th>Shape_Length</th>\n",
       "      <th>Shape_Area</th>\n",
       "      <th>geometry</th>\n",
       "    </tr>\n",
       "  </thead>\n",
       "  <tbody>\n",
       "    <tr>\n",
       "      <th>0</th>\n",
       "      <td>1</td>\n",
       "      <td>1</td>\n",
       "      <td>321.989900</td>\n",
       "      <td>4.841888e+03</td>\n",
       "      <td>MULTIPOLYGON (((-132082.688 443342.643, -13214...</td>\n",
       "    </tr>\n",
       "    <tr>\n",
       "      <th>1</th>\n",
       "      <td>2</td>\n",
       "      <td>1</td>\n",
       "      <td>112.113486</td>\n",
       "      <td>5.859111e+02</td>\n",
       "      <td>MULTIPOLYGON (((-347883.201 449892.586, -34787...</td>\n",
       "    </tr>\n",
       "    <tr>\n",
       "      <th>2</th>\n",
       "      <td>3</td>\n",
       "      <td>1</td>\n",
       "      <td>115.532292</td>\n",
       "      <td>5.480210e+02</td>\n",
       "      <td>MULTIPOLYGON (((-132084.958 443207.443, -13211...</td>\n",
       "    </tr>\n",
       "    <tr>\n",
       "      <th>3</th>\n",
       "      <td>4</td>\n",
       "      <td>1</td>\n",
       "      <td>112.114229</td>\n",
       "      <td>5.859208e+02</td>\n",
       "      <td>MULTIPOLYGON (((-347710.654 449783.44, -347721...</td>\n",
       "    </tr>\n",
       "    <tr>\n",
       "      <th>4</th>\n",
       "      <td>5</td>\n",
       "      <td>1</td>\n",
       "      <td>156.238711</td>\n",
       "      <td>9.944922e+02</td>\n",
       "      <td>MULTIPOLYGON (((-132085.525 443173.643, -13208...</td>\n",
       "    </tr>\n",
       "    <tr>\n",
       "      <th>...</th>\n",
       "      <td>...</td>\n",
       "      <td>...</td>\n",
       "      <td>...</td>\n",
       "      <td>...</td>\n",
       "      <td>...</td>\n",
       "    </tr>\n",
       "    <tr>\n",
       "      <th>99977</th>\n",
       "      <td>99978</td>\n",
       "      <td>1</td>\n",
       "      <td>220.822903</td>\n",
       "      <td>2.274106e+03</td>\n",
       "      <td>MULTIPOLYGON (((274292.094 -603994.117, 274228...</td>\n",
       "    </tr>\n",
       "    <tr>\n",
       "      <th>99978</th>\n",
       "      <td>99979</td>\n",
       "      <td>1</td>\n",
       "      <td>510.866543</td>\n",
       "      <td>5.223361e+03</td>\n",
       "      <td>MULTIPOLYGON (((274092.375 -604034.035, 273850...</td>\n",
       "    </tr>\n",
       "    <tr>\n",
       "      <th>99979</th>\n",
       "      <td>99980</td>\n",
       "      <td>1</td>\n",
       "      <td>117.977784</td>\n",
       "      <td>6.628472e+02</td>\n",
       "      <td>MULTIPOLYGON (((273120.369 -604165.189, 273085...</td>\n",
       "    </tr>\n",
       "    <tr>\n",
       "      <th>99980</th>\n",
       "      <td>99981</td>\n",
       "      <td>1</td>\n",
       "      <td>117.977815</td>\n",
       "      <td>6.628483e+02</td>\n",
       "      <td>MULTIPOLYGON (((272891.962 -604205.958, 272856...</td>\n",
       "    </tr>\n",
       "    <tr>\n",
       "      <th>99981</th>\n",
       "      <td>99982</td>\n",
       "      <td>1</td>\n",
       "      <td>66065.475396</td>\n",
       "      <td>1.770473e+07</td>\n",
       "      <td>MULTIPOLYGON (((270288.268 -602596.449, 270332...</td>\n",
       "    </tr>\n",
       "  </tbody>\n",
       "</table>\n",
       "<p>99982 rows × 5 columns</p>\n",
       "</div>"
      ],
      "text/plain": [
       "          Id  gridcode  Shape_Length    Shape_Area  \\\n",
       "0          1         1    321.989900  4.841888e+03   \n",
       "1          2         1    112.113486  5.859111e+02   \n",
       "2          3         1    115.532292  5.480210e+02   \n",
       "3          4         1    112.114229  5.859208e+02   \n",
       "4          5         1    156.238711  9.944922e+02   \n",
       "...      ...       ...           ...           ...   \n",
       "99977  99978         1    220.822903  2.274106e+03   \n",
       "99978  99979         1    510.866543  5.223361e+03   \n",
       "99979  99980         1    117.977784  6.628472e+02   \n",
       "99980  99981         1    117.977815  6.628483e+02   \n",
       "99981  99982         1  66065.475396  1.770473e+07   \n",
       "\n",
       "                                                geometry  \n",
       "0      MULTIPOLYGON (((-132082.688 443342.643, -13214...  \n",
       "1      MULTIPOLYGON (((-347883.201 449892.586, -34787...  \n",
       "2      MULTIPOLYGON (((-132084.958 443207.443, -13211...  \n",
       "3      MULTIPOLYGON (((-347710.654 449783.44, -347721...  \n",
       "4      MULTIPOLYGON (((-132085.525 443173.643, -13208...  \n",
       "...                                                  ...  \n",
       "99977  MULTIPOLYGON (((274292.094 -603994.117, 274228...  \n",
       "99978  MULTIPOLYGON (((274092.375 -604034.035, 273850...  \n",
       "99979  MULTIPOLYGON (((273120.369 -604165.189, 273085...  \n",
       "99980  MULTIPOLYGON (((272891.962 -604205.958, 272856...  \n",
       "99981  MULTIPOLYGON (((270288.268 -602596.449, 270332...  \n",
       "\n",
       "[99982 rows x 5 columns]"
      ]
     },
     "execution_count": 9,
     "metadata": {},
     "output_type": "execute_result"
    }
   ],
   "source": [
    "wui_layer"
   ]
  },
  {
   "cell_type": "code",
   "execution_count": 134,
   "id": "5dcafde0",
   "metadata": {},
   "outputs": [
    {
     "name": "stderr",
     "output_type": "stream",
     "text": [
      "C:\\Users\\sky\\.conda\\envs\\its_recode\\Lib\\site-packages\\pyogrio\\raw.py:198: RuntimeWarning: driver OpenFileGDB does not support open option DRIVER\n",
      "  return ogr_read(\n",
      "C:\\Users\\sky\\.conda\\envs\\its_recode\\Lib\\site-packages\\pyogrio\\raw.py:198: RuntimeWarning: driver OpenFileGDB does not support open option DRIVER\n",
      "  return ogr_read(\n",
      "C:\\Users\\sky\\.conda\\envs\\its_recode\\Lib\\site-packages\\pyogrio\\raw.py:198: RuntimeWarning: driver OpenFileGDB does not support open option DRIVER\n",
      "  return ogr_read(\n",
      "C:\\Users\\sky\\.conda\\envs\\its_recode\\Lib\\site-packages\\pyogrio\\raw.py:198: RuntimeWarning: driver OpenFileGDB does not support open option DRIVER\n",
      "  return ogr_read(\n"
     ]
    }
   ],
   "source": [
    "wui_layer = gpd.read_file(a_reference_gdb_path, driver=\"OpenFileGDB\", layer='WUI')\n",
    "ownership_gdf = gpd.read_file(a_reference_gdb_path, driver=\"OpenFileGDB\", layer='CALFIRE_Ownership_Update')\n",
    "regions_gdf = gpd.read_file(a_reference_gdb_path, driver=\"OpenFileGDB\", layer='WFTF_Regions_Updated_20250708')\n",
    "veg_layer = gpd.read_file(a_reference_gdb_path, driver=\"OpenFileGDB\", layer='Broad_Vegetation_Types')"
   ]
  },
  {
   "cell_type": "code",
   "execution_count": 136,
   "id": "04f0cbe1",
   "metadata": {},
   "outputs": [
    {
     "data": {
      "text/plain": [
       "np.float64(71667298906.36118)"
      ]
     },
     "execution_count": 136,
     "metadata": {},
     "output_type": "execute_result"
    }
   ],
   "source": [
    "wui_layer.area.sum()"
   ]
  },
  {
   "cell_type": "code",
   "execution_count": 137,
   "id": "678429c5",
   "metadata": {},
   "outputs": [
    {
     "data": {
      "text/plain": [
       "0   71667298906.361709594726562\n",
       "dtype: float64"
      ]
     },
     "execution_count": 137,
     "metadata": {},
     "output_type": "execute_result"
    }
   ],
   "source": [
    "wui_layer.dissolve().area"
   ]
  },
  {
   "cell_type": "code",
   "execution_count": 138,
   "id": "9d564ccb",
   "metadata": {},
   "outputs": [
    {
     "data": {
      "text/plain": [
       "np.float64(410891304954.4557)"
      ]
     },
     "execution_count": 138,
     "metadata": {},
     "output_type": "execute_result"
    }
   ],
   "source": [
    "ownership_gdf.area.sum()"
   ]
  },
  {
   "cell_type": "code",
   "execution_count": 139,
   "id": "a9d3b4ee",
   "metadata": {},
   "outputs": [
    {
     "data": {
      "text/plain": [
       "0   410879199457.123962402343750\n",
       "dtype: float64"
      ]
     },
     "execution_count": 139,
     "metadata": {},
     "output_type": "execute_result"
    }
   ],
   "source": [
    "ownership_gdf.dissolve().area"
   ]
  },
  {
   "cell_type": "code",
   "execution_count": 140,
   "id": "54a2628e",
   "metadata": {},
   "outputs": [
    {
     "data": {
      "text/plain": [
       "np.float64(415790010222.0579)"
      ]
     },
     "execution_count": 140,
     "metadata": {},
     "output_type": "execute_result"
    }
   ],
   "source": [
    "veg_layer.area.sum()"
   ]
  },
  {
   "cell_type": "code",
   "execution_count": 141,
   "id": "d36c1131",
   "metadata": {},
   "outputs": [
    {
     "data": {
      "text/plain": [
       "0   415790010222.054077148437500\n",
       "dtype: float64"
      ]
     },
     "execution_count": 141,
     "metadata": {},
     "output_type": "execute_result"
    }
   ],
   "source": [
    "veg_layer.dissolve().area"
   ]
  },
  {
   "cell_type": "code",
   "execution_count": null,
   "id": "838ca59c",
   "metadata": {},
   "outputs": [],
   "source": []
  },
  {
   "cell_type": "code",
   "execution_count": null,
   "id": "abe268ef",
   "metadata": {},
   "outputs": [],
   "source": []
  },
  {
   "cell_type": "code",
   "execution_count": null,
   "id": "17c81635",
   "metadata": {},
   "outputs": [],
   "source": []
  },
  {
   "cell_type": "code",
   "execution_count": null,
   "id": "24a79a57",
   "metadata": {},
   "outputs": [],
   "source": []
  },
  {
   "cell_type": "code",
   "execution_count": 5,
   "id": "ce7874da",
   "metadata": {},
   "outputs": [],
   "source": [
    "from enrich.enrich_Timber_Nonspatial import enrich_Timber_Nonspatial"
   ]
  },
  {
   "cell_type": "code",
   "execution_count": 6,
   "id": "d043e17f",
   "metadata": {},
   "outputs": [],
   "source": [
    "# v1.1 inputs\n",
    "tn_input_excel_path = r'D:\\WORK\\wildfire\\Interagency-Tracking-System\\2023\\Industry_nonspatial_2023\\Timber_Industry_Acres_{}.xlsx'\n"
   ]
  },
  {
   "cell_type": "code",
   "execution_count": 7,
   "id": "85b8b916",
   "metadata": {},
   "outputs": [],
   "source": [
    "# concat all timber nonspatial xlsx files\n",
    "tn21_df = pd.read_excel(tn_input_excel_path.format(2021))\n",
    "tn22_df = pd.read_excel(tn_input_excel_path.format(2022))\n",
    "tn23_df = pd.read_excel(tn_input_excel_path.format(2023))\n"
   ]
  },
  {
   "cell_type": "code",
   "execution_count": null,
   "id": "bedfe8b9",
   "metadata": {},
   "outputs": [],
   "source": []
  },
  {
   "cell_type": "code",
   "execution_count": 8,
   "id": "06409eb5",
   "metadata": {},
   "outputs": [],
   "source": [
    "output_gdb_path =  r\"D:\\WORK\\wildfire\\Interagency-Tracking-System\\its\\ITSGDB_backup\\V2.0.1\\Timber_Nonspatial_{}_{}.gdb\".format(start_year, end_year)\n",
    "output_layer_name = f\"Timber_Nonspatial_{datetime.today().strftime('%Y%m%d')}\""
   ]
  },
  {
   "cell_type": "code",
   "execution_count": 10,
   "id": "5dc6c5ad",
   "metadata": {},
   "outputs": [
    {
     "name": "stderr",
     "output_type": "stream",
     "text": [
      "2025-06-25 11:11:31,986 INFO  [enrich.Timber_NSpatial]  Load the Timeber Industry Nonspatial data into a DataFrame\n",
      "2025-06-25 11:11:31,999 INFO  [enrich.Timber_NSpatial]     time for loading D:\\WORK\\wildfire\\Interagency-Tracking-System\\V2.0\\Industry_nonspatial_V2.0\\Timber_Industry_Acres_concat.xlsx: 0.012203216552734375\n",
      "2025-06-25 11:11:31,999 INFO  [enrich.Timber_NSpatial]  Performing Standardization\n",
      "2025-06-25 11:11:32,000 INFO  [enrich.Timber_NSpatial]     step 1/10 convert Excel sheet to table\n",
      "2025-06-25 11:11:32,049 INFO  [enrich.Timber_NSpatial]     all required columns are present.\n",
      "2025-06-25 11:11:32,050 INFO  [enrich.Timber_NSpatial]     step 2/10 rename and add fields\n",
      "2025-06-25 11:11:32,050 INFO  [enrich.Timber_NSpatial]     step 3/10 adding common columns...\n",
      "2025-06-25 11:11:32,071 INFO  [enrich.Timber_NSpatial]     step 4/10 calculate fields\n",
      "2025-06-25 11:11:32,074 INFO  [enrich.Timber_NSpatial]     step 5/10 converting Table to Geodataframe\n",
      "2025-06-25 11:11:32,104 INFO  [enrich.Timber_NSpatial]     step 6/10 Remove Unnecessary Columns...\n",
      "2025-06-25 11:11:32,106 INFO  [enrich.Timber_NSpatial]     step 7/10 Enrich Points\n",
      "2025-06-25 11:11:32,106 INFO  [utils.enrich_points   ]        Executing Point Enrichments...\n",
      "2025-06-25 11:11:32,107 INFO  [utils.enrich_points   ]           Calculating WUI...\n",
      "2025-06-25 11:11:32,107 INFO  [utils.enrich_points   ]              enrich step 1/16 loading WUI from cache\n",
      "2025-06-25 11:11:32,279 INFO  [utils.enrich_points   ]                 time for loading WUI: 0.1715083122253418\n",
      "2025-06-25 11:11:32,279 INFO  [utils.enrich_points   ]              enrich step 2/16 select records with null WUI\n",
      "2025-06-25 11:11:32,281 INFO  [utils.enrich_points   ]              enrich step 3/16 select by WUI location\n",
      "2025-06-25 11:11:32,315 INFO  [utils.enrich_points   ]              enrich step 4/16 calculate WUI yes\n",
      "2025-06-25 11:11:32,315 INFO  [utils.enrich_points   ]              enrich step 5/16 select remaining null records\n",
      "2025-06-25 11:11:32,317 INFO  [utils.enrich_points   ]              enrich step 6/16 calculate WUI no\n",
      "2025-06-25 11:11:32,317 INFO  [utils.enrich_points   ]           Calculating Ownership, Counties, and Regions...\n",
      "2025-06-25 11:11:32,318 INFO  [utils.enrich_points   ]              enrich step 7/16 loading CALFIRE_Ownership_Update from cache\n",
      "2025-06-25 11:11:32,753 INFO  [utils.enrich_points   ]                 time for loading CALFIRE_Ownership_Update: 0.4355652332305908\n",
      "2025-06-25 11:11:32,754 INFO  [utils.enrich_points   ]              enrich step 8/16 spatial join ownership\n",
      "2025-06-25 11:11:33,247 INFO  [utils.enrich_points   ]              enrich step 9/16 loading WFRTF_Regions from cache\n",
      "2025-06-25 11:11:33,258 INFO  [utils.enrich_points   ]                 time for loading WFRTF_Regions: 0.010245323181152344\n",
      "2025-06-25 11:11:33,258 INFO  [utils.enrich_points   ]              enrich step 10/16 spatial join regions\n",
      "2025-06-25 11:11:33,338 INFO  [utils.enrich_points   ]              enrich step 11/16 loading Broad_Vegetation_Types from cache\n",
      "2025-06-25 11:11:37,344 INFO  [utils.enrich_points   ]                 time for loading Broad_Vegetation_Types: 4.0965211391448975\n",
      "2025-06-25 11:11:37,345 INFO  [utils.enrich_points   ]              enrich step 12/16 spatial join veg and calculations\n",
      "2025-06-25 11:11:38,612 INFO  [utils.enrich_points   ]              enrich step 13/16 Initiating Crosswalk\n",
      "2025-06-25 11:11:38,612 INFO  [utils.crosswalk       ]           Calculating Crosswalking Activites...\n",
      "2025-06-25 11:11:38,612 INFO  [utils.crosswalk       ]              Load Crosswalk table...\n",
      "2025-06-25 11:11:38,650 INFO  [utils.crosswalk       ]              cross step 1/8 add join\n",
      "2025-06-25 11:11:38,653 INFO  [utils.crosswalk       ]              cross step 2/8 calculate activities\n",
      "2025-06-25 11:11:38,654 INFO  [utils.crosswalk       ]              cross step 3/8 calculate residue fate field\n",
      "2025-06-25 11:11:38,655 INFO  [utils.crosswalk       ]              cross step 4/8 select attribute by layer\n",
      "2025-06-25 11:11:38,656 INFO  [utils.crosswalk       ]              cross step 5/8 calculating objective...\n",
      "C:\\Users\\sky\\.conda\\envs\\its_recode\\Lib\\site-packages\\geopandas\\geodataframe.py:1819: SettingWithCopyWarning: \n",
      "A value is trying to be set on a copy of a slice from a DataFrame.\n",
      "Try using .loc[row_indexer,col_indexer] = value instead\n",
      "\n",
      "See the caveats in the documentation: https://pandas.pydata.org/pandas-docs/stable/user_guide/indexing.html#returning-a-view-versus-a-copy\n",
      "  super().__setitem__(key, value)\n",
      "2025-06-25 11:11:38,659 INFO  [utils.crosswalk       ]              cross step 6/8 calculate category\n",
      "2025-06-25 11:11:38,662 INFO  [utils.crosswalk       ]              cross step 7/8 standardize domains\n",
      "2025-06-25 11:11:38,667 INFO  [utils.crosswalk       ]              cross step 8/8 counts towards MAS\n",
      "2025-06-25 11:11:38,668 INFO  [utils.counts_to_mas   ]           Calculating Counts to MAS\n",
      "2025-06-25 11:11:38,668 INFO  [utils.counts_to_mas   ]              counts step 1/8: set to 'NO'\n",
      "2025-06-25 11:11:38,668 INFO  [utils.counts_to_mas   ]              counts step 2/8: select by bounding years (1950-2025)\n",
      "2025-06-25 11:11:38,669 INFO  [utils.counts_to_mas   ]              counts step 3/8: set to 'YES' if activity description is in the list\n",
      "2025-06-25 11:11:38,670 INFO  [utils.counts_to_mas   ]              counts step 4/8: set to 'NO' if not 'Acres'\n",
      "2025-06-25 11:11:38,670 INFO  [utils.counts_to_mas   ]              counts step 5/8: set to 'NO' if status is 'Canceled', 'Planned', 'Outyear', or 'Proposed'\n",
      "2025-06-25 11:11:38,671 INFO  [utils.counts_to_mas   ]              counts step 6/8: set to 'NO' if Activity Category is 'Watershed Improvement'\n",
      "2025-06-25 11:11:38,671 INFO  [utils.counts_to_mas   ]              counts step 7/8: set to 'NO' if Agency is 'Other' and Admin is 'CARB'\n",
      "2025-06-25 11:11:38,672 INFO  [utils.counts_to_mas   ]              counts step 8/8: set to 'NO' if Org is 'USFS' and Status is 'Active'\n",
      "2025-06-25 11:11:38,674 INFO  [utils.enrich_points   ]           Crosswalk Complete. Continuing Enrichment...\n",
      "2025-06-25 11:11:38,674 INFO  [utils.enrich_points   ]              enrich step 14/16 calculating Years\n",
      "2025-06-25 11:11:38,676 INFO  [utils.enrich_points   ]              enrich step 15/16 calculating Latitude and Longitude\n",
      "2025-06-25 11:11:38,677 INFO  [utils.enrich_points   ]              enrich step 16/16 removing unnecessary fields\n",
      "2025-06-25 11:11:38,678 INFO  [utils.enrich_points   ]           Enrich Points Complete...\n",
      "2025-06-25 11:11:38,877 INFO  [enrich.Timber_NSpatial]     step 8/10 Fix board veg types and others\n"
     ]
    },
    {
     "name": "stdout",
     "output_type": "stream",
     "text": [
      "TBD\n",
      "TBD\n",
      "TBD\n",
      "TBD\n",
      "TBD\n",
      "TBD\n",
      "TBD\n",
      "TBD\n",
      "TBD\n",
      "TBD\n",
      "TBD\n",
      "TBD\n",
      "TBD\n",
      "TBD\n",
      "TBD\n",
      "TBD\n",
      "TBD\n",
      "TBD\n",
      "TBD\n",
      "TBD\n",
      "TBD\n",
      "TBD\n",
      "TBD\n",
      "TBD\n",
      "TBD\n",
      "TBD\n"
     ]
    },
    {
     "name": "stderr",
     "output_type": "stream",
     "text": [
      "2025-06-25 11:11:38,880 INFO  [enrich.Timber_NSpatial]     step 9/10 Assign Domains...\n",
      "2025-06-25 11:11:39,069 INFO  [utils.assign_domains  ]        Created domain 'D_OBJECTIVE' with 27 values\n",
      "2025-06-25 11:11:39,076 INFO  [utils.assign_domains  ]        Created domain 'D_STATUS' with 6 values\n",
      "2025-06-25 11:11:39,083 INFO  [utils.assign_domains  ]        Created domain 'D_CNTY' with 59 values\n",
      "2025-06-25 11:11:39,088 INFO  [utils.assign_domains  ]        Created domain 'D_IN_WUI' with 4 values\n",
      "2025-06-25 11:11:39,096 INFO  [utils.assign_domains  ]        Created domain 'D_ACTVDSCRP' with 61 values\n",
      "2025-06-25 11:11:39,102 INFO  [utils.assign_domains  ]        Created domain 'D_ACTVCAT' with 8 values\n",
      "2025-06-25 11:11:39,108 INFO  [utils.assign_domains  ]        Created domain 'D_USERDEFINED' with 2 values\n",
      "2025-06-25 11:11:39,114 INFO  [utils.assign_domains  ]        Created domain 'D_BVT' with 8 values\n",
      "2025-06-25 11:11:39,120 INFO  [utils.assign_domains  ]        Created domain 'D_RESIDUEFATE' with 15 values\n",
      "2025-06-25 11:11:39,126 INFO  [utils.assign_domains  ]        Created domain 'D_UOM' with 6 values\n",
      "2025-06-25 11:11:39,132 INFO  [utils.assign_domains  ]        Created domain 'D_TASKFORCE' with 5 values\n",
      "2025-06-25 11:11:39,138 INFO  [utils.assign_domains  ]        Created domain 'D_PR_OWN_GR' with 7 values\n",
      "2025-06-25 11:11:39,144 INFO  [utils.assign_domains  ]        Created domain 'D_FNDSRC' with 11 values\n",
      "2025-06-25 11:11:39,150 INFO  [utils.assign_domains  ]        Created domain 'D_AGENCY' with 9 values\n",
      "2025-06-25 11:11:39,157 INFO  [utils.assign_domains  ]        Created domain 'D_ORGANIZATION' with 32 values\n",
      "2025-06-25 11:11:39,163 INFO  [utils.assign_domains  ]        Warning: 1 rows with NULL values were dropped from 'D_DATASTATUS'\n",
      "2025-06-25 11:11:39,163 INFO  [utils.assign_domains  ]        Created domain 'D_DATASTATUS' with 2 values\n",
      "2025-06-25 11:11:39,169 INFO  [utils.assign_domains  ]        Created domain 'D_DATAMSG' with 3 values\n",
      "2025-06-25 11:11:39,175 INFO  [utils.assign_domains  ]        Created domain 'D_VERFIEDMSG' with 2 values\n",
      "2025-06-25 11:11:39,180 INFO  [utils.assign_domains  ]        Created domain 'D_TRMT_GEOM' with 4 values\n",
      "2025-06-25 11:11:39,181 INFO  [utils.assign_domains  ]        Assign domains to project-related columns\n",
      "2025-06-25 11:11:39,185 INFO  [utils.assign_domains  ]        Assign domains to treatment-related columns\n",
      "2025-06-25 11:11:39,190 INFO  [utils.assign_domains  ]        Assign domains to activity-related columns\n",
      "2025-06-25 11:11:39,198 INFO  [enrich.Timber_NSpatial]     step 10/10 Save Result...\n",
      "2025-06-25 11:11:39,198 INFO  [utils.save_gdf_to_gdb ]        Windows machine detected\n",
      "2025-06-25 11:11:39,199 INFO  [utils.save_gdf_to_gdb ]        Check geodataframe geometry object and cast to Multi-x type if both exist\n",
      "2025-06-25 11:11:39,199 INFO  [utils.save_gdf_to_gdb ]        Running GDAL OpenFileGDB to save to file\n",
      "2025-06-25 11:11:39,265 INFO  [utils.save_gdf_to_gdb ]        File saved to D:\\WORK\\wildfire\\Interagency-Tracking-System\\its\\ITSGDB_backup\\V2.0\\Timber_Nonspatial_1950_2025.gdb Timber_Nonspatial_20250625\n"
     ]
    },
    {
     "name": "stdout",
     "output_type": "stream",
     "text": [
      "D:\\WORK\\wildfire\\Interagency-Tracking-System\\its\\ITSGDB_backup\\V2.0\\Timber_Nonspatial_1950_2025.gdb\n"
     ]
    }
   ],
   "source": [
    "enrich_Timber_Nonspatial(tn_input_excel_path,\n",
    "                         a_reference_gdb_path,\n",
    "                         start_year,\n",
    "                         end_year,\n",
    "                         output_gdb_path,\n",
    "                         output_layer_name)\n"
   ]
  },
  {
   "cell_type": "code",
   "execution_count": 9,
   "id": "43660e4d",
   "metadata": {},
   "outputs": [
    {
     "name": "stderr",
     "output_type": "stream",
     "text": [
      "C:\\Users\\sky\\.conda\\envs\\its_recode\\Lib\\site-packages\\pyogrio\\raw.py:198: RuntimeWarning: driver OpenFileGDB does not support open option DRIVER\n",
      "  return ogr_read(\n"
     ]
    }
   ],
   "source": [
    "tn_gdf = gpd.read_file(output_gdb_path, driver='OpenFileGDB', layer=output_layer_name)"
   ]
  },
  {
   "cell_type": "code",
   "execution_count": 10,
   "id": "bd29456b",
   "metadata": {},
   "outputs": [
    {
     "data": {
      "text/plain": [
       "0          TRANSITION_HARVEST\n",
       "1          TRANSITION_HARVEST\n",
       "2          TRANSITION_HARVEST\n",
       "3          TRANSITION_HARVEST\n",
       "4             AMW_AREA_RESTOR\n",
       "                ...          \n",
       "96               TREE_PLNTING\n",
       "97     VARIABLE_RETEN_HARVEST\n",
       "98     VARIABLE_RETEN_HARVEST\n",
       "99     VARIABLE_RETEN_HARVEST\n",
       "100    VARIABLE_RETEN_HARVEST\n",
       "Name: ACTIVITY_DESCRIPTION, Length: 101, dtype: object"
      ]
     },
     "execution_count": 10,
     "metadata": {},
     "output_type": "execute_result"
    }
   ],
   "source": [
    "tn_gdf.ACTIVITY_DESCRIPTION"
   ]
  },
  {
   "cell_type": "code",
   "execution_count": 11,
   "id": "10dc2466",
   "metadata": {},
   "outputs": [
    {
     "data": {
      "text/html": [
       "<div>\n",
       "<style scoped>\n",
       "    .dataframe tbody tr th:only-of-type {\n",
       "        vertical-align: middle;\n",
       "    }\n",
       "\n",
       "    .dataframe tbody tr th {\n",
       "        vertical-align: top;\n",
       "    }\n",
       "\n",
       "    .dataframe thead th {\n",
       "        text-align: right;\n",
       "    }\n",
       "</style>\n",
       "<table border=\"1\" class=\"dataframe\">\n",
       "  <thead>\n",
       "    <tr style=\"text-align: right;\">\n",
       "      <th></th>\n",
       "      <th>ACTIVITY_DESCRIPTION</th>\n",
       "      <th>PRIMARY_OBJECTIVE</th>\n",
       "    </tr>\n",
       "  </thead>\n",
       "  <tbody>\n",
       "    <tr>\n",
       "      <th>64</th>\n",
       "      <td>None</td>\n",
       "      <td>None</td>\n",
       "    </tr>\n",
       "  </tbody>\n",
       "</table>\n",
       "</div>"
      ],
      "text/plain": [
       "   ACTIVITY_DESCRIPTION PRIMARY_OBJECTIVE\n",
       "64                 None              None"
      ]
     },
     "execution_count": 11,
     "metadata": {},
     "output_type": "execute_result"
    }
   ],
   "source": [
    "tn_gdf[tn_gdf.ACTIVITY_CAT == 'NOT_DEFINED'][['ACTIVITY_DESCRIPTION', 'PRIMARY_OBJECTIVE']]"
   ]
  },
  {
   "cell_type": "code",
   "execution_count": 12,
   "id": "eda6c60a",
   "metadata": {},
   "outputs": [
    {
     "data": {
      "text/html": [
       "<div>\n",
       "<style scoped>\n",
       "    .dataframe tbody tr th:only-of-type {\n",
       "        vertical-align: middle;\n",
       "    }\n",
       "\n",
       "    .dataframe tbody tr th {\n",
       "        vertical-align: top;\n",
       "    }\n",
       "\n",
       "    .dataframe thead th {\n",
       "        text-align: right;\n",
       "    }\n",
       "</style>\n",
       "<table border=\"1\" class=\"dataframe\">\n",
       "  <thead>\n",
       "    <tr style=\"text-align: right;\">\n",
       "      <th></th>\n",
       "      <th>PROJECTID_USER</th>\n",
       "      <th>AGENCY</th>\n",
       "      <th>ORG_ADMIN_p</th>\n",
       "      <th>PROJECT_CONTACT</th>\n",
       "      <th>PROJECT_EMAIL</th>\n",
       "      <th>ADMINISTERING_ORG</th>\n",
       "      <th>PROJECT_NAME</th>\n",
       "      <th>PROJECT_STATUS</th>\n",
       "      <th>PROJECT_START</th>\n",
       "      <th>PROJECT_END</th>\n",
       "      <th>...</th>\n",
       "      <th>Source</th>\n",
       "      <th>Year</th>\n",
       "      <th>Year_txt</th>\n",
       "      <th>Act_Code</th>\n",
       "      <th>Crosswalk</th>\n",
       "      <th>Federal_FY</th>\n",
       "      <th>State_FY</th>\n",
       "      <th>TRMT_GEOM</th>\n",
       "      <th>COUNTS_TO_MAS</th>\n",
       "      <th>geometry</th>\n",
       "    </tr>\n",
       "  </thead>\n",
       "  <tbody>\n",
       "    <tr>\n",
       "      <th>64</th>\n",
       "      <td>TI-64</td>\n",
       "      <td>TIMBER</td>\n",
       "      <td>None</td>\n",
       "      <td>None</td>\n",
       "      <td>None</td>\n",
       "      <td>TIMBER</td>\n",
       "      <td>TI-64</td>\n",
       "      <td>None</td>\n",
       "      <td>NaT</td>\n",
       "      <td>NaT</td>\n",
       "      <td>...</td>\n",
       "      <td>Industrial Timber</td>\n",
       "      <td>2024.0</td>\n",
       "      <td>2024</td>\n",
       "      <td>NaN</td>\n",
       "      <td>TBD</td>\n",
       "      <td>2025</td>\n",
       "      <td>2025</td>\n",
       "      <td>POINT</td>\n",
       "      <td>YES</td>\n",
       "      <td>POINT (-328151.557 -42457.562)</td>\n",
       "    </tr>\n",
       "  </tbody>\n",
       "</table>\n",
       "<p>1 rows × 91 columns</p>\n",
       "</div>"
      ],
      "text/plain": [
       "   PROJECTID_USER  AGENCY ORG_ADMIN_p PROJECT_CONTACT PROJECT_EMAIL  \\\n",
       "64          TI-64  TIMBER        None            None          None   \n",
       "\n",
       "   ADMINISTERING_ORG PROJECT_NAME PROJECT_STATUS PROJECT_START PROJECT_END  \\\n",
       "64            TIMBER        TI-64           None           NaT         NaT   \n",
       "\n",
       "    ...             Source    Year Year_txt  Act_Code  Crosswalk Federal_FY  \\\n",
       "64  ...  Industrial Timber  2024.0     2024       NaN        TBD       2025   \n",
       "\n",
       "   State_FY TRMT_GEOM COUNTS_TO_MAS                        geometry  \n",
       "64     2025     POINT           YES  POINT (-328151.557 -42457.562)  \n",
       "\n",
       "[1 rows x 91 columns]"
      ]
     },
     "execution_count": 12,
     "metadata": {},
     "output_type": "execute_result"
    }
   ],
   "source": [
    "tn_gdf[tn_gdf.ACTIVITY_CAT == 'NOT_DEFINED']"
   ]
  },
  {
   "cell_type": "code",
   "execution_count": null,
   "id": "ecc102e1",
   "metadata": {},
   "outputs": [],
   "source": []
  }
 ],
 "metadata": {
  "kernelspec": {
   "display_name": "Python 3 (ipykernel)",
   "language": "python",
   "name": "python3"
  },
  "language_info": {
   "codemirror_mode": {
    "name": "ipython",
    "version": 3
   },
   "file_extension": ".py",
   "mimetype": "text/x-python",
   "name": "python",
   "nbconvert_exporter": "python",
   "pygments_lexer": "ipython3",
   "version": "3.13.1"
  }
 },
 "nbformat": 4,
 "nbformat_minor": 5
}

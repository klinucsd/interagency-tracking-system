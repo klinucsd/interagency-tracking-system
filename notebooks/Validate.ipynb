{
 "cells": [
  {
   "cell_type": "code",
   "execution_count": 1,
   "id": "cc9ab27e",
   "metadata": {},
   "outputs": [],
   "source": [
    "import geopandas as gpd"
   ]
  },
  {
   "cell_type": "code",
   "execution_count": null,
   "id": "e8fd0545",
   "metadata": {},
   "outputs": [],
   "source": [
    "validation_gdb_path = r\"D:\\WORK\\wildfire\\Interagency-Tracking-System\\its\\Interagency Tracking System.gdb\"\n",
    "validation_layer_name =\"BLM_enriched2023_20240918\"\n",
    "output_gdb_path = r\"D:\\WORK\\wildfire\\Interagency-Tracking-System\\its\\ITSGDB_backup\\tmp\\BLM_{}_{}.gdb\".format(start_year, end_year)\n",
    "output_layer_name = f\"BLM_enriched_{datetime.today().strftime('%Y%m%d')}\"\n"
   ]
  },
  {
   "cell_type": "code",
   "execution_count": null,
   "id": "4c1c5416",
   "metadata": {},
   "outputs": [],
   "source": []
  }
 ],
 "metadata": {
  "kernelspec": {
   "display_name": "Python 3 (ipykernel)",
   "language": "python",
   "name": "python3"
  },
  "language_info": {
   "codemirror_mode": {
    "name": "ipython",
    "version": 3
   },
   "file_extension": ".py",
   "mimetype": "text/x-python",
   "name": "python",
   "nbconvert_exporter": "python",
   "pygments_lexer": "ipython3",
   "version": "3.13.1"
  }
 },
 "nbformat": 4,
 "nbformat_minor": 5
}

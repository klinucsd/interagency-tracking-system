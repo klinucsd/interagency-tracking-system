{
 "cells": [
  {
   "cell_type": "code",
   "execution_count": 27,
   "id": "6f301cf5",
   "metadata": {},
   "outputs": [],
   "source": [
    "import os\n",
    "import numpy as np\n",
    "import pandas as pd\n",
    "import geopandas as gpd\n",
    "import sys\n",
    "import math\n",
    "import logging\n",
    "sys.path.append('../')\n",
    "\n",
    "import dask_geopandas\n",
    "# some data need to be converted to multi-type again\n",
    "from utils.save_gdf_to_gdb import save_gdf_to_gdb\n",
    "#from process.footprint_report import update_ln, update_poly, update_pt\n",
    "from shapely import Polygon, MultiPolygon\n",
    "from shapely import affinity\n",
    "import dask_geopandas\n",
    "\n",
    "from its_logging.logger_config import logger\n",
    "logger = logging.getLogger('process.footprint')"
   ]
  },
  {
   "cell_type": "code",
   "execution_count": 2,
   "id": "f47152b2",
   "metadata": {},
   "outputs": [
    {
     "name": "stderr",
     "output_type": "stream",
     "text": [
      "C:\\Users\\sky\\.conda\\envs\\its_recode\\Lib\\site-packages\\pyogrio\\raw.py:198: RuntimeWarning: driver OpenFileGDB does not support open option DRIVER\n",
      "  return ogr_read(\n",
      "C:\\Users\\sky\\.conda\\envs\\its_recode\\Lib\\site-packages\\pyogrio\\raw.py:198: RuntimeWarning: organizePolygons() received a polygon with more than 100 parts.  The processing may be really slow.  You can skip the processing by setting METHOD=SKIP.\n",
      "  return ogr_read(\n"
     ]
    }
   ],
   "source": [
    "\n",
    "veg_gdf = gpd.read_file(r'D:\\WORK\\wildfire\\Interagency-Tracking-System\\its\\Interagency Tracking System.gdb', \n",
    "                                    driver='OpenFileGDB', \n",
    "                                    layer='Own_Veg_Region_WUI')\n"
   ]
  },
  {
   "cell_type": "code",
   "execution_count": 3,
   "id": "4c4e1595",
   "metadata": {},
   "outputs": [],
   "source": [
    "append_path = r\"D:\\WORK\\wildfire\\Interagency-Tracking-System\\its\\ITSGDB_backup\\V2.0\\appended.gdb\""
   ]
  },
  {
   "cell_type": "code",
   "execution_count": 4,
   "id": "9acb4bce",
   "metadata": {},
   "outputs": [],
   "source": [
    "report_path = r\"D:\\WORK\\wildfire\\Interagency-Tracking-System\\its\\ITSGDB_backup\\V2.0\\reports.gdb\""
   ]
  },
  {
   "cell_type": "code",
   "execution_count": 5,
   "id": "d97883d7",
   "metadata": {},
   "outputs": [
    {
     "name": "stderr",
     "output_type": "stream",
     "text": [
      "C:\\Users\\sky\\.conda\\envs\\its_recode\\Lib\\site-packages\\pyogrio\\raw.py:198: RuntimeWarning: driver OpenFileGDB does not support open option DRIVER\n",
      "  return ogr_read(\n",
      "C:\\Users\\sky\\.conda\\envs\\its_recode\\Lib\\site-packages\\pyogrio\\raw.py:198: RuntimeWarning: driver OpenFileGDB does not support open option DRIVER\n",
      "  return ogr_read(\n",
      "C:\\Users\\sky\\.conda\\envs\\its_recode\\Lib\\site-packages\\pyogrio\\raw.py:198: RuntimeWarning: driver OpenFileGDB does not support open option DRIVER\n",
      "  return ogr_read(\n"
     ]
    }
   ],
   "source": [
    "enriched_polygons = gpd.read_file(append_path, driver='OpenFileGDB', layer='appended_poly')\n",
    "enriched_points = gpd.read_file(append_path, driver='OpenFileGDB', layer='appended_point')\n",
    "enriched_lines = gpd.read_file(append_path, driver='OpenFileGDB', layer='appended_line')"
   ]
  },
  {
   "cell_type": "code",
   "execution_count": 6,
   "id": "31d140ad",
   "metadata": {},
   "outputs": [],
   "source": [
    "years = ['2021', '2022', '2023', '2024']"
   ]
  },
  {
   "cell_type": "code",
   "execution_count": 7,
   "id": "e328b6c4",
   "metadata": {},
   "outputs": [],
   "source": [
    "def get_max_treatment(gdf):\n",
    "    '''\n",
    "    only use on specific agencies where treatment is reported with the same geometry\n",
    "    '''\n",
    "    max_idx = gdf.groupby(['TRMTID_USER', 'Year_txt'])['ACTIVITY_QUANTITY'].idxmax()\n",
    "    return gdf.loc[max_idx]"
   ]
  },
  {
   "cell_type": "code",
   "execution_count": 8,
   "id": "01db723f",
   "metadata": {},
   "outputs": [],
   "source": [
    "def buffer_overreport_poly(row):\n",
    "    if row.ACRE_RATIO <= 1:\n",
    "        return row.geometry\n",
    "    \n",
    "    # scale up by centroid if type is polygon\n",
    "    if isinstance(row.geometry, Polygon):\n",
    "        return affinity.scale(row.geometry, xfact=np.sqrt(row.ACRE_RATIO), yfact=np.sqrt(row.ACRE_RATIO))\n",
    "    # scale up by centroid of each polygon in multi-polygon\n",
    "    else:\n",
    "        out = []\n",
    "        for geom in list(row.geometry.geoms):\n",
    "            out.append(affinity.scale(geom, xfact=np.sqrt(row.ACRE_RATIO), yfact=np.sqrt(row.ACRE_RATIO)))\n",
    "        return MultiPolygon(out)"
   ]
  },
  {
   "cell_type": "code",
   "execution_count": 9,
   "id": "a4e9b4c6",
   "metadata": {},
   "outputs": [],
   "source": [
    "def update_pt(enriched_points: gpd.GeoDataFrame) -> gpd.GeoDataFrame:\n",
    "    \"\"\"Update points with buffer calculations.\"\"\"\n",
    "    logger.info(f\"      initial points count: {len(enriched_points)}\")\n",
    "    \n",
    "    # Add BufferMeters field\n",
    "    enriched_points['BufferMeters'] = None\n",
    "    \n",
    "    # Calculate buffer for AC units\n",
    "    mask1 = (enriched_points['ACTIVITY_QUANTITY'].notna()) & (enriched_points['ACTIVITY_UOM'] == 'AC')\n",
    "    logger.info(f\"      points with valid ACTIVITY_QUANTITY and AC units: {mask1.sum()}\")\n",
    "    \n",
    "    # Buffer point by their reported activity quantity \n",
    "    enriched_points.loc[mask1, 'BufferMeters'] = np.sqrt((enriched_points.loc[mask1, 'ACTIVITY_QUANTITY'] * 4046.86) / math.pi)\n",
    "    \n",
    "    # Filter for COUNTS_TO_MAS\n",
    "    mask2 = (enriched_points['COUNTS_TO_MAS'] == 'YES') & (enriched_points['BufferMeters'].notna())\n",
    "    logger.info(f\"      points with COUNTS_TO_MAS='YES' and valid BufferMeters: {mask2.sum()}\")\n",
    "    \n",
    "    selected_points = enriched_points[mask2].copy()\n",
    "\n",
    "    selected_points = selected_points[selected_points['BufferMeters'] > 0]\n",
    "    logger.info(f\"      points with BufferMeters > 0: {len(selected_points)}\")\n",
    "    \n",
    "    # Create buffers\n",
    "    buffered_geoms = selected_points.apply(\n",
    "        lambda row: row.geometry.buffer(row['BufferMeters']) if pd.notnull(row['BufferMeters']) else row.geometry,\n",
    "        axis=1\n",
    "    )\n",
    "    \n",
    "    # Create new GeoDataFrame with buffered geometries\n",
    "    result = selected_points.copy()\n",
    "    result.geometry = buffered_geoms\n",
    "    logger.info(f\"      final points count: {len(result)}\")\n",
    "    return result\n",
    "\n",
    "\n",
    "def update_ln(enriched_lines: gpd.GeoDataFrame) -> gpd.GeoDataFrame:\n",
    "    \"\"\"Update lines with buffer calculations.\"\"\"\n",
    "    logger.info(f\"      initial lines count: {len(enriched_lines)}\")\n",
    "        \n",
    "    # Check for case differences\n",
    "    if 'ACTIVITY_UOM' in enriched_lines.columns:\n",
    "        unique_uom = enriched_lines['ACTIVITY_UOM'].unique()\n",
    "        logger.info(f\"      unique ACTIVITY_UOM values: {unique_uom}\")\n",
    "    \n",
    "    # Add BufferMeters field\n",
    "    enriched_lines['BufferMeters'] = None\n",
    "    \n",
    "    # Calculate line lengths\n",
    "    line_lengths = enriched_lines.geometry.length\n",
    "    logger.info(f\"      lines with length > 0: {(line_lengths > 0).sum()}\")\n",
    "    \n",
    "    # Modify conditions to be more lenient and check for case variations\n",
    "    condition1 = enriched_lines['ACTIVITY_QUANTITY'].notna() if 'ACTIVITY_QUANTITY' in enriched_lines.columns else False\n",
    "    logger.info(f\"      lines with valid ACTIVITY_QUANTITY: {condition1.sum() if isinstance(condition1, pd.Series) else 0}\")\n",
    "    \n",
    "    condition2 = enriched_lines['ACTIVITY_UOM'].str.upper() == 'AC' if 'ACTIVITY_UOM' in enriched_lines.columns else False\n",
    "    logger.info(f\"      lines with ACTIVITY_UOM = 'AC' (case insensitive): {condition2.sum() if isinstance(condition2, pd.Series) else 0}\")\n",
    "    \n",
    "    # Check combined conditions\n",
    "    mask1 = condition1 & condition2 & (line_lengths > 0)\n",
    "    logger.info(f\"      lines meeting all conditions: {mask1.sum() if isinstance(mask1, pd.Series) else 0}\")\n",
    "    \n",
    "    if not isinstance(mask1, pd.Series) or mask1.sum() == 0:\n",
    "        logger.warning(\"      no lines meet the filtering criteria. Please check if the required columns exist and contain expected values.\")\n",
    "        return enriched_lines[enriched_lines['geometry'].notna()].head(0)  # Return empty GeoDataFrame with same schema\n",
    "    \n",
    "    # Calculate buffer distances\n",
    "    enriched_lines.loc[mask1, 'BufferMeters'] = (\n",
    "        (enriched_lines.loc[mask1, 'ACTIVITY_QUANTITY'] * 4046.86) / \n",
    "        line_lengths[mask1] / 2\n",
    "    )\n",
    "    \n",
    "    # Check COUNTS_TO_MAS condition\n",
    "    condition3 =  (enriched_lines['COUNTS_TO_MAS'] == 'YES') & (enriched_lines['BufferMeters'].notna())\n",
    "    logger.info(f\"      lines with COUNTS_TO_MAS = 'YES': {condition3.sum() if isinstance(condition3, pd.Series) else 0}\")\n",
    "    \n",
    "    condition4 = ~((enriched_lines['BufferMeters'] >= 200) & (enriched_lines['Source'] == 'CalTrans'))\n",
    "    \n",
    "    # Final filter\n",
    "    mask2 = condition3 & condition4\n",
    "    selected_lines = enriched_lines[mask2].copy()\n",
    "    \n",
    "    # caltrans activity is merged with treatment_id/geometry pair\n",
    "    # safe to only take max to reduce dissolve process time\n",
    "    caltrans = get_max_treatment(selected_lines[selected_lines.Source == 'CALTRANS'])\n",
    "    selected_lines = pd.concat([selected_lines[selected_lines.Source != 'CALTRANS'], caltrans],ignore_index=True)\n",
    "    \n",
    "    \n",
    "    # Create buffers\n",
    "    buffered_geoms = selected_lines.apply(\n",
    "        lambda row: row.geometry.buffer(row['BufferMeters'], cap_style='flat'),\n",
    "        axis=1\n",
    "    )\n",
    "    \n",
    "    # Create new GeoDataFrame with buffered geometries\n",
    "    result = selected_lines.copy()\n",
    "    result.geometry = buffered_geoms\n",
    "    logger.info(f\"      final lines count: {len(result)}\")\n",
    "    \n",
    "    return result\n",
    "\n",
    "\n",
    "def update_poly(enriched_polygons: gpd.GeoDataFrame) -> gpd.GeoDataFrame:\n",
    "    \"\"\"Update polygons with selection criteria.\"\"\"\n",
    "    logger.info(f\"      initial polygons count: {len(enriched_polygons)}\")\n",
    "\n",
    "    mas_gdf = enriched_polygons[enriched_polygons['COUNTS_TO_MAS'] == 'YES']\n",
    "    logger.info(f\"      polygons with COUNTS_TO_MAS = 'YES': {mas_gdf.shape}\")\n",
    "    \n",
    "    # inherited from arcpy version\n",
    "    # from logger there seems to be no such anomoly\n",
    "    treatment_gdf = enriched_polygons[enriched_polygons['TREATMENT_AREA'] < 100000]\n",
    "    logger.info(f\"      polygons with 'TREATMENT_AREA' < 100000: {treatment_gdf.shape}\")\n",
    "    \n",
    "    mask = (\n",
    "        (enriched_polygons['COUNTS_TO_MAS'] == 'YES') & \n",
    "        (enriched_polygons['TREATMENT_AREA'] < 100000)\n",
    "    )\n",
    "\n",
    "    final_gdf = enriched_polygons[mask].copy()\n",
    "    \n",
    "    \n",
    "        \n",
    "\n",
    "    # scale up by centroid of polygon geometry if reported acre is larger than geometry area\n",
    "    final_gdf['ACRE_RATIO'] = final_gdf.ACTIVITY_QUANTITY* 4046.86/(final_gdf.geometry.area)\n",
    "    final_gdf.geometry = final_gdf.apply(buffer_overreport_poly, axis = 1)\n",
    "    final_gdf = final_gdf.drop('ACRE_RATIO', axis=1)\n",
    "    \n",
    "    \n",
    "    logger.info(f\"      final polygons: {final_gdf.shape}\")\n",
    "    \n",
    "    return final_gdf"
   ]
  },
  {
   "cell_type": "code",
   "execution_count": 10,
   "id": "478544bf",
   "metadata": {},
   "outputs": [
    {
     "name": "stderr",
     "output_type": "stream",
     "text": [
      "2025-08-03 19:20:06,594 INFO  [process.footprint     ]        initial points count: 20443\n",
      "2025-08-03 19:20:06,598 INFO  [process.footprint     ]        points with valid ACTIVITY_QUANTITY and AC units: 19325\n",
      "2025-08-03 19:20:06,604 INFO  [process.footprint     ]        points with COUNTS_TO_MAS='YES' and valid BufferMeters: 4933\n",
      "2025-08-03 19:20:06,633 INFO  [process.footprint     ]        points with BufferMeters > 0: 4273\n",
      "2025-08-03 19:20:06,751 INFO  [process.footprint     ]        final points count: 4273\n",
      "2025-08-03 19:20:06,754 INFO  [process.footprint     ]        initial lines count: 131658\n",
      "2025-08-03 19:20:06,767 INFO  [process.footprint     ]        unique ACTIVITY_UOM values: ['AC' 'MI' None 'EA' 'TON']\n",
      "2025-08-03 19:20:07,285 INFO  [process.footprint     ]        lines with length > 0: 131658\n",
      "2025-08-03 19:20:07,286 INFO  [process.footprint     ]        lines with valid ACTIVITY_QUANTITY: 131628\n",
      "2025-08-03 19:20:07,315 INFO  [process.footprint     ]        lines with ACTIVITY_UOM = 'AC' (case insensitive): 131544\n",
      "2025-08-03 19:20:07,316 INFO  [process.footprint     ]        lines meeting all conditions: 131544\n",
      "2025-08-03 19:20:07,333 INFO  [process.footprint     ]        lines with COUNTS_TO_MAS = 'YES': 131530\n",
      "2025-08-03 19:20:11,624 INFO  [process.footprint     ]        final lines count: 2556\n",
      "2025-08-03 19:20:11,625 INFO  [process.footprint     ]        initial polygons count: 455318\n",
      "2025-08-03 19:20:12,015 INFO  [process.footprint     ]        polygons with COUNTS_TO_MAS = 'YES': (358827, 96)\n",
      "2025-08-03 19:20:12,432 INFO  [process.footprint     ]        polygons with 'TREATMENT_AREA' < 100000: (455316, 96)\n",
      "2025-08-03 19:20:24,216 INFO  [process.footprint     ]        final polygons: (358826, 96)\n"
     ]
    },
    {
     "name": "stdout",
     "output_type": "stream",
     "text": [
      "CPU times: total: 17.9 s\n",
      "Wall time: 18 s\n"
     ]
    }
   ],
   "source": [
    "%%time\n",
    "# Unit of Measure == Acres\n",
    "# buffer data by activity quantity acre to the exact amount of acres\n",
    "buffered_pt = update_pt(enriched_points)\n",
    "buffered_ln = update_ln(enriched_lines)\n",
    "buffered_poly = update_poly(enriched_polygons)"
   ]
  },
  {
   "cell_type": "code",
   "execution_count": 14,
   "id": "02bd4fa8",
   "metadata": {},
   "outputs": [
    {
     "name": "stdout",
     "output_type": "stream",
     "text": [
      "CPU times: total: 25.8 s\n",
      "Wall time: 25.8 s\n"
     ]
    }
   ],
   "source": [
    "%%time\n",
    "for y in years:\n",
    "    poly_cur_y = buffered_poly[buffered_poly['Year_txt'] == y]\n",
    "    ln_cur_y = buffered_ln[buffered_ln['Year_txt'] == y]\n",
    "    pt_cur_y = buffered_pt[buffered_pt['Year_txt'] == y]\n",
    "    \n",
    "    # timber nonspatial should not follow the spatial operations below\n",
    "    # take reported value at face value\n",
    "    # append later to final result\n",
    "    timber_cur_y = pt_cur_y[pt_cur_y.AGENCY == 'TIMBER']\n",
    "\n",
    "    \n",
    "    # concat together\n",
    "    footprint_cur_y = pd.concat([poly_cur_y, ln_cur_y, pt_cur_y[pt_cur_y.AGENCY != 'TIMBER']], ignore_index=True)\n",
    "    \n",
    "    # drop unecessary fields, dissolve by treatment and take max activity quantity \n",
    "    # 05/08/2025 UPDATE: subject to change\n",
    "    dissolved_cur_y = footprint_cur_y[['TRMTID_USER', 'ACTIVITY_QUANTITY', 'geometry']].dissolve('TRMTID_USER', aggfunc='max')\n",
    "    \n",
    "    \n",
    "    # append the first instance of agency value to associated treatment id\n",
    "    # used later to manually assign onwership for caltrans data specifically\n",
    "    agency = footprint_cur_y.set_index(footprint_cur_y.TRMTID_USER).loc[dissolved_cur_y.index, 'AGENCY']\n",
    "    \n",
    "    dissolved_cur_y['AGENCY'] = agency[~agency.index.duplicated()]\n",
    "    \n",
    "    # make valid would split a invalid polygon to multiple valid polygons and convert to MultiPolygon type\n",
    "    dissolved_cur_y.geometry = dissolved_cur_y.make_valid()\n",
    "    \n",
    "    # simplified SIG Meatball&Speghetti function\n",
    "    # use spatial join to rule out high overlapping\n",
    "    ##############################################################################################################\n",
    "    \n",
    "    # create \"meatballs\" by taking the representative point of footprint polygons\n",
    "    dissolved_point = dissolved_cur_y.copy()\n",
    "    dissolved_point.geometry = dissolved_point.representative_point()\n",
    "    \n",
    "    # perform spatial join to find intersecting point/polygon\n",
    "    # left join to keep all points and multiple polygons\n",
    "    joined_data = gpd.sjoin(dissolved_point, dissolved_cur_y, how='left', predicate='intersects').reset_index()\n",
    "\n",
    "    \n",
    "    # for polygon with multiple overlapping points, find the Treatment ID of those points whose Activity Quantity\n",
    "    # is smaller than the polygon's Activity Quantity\n",
    "    footprint_mask = joined_data[joined_data['ACTIVITY_QUANTITY_left'] < joined_data['ACTIVITY_QUANTITY_right']]['TRMTID_USER_left']\n",
    "    \n",
    "    # remove these non-qualifying treatments from footprint, essentially the same as taking max for overlapping\n",
    "    footpring_gdf = dissolved_cur_y.reset_index()\n",
    "    footpring_gdf = footpring_gdf[~footpring_gdf['TRMTID_USER'].isin(footprint_mask)]\n",
    "    \n",
    "    ##############################################################################################################\n",
    "\n",
    "    # dask spatial join to enrich vegetation, ownership, etc.\n",
    "    # use representative point for faster sjoin\n",
    "    footprint_pts = footpring_gdf.copy()\n",
    "    footprint_pts.geometry = footprint_pts.representative_point()\n",
    "    ddf = dask_geopandas.from_geopandas(footprint_pts, npartitions=16)\n",
    "    # TODO: some points may fall outside of veg, ownership layer?\n",
    "    footprint_enriched = ddf.sjoin(veg_gdf, how='inner', predicate='intersects').compute()\n",
    "    \n",
    "    # manually assign CALTRANS ownership to state\n",
    "    footprint_enriched.loc[footprint_enriched.AGENCY=='CALSTA', 'PRIMARY_OWNERSHIP_GROUP'] = 'STATE'\n",
    "    \n",
    "    # reassign the polygon geometry back to enriched footprint\n",
    "    footprint_enriched.geometry = footpring_gdf.geometry\n",
    "    # drop artifact columns\n",
    "    footprint_enriched = footprint_enriched.drop(['index_right', 'Shape_Length', 'Shape_Area'], axis=1)\n",
    "    \n",
    "    # assign timber \n",
    "    timber_cur_y['WUI'] = 'Non-WUI'\n",
    "    \n",
    "    # append timber back to footprint\n",
    "    footprint_enriched = pd.concat([footprint_enriched, timber_cur_y[footprint_enriched.columns]])\n",
    "    \n",
    "    # save to file\n",
    "    save_gdf_to_gdb(footprint_enriched, report_path, 'footprint' + y)"
   ]
  },
  {
   "cell_type": "code",
   "execution_count": null,
   "id": "b18ef195",
   "metadata": {},
   "outputs": [],
   "source": []
  },
  {
   "cell_type": "code",
   "execution_count": null,
   "id": "a734f271",
   "metadata": {},
   "outputs": [],
   "source": []
  },
  {
   "cell_type": "code",
   "execution_count": 11,
   "id": "16a63107",
   "metadata": {},
   "outputs": [],
   "source": [
    "################################################"
   ]
  },
  {
   "cell_type": "code",
   "execution_count": 12,
   "id": "31350479",
   "metadata": {},
   "outputs": [],
   "source": [
    "y = '2023'"
   ]
  },
  {
   "cell_type": "code",
   "execution_count": 15,
   "id": "6e4a7b28",
   "metadata": {},
   "outputs": [],
   "source": [
    "# author: James Falter @ARB\n",
    "# Function to remove duplicate geometries with different coordinate vectors\n",
    "def remove_duplicates(gdf):\n",
    "    normalized_wkb = gdf.geometry.apply(lambda geom: geom.normalize().wkb)\n",
    "    unique_gdf = gdf.loc[~normalized_wkb.duplicated()].reset_index(drop=True)\n",
    "\n",
    "    return unique_gdf\n"
   ]
  },
  {
   "cell_type": "code",
   "execution_count": 13,
   "id": "16320bd8",
   "metadata": {},
   "outputs": [],
   "source": [
    "poly_cur_y = buffered_poly[buffered_poly['Year_txt'] == y]\n",
    "#ln_cur_y = buffered_ln[buffered_ln['Year_txt'] == y]\n",
    "pt_cur_y = buffered_pt[buffered_pt['Year_txt'] == y]\n",
    "\n",
    "# timber nonspatial should not follow the spatial operations below\n",
    "# take reported value at face value\n",
    "# append later to final result\n",
    "timber_cur_y = pt_cur_y[pt_cur_y.AGENCY == 'TIMBER']\n",
    "\n",
    "\n",
    "# concat together\n",
    "footprint_cur_y = pd.concat([poly_cur_y, pt_cur_y[pt_cur_y.AGENCY != 'TIMBER']], ignore_index=True)\n",
    "\n",
    "# drop unecessary fields, dissolve by treatment and take max activity quantity \n",
    "# 05/08/2025 UPDATE: subject to change\n",
    "dissolved_cur_y = footprint_cur_y[['TRMTID_USER', 'ACTIVITY_QUANTITY', 'geometry']].dissolve('TRMTID_USER', aggfunc='max')\n",
    "\n",
    "\n",
    "# append the first instance of agency value to associated treatment id\n",
    "# used later to manually assign onwership for caltrans data specifically\n",
    "agency = footprint_cur_y.set_index(footprint_cur_y.TRMTID_USER).loc[dissolved_cur_y.index, 'AGENCY']\n",
    "\n",
    "dissolved_cur_y['AGENCY'] = agency[~agency.index.duplicated()]\n",
    "\n",
    "# make valid would split a invalid polygon to multiple valid polygons and convert to MultiPolygon type\n",
    "dissolved_cur_y.geometry = dissolved_cur_y.make_valid()"
   ]
  },
  {
   "cell_type": "code",
   "execution_count": 14,
   "id": "e065aff4",
   "metadata": {},
   "outputs": [],
   "source": [
    "dissolved_cur_y = dissolved_cur_y.reset_index()"
   ]
  },
  {
   "cell_type": "code",
   "execution_count": 16,
   "id": "6f037fbb",
   "metadata": {},
   "outputs": [],
   "source": [
    "dissolved_cur_y = remove_duplicates(dissolved_cur_y)"
   ]
  },
  {
   "cell_type": "code",
   "execution_count": 17,
   "id": "cf8065be",
   "metadata": {},
   "outputs": [],
   "source": [
    "dissolved_point = dissolved_cur_y.copy()\n",
    "dissolved_point.geometry = dissolved_point.representative_point()\n",
    "\n",
    "# perform spatial join to find intersecting point/polygon\n",
    "# left join to keep all points and multiple polygons\n",
    "joined_data = gpd.sjoin(dissolved_point, dissolved_cur_y, how='left', predicate='intersects').reset_index()"
   ]
  },
  {
   "cell_type": "code",
   "execution_count": 18,
   "id": "55354251",
   "metadata": {},
   "outputs": [],
   "source": [
    "footprint_mask = joined_data[joined_data['ACTIVITY_QUANTITY_left'] < joined_data['ACTIVITY_QUANTITY_right']]['TRMTID_USER_left']\n",
    "    "
   ]
  },
  {
   "cell_type": "code",
   "execution_count": 24,
   "id": "c3b0d084",
   "metadata": {},
   "outputs": [],
   "source": [
    "footprint_gdf = dissolved_cur_y[~dissolved_cur_y['TRMTID_USER'].isin(footprint_mask)]"
   ]
  },
  {
   "cell_type": "code",
   "execution_count": 21,
   "id": "09319f21",
   "metadata": {},
   "outputs": [],
   "source": [
    "temp_mask_gdf = dissolved_cur_y[dissolved_cur_y['TRMTID_USER'].isin(footprint_mask)]"
   ]
  },
  {
   "cell_type": "code",
   "execution_count": 25,
   "id": "783d7554",
   "metadata": {},
   "outputs": [
    {
     "name": "stdout",
     "output_type": "stream",
     "text": [
      "CPU times: total: 18.8 s\n",
      "Wall time: 18.8 s\n"
     ]
    }
   ],
   "source": [
    "%%time\n",
    "dissolve_all = footprint_gdf.dissolve()"
   ]
  },
  {
   "cell_type": "code",
   "execution_count": 28,
   "id": "36ab866c",
   "metadata": {},
   "outputs": [],
   "source": [
    "ddf = dask_geopandas.from_geopandas(temp_mask_gdf)"
   ]
  },
  {
   "cell_type": "code",
   "execution_count": 35,
   "id": "5f95295d",
   "metadata": {},
   "outputs": [],
   "source": [
    "out = ddf.apply(lambda x: x.geometry.intersection(dissolve_all.geometry), axis=1, meta={0: 'geometry'}).compute()"
   ]
  },
  {
   "cell_type": "code",
   "execution_count": 76,
   "id": "ee660c58",
   "metadata": {},
   "outputs": [],
   "source": [
    "NOP_THRESHOLD = 0.5"
   ]
  },
  {
   "cell_type": "code",
   "execution_count": 77,
   "id": "09d20871",
   "metadata": {},
   "outputs": [],
   "source": [
    "nop_list = temp_mask_gdf[(out.geometry.area/temp_mask_gdf.area) < NOP_THRESHOLD].TRMTID_USER"
   ]
  },
  {
   "cell_type": "code",
   "execution_count": 52,
   "id": "86fd49a8",
   "metadata": {},
   "outputs": [
    {
     "data": {
      "text/plain": [
       "1          404.686000\n",
       "3         3206.600456\n",
       "8         5139.382888\n",
       "9        70502.573778\n",
       "10       49652.142481\n",
       "            ...      \n",
       "8746    240642.864254\n",
       "8748      4375.757061\n",
       "8751         0.000000\n",
       "8754     14825.329442\n",
       "8755     66063.205631\n",
       "Length: 1910, dtype: float64"
      ]
     },
     "execution_count": 52,
     "metadata": {},
     "output_type": "execute_result"
    }
   ],
   "source": []
  },
  {
   "cell_type": "code",
   "execution_count": null,
   "id": "bdb3a630",
   "metadata": {},
   "outputs": [],
   "source": [
    "dissolved_point"
   ]
  },
  {
   "cell_type": "code",
   "execution_count": 47,
   "id": "a8e7e659",
   "metadata": {},
   "outputs": [],
   "source": [
    "out = out.set_geometry(0)\n",
    "out.crs = dissolved_point.crs"
   ]
  },
  {
   "cell_type": "code",
   "execution_count": 48,
   "id": "3b47ab2f",
   "metadata": {},
   "outputs": [
    {
     "name": "stdout",
     "output_type": "stream",
     "text": [
      "CPU times: total: 15.6 ms\n",
      "Wall time: 13.8 ms\n"
     ]
    }
   ],
   "source": [
    "%%time\n",
    "auto_intersection = gpd.sjoin(dissolved_point[dissolved_point['TRMTID_USER'].isin(footprint_mask)], out, how='left', predicate='intersects').reset_index()"
   ]
  },
  {
   "cell_type": "code",
   "execution_count": 50,
   "id": "2204446b",
   "metadata": {},
   "outputs": [
    {
     "data": {
      "text/html": [
       "<div>\n",
       "<style scoped>\n",
       "    .dataframe tbody tr th:only-of-type {\n",
       "        vertical-align: middle;\n",
       "    }\n",
       "\n",
       "    .dataframe tbody tr th {\n",
       "        vertical-align: top;\n",
       "    }\n",
       "\n",
       "    .dataframe thead th {\n",
       "        text-align: right;\n",
       "    }\n",
       "</style>\n",
       "<table border=\"1\" class=\"dataframe\">\n",
       "  <thead>\n",
       "    <tr style=\"text-align: right;\">\n",
       "      <th></th>\n",
       "      <th>TRMTID_USER</th>\n",
       "      <th>geometry</th>\n",
       "      <th>ACTIVITY_QUANTITY</th>\n",
       "      <th>AGENCY</th>\n",
       "    </tr>\n",
       "  </thead>\n",
       "  <tbody>\n",
       "    <tr>\n",
       "      <th>1</th>\n",
       "      <td>0417011605010205305</td>\n",
       "      <td>POINT (-5219.723 172073.423)</td>\n",
       "      <td>0.100000</td>\n",
       "      <td>USDA</td>\n",
       "    </tr>\n",
       "    <tr>\n",
       "      <th>3</th>\n",
       "      <td>0417011605010205307</td>\n",
       "      <td>POINT (-4698.397 172028.541)</td>\n",
       "      <td>0.800000</td>\n",
       "      <td>USDA</td>\n",
       "    </tr>\n",
       "    <tr>\n",
       "      <th>8</th>\n",
       "      <td>0417011605010205312</td>\n",
       "      <td>POINT (-3916.242 169937.152)</td>\n",
       "      <td>1.300000</td>\n",
       "      <td>USDA</td>\n",
       "    </tr>\n",
       "    <tr>\n",
       "      <th>9</th>\n",
       "      <td>0417011605010205313</td>\n",
       "      <td>POINT (-2808.705 168391.923)</td>\n",
       "      <td>17.400000</td>\n",
       "      <td>USDA</td>\n",
       "    </tr>\n",
       "    <tr>\n",
       "      <th>10</th>\n",
       "      <td>0417011605010205314</td>\n",
       "      <td>POINT (-2838.226 167907.68)</td>\n",
       "      <td>20.100000</td>\n",
       "      <td>USDA</td>\n",
       "    </tr>\n",
       "    <tr>\n",
       "      <th>...</th>\n",
       "      <td>...</td>\n",
       "      <td>...</td>\n",
       "      <td>...</td>\n",
       "      <td>...</td>\n",
       "    </tr>\n",
       "    <tr>\n",
       "      <th>8746</th>\n",
       "      <td>{FF000DFA-788F-4C10-A01D-3AD433B3DF54}-CNRA</td>\n",
       "      <td>POINT (-216858.605 441836.513)</td>\n",
       "      <td>60.000000</td>\n",
       "      <td>CNRA</td>\n",
       "    </tr>\n",
       "    <tr>\n",
       "      <th>8748</th>\n",
       "      <td>{FF1D649C-0735-4350-92AE-3A2EBE6B2ADA}-CNRA</td>\n",
       "      <td>POINT (199491.518 -490172.805)</td>\n",
       "      <td>1.816909</td>\n",
       "      <td>CNRA</td>\n",
       "    </tr>\n",
       "    <tr>\n",
       "      <th>8751</th>\n",
       "      <td>{FF4B3BE2-5F65-4FDB-9B15-1294EE9CBA9B}-CNRA</td>\n",
       "      <td>POINT (66034.271 -415819.1)</td>\n",
       "      <td>0.000764</td>\n",
       "      <td>CNRA</td>\n",
       "    </tr>\n",
       "    <tr>\n",
       "      <th>8754</th>\n",
       "      <td>{FF7FEEC1-8D98-4394-A915-E14F43E342F6}-CNRA</td>\n",
       "      <td>POINT (-212635.91 -45825.137)</td>\n",
       "      <td>4.200000</td>\n",
       "      <td>CNRA</td>\n",
       "    </tr>\n",
       "    <tr>\n",
       "      <th>8755</th>\n",
       "      <td>{FFA48305-484B-4C86-A492-BDD3A5AC84C4}-CNRA</td>\n",
       "      <td>POINT (-171072.589 194289.926)</td>\n",
       "      <td>16.470346</td>\n",
       "      <td>CNRA</td>\n",
       "    </tr>\n",
       "  </tbody>\n",
       "</table>\n",
       "<p>1910 rows × 4 columns</p>\n",
       "</div>"
      ],
      "text/plain": [
       "                                      TRMTID_USER  \\\n",
       "1                             0417011605010205305   \n",
       "3                             0417011605010205307   \n",
       "8                             0417011605010205312   \n",
       "9                             0417011605010205313   \n",
       "10                            0417011605010205314   \n",
       "...                                           ...   \n",
       "8746  {FF000DFA-788F-4C10-A01D-3AD433B3DF54}-CNRA   \n",
       "8748  {FF1D649C-0735-4350-92AE-3A2EBE6B2ADA}-CNRA   \n",
       "8751  {FF4B3BE2-5F65-4FDB-9B15-1294EE9CBA9B}-CNRA   \n",
       "8754  {FF7FEEC1-8D98-4394-A915-E14F43E342F6}-CNRA   \n",
       "8755  {FFA48305-484B-4C86-A492-BDD3A5AC84C4}-CNRA   \n",
       "\n",
       "                            geometry  ACTIVITY_QUANTITY AGENCY  \n",
       "1       POINT (-5219.723 172073.423)           0.100000   USDA  \n",
       "3       POINT (-4698.397 172028.541)           0.800000   USDA  \n",
       "8       POINT (-3916.242 169937.152)           1.300000   USDA  \n",
       "9       POINT (-2808.705 168391.923)          17.400000   USDA  \n",
       "10       POINT (-2838.226 167907.68)          20.100000   USDA  \n",
       "...                              ...                ...    ...  \n",
       "8746  POINT (-216858.605 441836.513)          60.000000   CNRA  \n",
       "8748  POINT (199491.518 -490172.805)           1.816909   CNRA  \n",
       "8751     POINT (66034.271 -415819.1)           0.000764   CNRA  \n",
       "8754   POINT (-212635.91 -45825.137)           4.200000   CNRA  \n",
       "8755  POINT (-171072.589 194289.926)          16.470346   CNRA  \n",
       "\n",
       "[1910 rows x 4 columns]"
      ]
     },
     "execution_count": 50,
     "metadata": {},
     "output_type": "execute_result"
    }
   ],
   "source": [
    "dissolved_point[dissolved_point['TRMTID_USER'].isin(footprint_mask)]"
   ]
  },
  {
   "cell_type": "code",
   "execution_count": 51,
   "id": "9ca5b04c",
   "metadata": {},
   "outputs": [
    {
     "data": {
      "text/plain": [
       "array(['0417011605010205305', '0417011605010205307',\n",
       "       '0417011605010205312', ...,\n",
       "       '{FF4B3BE2-5F65-4FDB-9B15-1294EE9CBA9B}-CNRA',\n",
       "       '{FF7FEEC1-8D98-4394-A915-E14F43E342F6}-CNRA',\n",
       "       '{FFA48305-484B-4C86-A492-BDD3A5AC84C4}-CNRA'],\n",
       "      shape=(1910,), dtype=object)"
      ]
     },
     "execution_count": 51,
     "metadata": {},
     "output_type": "execute_result"
    }
   ],
   "source": [
    "auto_intersection.TRMTID_USER.unique()"
   ]
  },
  {
   "cell_type": "code",
   "execution_count": 70,
   "id": "666a0903",
   "metadata": {},
   "outputs": [],
   "source": [
    "################################################"
   ]
  },
  {
   "cell_type": "code",
   "execution_count": 71,
   "id": "42f3d069",
   "metadata": {},
   "outputs": [],
   "source": [
    "interaction_gdf_list = get_interaction_list(dissolved_cur_y)"
   ]
  },
  {
   "cell_type": "code",
   "execution_count": 72,
   "id": "8c477c7a",
   "metadata": {},
   "outputs": [],
   "source": [
    "non_intersection_poly = [i for i, count in enumerate([len(gdf) for gdf in interaction_gdf_list]) if count == 0]"
   ]
  },
  {
   "cell_type": "code",
   "execution_count": 73,
   "id": "80f48826",
   "metadata": {},
   "outputs": [
    {
     "data": {
      "text/plain": [
       "3659"
      ]
     },
     "execution_count": 73,
     "metadata": {},
     "output_type": "execute_result"
    }
   ],
   "source": [
    "len(non_intersection_poly)"
   ]
  },
  {
   "cell_type": "code",
   "execution_count": 74,
   "id": "4bf75955",
   "metadata": {},
   "outputs": [],
   "source": [
    "gdf = dissolved_cur_y"
   ]
  },
  {
   "cell_type": "code",
   "execution_count": 82,
   "id": "dc152c95",
   "metadata": {},
   "outputs": [
    {
     "data": {
      "text/plain": [
       "np.int64(6104)"
      ]
     },
     "execution_count": 82,
     "metadata": {},
     "output_type": "execute_result"
    }
   ],
   "source": [
    "gdf[gdf.TRMTID_USER.isin(nop_list)].index[101]"
   ]
  },
  {
   "cell_type": "code",
   "execution_count": 99,
   "id": "a31b8650",
   "metadata": {},
   "outputs": [],
   "source": [
    "import itertools"
   ]
  },
  {
   "cell_type": "code",
   "execution_count": 114,
   "id": "70b811c9",
   "metadata": {},
   "outputs": [],
   "source": []
  },
  {
   "cell_type": "code",
   "execution_count": 204,
   "id": "f3cb50e4",
   "metadata": {},
   "outputs": [],
   "source": [
    "i = 951"
   ]
  },
  {
   "cell_type": "code",
   "execution_count": 205,
   "id": "8ba53468",
   "metadata": {},
   "outputs": [],
   "source": [
    "shapely_arr_polygon = pd.concat([gdf.iloc[[i]], interaction_gdf_list[i]]).geometry"
   ]
  },
  {
   "cell_type": "code",
   "execution_count": 206,
   "id": "ba9b1d86",
   "metadata": {},
   "outputs": [
    {
     "data": {
      "text/plain": [
       "<Axes: >"
      ]
     },
     "execution_count": 206,
     "metadata": {},
     "output_type": "execute_result"
    },
    {
     "data": {
      "image/png": "[encoded data removed]",
      "text/plain": [
       "<Figure size 640x480 with 1 Axes>"
      ]
     },
     "metadata": {},
     "output_type": "display_data"
    }
   ],
   "source": [
    "shapely_arr_polygon.plot()"
   ]
  },
  {
   "cell_type": "code",
   "execution_count": 220,
   "id": "5394c913",
   "metadata": {},
   "outputs": [],
   "source": [
    "listpoly = flatten([[a.intersection(b), a.difference(b), b.difference(a)] \n",
    "                        for a, b in itertools.combinations(shapely_arr_polygon, 2)])"
   ]
  },
  {
   "cell_type": "code",
   "execution_count": 222,
   "id": "d44bb836",
   "metadata": {},
   "outputs": [],
   "source": [
    "listpoly_flat = flatten([pol if isinstance(pol, Polygon) else list(pol.geoms) for pol in listpoly])\n"
   ]
  },
  {
   "cell_type": "code",
   "execution_count": 224,
   "id": "e8ed6c19",
   "metadata": {},
   "outputs": [
    {
     "data": {
      "text/plain": [
       "[<POLYGON ((-225029.518 373713.76, -225031.609 373712.706, -225032.31 373712....>,\n",
       " <POLYGON ((-225034.654 373711.171, -225040.756 373708.096, -225042.288 37370...>,\n",
       " <POLYGON ((-226150.694 365321.815, -226108.396 365360.463, -226085.084 36538...>,\n",
       " <POLYGON ((-225864.622 366697.352, -225866.22 366696.302, -225906.41 366671....>,\n",
       " <POLYGON ((-227147.204 368736.26, -227151.635 368735.045, -227156.167 368734...>,\n",
       " <POLYGON ((-226756.08 368775.03, -226756.309 368782.629, -226757.143 368810....>,\n",
       " <POLYGON ((-226639.662 368780.97, -226633.835 368797.021, -226632.407 368841...>,\n",
       " <POLYGON ((-226296.419 369897.298, -226295.381 369899.311, -226292.22 369904...>,\n",
       " <POLYGON ((-226787.875 370312.528, -226792.645 370257.178, -226793.084 37025...>,\n",
       " <POLYGON ((-226927.761 370476.023, -226929.785 370481.318, -226930.327 37048...>,\n",
       " <POLYGON ((-226952.568 370880.041, -226947.982 370883.807, -226942.945 37088...>,\n",
       " <POLYGON ((-225908.708 372710.695, -225908.696 372710.856, -225908.62 372710...>,\n",
       " <POLYGON ((-225640.772 372855.49, -225625.289 372876.126, -225620.755 372883...>,\n",
       " <POLYGON ((-225468.151 372955.982, -225460.693 372962.61, -225456.78 372964....>,\n",
       " <POLYGON ((-225463.751 373017.95, -225459.631 373000.016, -225463.07 373012....>,\n",
       " <POLYGON ((-225038.181 373385.045, -225039.265 373367.599, -225049.072 37335...>,\n",
       " <POLYGON ((-224585.549 367945.886, -224538.94 367917.39, -224502.117 367898....>,\n",
       " <POLYGON ((-223798.531 368319.667, -223799.932 368316.292, -223800.541 36831...>,\n",
       " <POLYGON ((-223290.404 368943.37, -223285.016 368945.322, -223281.378 368946...>,\n",
       " <POLYGON ((-222900.144 369117.711, -222901.389 369115.878, -222903.954 36910...>,\n",
       " <POLYGON ((-223921.121 371871.647, -223911.36 371861.25, -223903.966 371853....>,\n",
       " <POLYGON ((-223041.438 373219.708, -223016.228 373230.898, -223012.431 37323...>,\n",
       " <POLYGON ((-223379.933 373490.542, -223401.503 373464.232, -223401.931 37346...>,\n",
       " <POLYGON ((-223452.452 373546.406, -223450.521 373549.397, -223461.323 37355...>,\n",
       " <POLYGON ((-224944.28 373635.224, -224944.266 373629.559, -224944.955 373623...>,\n",
       " <POLYGON ((-225023.307 373658.019, -225037.551 373658.65, -225038.488 373673...>,\n",
       " <POLYGON ((-223774.448 374027.736, -223771.47 374079.325, -223773.411 374041...>,\n",
       " <POLYGON ((-224071.938 374430.059, -224059.957 374429.301, -224049.073 37443...>,\n",
       " <POLYGON ((-224747.579 374283.59, -224743.383 374286.806, -224738.843 374289...>,\n",
       " <POLYGON ((-225424.852 373726.47, -225424.748 373735.733, -225424.744 373735...>,\n",
       " <POLYGON ((-225029.518 373713.76, -225031.609 373712.706, -225032.31 373712....>,\n",
       " <POLYGON ((-225352.67 373819.886, -225352.713 373820.067, -225351.705 373819...>,\n",
       " <POLYGON ((-225382.572 373915.88, -225382.908 373916.211, -225379.206 373914...>,\n",
       " <POLYGON ((-225342.411 374185.244, -225338.048 374181.576, -225330.237 37417...>,\n",
       " <POLYGON ((-225261.866 374100.605, -225257.736 374098.07, -225254.079 374095...>,\n",
       " <POLYGON ((-225217.878 374076.973, -225214.145 374074.334, -225208.667 37407...>,\n",
       " <POLYGON ((-225195.316 374064.844, -225191.316 374061.687, -225190.386 37406...>,\n",
       " <POLYGON ((-225168.354 374059.297, -225165.429 374057.701, -225165.441 37405...>,\n",
       " <POLYGON ((-225007.399 374097.234, -225007.513 374091.414, -225007.62 374086...>,\n",
       " <POLYGON ((-225071.918 373996.174, -225081.132 373994.249, -225091.957 37398...>,\n",
       " <POLYGON ((-225117.039 373998.719, -225117.414 373999.159, -225104.192 37399...>,\n",
       " <POLYGON ((-225154.1 374000.74, -225163.11 373991.6, -225161.056 373986.121,...>,\n",
       " <POLYGON ((-225124.265 373978.252, -225102.968 373955.741, -225103.773 37395...>,\n",
       " <POLYGON ((-225100.725 373954.772, -225098.126 373950.326, -225097.822 37394...>,\n",
       " <POLYGON ((-225060.937 373865.681, -225056.889 373856.105, -225056.139 37384...>,\n",
       " <POLYGON ((-226314.668 366867.473, -226313.613 366863.754, -226313.119 36686...>,\n",
       " <POLYGON ((-226563.67 367008.231, -226567.108 367003.807, -226567.835 367001...>,\n",
       " <POLYGON ((-227895.443 367516.429, -227890.945 367515.174, -227888.429 36751...>,\n",
       " <POLYGON ((-227029.865 367634.824, -227031.535 367632.22, -227009.881 367614...>,\n",
       " <POLYGON ((-227795.608 368150.73, -227792.433 368147.215, -227784.655 368143...>,\n",
       " <POLYGON ((-227065.017 368160.411, -227064.512 368154.954, -227056.079 36814...>,\n",
       " <POLYGON ((-227688.84 368445.453, -227698.541 368448.857, -227705.553 368455...>,\n",
       " <POLYGON ((-226810.275 368557.554, -226824.041 368573.029, -226842.274 36858...>,\n",
       " <POLYGON ((-226453.257 368948.958, -226445.863 368947.668, -226435.862 36894...>,\n",
       " <POLYGON ((-226477.749 370366.315, -226479.238 370365.144, -226479.983 37036...>,\n",
       " <POLYGON ((-228996.887 370875.679, -228992.178 370876.204, -228991.435 37087...>,\n",
       " <POLYGON ((-226111.413 373500.228, -226112.695 373485.683, -226111.241 37348...>,\n",
       " <POLYGON ((-226684.963 373216.949, -226683.148 373272.909, -226681.178 37333...>,\n",
       " <POLYGON ((-226109.868 365597.665, -226109.483 365589.157, -226109.148 36558...>,\n",
       " <POLYGON ((-226278.036 369360.568, -226266.717 369356.022, -226265.511 36935...>,\n",
       " <POLYGON ((-225746.97 369298.548, -225745.348 369296.036, -225743.298 369295...>,\n",
       " <POLYGON ((-225662.394 369391.836, -225661.483 369385.81, -225653.069 369383...>,\n",
       " <POLYGON ((-225520.993 369428.55, -225520.977 369427.751, -225520.902 369424...>,\n",
       " <POLYGON ((-225818.572 370016.461, -225808.717 370012.274, -225807.017 37001...>,\n",
       " <POLYGON ((-225816.406 372641.57, -225815.146 372640.143, -225808.211 372636...>,\n",
       " <POLYGON ((-225364.21 373005.439, -225377.44 373004.391, -225385.162 372992....>,\n",
       " <POLYGON ((-225747.924 373365.945, -225745.214 373361.709, -225741.026 37335...>,\n",
       " <POLYGON ((-225809.505 373552.601, -225807.023 373549.58, -225804.363 373540...>,\n",
       " <POLYGON ((-225262.272 374100.767, -225266.679 374102.528, -225274.432 37409...>,\n",
       " <POLYGON ((-225225.08 374078.331, -225219.012 374077.582, -225218.208 374077...>,\n",
       " <POLYGON ((-225198.737 374066.275, -225196.45 374065.453, -225195.981 374065...>,\n",
       " <POLYGON ((-225186.184 374061.189, -225181.941 374061.385, -225179.117 37406...>,\n",
       " <POLYGON ((-225160.921 374058.858, -225156.678 374059.843, -225155.636 37406...>,\n",
       " <POLYGON ((-225016.772 373848.81, -225023.854 373852.833, -225026.34 373868....>,\n",
       " <POLYGON ((-225093.091 373989.899, -225103.165 373995.639, -225103.058 37399...>,\n",
       " <POLYGON ((-225118.173 373999.328, -225122.986 374004.99, -225131.405 374010...>,\n",
       " <POLYGON ((-225150.721 373983.058, -225143.587 373980.995, -225136.62 373978...>,\n",
       " <POLYGON ((-225101.859 373955.381, -225101.685 373955.084, -225102.639 37395...>,\n",
       " <POLYGON ((-225062.071 373866.29, -225062.036 373866.207, -225063.148 373866...>,\n",
       " <POLYGON ((-225018.343 373802.931, -225018.366 373802.277, -225027.061 37380...>,\n",
       " <POLYGON ((-225426.583 373675.883, -225425.986 373727.079, -225425.882 37373...>,\n",
       " <POLYGON ((-225353.803 373820.495, -225355.084 373825.862, -225354.839 37382...>,\n",
       " <POLYGON ((-225383.706 373916.489, -225387.123 373919.852, -225388.029 37392...>,\n",
       " <POLYGON ((-224362.354 374442.278, -224354.639 374439.138, -224352.625 37443...>,\n",
       " <POLYGON ((-223986.287 367822.296, -223986.269 367817.813, -223984.535 36781...>,\n",
       " <POLYGON ((-223876.591 368411.421, -223885.196 368412.35, -223887.255 368412...>,\n",
       " <POLYGON ((-222908.721 368965.118, -222907.399 368958.615, -222905.109 36895...>,\n",
       " <POLYGON ((-222857.92 369939.791, -222858.077 369939.693, -222860.341 369939...>,\n",
       " <POLYGON ((-223036.824 370107.152, -223044.728 370104.443, -223056.377 37009...>,\n",
       " <POLYGON ((-224093.402 371623.299, -224096.469 371618.752, -224098.579 37161...>,\n",
       " <POLYGON ((-222973.139 373192.869, -222950.509 373193.649, -222931.004 37319...>,\n",
       " <POLYGON ((-223913.06 373680.527, -223909.697 373676.488, -223906.844 373675...>,\n",
       " <POLYGON ((-223918.048 373825.697, -223906.462 373826.785, -223902.036 37382...>,\n",
       " <POLYGON ((-223781.045 373957.114, -223778.717 373957.7, -223784.546 373874....>,\n",
       " <POLYGON ((-224012.204 374153.16, -224008.103 374149.407, -224002.687 374146...>,\n",
       " <POLYGON ((-223750.244 374531.265, -223750.121 374526.205, -223751.292 37450...>,\n",
       " <POLYGON ((-225029.518 373713.76, -225031.609 373712.706, -225032.31 373712....>,\n",
       " <POLYGON ((-225907.486 372710.202, -225907.574 372710.086, -225907.562 37271...>,\n",
       " <POLYGON ((-225639.638 372854.882, -225624.156 372875.517, -225619.621 37288...>,\n",
       " <POLYGON ((-225456.188 372958.324, -225466.966 372953.903, -225467.017 37295...>,\n",
       " <POLYGON ((-225462.617 373017.341, -225458.497 372999.408, -225461.937 37301...>,\n",
       " <POLYGON ((-225038.131 373366.99, -225047.938 373352.814, -225111.115 373284...>,\n",
       " <POLYGON ((-224944.396 373653.964, -224943.146 373634.615, -224943.133 37362...>,\n",
       " <POLYGON ((-225029.518 373713.76, -225025.626 373714.836, -225022.853 373715...>,\n",
       " <POLYGON ((-223773.315 374027.128, -223770.336 374078.716, -223772.277 37404...>,\n",
       " <POLYGON ((-224074.002 374429.541, -224072.234 374429.518, -224070.804 37442...>,\n",
       " <POLYGON ((-224757.088 374271.858, -224750.241 374279.304, -224746.445 37428...>,\n",
       " <POLYGON ((-225025.516 374088.878, -225022.823 374088.96, -225019.685 374092...>,\n",
       " <POLYGON ((-225029.518 373713.76, -225031.609 373712.706, -225032.31 373712....>,\n",
       " <POLYGON ((-225108.25 374357.92, -225088.23 374325.77, -225064.92 374297.03,...>,\n",
       " <POLYGON ((-225025.516 374088.878, -225022.823 374088.96, -225019.685 374092...>,\n",
       " <POLYGON ((-225029.518 373713.76, -225031.609 373712.706, -225032.31 373712....>,\n",
       " <POLYGON ((-222466.637 370127.46, -222459.412 370113.702, -222470.503 370096...>,\n",
       " <POLYGON ((-223079.44 369916.513, -223025.498 369920.16, -223005.334 369919....>,\n",
       " <POLYGON ((-226328.665 370276.945, -226343.272 370280.283, -226358.693 37029...>,\n",
       " <POLYGON ((-229928.342 370651.631, -229932.366 370551.339, -229932.606 37054...>,\n",
       " <POLYGON ((-229930.639 370780.211, -229923.132 370799.499, -229918.338 37082...>,\n",
       " <POLYGON ((-229191.552 371212.616, -229191.378 371199.363, -229185.946 37116...>,\n",
       " <POLYGON ((-221746.745 371448.54, -221735.457 371455.752, -221705.72 371442....>,\n",
       " <POLYGON ((-225066.054 374297.639, -225064.314 374295.589, -225053.934 37428...>,\n",
       " <POLYGON ((-224511.51 374700.781, -224539.967 374706.293, -224544.11 374697....>,\n",
       " <POLYGON ((-221984.398 377155.959, -221986.871 377143.59, -221985.989 377127...>,\n",
       " <POLYGON ((-221150.392 374032.656, -221147.084 374015.502, -221139.712 37401...>,\n",
       " <POLYGON ((-219947.445 375215.129, -219945.119 375212.746, -219943.716 37520...>,\n",
       " <POLYGON ((-219160.255 378583.974, -219159.866 378583.256, -219158.098 37857...>,\n",
       " <POLYGON ((-219838.863 378626.01, -219835.006 378621.076, -219832.159 378610...>,\n",
       " <POLYGON ((-219872.682 379123.07, -219862.513 379120.983, -219852.848 379121...>,\n",
       " <POLYGON ((-218943.19 379373.798, -218940.877 379370.307, -218936.759 379369...>,\n",
       " <POLYGON ((-219259.031 380206.214, -219258.034 380206.326, -219253.511 38020...>,\n",
       " <POLYGON ((-219028.127 380674.747, -219020.389 380672.868, -219016.838 38066...>,\n",
       " <POLYGON ((-219182.507 382991.61, -219176.693 382985.189, -219170.317 382976...>,\n",
       " <POLYGON ((-223269.898 368945.973, -223269.761 368945.862, -223274.94 368946...>,\n",
       " <POLYGON ((-223224.304 368879.015, -223226.742 368882.974, -223226.807 36888...>,\n",
       " <POLYGON ((-223211.741 368860.075, -223211.802 368860.141, -223213.995 36886...>,\n",
       " <POLYGON ((-223173.027 368830.052, -223175.69 368830.223, -223180.112 368830...>,\n",
       " <POLYGON ((-223085.589 368782.617, -223081.682 368780.137, -223086.447 36878...>,\n",
       " <POLYGON ((-223079.525 368774.811, -223079.903 368773.283, -223080.135 36877...>,\n",
       " <POLYGON ((-223081.322 368767.548, -223084.937 368754.632, -223085.151 36875...>,\n",
       " <POLYGON ((-222903.954 369109.958, -222902.467 369113.394, -222901.389 36911...>,\n",
       " <POLYGON ((-222911.422 369100.753, -222914.886 369095.891, -222913.764 36909...>,\n",
       " <POLYGON ((-222921.127 369085.326, -222924.649 369080.848, -222918.022 36909...>,\n",
       " <POLYGON ((-222930.299 369066.272, -222930.693 369064.894, -222929.764 36906...>,\n",
       " <POLYGON ((-222958.006 369041.896, -222956.849 369043.78, -222955.341 369045...>,\n",
       " <POLYGON ((-222968.401 369027.56, -222965.993 369031.266, -222963.05 369034....>,\n",
       " <POLYGON ((-222981.694 369005.944, -222981.007 369006.357, -222976.262 36900...>,\n",
       " <POLYGON ((-222989.917 369001.798, -222990.933 369001.372, -222985.213 36900...>,\n",
       " <POLYGON ((-223001.004 368997.148, -223001.769 368996.926, -222998.889 36899...>,\n",
       " <POLYGON ((-223008.684 368994.918, -223015.695 368994.07, -223014.306 368994...>,\n",
       " <POLYGON ((-223049.956 369015.942, -223053.153 369019.078, -223048.753 36901...>,\n",
       " <POLYGON ((-223126.796 369068.399, -223137.413 369072.385, -223120.648 36906...>,\n",
       " <POLYGON ((-223139.6 369073.206, -223141.316 369074.495, -223137.413 369072....>,\n",
       " <POLYGON ((-222898.767 369119.737, -222898.171 369120.617, -222898.17 369120...>,\n",
       " <POLYGON ((-224155.938 371448.142, -224158.077 371450.399, -224152.961 37144...>,\n",
       " <POLYGON ((-224152.363 371546.039, -224154.144 371542.597, -224155.466 37154...>,\n",
       " <POLYGON ((-224089.319 371630.582, -224089.397 371629.237, -224090.212 37162...>,\n",
       " <POLYGON ((-224104.374 371710.588, -224104.335 371708.653, -224104.316 37170...>,\n",
       " <POLYGON ((-224125.23 371725.962, -224123.739 371727.623, -224122.58 371728....>,\n",
       " <POLYGON ((-224185.856 371667.274, -224188.609 371664.859, -224191.194 37166...>,\n",
       " <POLYGON ((-226150.694 365321.815, -226108.396 365360.463, -226085.084 36538...>,\n",
       " <POLYGON ((-225864.622 366697.352, -225866.22 366696.302, -225906.41 366671....>,\n",
       " <POLYGON ((-227147.204 368736.26, -227151.635 368735.045, -227156.167 368734...>,\n",
       " <POLYGON ((-226756.08 368775.03, -226756.309 368782.629, -226757.143 368810....>,\n",
       " <POLYGON ((-226639.662 368780.97, -226633.835 368797.021, -226632.407 368841...>,\n",
       " <POLYGON ((-226296.419 369897.298, -226295.381 369899.311, -226292.22 369904...>,\n",
       " <POLYGON ((-226787.875 370312.528, -226792.645 370257.178, -226793.084 37025...>,\n",
       " <POLYGON ((-226927.761 370476.023, -226929.785 370481.318, -226930.327 37048...>,\n",
       " <POLYGON ((-226952.568 370880.041, -226947.982 370883.807, -226942.945 37088...>,\n",
       " <POLYGON ((-225908.708 372710.695, -225908.696 372710.856, -225908.62 372710...>,\n",
       " <POLYGON ((-225640.772 372855.49, -225625.289 372876.126, -225620.755 372883...>,\n",
       " <POLYGON ((-225468.151 372955.982, -225460.693 372962.61, -225456.78 372964....>,\n",
       " <POLYGON ((-225463.751 373017.95, -225459.631 373000.016, -225463.07 373012....>,\n",
       " <POLYGON ((-225038.181 373385.045, -225039.265 373367.599, -225049.072 37335...>,\n",
       " <POLYGON ((-224585.549 367945.886, -224538.94 367917.39, -224502.117 367898....>,\n",
       " <POLYGON ((-223798.531 368319.667, -223799.932 368316.292, -223800.541 36831...>,\n",
       " <POLYGON ((-223290.404 368943.37, -223285.016 368945.322, -223281.378 368946...>,\n",
       " <POLYGON ((-222900.144 369117.711, -222901.389 369115.878, -222902.467 36911...>,\n",
       " <POLYGON ((-223921.121 371871.647, -223911.36 371861.25, -223903.966 371853....>,\n",
       " <POLYGON ((-223041.438 373219.708, -223016.228 373230.898, -223012.431 37323...>,\n",
       " <POLYGON ((-223379.933 373490.542, -223401.503 373464.232, -223401.931 37346...>,\n",
       " <POLYGON ((-223452.452 373546.406, -223450.521 373549.397, -223461.323 37355...>,\n",
       " <POLYGON ((-224944.28 373635.224, -224944.266 373629.559, -224944.955 373623...>,\n",
       " <POLYGON ((-225030.652 373714.369, -225026.76 373715.445, -225023.987 373715...>,\n",
       " <POLYGON ((-223774.448 374027.736, -223771.47 374079.325, -223773.411 374041...>,\n",
       " <POLYGON ((-224071.938 374430.059, -224059.957 374429.301, -224049.073 37443...>,\n",
       " <POLYGON ((-224747.579 374283.59, -224743.383 374286.806, -224738.843 374289...>,\n",
       " <POLYGON ((-226314.668 366867.473, -226313.613 366863.754, -226313.119 36686...>,\n",
       " <POLYGON ((-226563.67 367008.231, -226567.108 367003.807, -226567.835 367001...>,\n",
       " <POLYGON ((-227895.443 367516.429, -227890.945 367515.174, -227888.429 36751...>,\n",
       " <POLYGON ((-227029.865 367634.824, -227031.535 367632.22, -227009.881 367614...>,\n",
       " <POLYGON ((-227795.608 368150.73, -227792.433 368147.215, -227784.655 368143...>,\n",
       " <POLYGON ((-227065.017 368160.411, -227064.512 368154.954, -227056.079 36814...>,\n",
       " <POLYGON ((-227688.84 368445.453, -227698.541 368448.857, -227705.553 368455...>,\n",
       " <POLYGON ((-226810.275 368557.554, -226824.041 368573.029, -226842.274 36858...>,\n",
       " <POLYGON ((-226453.257 368948.958, -226445.863 368947.668, -226435.862 36894...>,\n",
       " <POLYGON ((-226477.749 370366.315, -226479.238 370365.144, -226479.983 37036...>,\n",
       " <POLYGON ((-228996.887 370875.679, -228992.178 370876.204, -228991.435 37087...>,\n",
       " <POLYGON ((-226111.413 373500.228, -226112.695 373485.683, -226111.241 37348...>,\n",
       " <POLYGON ((-226684.963 373216.949, -226683.148 373272.909, -226681.178 37333...>,\n",
       " <POLYGON ((-226109.868 365597.665, -226109.483 365589.157, -226109.148 36558...>,\n",
       " <POLYGON ((-226278.036 369360.568, -226266.717 369356.022, -226265.511 36935...>,\n",
       " <POLYGON ((-225746.97 369298.548, -225745.348 369296.036, -225743.298 369295...>,\n",
       " <POLYGON ((-225662.394 369391.836, -225661.483 369385.81, -225653.069 369383...>,\n",
       " <POLYGON ((-225520.993 369428.55, -225520.977 369427.751, -225520.902 369424...>,\n",
       " <POLYGON ((-225818.572 370016.461, -225808.717 370012.274, -225807.017 37001...>,\n",
       " <POLYGON ((-225816.406 372641.57, -225815.146 372640.143, -225808.211 372636...>,\n",
       " <POLYGON ((-225364.21 373005.439, -225377.44 373004.391, -225385.162 372992....>,\n",
       " <POLYGON ((-225747.924 373365.945, -225745.214 373361.709, -225741.026 37335...>,\n",
       " <POLYGON ((-225809.505 373552.601, -225807.023 373549.58, -225804.363 373540...>,\n",
       " <POLYGON ((-225258.87 374098.679, -225255.213 374096.435, -225251.893 374093...>,\n",
       " <POLYGON ((-224362.354 374442.278, -224354.639 374439.138, -224352.625 37443...>,\n",
       " <POLYGON ((-223986.287 367822.296, -223986.269 367817.813, -223984.535 36781...>,\n",
       " <POLYGON ((-223876.591 368411.421, -223885.196 368412.35, -223887.255 368412...>,\n",
       " <POLYGON ((-222908.721 368965.118, -222907.399 368958.615, -222905.109 36895...>,\n",
       " <POLYGON ((-222857.92 369939.791, -222858.077 369939.693, -222860.341 369939...>,\n",
       " <POLYGON ((-223036.824 370107.152, -223044.728 370104.443, -223056.377 37009...>,\n",
       " <POLYGON ((-224093.402 371623.299, -224096.469 371618.752, -224098.579 37161...>,\n",
       " <POLYGON ((-222973.139 373192.869, -222950.509 373193.649, -222931.004 37319...>,\n",
       " <POLYGON ((-223913.06 373680.527, -223909.697 373676.488, -223906.844 373675...>,\n",
       " <POLYGON ((-223918.048 373825.697, -223906.462 373826.785, -223902.036 37382...>,\n",
       " <POLYGON ((-223781.045 373957.114, -223778.717 373957.7, -223784.546 373874....>,\n",
       " <POLYGON ((-224012.204 374153.16, -224008.103 374149.407, -224002.687 374146...>,\n",
       " <POLYGON ((-223750.244 374531.265, -223750.121 374526.205, -223751.292 37450...>,\n",
       " <POLYGON ((-225557.668 372954.432, -225556.547 372953.92, -225556.534 372953...>,\n",
       " <POLYGON ((-225420.95 372978.516, -225420.838 372978.563, -225419.816 372977...>,\n",
       " <POLYGON ((-225038.181 373385.045, -225039.265 373367.599, -225049.072 37335...>,\n",
       " <POLYGON ((-224944.28 373635.224, -224944.266 373629.559, -224944.955 373623...>,\n",
       " <POLYGON ((-225023.307 373658.019, -225022.154 373657.967, -225022.173 37365...>,\n",
       " <POLYGON ((-225023.307 373658.019, -225036.453 373658.601, -225037.354 37367...>,\n",
       " <POLYGON ((-224043.284 374426.609, -224051.304 374406.259, -224063.837 37440...>,\n",
       " <POLYGON ((-224655.447 374284.509, -224646.664 374277.48, -224642.479 374273...>,\n",
       " <POLYGON ((-226150.694 365321.815, -226108.396 365360.463, -226085.084 36538...>,\n",
       " <POLYGON ((-225864.622 366697.352, -225866.22 366696.302, -225906.41 366671....>,\n",
       " <POLYGON ((-227147.204 368736.26, -227151.635 368735.045, -227156.167 368734...>,\n",
       " <POLYGON ((-226756.08 368775.03, -226756.309 368782.629, -226757.143 368810....>,\n",
       " <POLYGON ((-226639.662 368780.97, -226633.835 368797.021, -226632.407 368841...>,\n",
       " <POLYGON ((-226296.419 369897.298, -226295.381 369899.311, -226292.22 369904...>,\n",
       " <POLYGON ((-226787.875 370312.528, -226792.645 370257.178, -226793.084 37025...>,\n",
       " <POLYGON ((-226927.761 370476.023, -226929.785 370481.318, -226930.327 37048...>,\n",
       " <POLYGON ((-226952.568 370880.041, -226947.982 370883.807, -226942.945 37088...>,\n",
       " <POLYGON ((-225908.708 372710.695, -225908.696 372710.856, -225908.62 372710...>,\n",
       " <POLYGON ((-225640.772 372855.49, -225625.289 372876.126, -225620.755 372883...>,\n",
       " <POLYGON ((-225547.099 372949.601, -225546.757 372949.354, -225556.534 37295...>,\n",
       " <POLYGON ((-225468.151 372955.982, -225460.693 372962.61, -225456.78 372964....>,\n",
       " <POLYGON ((-225411.88 372982.35, -225413.507 372980.574, -225419.816 372977....>,\n",
       " <POLYGON ((-225463.751 373017.95, -225459.631 373000.016, -225463.07 373012....>,\n",
       " <POLYGON ((-225124.696 373271.424, -225129.544 373274.796, -225129.134 37327...>,\n",
       " <POLYGON ((-225901.719 372801.847, -225898.293 372846.536, -225896.132 37287...>,\n",
       " <POLYGON ((-224585.549 367945.886, -224538.94 367917.39, -224502.117 367898....>,\n",
       " <POLYGON ((-223798.531 368319.667, -223799.932 368316.292, -223800.541 36831...>,\n",
       " <POLYGON ((-223290.404 368943.37, -223285.016 368945.322, -223281.378 368946...>,\n",
       " <POLYGON ((-222900.144 369117.711, -222901.389 369115.878, -222903.954 36910...>,\n",
       " <POLYGON ((-223921.121 371871.647, -223911.36 371861.25, -223903.966 371853....>,\n",
       " <POLYGON ((-223041.438 373219.708, -223016.228 373230.898, -223012.431 37323...>,\n",
       " <POLYGON ((-223379.933 373490.542, -223401.503 373464.232, -223401.931 37346...>,\n",
       " <POLYGON ((-223452.452 373546.406, -223450.521 373549.397, -223461.323 37355...>,\n",
       " <POLYGON ((-224945.494 373654.013, -224970.279 373655.11, -225010.531 373656...>,\n",
       " <POLYGON ((-225027.588 373555.799, -225027.318 373562.279, -225023.33 373657...>,\n",
       " <POLYGON ((-225030.652 373714.369, -225026.76 373715.445, -225023.987 373715...>,\n",
       " <POLYGON ((-223774.448 374027.736, -223771.47 374079.325, -223773.411 374041...>,\n",
       " <POLYGON ((-224071.938 374430.059, -224059.957 374429.301, -224049.073 37443...>,\n",
       " <POLYGON ((-224092.035 374384.346, -224079.816 374384.426, -224067.44 374383...>,\n",
       " <POLYGON ((-224004.588 374332.846, -223996.713 374330.82, -223986.367 374332...>,\n",
       " <POLYGON ((-224022.464 374257.118, -223972.282 374245.982, -223925.509 37423...>,\n",
       " <POLYGON ((-223837.75 374170.549, -223833.443 374170.669, -223827.273 374173...>,\n",
       " <POLYGON ((-223771.243 374083.718, -223778.224 374088.852, -223797.052 37410...>,\n",
       " <POLYGON ((-223877.034 374111.433, -223886.81 374119.426, -223918.555 374139...>,\n",
       " <POLYGON ((-224041.635 374167.76, -224042.272 374168.348, -224044.245 374170...>,\n",
       " <POLYGON ((-224050.317 374174.612, -224052.141 374176.858, -224051.625 37417...>,\n",
       " <POLYGON ((-224094.698 374187.117, -224097.294 374188.61, -224099.786 374190...>,\n",
       " <POLYGON ((-224122.248 374343.977, -224124.844 374345.47, -224127.336 374347...>,\n",
       " <POLYGON ((-224386.546 374174.176, -224384.054 374248.456, -224382.902 37424...>,\n",
       " <POLYGON ((-224433.67 374252.079, -224432.546 374254.046, -224429.272 374258...>,\n",
       " <POLYGON ((-224363.883 374277.216, -224363.161 374279.515, -224356.661 37429...>,\n",
       " <POLYGON ((-224747.579 374283.59, -224743.383 374286.806, -224738.843 374289...>,\n",
       " <POLYGON ((-225907.486 372710.202, -225907.574 372710.086, -225907.562 37271...>,\n",
       " <POLYGON ((-225557.059 372957.839, -225556.547 372953.92, -225557.668 372954...>,\n",
       " <POLYGON ((-225545.965 372948.992, -225540.465 372945.022, -225535.987 37293...>,\n",
       " <POLYGON ((-225456.188 372958.324, -225466.966 372953.903, -225467.003 37295...>,\n",
       " <POLYGON ((-225426.039 372981.907, -225420.838 372978.563, -225420.95 372978...>,\n",
       " <POLYGON ((-225462.617 373017.341, -225458.497 372999.408, -225461.937 37301...>,\n",
       " <POLYGON ((-225038.131 373366.99, -225047.938 373352.814, -225111.115 373284...>,\n",
       " <POLYGON ((-225146.832 373279.239, -225172.615 373245.597, -225172.62 373245...>,\n",
       " <POLYGON ((-224944.396 373653.964, -224943.146 373634.615, -224943.133 37362...>,\n",
       " <POLYGON ((-225020.176 373715.728, -225022.154 373657.967, -225023.307 37365...>,\n",
       " <POLYGON ((-225036.417 373658.041, -225036.453 373658.601, -225023.307 37365...>,\n",
       " <POLYGON ((-223773.315 374027.128, -223770.336 374078.716, -223772.277 37404...>,\n",
       " <POLYGON ((-224042.779 374430.047, -224042.15 374426, -224050.17 374405.65, ...>,\n",
       " <POLYGON ((-224032.81 374383.55, -224029.176 374381.491, -224024.385 374378....>,\n",
       " <POLYGON ((-223971.921 374328.212, -223969.958 374326.989, -223970.031 37432...>,\n",
       " <POLYGON ((-223875.385 374220.042, -223872.79 374218.549, -223872.664 374218...>,\n",
       " <POLYGON ((-223813.676 374178.077, -223782.19 374152.331, -223781.667 374151...>,\n",
       " <POLYGON ((-223842.753 374126.508, -223852.015 374120.108, -223856.517 37411...>,\n",
       " <POLYGON ((-223942.617 374149.328, -223985.295 374155.068, -223986.606 37415...>,\n",
       " <POLYGON ((-224047.124 374173.594, -224048.362 374173.804, -224049.183 37417...>,\n",
       " <POLYGON ((-224056.129 374175.683, -224057.822 374175.184, -224059.651 37417...>,\n",
       " <POLYGON ((-224112.819 374339.946, -224115.657 374340.906, -224118.426 37434...>,\n",
       " <POLYGON ((-224143.533 374353.395, -224145.603 374349.255, -224148.081 37434...>,\n",
       " <POLYGON ((-224432.536 374251.47, -224432.239 374251.99, -224384.036 374248....>,\n",
       " <POLYGON ((-224391.987 374288.957, -224387.046 374286.145, -224374.046 37427...>,\n",
       " <POLYGON ((-224122.66 374472.679, -224115.879 374468.521, -224109.629 374464...>,\n",
       " <POLYGON ((-224757.088 374271.858, -224756.621 374272.365, -224635.667 37426...>,\n",
       " <POLYGON EMPTY>,\n",
       " <POLYGON ((-226150.694 365321.815, -226108.396 365360.463, -226085.084 36538...>,\n",
       " <POLYGON ((-225864.622 366697.352, -225866.22 366696.302, -225906.41 366671....>,\n",
       " <POLYGON ((-227147.204 368736.26, -227151.635 368735.045, -227156.167 368734...>,\n",
       " <POLYGON ((-226756.08 368775.03, -226756.309 368782.629, -226757.143 368810....>,\n",
       " <POLYGON ((-226639.662 368780.97, -226633.835 368797.021, -226632.407 368841...>,\n",
       " <POLYGON ((-226296.419 369897.298, -226295.381 369899.311, -226292.22 369904...>,\n",
       " <POLYGON ((-226787.875 370312.528, -226792.645 370257.178, -226793.084 37025...>,\n",
       " <POLYGON ((-226927.761 370476.023, -226929.785 370481.318, -226930.327 37048...>,\n",
       " <POLYGON ((-226952.568 370880.041, -226947.982 370883.807, -226942.945 37088...>,\n",
       " <POLYGON ((-225908.708 372710.695, -225908.696 372710.856, -225908.62 372710...>,\n",
       " <POLYGON ((-225640.772 372855.49, -225625.289 372876.126, -225620.755 372883...>,\n",
       " <POLYGON ((-225468.151 372955.982, -225460.693 372962.61, -225456.78 372964....>,\n",
       " <POLYGON ((-225463.751 373017.95, -225459.631 373000.016, -225463.07 373012....>,\n",
       " <POLYGON ((-225038.181 373385.045, -225039.265 373367.599, -225049.072 37335...>,\n",
       " <POLYGON ((-224585.549 367945.886, -224538.94 367917.39, -224502.117 367898....>,\n",
       " <POLYGON ((-223798.531 368319.667, -223799.932 368316.292, -223800.541 36831...>,\n",
       " <POLYGON ((-223290.404 368943.37, -223285.016 368945.322, -223281.378 368946...>,\n",
       " <POLYGON ((-222900.144 369117.711, -222901.389 369115.878, -222903.954 36910...>,\n",
       " <POLYGON ((-223921.121 371871.647, -223911.36 371861.25, -223903.966 371853....>,\n",
       " <POLYGON ((-223041.438 373219.708, -223016.228 373230.898, -223012.431 37323...>,\n",
       " <POLYGON ((-223379.933 373490.542, -223401.503 373464.232, -223401.931 37346...>,\n",
       " <POLYGON ((-223452.452 373546.406, -223450.521 373549.397, -223461.323 37355...>,\n",
       " <POLYGON ((-224944.28 373635.224, -224944.266 373629.559, -224944.955 373623...>,\n",
       " <POLYGON ((-225030.652 373714.369, -225026.76 373715.445, -225023.987 373715...>,\n",
       " <POLYGON ((-223774.448 374027.736, -223771.47 374079.325, -223773.411 374041...>,\n",
       " <POLYGON ((-224071.938 374430.059, -224059.957 374429.301, -224049.073 37443...>,\n",
       " <POLYGON ((-224747.579 374283.59, -224743.383 374286.806, -224738.843 374289...>,\n",
       " <POLYGON ((-225108.25 374357.92, -225088.23 374325.77, -225064.92 374297.03,...>,\n",
       " <POLYGON ((-226737.207 370166.854, -226733.244 370164.496, -226729.538 37016...>,\n",
       " <POLYGON ((-226660.922 370096.141, -226658 370092.708, -226650.436 370082.87...>,\n",
       " <POLYGON ((-226150.694 365321.815, -226108.396 365360.463, -226085.084 36538...>,\n",
       " <POLYGON ((-225864.622 366697.352, -225866.22 366696.302, -225906.41 366671....>,\n",
       " <POLYGON ((-227147.204 368736.26, -227151.635 368735.045, -227156.167 368734...>,\n",
       " <POLYGON ((-226756.08 368775.03, -226756.309 368782.629, -226757.143 368810....>,\n",
       " <POLYGON ((-226639.662 368780.97, -226633.835 368797.021, -226632.407 368841...>,\n",
       " <POLYGON ((-226296.419 369897.298, -226295.381 369899.311, -226292.22 369904...>,\n",
       " <POLYGON ((-226787.875 370312.528, -226792.645 370257.178, -226793.084 37025...>,\n",
       " <POLYGON ((-226927.761 370476.023, -226929.785 370481.318, -226930.327 37048...>,\n",
       " <POLYGON ((-226952.568 370880.041, -226947.982 370883.807, -226942.945 37088...>,\n",
       " <POLYGON ((-225908.708 372710.695, -225908.696 372710.856, -225908.62 372710...>,\n",
       " <POLYGON ((-225640.772 372855.49, -225625.289 372876.126, -225620.755 372883...>,\n",
       " <POLYGON ((-225468.151 372955.982, -225460.693 372962.61, -225456.78 372964....>,\n",
       " <POLYGON ((-225463.751 373017.95, -225459.631 373000.016, -225463.07 373012....>,\n",
       " <POLYGON ((-225038.181 373385.045, -225039.265 373367.599, -225049.072 37335...>,\n",
       " <POLYGON ((-224585.549 367945.886, -224538.94 367917.39, -224502.117 367898....>,\n",
       " <POLYGON ((-223798.531 368319.667, -223799.932 368316.292, -223800.541 36831...>,\n",
       " <POLYGON ((-223290.404 368943.37, -223285.016 368945.322, -223281.378 368946...>,\n",
       " <POLYGON ((-222900.144 369117.711, -222901.389 369115.878, -222903.954 36910...>,\n",
       " <POLYGON ((-223921.121 371871.647, -223911.36 371861.25, -223903.966 371853....>,\n",
       " <POLYGON ((-223041.438 373219.708, -223016.228 373230.898, -223012.431 37323...>,\n",
       " <POLYGON ((-223379.933 373490.542, -223401.503 373464.232, -223401.931 37346...>,\n",
       " <POLYGON ((-223452.452 373546.406, -223450.521 373549.397, -223461.323 37355...>,\n",
       " <POLYGON ((-224944.28 373635.224, -224944.266 373629.559, -224944.955 373623...>,\n",
       " <POLYGON ((-225030.652 373714.369, -225026.76 373715.445, -225023.987 373715...>,\n",
       " <POLYGON ((-223774.448 374027.736, -223771.47 374079.325, -223773.411 374041...>,\n",
       " <POLYGON ((-224071.938 374430.059, -224059.957 374429.301, -224049.073 37443...>,\n",
       " <POLYGON ((-224747.579 374283.59, -224743.383 374286.806, -224738.843 374289...>,\n",
       " <POLYGON ((-222466.637 370127.46, -222459.412 370113.702, -222470.503 370096...>,\n",
       " <POLYGON ((-223079.44 369916.513, -223025.498 369920.16, -223005.334 369919....>,\n",
       " <POLYGON ((-226328.665 370276.945, -226343.272 370280.283, -226358.693 37029...>,\n",
       " <POLYGON ((-229928.342 370651.631, -229932.366 370551.339, -229932.606 37054...>,\n",
       " <POLYGON ((-229930.639 370780.211, -229923.132 370799.499, -229918.338 37082...>,\n",
       " <POLYGON ((-229191.552 371212.616, -229191.378 371199.363, -229185.946 37116...>,\n",
       " <POLYGON ((-221746.745 371448.54, -221735.457 371455.752, -221705.72 371442....>,\n",
       " <POLYGON ((-225066.054 374297.639, -225064.314 374295.589, -225053.934 37428...>,\n",
       " <POLYGON ((-224511.51 374700.781, -224539.967 374706.293, -224544.11 374697....>,\n",
       " <POLYGON ((-221984.398 377155.959, -221986.871 377143.59, -221985.989 377127...>,\n",
       " <POLYGON ((-221150.392 374032.656, -221147.084 374015.502, -221139.712 37401...>,\n",
       " <POLYGON ((-219947.445 375215.129, -219945.119 375212.746, -219943.716 37520...>,\n",
       " <POLYGON ((-219160.255 378583.974, -219159.866 378583.256, -219158.098 37857...>,\n",
       " <POLYGON ((-219838.863 378626.01, -219835.006 378621.076, -219832.159 378610...>,\n",
       " <POLYGON ((-219872.682 379123.07, -219862.513 379120.983, -219852.848 379121...>,\n",
       " <POLYGON ((-218943.19 379373.798, -218940.877 379370.307, -218936.759 379369...>,\n",
       " <POLYGON ((-219259.031 380206.214, -219258.034 380206.326, -219253.511 38020...>,\n",
       " <POLYGON ((-219028.127 380674.747, -219020.389 380672.868, -219016.838 38066...>,\n",
       " <POLYGON ((-219182.507 382991.61, -219176.693 382985.189, -219170.317 382976...>,\n",
       " <POLYGON ((-225420.95 372978.516, -225426.224 372981.906, -225426.039 372981...>,\n",
       " <POLYGON ((-225531.36 372934.274, -225531.763 372935.908, -225537.121 372940...>,\n",
       " <POLYGON ((-225557.668 372954.432, -225558.173 372958.293, -225557.059 37295...>,\n",
       " <POLYGON ((-225907.567 372710.187, -225907.562 372710.247, -225907.486 37271...>,\n",
       " <POLYGON ((-225897.441 372803.188, -225891.365 372806.374, -225887.667 37281...>,\n",
       " <POLYGON ((-223868.162 374110.637, -223865.349 374112.182, -223861.285 37411...>,\n",
       " <POLYGON ((-224060.785 374173.89, -224058.956 374175.793, -224057.263 374176...>,\n",
       " <POLYGON ((-224049.496 374174.413, -224048.257 374174.203, -224046.185 37417...>,\n",
       " <POLYGON ((-224038.271 374166.913, -224038.162 374166.631, -224040.501 37416...>,\n",
       " <POLYGON ((-223842.564 374171.97, -223846.401 374177.928, -223849.97 374182....>,\n",
       " <POLYGON ((-223971.092 374327.598, -223972.085 374328.216, -223971.921 37432...>,\n",
       " <POLYGON ((-224013.185 374335.059, -224015.32 374339.843, -224015.592 374340...>,\n",
       " <POLYGON ((-224100.694 374384.289, -224063.837 374400.684, -224051.304 37440...>,\n",
       " <POLYGON ((-225462.617 373017.341, -225458.497 372999.408, -225461.937 37301...>,\n",
       " <POLYGON ((-226314.668 366867.473, -226313.613 366863.754, -226313.119 36686...>,\n",
       " <POLYGON ((-226563.67 367008.231, -226567.108 367003.807, -226567.835 367001...>,\n",
       " <POLYGON ((-227895.443 367516.429, -227890.945 367515.174, -227888.429 36751...>,\n",
       " <POLYGON ((-227029.865 367634.824, -227031.535 367632.22, -227009.881 367614...>,\n",
       " <POLYGON ((-227795.608 368150.73, -227792.433 368147.215, -227784.655 368143...>,\n",
       " <POLYGON ((-227065.017 368160.411, -227064.512 368154.954, -227056.079 36814...>,\n",
       " <POLYGON ((-227688.84 368445.453, -227698.541 368448.857, -227705.553 368455...>,\n",
       " <POLYGON ((-226810.275 368557.554, -226824.041 368573.029, -226842.274 36858...>,\n",
       " <POLYGON ((-226453.257 368948.958, -226445.863 368947.668, -226435.862 36894...>,\n",
       " <POLYGON ((-226477.749 370366.315, -226479.238 370365.144, -226479.983 37036...>,\n",
       " <POLYGON ((-228996.887 370875.679, -228992.178 370876.204, -228991.435 37087...>,\n",
       " <POLYGON ((-226111.413 373500.228, -226112.695 373485.683, -226111.241 37348...>,\n",
       " <POLYGON ((-226684.963 373216.949, -226683.148 373272.909, -226681.178 37333...>,\n",
       " <POLYGON ((-226109.868 365597.665, -226109.483 365589.157, -226109.148 36558...>,\n",
       " <POLYGON ((-226278.036 369360.568, -226266.717 369356.022, -226265.511 36935...>,\n",
       " <POLYGON ((-225746.97 369298.548, -225745.348 369296.036, -225743.298 369295...>,\n",
       " <POLYGON ((-225662.394 369391.836, -225661.483 369385.81, -225653.069 369383...>,\n",
       " <POLYGON ((-225520.993 369428.55, -225520.977 369427.751, -225520.902 369424...>,\n",
       " <POLYGON ((-225818.572 370016.461, -225808.717 370012.274, -225807.017 37001...>,\n",
       " <POLYGON ((-225816.406 372641.57, -225815.146 372640.143, -225808.211 372636...>,\n",
       " <POLYGON ((-225364.21 373005.439, -225377.44 373004.391, -225385.162 372992....>,\n",
       " <POLYGON ((-225747.924 373365.945, -225745.214 373361.709, -225741.026 37335...>,\n",
       " <POLYGON ((-225809.505 373552.601, -225807.023 373549.58, -225804.363 373540...>,\n",
       " <POLYGON ((-225258.87 374098.679, -225255.213 374096.435, -225251.893 374093...>,\n",
       " <POLYGON ((-224362.354 374442.278, -224354.639 374439.138, -224352.625 37443...>,\n",
       " <POLYGON ((-223986.287 367822.296, -223986.269 367817.813, -223984.535 36781...>,\n",
       " <POLYGON ((-223876.591 368411.421, -223885.196 368412.35, -223887.255 368412...>,\n",
       " <POLYGON ((-222908.721 368965.118, -222907.399 368958.615, -222905.109 36895...>,\n",
       " <POLYGON ((-222857.92 369939.791, -222858.077 369939.693, -222860.341 369939...>,\n",
       " <POLYGON ((-223036.824 370107.152, -223044.728 370104.443, -223056.377 37009...>,\n",
       " <POLYGON ((-224093.402 371623.299, -224096.469 371618.752, -224098.579 37161...>,\n",
       " <POLYGON ((-222973.139 373192.869, -222950.509 373193.649, -222931.004 37319...>,\n",
       " <POLYGON ((-223913.06 373680.527, -223909.697 373676.488, -223906.844 373675...>,\n",
       " <POLYGON ((-223918.048 373825.697, -223906.462 373826.785, -223902.036 37382...>,\n",
       " <POLYGON ((-223781.045 373957.114, -223778.717 373957.7, -223784.546 373874....>,\n",
       " <POLYGON ((-224012.204 374153.16, -224008.103 374149.407, -224002.687 374146...>,\n",
       " <POLYGON ((-223750.244 374531.265, -223750.121 374526.205, -223751.292 37450...>,\n",
       " <POLYGON ((-225907.574 372710.086, -225907.567 372710.187, -225907.519 37271...>,\n",
       " <POLYGON ((-225639.638 372854.882, -225624.156 372875.517, -225619.621 37288...>,\n",
       " <POLYGON ((-225456.188 372958.324, -225466.966 372953.903, -225467.017 37295...>,\n",
       " <POLYGON ((-225038.131 373366.99, -225047.938 373352.814, -225111.115 373284...>,\n",
       " <POLYGON ((-224944.396 373653.964, -224943.146 373634.615, -224943.133 37362...>,\n",
       " <POLYGON ((-225029.518 373713.76, -225025.626 373714.836, -225022.853 373715...>,\n",
       " <POLYGON ((-223773.315 374027.128, -223770.336 374078.716, -223772.277 37404...>,\n",
       " <POLYGON ((-224074.002 374429.541, -224072.234 374429.518, -224070.804 37442...>,\n",
       " <POLYGON ((-224757.088 374271.858, -224750.241 374279.304, -224746.445 37428...>,\n",
       " <POLYGON ((-225026.65 374089.487, -225023.957 374089.569, -225020.819 374093...>,\n",
       " <POLYGON ((-226314.668 366867.473, -226313.613 366863.754, -226313.119 36686...>,\n",
       " <POLYGON ((-226563.67 367008.231, -226567.108 367003.807, -226567.835 367001...>,\n",
       " <POLYGON ((-227895.443 367516.429, -227890.945 367515.174, -227888.429 36751...>,\n",
       " <POLYGON ((-227029.865 367634.824, -227031.535 367632.22, -227009.881 367614...>,\n",
       " <POLYGON ((-227795.608 368150.73, -227792.433 368147.215, -227784.655 368143...>,\n",
       " <POLYGON ((-227065.017 368160.411, -227064.512 368154.954, -227056.079 36814...>,\n",
       " <POLYGON ((-227688.84 368445.453, -227698.541 368448.857, -227705.553 368455...>,\n",
       " <POLYGON ((-226810.275 368557.554, -226824.041 368573.029, -226842.274 36858...>,\n",
       " <POLYGON ((-226453.257 368948.958, -226445.863 368947.668, -226435.862 36894...>,\n",
       " <POLYGON ((-226477.749 370366.315, -226479.238 370365.144, -226479.983 37036...>,\n",
       " <POLYGON ((-228996.887 370875.679, -228992.178 370876.204, -228991.435 37087...>,\n",
       " <POLYGON ((-226111.413 373500.228, -226112.695 373485.683, -226111.241 37348...>,\n",
       " <POLYGON ((-226684.963 373216.949, -226683.148 373272.909, -226681.178 37333...>,\n",
       " <POLYGON ((-226109.868 365597.665, -226109.483 365589.157, -226109.148 36558...>,\n",
       " <POLYGON ((-226278.036 369360.568, -226266.717 369356.022, -226265.511 36935...>,\n",
       " <POLYGON ((-225746.97 369298.548, -225745.348 369296.036, -225743.298 369295...>,\n",
       " <POLYGON ((-225662.394 369391.836, -225661.483 369385.81, -225653.069 369383...>,\n",
       " <POLYGON ((-225520.993 369428.55, -225520.977 369427.751, -225520.902 369424...>,\n",
       " <POLYGON ((-225818.572 370016.461, -225808.717 370012.274, -225807.017 37001...>,\n",
       " <POLYGON ((-225816.406 372641.57, -225815.146 372640.143, -225808.211 372636...>,\n",
       " <POLYGON ((-225364.21 373005.439, -225377.44 373004.391, -225385.162 372992....>,\n",
       " <POLYGON ((-225747.924 373365.945, -225745.214 373361.709, -225741.026 37335...>,\n",
       " <POLYGON ((-225809.505 373552.601, -225807.023 373549.58, -225804.363 373540...>,\n",
       " <POLYGON ((-225258.87 374098.679, -225255.213 374096.435, -225251.893 374093...>,\n",
       " <POLYGON ((-224362.354 374442.278, -224354.639 374439.138, -224352.625 37443...>,\n",
       " <POLYGON ((-223986.287 367822.296, -223986.269 367817.813, -223984.535 36781...>,\n",
       " <POLYGON ((-223876.591 368411.421, -223885.196 368412.35, -223887.255 368412...>,\n",
       " <POLYGON ((-222908.721 368965.118, -222907.399 368958.615, -222905.109 36895...>,\n",
       " <POLYGON ((-222857.92 369939.791, -222858.077 369939.693, -222860.341 369939...>,\n",
       " <POLYGON ((-223036.824 370107.152, -223044.728 370104.443, -223056.377 37009...>,\n",
       " <POLYGON ((-224093.402 371623.299, -224096.469 371618.752, -224098.579 37161...>,\n",
       " <POLYGON ((-222973.139 373192.869, -222950.509 373193.649, -222931.004 37319...>,\n",
       " <POLYGON ((-223913.06 373680.527, -223909.697 373676.488, -223906.844 373675...>,\n",
       " <POLYGON ((-223918.048 373825.697, -223906.462 373826.785, -223902.036 37382...>,\n",
       " <POLYGON ((-223781.045 373957.114, -223778.717 373957.7, -223784.546 373874....>,\n",
       " <POLYGON ((-224012.204 374153.16, -224008.103 374149.407, -224002.687 374146...>,\n",
       " <POLYGON ((-223750.244 374531.265, -223750.121 374526.205, -223751.292 37450...>,\n",
       " <POLYGON ((-225108.25 374357.92, -225088.23 374325.77, -225064.92 374297.03,...>,\n",
       " <POLYGON ((-226475.514 370346.621, -226477.875 370345.655, -226474.003 37034...>,\n",
       " <POLYGON ((-226562.899 370301.58, -226577.072 370247.462, -226586.115 370276...>,\n",
       " <POLYGON ((-226570.582 370158.995, -226571.535 370157.79, -226596.243 370160...>,\n",
       " <POLYGON ((-226661.611 370167.724, -226661.917 370168.836, -226657.659 37016...>,\n",
       " <POLYGON ((-225026.65 374089.487, -225023.957 374089.569, -225020.819 374093...>,\n",
       " <POLYGON ((-222782.97 369780.155, -222779.564 369772.449, -222776.701 369769...>,\n",
       " <POLYGON ((-222816.443 369996.152, -222817.929 369991.523, -222817.612 36998...>,\n",
       " <POLYGON ((-223184.863 370089.684, -223183.589 370089.067, -223177.981 37008...>,\n",
       " <POLYGON ((-226314.668 366867.473, -226313.613 366863.754, -226313.119 36686...>,\n",
       " <POLYGON ((-226563.67 367008.231, -226567.108 367003.807, -226567.835 367001...>,\n",
       " <POLYGON ((-227895.443 367516.429, -227890.945 367515.174, -227888.429 36751...>,\n",
       " <POLYGON ((-227029.865 367634.824, -227031.535 367632.22, -227009.881 367614...>,\n",
       " <POLYGON ((-227795.608 368150.73, -227792.433 368147.215, -227784.655 368143...>,\n",
       " <POLYGON ((-227065.017 368160.411, -227064.512 368154.954, -227056.079 36814...>,\n",
       " <POLYGON ((-227688.84 368445.453, -227698.541 368448.857, -227705.553 368455...>,\n",
       " <POLYGON ((-226810.275 368557.554, -226824.041 368573.029, -226842.274 36858...>,\n",
       " <POLYGON ((-226453.257 368948.958, -226445.863 368947.668, -226435.862 36894...>,\n",
       " <POLYGON ((-226477.749 370366.315, -226479.238 370365.144, -226479.983 37036...>,\n",
       " <POLYGON ((-228996.887 370875.679, -228992.178 370876.204, -228991.435 37087...>,\n",
       " <POLYGON ((-226111.413 373500.228, -226112.695 373485.683, -226111.241 37348...>,\n",
       " <POLYGON ((-226684.963 373216.949, -226683.148 373272.909, -226681.178 37333...>,\n",
       " <POLYGON ((-226109.868 365597.665, -226109.483 365589.157, -226109.148 36558...>,\n",
       " <POLYGON ((-226278.036 369360.568, -226266.717 369356.022, -226265.511 36935...>,\n",
       " <POLYGON ((-225746.97 369298.548, -225745.348 369296.036, -225743.298 369295...>,\n",
       " <POLYGON ((-225662.394 369391.836, -225661.483 369385.81, -225653.069 369383...>,\n",
       " <POLYGON ((-225520.993 369428.55, -225520.977 369427.751, -225520.902 369424...>,\n",
       " <POLYGON ((-225818.572 370016.461, -225808.717 370012.274, -225807.017 37001...>,\n",
       " <POLYGON ((-225816.406 372641.57, -225815.146 372640.143, -225808.211 372636...>,\n",
       " <POLYGON ((-225364.21 373005.439, -225377.44 373004.391, -225385.162 372992....>,\n",
       " <POLYGON ((-225747.924 373365.945, -225745.214 373361.709, -225741.026 37335...>,\n",
       " <POLYGON ((-225809.505 373552.601, -225807.023 373549.58, -225804.363 373540...>,\n",
       " <POLYGON ((-225258.87 374098.679, -225255.213 374096.435, -225251.893 374093...>,\n",
       " <POLYGON ((-224362.354 374442.278, -224354.639 374439.138, -224352.625 37443...>,\n",
       " <POLYGON ((-223986.287 367822.296, -223986.269 367817.813, -223984.535 36781...>,\n",
       " <POLYGON ((-223876.591 368411.421, -223885.196 368412.35, -223887.255 368412...>,\n",
       " <POLYGON ((-222908.721 368965.118, -222907.399 368958.615, -222905.109 36895...>,\n",
       " <POLYGON ((-222857.92 369939.791, -222858.077 369939.693, -222860.341 369939...>,\n",
       " <POLYGON ((-223036.824 370107.152, -223044.728 370104.443, -223056.377 37009...>,\n",
       " <POLYGON ((-224093.402 371623.299, -224096.469 371618.752, -224098.579 37161...>,\n",
       " <POLYGON ((-222973.139 373192.869, -222950.509 373193.649, -222931.004 37319...>,\n",
       " <POLYGON ((-223913.06 373680.527, -223909.697 373676.488, -223906.844 373675...>,\n",
       " <POLYGON ((-223918.048 373825.697, -223906.462 373826.785, -223902.036 37382...>,\n",
       " <POLYGON ((-223781.045 373957.114, -223778.717 373957.7, -223784.546 373874....>,\n",
       " <POLYGON ((-224012.204 374153.16, -224008.103 374149.407, -224002.687 374146...>,\n",
       " <POLYGON ((-223750.244 374531.265, -223750.121 374526.205, -223751.292 37450...>,\n",
       " <POLYGON ((-222466.637 370127.46, -222459.412 370113.702, -222470.503 370096...>,\n",
       " <POLYGON ((-223079.44 369916.513, -223025.498 369920.16, -223005.334 369919....>,\n",
       " <POLYGON ((-226328.665 370276.945, -226343.272 370280.283, -226358.693 37029...>,\n",
       " <POLYGON ((-229928.342 370651.631, -229932.366 370551.339, -229932.606 37054...>,\n",
       " <POLYGON ((-229930.639 370780.211, -229923.132 370799.499, -229918.338 37082...>,\n",
       " <POLYGON ((-229191.552 371212.616, -229191.378 371199.363, -229185.946 37116...>,\n",
       " <POLYGON ((-221746.745 371448.54, -221735.457 371455.752, -221705.72 371442....>,\n",
       " <POLYGON ((-225066.054 374297.639, -225064.314 374295.589, -225053.934 37428...>,\n",
       " <POLYGON ((-224511.51 374700.781, -224539.967 374706.293, -224544.11 374697....>,\n",
       " <POLYGON ((-221984.398 377155.959, -221986.871 377143.59, -221985.989 377127...>,\n",
       " <POLYGON ((-221150.392 374032.656, -221147.084 374015.502, -221139.712 37401...>,\n",
       " <POLYGON ((-219947.445 375215.129, -219945.119 375212.746, -219943.716 37520...>,\n",
       " <POLYGON ((-219160.255 378583.974, -219159.866 378583.256, -219158.098 37857...>,\n",
       " <POLYGON ((-219838.863 378626.01, -219835.006 378621.076, -219832.159 378610...>,\n",
       " <POLYGON ((-219872.682 379123.07, -219862.513 379120.983, -219852.848 379121...>,\n",
       " <POLYGON ((-218943.19 379373.798, -218940.877 379370.307, -218936.759 379369...>,\n",
       " <POLYGON ((-219259.031 380206.214, -219258.034 380206.326, -219253.511 38020...>,\n",
       " <POLYGON ((-219028.127 380674.747, -219020.389 380672.868, -219016.838 38066...>,\n",
       " <POLYGON ((-219182.507 382991.61, -219176.693 382985.189, -219170.317 382976...>,\n",
       " <POLYGON EMPTY>,\n",
       " <POLYGON ((-225907.486 372710.202, -225907.574 372710.086, -225907.562 37271...>,\n",
       " <POLYGON ((-225639.638 372854.882, -225624.156 372875.517, -225619.621 37288...>,\n",
       " <POLYGON ((-225456.188 372958.324, -225466.966 372953.903, -225467.017 37295...>,\n",
       " <POLYGON ((-225462.617 373017.341, -225458.497 372999.408, -225461.937 37301...>,\n",
       " <POLYGON ((-225038.131 373366.99, -225047.938 373352.814, -225111.115 373284...>,\n",
       " <POLYGON ((-224944.396 373653.964, -224943.146 373634.615, -224943.133 37362...>,\n",
       " <POLYGON ((-225029.518 373713.76, -225025.626 373714.836, -225022.853 373715...>,\n",
       " <POLYGON ((-223773.315 374027.128, -223770.336 374078.716, -223772.277 37404...>,\n",
       " <POLYGON ((-224074.002 374429.541, -224072.234 374429.518, -224070.804 37442...>,\n",
       " <POLYGON ((-224757.088 374271.858, -224750.241 374279.304, -224746.445 37428...>,\n",
       " <POLYGON ((-225108.25 374357.92, -225088.23 374325.77, -225064.92 374297.03,...>,\n",
       " <POLYGON EMPTY>,\n",
       " <POLYGON ((-225907.486 372710.202, -225907.574 372710.086, -225907.562 37271...>,\n",
       " <POLYGON ((-225639.638 372854.882, -225624.156 372875.517, -225619.621 37288...>,\n",
       " <POLYGON ((-225456.188 372958.324, -225466.966 372953.903, -225467.017 37295...>,\n",
       " <POLYGON ((-225462.617 373017.341, -225458.497 372999.408, -225461.937 37301...>,\n",
       " <POLYGON ((-225038.131 373366.99, -225047.938 373352.814, -225111.115 373284...>,\n",
       " <POLYGON ((-224944.396 373653.964, -224943.146 373634.615, -224943.133 37362...>,\n",
       " <POLYGON ((-225029.518 373713.76, -225025.626 373714.836, -225022.853 373715...>,\n",
       " <POLYGON ((-223773.315 374027.128, -223770.336 374078.716, -223772.277 37404...>,\n",
       " <POLYGON ((-224074.002 374429.541, -224072.234 374429.518, -224070.804 37442...>,\n",
       " <POLYGON ((-224757.088 374271.858, -224750.241 374279.304, -224746.445 37428...>,\n",
       " <POLYGON ((-222466.637 370127.46, -222459.412 370113.702, -222470.503 370096...>,\n",
       " <POLYGON ((-223079.44 369916.513, -223025.498 369920.16, -223005.334 369919....>,\n",
       " <POLYGON ((-226328.665 370276.945, -226343.272 370280.283, -226358.693 37029...>,\n",
       " <POLYGON ((-229928.342 370651.631, -229932.366 370551.339, -229932.606 37054...>,\n",
       " <POLYGON ((-229930.639 370780.211, -229923.132 370799.499, -229918.338 37082...>,\n",
       " <POLYGON ((-229191.552 371212.616, -229191.378 371199.363, -229185.946 37116...>,\n",
       " <POLYGON ((-221746.745 371448.54, -221735.457 371455.752, -221705.72 371442....>,\n",
       " <POLYGON ((-225066.054 374297.639, -225064.314 374295.589, -225053.934 37428...>,\n",
       " <POLYGON ((-224511.51 374700.781, -224539.967 374706.293, -224544.11 374697....>,\n",
       " <POLYGON ((-221984.398 377155.959, -221986.871 377143.59, -221985.989 377127...>,\n",
       " <POLYGON ((-221150.392 374032.656, -221147.084 374015.502, -221139.712 37401...>,\n",
       " <POLYGON ((-219947.445 375215.129, -219945.119 375212.746, -219943.716 37520...>,\n",
       " <POLYGON ((-219160.255 378583.974, -219159.866 378583.256, -219158.098 37857...>,\n",
       " <POLYGON ((-219838.863 378626.01, -219835.006 378621.076, -219832.159 378610...>,\n",
       " <POLYGON ((-219872.682 379123.07, -219862.513 379120.983, -219852.848 379121...>,\n",
       " <POLYGON ((-218943.19 379373.798, -218940.877 379370.307, -218936.759 379369...>,\n",
       " <POLYGON ((-219259.031 380206.214, -219258.034 380206.326, -219253.511 38020...>,\n",
       " <POLYGON ((-219028.127 380674.747, -219020.389 380672.868, -219016.838 38066...>,\n",
       " <POLYGON ((-219182.507 382991.61, -219176.693 382985.189, -219170.317 382976...>,\n",
       " <POLYGON ((-225014.054 374243.947, -225004.698 374241.186, -225008.922 37407...>,\n",
       " <POLYGON ((-225108.25 374357.92, -225088.23 374325.77, -225064.92 374297.03,...>,\n",
       " <POLYGON ((-225003.557 374240.849, -225007.788 374077.376, -225041.348 37409...>,\n",
       " <POLYGON ((-225231.48 374285.86, -225241.99 374286.19, -225242.667 374286.78...>,\n",
       " <POLYGON ((-222466.637 370127.46, -222459.412 370113.702, -222470.503 370096...>,\n",
       " <POLYGON ((-223079.44 369916.513, -223025.498 369920.16, -223005.334 369919....>,\n",
       " <POLYGON ((-226328.665 370276.945, -226343.272 370280.283, -226358.693 37029...>,\n",
       " <POLYGON ((-229928.342 370651.631, -229932.366 370551.339, -229932.606 37054...>,\n",
       " <POLYGON ((-229930.639 370780.211, -229923.132 370799.499, -229918.338 37082...>,\n",
       " <POLYGON ((-229191.552 371212.616, -229191.378 371199.363, -229185.946 37116...>,\n",
       " <POLYGON ((-221746.745 371448.54, -221735.457 371455.752, -221705.72 371442....>,\n",
       " <POLYGON ((-225004.691 374241.458, -225004.698 374241.186, -225014.054 37424...>,\n",
       " <POLYGON ((-225059.714 374102.469, -225069.314 374131.269, -225179.624 37421...>,\n",
       " <POLYGON ((-225243.124 374286.799, -225258.474 374300.289, -225267.884 37433...>,\n",
       " <POLYGON ((-224511.51 374700.781, -224539.967 374706.293, -224544.11 374697....>,\n",
       " <POLYGON ((-221984.398 377155.959, -221986.871 377143.59, -221985.989 377127...>,\n",
       " <POLYGON ((-221150.392 374032.656, -221147.084 374015.502, -221139.712 37401...>,\n",
       " <POLYGON ((-219947.445 375215.129, -219945.119 375212.746, -219943.716 37520...>,\n",
       " <POLYGON ((-219160.255 378583.974, -219159.866 378583.256, -219158.098 37857...>,\n",
       " <POLYGON ((-219838.863 378626.01, -219835.006 378621.076, -219832.159 378610...>,\n",
       " <POLYGON ((-219872.682 379123.07, -219862.513 379120.983, -219852.848 379121...>,\n",
       " <POLYGON ((-218943.19 379373.798, -218940.877 379370.307, -218936.759 379369...>,\n",
       " <POLYGON ((-219259.031 380206.214, -219258.034 380206.326, -219253.511 38020...>,\n",
       " <POLYGON ((-219028.127 380674.747, -219020.389 380672.868, -219016.838 38066...>,\n",
       " <POLYGON ((-219182.507 382991.61, -219176.693 382985.189, -219170.317 382976...>]"
      ]
     },
     "execution_count": 224,
     "metadata": {},
     "output_type": "execute_result"
    }
   ],
   "source": [
    "list(listpoly_flat)"
   ]
  },
  {
   "cell_type": "code",
   "execution_count": 186,
   "id": "b466af4f",
   "metadata": {},
   "outputs": [
    {
     "data": {
      "text/html": [
       "<div>\n",
       "<style scoped>\n",
       "    .dataframe tbody tr th:only-of-type {\n",
       "        vertical-align: middle;\n",
       "    }\n",
       "\n",
       "    .dataframe tbody tr th {\n",
       "        vertical-align: top;\n",
       "    }\n",
       "\n",
       "    .dataframe thead th {\n",
       "        text-align: right;\n",
       "    }\n",
       "</style>\n",
       "<table border=\"1\" class=\"dataframe\">\n",
       "  <thead>\n",
       "    <tr style=\"text-align: right;\">\n",
       "      <th></th>\n",
       "      <th>geometry</th>\n",
       "    </tr>\n",
       "  </thead>\n",
       "  <tbody>\n",
       "    <tr>\n",
       "      <th>0</th>\n",
       "      <td>POLYGON ((-105173.821 71562.967, -105174.443 7...</td>\n",
       "    </tr>\n",
       "    <tr>\n",
       "      <th>1</th>\n",
       "      <td>POLYGON ((-105174.443 71563.308, -105173.821 7...</td>\n",
       "    </tr>\n",
       "    <tr>\n",
       "      <th>2</th>\n",
       "      <td>POLYGON ((-105174.443 71563.308, -105182.636 7...</td>\n",
       "    </tr>\n",
       "    <tr>\n",
       "      <th>3</th>\n",
       "      <td>POLYGON ((-105182.636 71567.815, -105174.443 7...</td>\n",
       "    </tr>\n",
       "    <tr>\n",
       "      <th>4</th>\n",
       "      <td>POLYGON ((-105182.636 71567.815, -105184.058 7...</td>\n",
       "    </tr>\n",
       "    <tr>\n",
       "      <th>...</th>\n",
       "      <td>...</td>\n",
       "    </tr>\n",
       "    <tr>\n",
       "      <th>1069</th>\n",
       "      <td>POLYGON ((-105181.75 71573.642, -105181.265 71...</td>\n",
       "    </tr>\n",
       "    <tr>\n",
       "      <th>1070</th>\n",
       "      <td>POLYGON ((-105249.948 71534.725, -105250.766 7...</td>\n",
       "    </tr>\n",
       "    <tr>\n",
       "      <th>1071</th>\n",
       "      <td>POLYGON ((-105249.728 71534.918, -105249.948 7...</td>\n",
       "    </tr>\n",
       "    <tr>\n",
       "      <th>1072</th>\n",
       "      <td>POLYGON ((-105207.484 71583.053, -105207.441 7...</td>\n",
       "    </tr>\n",
       "    <tr>\n",
       "      <th>1073</th>\n",
       "      <td>POLYGON ((-105199.155 71579.228, -105202.824 7...</td>\n",
       "    </tr>\n",
       "  </tbody>\n",
       "</table>\n",
       "<p>1074 rows × 1 columns</p>\n",
       "</div>"
      ],
      "text/plain": [
       "                                               geometry\n",
       "0     POLYGON ((-105173.821 71562.967, -105174.443 7...\n",
       "1     POLYGON ((-105174.443 71563.308, -105173.821 7...\n",
       "2     POLYGON ((-105174.443 71563.308, -105182.636 7...\n",
       "3     POLYGON ((-105182.636 71567.815, -105174.443 7...\n",
       "4     POLYGON ((-105182.636 71567.815, -105184.058 7...\n",
       "...                                                 ...\n",
       "1069  POLYGON ((-105181.75 71573.642, -105181.265 71...\n",
       "1070  POLYGON ((-105249.948 71534.725, -105250.766 7...\n",
       "1071  POLYGON ((-105249.728 71534.918, -105249.948 7...\n",
       "1072  POLYGON ((-105207.484 71583.053, -105207.441 7...\n",
       "1073  POLYGON ((-105199.155 71579.228, -105202.824 7...\n",
       "\n",
       "[1074 rows x 1 columns]"
      ]
     },
     "execution_count": 186,
     "metadata": {},
     "output_type": "execute_result"
    }
   ],
   "source": [
    "remove_duplicates()"
   ]
  },
  {
   "cell_type": "code",
   "execution_count": 244,
   "id": "f1719d9a",
   "metadata": {},
   "outputs": [],
   "source": [
    "from shapely import Polygon, MultiPolygon\n",
    "from shapely import LineString\n",
    "from shapely.ops import unary_union, polygonize\n",
    "\n",
    "def exterior_ring_reconstruction_NOP(shapely_arr_polygon):\n",
    "    #pair wise intersect and difference polygons\n",
    "    listpoly = flatten([[a.intersection(b), a.difference(b), b.difference(a)] \n",
    "                        for a, b in itertools.combinations(shapely_arr_polygon, 2)])\n",
    "    # remove other geom type\n",
    "    listpoly = [pol for pol in listpoly if (isinstance(pol, Polygon) | isinstance(pol, MultiPolygon))]\n",
    "    # explode multi-polygon\n",
    "    listpoly_flat = flatten([pol if isinstance(pol, Polygon) else list(pol.geoms) for pol in listpoly])\n",
    "\n",
    "    # convert polygon to linestring rings\n",
    "    rings = [LineString(list(pol.exterior.coords)) for pol in listpoly_flat]\n",
    "    # union to get all polygons\n",
    "    union = unary_union(rings)\n",
    "    return [geom for geom in polygonize(union)]\n",
    "    "
   ]
  },
  {
   "cell_type": "code",
   "execution_count": 252,
   "id": "44d66e8f",
   "metadata": {},
   "outputs": [],
   "source": [
    "i = 8751"
   ]
  },
  {
   "cell_type": "code",
   "execution_count": 253,
   "id": "da46201f",
   "metadata": {},
   "outputs": [
    {
     "data": {
      "text/plain": [
       "<Axes: >"
      ]
     },
     "execution_count": 253,
     "metadata": {},
     "output_type": "execute_result"
    },
    {
     "data": {
      "image/png": "[encoded data removed]",
      "text/plain": [
       "<Figure size 640x480 with 1 Axes>"
      ]
     },
     "metadata": {},
     "output_type": "display_data"
    }
   ],
   "source": [
    "gpd.GeoDataFrame({'geometry': exterior_ring_reconstruction_NOP(pd.concat([gdf.iloc[[i]], interaction_gdf_list[i]]).geometry)}).plot()"
   ]
  },
  {
   "cell_type": "code",
   "execution_count": 228,
   "id": "e5242282",
   "metadata": {},
   "outputs": [
    {
     "data": {
      "text/plain": [
       "Index([ 189,  474,  475,  951,  952,  955,  956,  963,  964,  966,\n",
       "       ...\n",
       "       8457, 8477, 8546, 8549, 8559, 8586, 8599, 8671, 8700, 8751],\n",
       "      dtype='int64', length=177)"
      ]
     },
     "execution_count": 228,
     "metadata": {},
     "output_type": "execute_result"
    }
   ],
   "source": [
    "gdf[gdf.TRMTID_USER.isin(nop_list)].index"
   ]
  },
  {
   "cell_type": "code",
   "execution_count": 254,
   "id": "839c37c4",
   "metadata": {},
   "outputs": [
    {
     "name": "stderr",
     "output_type": "stream",
     "text": [
      "100%|████████████████████████████████████████████████████████████████████████████████| 177/177 [03:48<00:00,  1.29s/it]"
     ]
    },
    {
     "name": "stdout",
     "output_type": "stream",
     "text": [
      "CPU times: total: 3min 47s\n",
      "Wall time: 3min 48s\n"
     ]
    },
    {
     "name": "stderr",
     "output_type": "stream",
     "text": [
      "\n"
     ]
    }
   ],
   "source": [
    "%%time\n",
    "out = []\n",
    "for i in tqdm(gdf[gdf.TRMTID_USER.isin(nop_list)].index):\n",
    "    # skip those without any sindex intersection\n",
    "    if len(interaction_gdf_list[i]) == 0:\n",
    "        out.append(gdf.iloc[[i]])\n",
    "        continue\n",
    "    nop_cur = exterior_ring_reconstruction_NOP(pd.concat([gdf.iloc[[i]], interaction_gdf_list[i]]).geometry)\n",
    "    # drop area close to 0 non overlapping polygons\n",
    "    nop_cur = [pol for pol in nop_cur if not np.isclose(pol.area, 0)]\n",
    "\n",
    "    out += nop_cur"
   ]
  },
  {
   "cell_type": "code",
   "execution_count": 255,
   "id": "24d65c46",
   "metadata": {},
   "outputs": [],
   "source": [
    "out_gdf = gpd.GeoDataFrame({'geometry': out})"
   ]
  },
  {
   "cell_type": "code",
   "execution_count": 239,
   "id": "d196e240",
   "metadata": {},
   "outputs": [],
   "source": [
    "import matplotlib.pyplot as plt"
   ]
  },
  {
   "cell_type": "code",
   "execution_count": 258,
   "id": "edd8b141",
   "metadata": {},
   "outputs": [],
   "source": [
    "out_gdf.crs = dissolved_point.crs"
   ]
  },
  {
   "cell_type": "code",
   "execution_count": 259,
   "id": "43a96455",
   "metadata": {},
   "outputs": [],
   "source": [
    "nop_intersection = gpd.sjoin(dissolved_point[dissolved_point['TRMTID_USER'].isin(nop_list)], out_gdf, how='left', predicate='intersects').reset_index()"
   ]
  },
  {
   "cell_type": "code",
   "execution_count": 268,
   "id": "b06b082b",
   "metadata": {},
   "outputs": [
    {
     "data": {
      "text/html": [
       "<div>\n",
       "<style scoped>\n",
       "    .dataframe tbody tr th:only-of-type {\n",
       "        vertical-align: middle;\n",
       "    }\n",
       "\n",
       "    .dataframe tbody tr th {\n",
       "        vertical-align: top;\n",
       "    }\n",
       "\n",
       "    .dataframe thead th {\n",
       "        text-align: right;\n",
       "    }\n",
       "</style>\n",
       "<table border=\"1\" class=\"dataframe\">\n",
       "  <thead>\n",
       "    <tr style=\"text-align: right;\">\n",
       "      <th></th>\n",
       "      <th>index</th>\n",
       "      <th>TRMTID_USER</th>\n",
       "      <th>geometry</th>\n",
       "      <th>ACTIVITY_QUANTITY</th>\n",
       "      <th>AGENCY</th>\n",
       "      <th>index_right</th>\n",
       "    </tr>\n",
       "  </thead>\n",
       "  <tbody>\n",
       "    <tr>\n",
       "      <th>1177</th>\n",
       "      <td>8006</td>\n",
       "      <td>{CB47C41C-A32D-44F4-A13C-6DCA92E36ABD}-CNRA</td>\n",
       "      <td>POINT (-349779.262 435330.018)</td>\n",
       "      <td>0.000002</td>\n",
       "      <td>CNRA</td>\n",
       "      <td>21528</td>\n",
       "    </tr>\n",
       "    <tr>\n",
       "      <th>1228</th>\n",
       "      <td>8559</td>\n",
       "      <td>{F32B2D43-FCFD-4981-9BEF-91D88D2F2B7A}-CNRA</td>\n",
       "      <td>POINT (203047.337 -490891.34)</td>\n",
       "      <td>0.000020</td>\n",
       "      <td>CNRA</td>\n",
       "      <td>35567</td>\n",
       "    </tr>\n",
       "    <tr>\n",
       "      <th>1044</th>\n",
       "      <td>6629</td>\n",
       "      <td>{693DDFAE-3D7C-4E41-8316-B5F339F548E1}-CNRA</td>\n",
       "      <td>POINT (-79883.746 -303073.565)</td>\n",
       "      <td>0.000028</td>\n",
       "      <td>CNRA</td>\n",
       "      <td>21311</td>\n",
       "    </tr>\n",
       "    <tr>\n",
       "      <th>1189</th>\n",
       "      <td>8050</td>\n",
       "      <td>{CE8A37A9-ED9C-4547-BA81-9ABB7AC10CA7}-CNRA</td>\n",
       "      <td>POINT (203223.504 -490960.065)</td>\n",
       "      <td>0.000054</td>\n",
       "      <td>CNRA</td>\n",
       "      <td>34599</td>\n",
       "    </tr>\n",
       "    <tr>\n",
       "      <th>1007</th>\n",
       "      <td>6409</td>\n",
       "      <td>{5B072D55-F476-4F20-AD0B-27DB8856F547}-CNRA</td>\n",
       "      <td>POINT (203220.965 -490958.468)</td>\n",
       "      <td>0.000171</td>\n",
       "      <td>CNRA</td>\n",
       "      <td>26048</td>\n",
       "    </tr>\n",
       "    <tr>\n",
       "      <th>...</th>\n",
       "      <td>...</td>\n",
       "      <td>...</td>\n",
       "      <td>...</td>\n",
       "      <td>...</td>\n",
       "      <td>...</td>\n",
       "      <td>...</td>\n",
       "    </tr>\n",
       "    <tr>\n",
       "      <th>969</th>\n",
       "      <td>5930</td>\n",
       "      <td>{39894F2E-C681-4EB0-8C51-83FD20E6E27B}-CNRA</td>\n",
       "      <td>POINT (312755.227 -540654.018)</td>\n",
       "      <td>214.270000</td>\n",
       "      <td>CNRA</td>\n",
       "      <td>30715</td>\n",
       "    </tr>\n",
       "    <tr>\n",
       "      <th>887</th>\n",
       "      <td>4961</td>\n",
       "      <td>TI-454194</td>\n",
       "      <td>POINT (-127153.141 369593.329)</td>\n",
       "      <td>222.898857</td>\n",
       "      <td>TIMBER</td>\n",
       "      <td>21182</td>\n",
       "    </tr>\n",
       "    <tr>\n",
       "      <th>1070</th>\n",
       "      <td>7015</td>\n",
       "      <td>{82E74083-CE76-4A75-B2F4-EF14CE9F4C1F}-CNRA</td>\n",
       "      <td>POINT (-50062.542 370444.57)</td>\n",
       "      <td>250.000000</td>\n",
       "      <td>CNRA</td>\n",
       "      <td>29587</td>\n",
       "    </tr>\n",
       "    <tr>\n",
       "      <th>1223</th>\n",
       "      <td>8549</td>\n",
       "      <td>{F288A09D-C234-40AA-9A03-B0C565F73DD0}-CNRA</td>\n",
       "      <td>POINT (-90498.314 253683.228)</td>\n",
       "      <td>258.000000</td>\n",
       "      <td>CNRA</td>\n",
       "      <td>29296</td>\n",
       "    </tr>\n",
       "    <tr>\n",
       "      <th>784</th>\n",
       "      <td>1071</td>\n",
       "      <td>0505577220002000002</td>\n",
       "      <td>POINT (-160605.306 414431.215)</td>\n",
       "      <td>330.000000</td>\n",
       "      <td>USDA</td>\n",
       "      <td>25210</td>\n",
       "    </tr>\n",
       "  </tbody>\n",
       "</table>\n",
       "<p>164 rows × 6 columns</p>\n",
       "</div>"
      ],
      "text/plain": [
       "      index                                  TRMTID_USER  \\\n",
       "1177   8006  {CB47C41C-A32D-44F4-A13C-6DCA92E36ABD}-CNRA   \n",
       "1228   8559  {F32B2D43-FCFD-4981-9BEF-91D88D2F2B7A}-CNRA   \n",
       "1044   6629  {693DDFAE-3D7C-4E41-8316-B5F339F548E1}-CNRA   \n",
       "1189   8050  {CE8A37A9-ED9C-4547-BA81-9ABB7AC10CA7}-CNRA   \n",
       "1007   6409  {5B072D55-F476-4F20-AD0B-27DB8856F547}-CNRA   \n",
       "...     ...                                          ...   \n",
       "969    5930  {39894F2E-C681-4EB0-8C51-83FD20E6E27B}-CNRA   \n",
       "887    4961                                    TI-454194   \n",
       "1070   7015  {82E74083-CE76-4A75-B2F4-EF14CE9F4C1F}-CNRA   \n",
       "1223   8549  {F288A09D-C234-40AA-9A03-B0C565F73DD0}-CNRA   \n",
       "784    1071                          0505577220002000002   \n",
       "\n",
       "                            geometry  ACTIVITY_QUANTITY  AGENCY  index_right  \n",
       "1177  POINT (-349779.262 435330.018)           0.000002    CNRA        21528  \n",
       "1228   POINT (203047.337 -490891.34)           0.000020    CNRA        35567  \n",
       "1044  POINT (-79883.746 -303073.565)           0.000028    CNRA        21311  \n",
       "1189  POINT (203223.504 -490960.065)           0.000054    CNRA        34599  \n",
       "1007  POINT (203220.965 -490958.468)           0.000171    CNRA        26048  \n",
       "...                              ...                ...     ...          ...  \n",
       "969   POINT (312755.227 -540654.018)         214.270000    CNRA        30715  \n",
       "887   POINT (-127153.141 369593.329)         222.898857  TIMBER        21182  \n",
       "1070    POINT (-50062.542 370444.57)         250.000000    CNRA        29587  \n",
       "1223   POINT (-90498.314 253683.228)         258.000000    CNRA        29296  \n",
       "784   POINT (-160605.306 414431.215)         330.000000    USDA        25210  \n",
       "\n",
       "[164 rows x 6 columns]"
      ]
     },
     "execution_count": 268,
     "metadata": {},
     "output_type": "execute_result"
    }
   ],
   "source": [
    "nop_intersection.sort_values('ACTIVITY_QUANTITY').drop_duplicates('index_right', keep='last').drop_duplicates('TRMTID_USER', keep='last')"
   ]
  },
  {
   "cell_type": "code",
   "execution_count": 266,
   "id": "3639f52e",
   "metadata": {},
   "outputs": [
    {
     "data": {
      "text/html": [
       "<div>\n",
       "<style scoped>\n",
       "    .dataframe tbody tr th:only-of-type {\n",
       "        vertical-align: middle;\n",
       "    }\n",
       "\n",
       "    .dataframe tbody tr th {\n",
       "        vertical-align: top;\n",
       "    }\n",
       "\n",
       "    .dataframe thead th {\n",
       "        text-align: right;\n",
       "    }\n",
       "</style>\n",
       "<table border=\"1\" class=\"dataframe\">\n",
       "  <thead>\n",
       "    <tr style=\"text-align: right;\">\n",
       "      <th></th>\n",
       "      <th></th>\n",
       "      <th>index</th>\n",
       "      <th>ACTIVITY_QUANTITY</th>\n",
       "    </tr>\n",
       "    <tr>\n",
       "      <th>index_right</th>\n",
       "      <th>TRMTID_USER</th>\n",
       "      <th></th>\n",
       "      <th></th>\n",
       "    </tr>\n",
       "  </thead>\n",
       "  <tbody>\n",
       "    <tr>\n",
       "      <th>0</th>\n",
       "      <th>050254F025414001088</th>\n",
       "      <td>189</td>\n",
       "      <td>157.000000</td>\n",
       "    </tr>\n",
       "    <tr>\n",
       "      <th>15</th>\n",
       "      <th>0503566INV000053002</th>\n",
       "      <td>474</td>\n",
       "      <td>0.100000</td>\n",
       "    </tr>\n",
       "    <tr>\n",
       "      <th>20</th>\n",
       "      <th>0503566INV000053003</th>\n",
       "      <td>475</td>\n",
       "      <td>0.100000</td>\n",
       "    </tr>\n",
       "    <tr>\n",
       "      <th>28</th>\n",
       "      <th>0503566INV000053003</th>\n",
       "      <td>475</td>\n",
       "      <td>0.100000</td>\n",
       "    </tr>\n",
       "    <tr>\n",
       "      <th>29</th>\n",
       "      <th>0503566INV000053002</th>\n",
       "      <td>474</td>\n",
       "      <td>0.100000</td>\n",
       "    </tr>\n",
       "    <tr>\n",
       "      <th>...</th>\n",
       "      <th>...</th>\n",
       "      <td>...</td>\n",
       "      <td>...</td>\n",
       "    </tr>\n",
       "    <tr>\n",
       "      <th>35824</th>\n",
       "      <th>{FF4B3BE2-5F65-4FDB-9B15-1294EE9CBA9B}-CNRA</th>\n",
       "      <td>8751</td>\n",
       "      <td>0.000764</td>\n",
       "    </tr>\n",
       "    <tr>\n",
       "      <th rowspan=\"2\" valign=\"top\">35829</th>\n",
       "      <th>{BFD499B2-7E07-41CD-AAEE-2DE317DD208D}-CNRA</th>\n",
       "      <td>7837</td>\n",
       "      <td>0.005012</td>\n",
       "    </tr>\n",
       "    <tr>\n",
       "      <th>{D1C3557D-A908-48E6-864A-7E82E9384208}-CNRA</th>\n",
       "      <td>8104</td>\n",
       "      <td>0.004248</td>\n",
       "    </tr>\n",
       "    <tr>\n",
       "      <th rowspan=\"2\" valign=\"top\">35830</th>\n",
       "      <th>{1C802D08-9DCE-4C8C-B046-F6E4FDB07413}-CNRA</th>\n",
       "      <td>5515</td>\n",
       "      <td>0.010865</td>\n",
       "    </tr>\n",
       "    <tr>\n",
       "      <th>{CCE06964-50E7-440B-83DF-F0475441F599}-CNRA</th>\n",
       "      <td>8028</td>\n",
       "      <td>0.009857</td>\n",
       "    </tr>\n",
       "  </tbody>\n",
       "</table>\n",
       "<p>1248 rows × 2 columns</p>\n",
       "</div>"
      ],
      "text/plain": [
       "                                                         index  \\\n",
       "index_right TRMTID_USER                                          \n",
       "0           050254F025414001088                            189   \n",
       "15          0503566INV000053002                            474   \n",
       "20          0503566INV000053003                            475   \n",
       "28          0503566INV000053003                            475   \n",
       "29          0503566INV000053002                            474   \n",
       "...                                                        ...   \n",
       "35824       {FF4B3BE2-5F65-4FDB-9B15-1294EE9CBA9B}-CNRA   8751   \n",
       "35829       {BFD499B2-7E07-41CD-AAEE-2DE317DD208D}-CNRA   7837   \n",
       "            {D1C3557D-A908-48E6-864A-7E82E9384208}-CNRA   8104   \n",
       "35830       {1C802D08-9DCE-4C8C-B046-F6E4FDB07413}-CNRA   5515   \n",
       "            {CCE06964-50E7-440B-83DF-F0475441F599}-CNRA   8028   \n",
       "\n",
       "                                                         ACTIVITY_QUANTITY  \n",
       "index_right TRMTID_USER                                                     \n",
       "0           050254F025414001088                                 157.000000  \n",
       "15          0503566INV000053002                                   0.100000  \n",
       "20          0503566INV000053003                                   0.100000  \n",
       "28          0503566INV000053003                                   0.100000  \n",
       "29          0503566INV000053002                                   0.100000  \n",
       "...                                                                    ...  \n",
       "35824       {FF4B3BE2-5F65-4FDB-9B15-1294EE9CBA9B}-CNRA           0.000764  \n",
       "35829       {BFD499B2-7E07-41CD-AAEE-2DE317DD208D}-CNRA           0.005012  \n",
       "            {D1C3557D-A908-48E6-864A-7E82E9384208}-CNRA           0.004248  \n",
       "35830       {1C802D08-9DCE-4C8C-B046-F6E4FDB07413}-CNRA           0.010865  \n",
       "            {CCE06964-50E7-440B-83DF-F0475441F599}-CNRA           0.009857  \n",
       "\n",
       "[1248 rows x 2 columns]"
      ]
     },
     "execution_count": 266,
     "metadata": {},
     "output_type": "execute_result"
    }
   ],
   "source": [
    "nop_intersection.groupby(['index_right', 'TRMTID_USER']).max(['ACTIVITY_QUANTITY'])"
   ]
  },
  {
   "cell_type": "code",
   "execution_count": 256,
   "id": "edfdab38",
   "metadata": {},
   "outputs": [
    {
     "data": {
      "text/plain": [
       "<Axes: >"
      ]
     },
     "execution_count": 256,
     "metadata": {},
     "output_type": "execute_result"
    },
    {
     "data": {
      "image/png": "[encoded data removed]",
      "text/plain": [
       "<Figure size 1400x1400 with 1 Axes>"
      ]
     },
     "metadata": {},
     "output_type": "display_data"
    }
   ],
   "source": [
    "f, ax = plt.subplots()\n",
    "f.set_size_inches(14, 14)\n",
    "remove_duplicates(out_gdf).plot(ax=ax)\n",
    "dissolved_point[dissolved_point.TRMTID_USER.isin(nop_list)].plot(ax=ax,c='red',)"
   ]
  },
  {
   "cell_type": "code",
   "execution_count": null,
   "id": "2552fc78",
   "metadata": {},
   "outputs": [],
   "source": []
  },
  {
   "cell_type": "code",
   "execution_count": null,
   "id": "f43b2a34",
   "metadata": {},
   "outputs": [
    {
     "name": "stderr",
     "output_type": "stream",
     "text": [
      " 53%|█████████████████████████████████████▊                                 | 4742/8903 [1:37:47<237:25:51, 205.42s/it]"
     ]
    }
   ],
   "source": [
    "%%time\n",
    "out = get_NOP(dissolved_cur_y)"
   ]
  },
  {
   "cell_type": "code",
   "execution_count": null,
   "id": "125a0fb0",
   "metadata": {},
   "outputs": [],
   "source": [
    "4742"
   ]
  },
  {
   "cell_type": "code",
   "execution_count": 22,
   "id": "8f224720",
   "metadata": {},
   "outputs": [],
   "source": []
  },
  {
   "cell_type": "code",
   "execution_count": 66,
   "id": "7e8cb309",
   "metadata": {},
   "outputs": [],
   "source": [
    "# author: James Falter @ARB\n",
    "# Function to find local intersections between a target feature and a set of features\n",
    "def get_interaction_list(gdf):\n",
    "    # Build spatial index for efficient bounding box queries\n",
    "    sindex = gdf.sindex\n",
    "\n",
    "    # Store results in a pre-formatted list\n",
    "    interaction_gdf_list = [None]*len(gdf)\n",
    "\n",
    "    for idx, row in gdf.iterrows():\n",
    "        # Get the bounding box of the current feature\n",
    "        bounds = row.geometry.bounds\n",
    "\n",
    "        # Find possible neighbors using bounding box intersection\n",
    "        possible_neighbors = list(sindex.intersection(bounds))\n",
    "\n",
    "        # Remove self from possible neighbors\n",
    "        possible_neighbors = [i for i in possible_neighbors if i != idx]\n",
    "\n",
    "        # Check for actual intersection with each possible neighbor\n",
    "        intersecting_neighbors = [\n",
    "            i for i in possible_neighbors\n",
    "            if row.geometry.intersects(gdf.loc[i].geometry)\n",
    "        ]\n",
    "\n",
    "        # Assign results if not empty\n",
    "        if len(intersecting_neighbors) > 0:\n",
    "            interaction_gdf_list[idx] = gdf.iloc[intersecting_neighbors]\n",
    "        else:\n",
    "            interaction_gdf_list[idx] = []\n",
    "\n",
    "    return interaction_gdf_list"
   ]
  },
  {
   "cell_type": "code",
   "execution_count": 19,
   "id": "b0251eef",
   "metadata": {},
   "outputs": [],
   "source": [
    "# author: James Falter @ARB\n",
    "# Function to recursively decompose a set of features into non-overlapping polygons (NOPs)\n",
    "def recursive_nop_decomposition(features_gdf):\n",
    "\n",
    "    # Loop through all features to find full sets of intersecting and non-intersecting features\n",
    "    interaction_gdf_list = get_interaction_list(features_gdf)\n",
    "\n",
    "    interaction_gdf_rows_list = [len(gdf) for gdf in interaction_gdf_list]\n",
    "    non_intersecting_indices = [i for i, count in enumerate(interaction_gdf_rows_list) if count == 0]\n",
    "    intersecting_indices  = [i for i, count in enumerate(interaction_gdf_rows_list) if count > 0]\n",
    "\n",
    "    if len(non_intersecting_indices) > 0:\n",
    "        non_intersecting_gdf = features_gdf.iloc[non_intersecting_indices].copy()\n",
    "\n",
    "    # Test to see if any intersecting features were found\n",
    "    if len(intersecting_indices) == 0:\n",
    "        return features_gdf\n",
    "    \n",
    "    else:\n",
    "        # Define intersecting features of interest and their set of intersecting neighbors\n",
    "        intersecting_features_gdf = features_gdf.iloc[intersecting_indices].copy().reset_index(drop=True)\n",
    "        intersecting_gdf_list = [interaction_gdf_list[i] for i in intersecting_indices]\n",
    "\n",
    "        nop_gdf_list = []\n",
    "        \n",
    "        #Loop through the remaining sub-set of intersecting features\n",
    "        for idx, row in intersecting_features_gdf.iterrows():\n",
    "            lvl2_target_gdf = intersecting_features_gdf.loc[[idx]]\n",
    "            lvl2_neighbors_gdf = intersecting_gdf_list[idx]\n",
    "            \n",
    "            # keep_geom_type=False will often time produce artifact in geometry of line/point\n",
    "            # only keep polygon/multipolygon\n",
    "            lvl2_neighbors_gdf = lvl2_neighbors_gdf[lvl2_neighbors_gdf.geom_type.isin(['MultiPolygon', 'Polygon'])]\n",
    "            \n",
    "            diff_nop_gdf = lvl2_target_gdf.overlay(\n",
    "                lvl2_neighbors_gdf, \n",
    "                how='difference', \n",
    "                keep_geom_type=False)\n",
    "            \n",
    "            inter_nop_gdf = lvl2_target_gdf.overlay(\n",
    "                lvl2_neighbors_gdf, \n",
    "                how='intersection', \n",
    "                keep_geom_type=False)\n",
    "\n",
    "            # Recursively decompose any intersecting intersections\n",
    "            lvl2_inter_nop_gdf = recursive_nop_decomposition(inter_nop_gdf)\n",
    "\n",
    "            # Compile all NOPs for a given target feature in the NOP list\n",
    "            nop_gdf_list.append(pd.concat([diff_nop_gdf, lvl2_inter_nop_gdf], ignore_index=True))\n",
    "\n",
    "        # Concatenate all independent NOPs found plus set of non-intersecting features\n",
    "        nop_gdf = pd.concat(nop_gdf_list, ignore_index=True)\n",
    "\n",
    "        if len(non_intersecting_indices) > 0:\n",
    "            nop2_gdf = pd.concat([non_intersecting_gdf, nop_gdf], ignore_index=True)\n",
    "        else:\n",
    "            nop2_gdf = nop_gdf\n",
    "\n",
    "        # Get rid of duplicate geometries created by bidirectional pairwise intersections\n",
    "        unique_nop_gdf = remove_duplicates(nop2_gdf)\n",
    "\n",
    "        return unique_nop_gdf"
   ]
  },
  {
   "cell_type": "code",
   "execution_count": 67,
   "id": "ac72537e",
   "metadata": {},
   "outputs": [],
   "source": [
    "def flatten(container):\n",
    "    for i in container:\n",
    "        if isinstance(i, (list,tuple)):\n",
    "            for j in flatten(i):\n",
    "                yield j\n",
    "        else:\n",
    "            yield i"
   ]
  },
  {
   "cell_type": "code",
   "execution_count": 94,
   "id": "982ad738",
   "metadata": {},
   "outputs": [],
   "source": [
    "def get_NOP_recur(gdf1, gdf2):\n",
    "    gdf1 = gdf1[gdf1.geom_type.isin(['MultiPolygon', 'Polygon'])]\n",
    "    gdf2 = gdf2[gdf2.geom_type.isin(['MultiPolygon', 'Polygon'])]\n",
    "\n",
    "    # keep_geom_type=False will often time produce artifact in geometry of line/point\n",
    "    # only keep polygon/multipolygon\n",
    "    intersection = gpd.overlay(gdf1, gdf2, how='intersection', keep_geom_type=False)\n",
    "    intersection = intersection[intersection.geom_type.isin(['MultiPolygon', 'Polygon'])]\n",
    "\n",
    "    difference = gpd.overlay(gdf1, gdf2, how='difference', keep_geom_type=False)\n",
    "    difference = difference[difference.geom_type.isin(['MultiPolygon', 'Polygon'])]\n",
    "\n",
    "    temp_nop = pd.concat([intersection, difference])\n",
    "    temp_nop = remove_duplicates(temp_nop)\n",
    "    if len(temp_nop) <= 1:\n",
    "        return [gdf1]\n",
    "    else:\n",
    "        return [get_NOP_recur(temp_nop.iloc[[i]], \n",
    "                              pd.concat([temp_nop.iloc[0:i],temp_nop.iloc[i+1:]])) for i in range(len(temp_nop))]"
   ]
  },
  {
   "cell_type": "code",
   "execution_count": 272,
   "id": "459fd79b",
   "metadata": {},
   "outputs": [
    {
     "data": {
      "image/svg+xml": [
       "<svg xmlns=\"http://www.w3.org/2000/svg\" xmlns:xlink=\"http://www.w3.org/1999/xlink\" width=\"100.0\" height=\"100.0\" viewBox=\"66033.35823615074 -415820.38056389807 2.1946280860865954 2.9015279674204066\" preserveAspectRatio=\"xMinYMin meet\"><g transform=\"matrix(1,0,0,-1,0,-831637.8595998287)\"><path fill-rule=\"evenodd\" fill=\"#66cc99\" stroke=\"#555555\" stroke-width=\"0.05803055934840813\" opacity=\"0.6\" d=\"M 66033.83900022507,-415819.7664999962 L 66033.46570014954,-415817.5864999294 L 66034.5188999176,-415817.6572999954 L 66035.44540023804,-415818.03579998016 L 66034.65119981766,-415818.8252000809 L 66034.98420000076,-415819.37439990044 L 66035.02890014648,-415820.2730998993 L 66033.83900022507,-415819.7664999962 z\" /></g></svg>"
      ],
      "text/plain": [
       "<POLYGON ((66033.839 -415819.766, 66033.466 -415817.586, 66034.519 -415817.6...>"
      ]
     },
     "execution_count": 272,
     "metadata": {},
     "output_type": "execute_result"
    }
   ],
   "source": [
    "gdf.iloc[i].geometry"
   ]
  },
  {
   "cell_type": "code",
   "execution_count": 95,
   "id": "0680b370",
   "metadata": {},
   "outputs": [],
   "source": [
    "from tqdm import tqdm\n",
    "\n",
    "\n",
    "def get_NOP(gdf):\n",
    "    out = []\n",
    "    interaction_gdf_list = get_interaction_list(gdf)\n",
    "    for i in tqdm(range(len(gdf))):\n",
    "        # skip those without any sindex intersection\n",
    "        if len(interaction_gdf_list[i]) == 0:\n",
    "            out.append(gdf.iloc[[i]])\n",
    "            continue\n",
    "        nop_cur = get_NOP_recur(gdf.iloc[[i]], interaction_gdf_list[i])\n",
    "        nop_cur = pd.concat(flatten(nop_cur)).drop_duplicates('geometry')\n",
    "        nop_cur = nop_cur[~np.isclose(nop_cur.area, 0)]\n",
    "        \n",
    "        out.append(nop_cur)\n",
    "        \n",
    "    return pd.concat(flatten(out)).drop_duplicates('geometry')"
   ]
  },
  {
   "cell_type": "code",
   "execution_count": 13,
   "id": "b1fb0b7f",
   "metadata": {},
   "outputs": [],
   "source": [
    "import warnings\n",
    "warnings.filterwarnings(\"ignore\")"
   ]
  },
  {
   "cell_type": "code",
   "execution_count": null,
   "id": "5a5a1ce6",
   "metadata": {},
   "outputs": [],
   "source": []
  },
  {
   "cell_type": "code",
   "execution_count": 14,
   "id": "c28680b2",
   "metadata": {},
   "outputs": [],
   "source": [
    "import dask_geopandas\n",
    "# some data need to be converted to multi-type again\n",
    "from utils.save_gdf_to_gdb import save_gdf_to_gdb"
   ]
  },
  {
   "cell_type": "code",
   "execution_count": null,
   "id": "2ddcc9e3",
   "metadata": {},
   "outputs": [],
   "source": []
  },
  {
   "cell_type": "code",
   "execution_count": null,
   "id": "ebfffab9",
   "metadata": {},
   "outputs": [],
   "source": [
    "%%time\n",
    "from multiprocessing import Pool\n",
    "interaction_gdf_list = get_interaction_list(dissolved_cur_y)\n",
    "def get_NOP_mp(i):\n",
    "    if len(interaction_gdf_list[i]) == 0:\n",
    "        return(gdf.iloc[[i]])\n",
    "    nop_cur = get_NOP_recur(gdf.iloc[[i]], interaction_gdf_list[i])\n",
    "    nop_cur = pd.concat(flatten(nop_cur)).drop_duplicates('geometry')\n",
    "    nop_cur = nop_cur[~np.isclose(nop_cur.area, 0)]\n",
    "\n",
    "    return nop_cur\n",
    "\n",
    "\n",
    "if __name__ == '__main__':\n",
    "    pool = Pool(processes=8)\n",
    "    \n",
    "    pool.map(process_nop, range(len(dissolved_cur_y)))"
   ]
  },
  {
   "cell_type": "code",
   "execution_count": 213,
   "id": "4fe059b8",
   "metadata": {},
   "outputs": [
    {
     "ename": "KeyboardInterrupt",
     "evalue": "",
     "output_type": "error",
     "traceback": [
      "\u001b[1;31m---------------------------------------------------------------------------\u001b[0m",
      "\u001b[1;31mKeyboardInterrupt\u001b[0m                         Traceback (most recent call last)",
      "File \u001b[1;32m<timed exec>:1\u001b[0m\n",
      "Cell \u001b[1;32mIn[207], line 4\u001b[0m, in \u001b[0;36mget_NOP\u001b[1;34m(gdf)\u001b[0m\n\u001b[0;32m      2\u001b[0m out \u001b[38;5;241m=\u001b[39m []\n\u001b[0;32m      3\u001b[0m \u001b[38;5;28;01mfor\u001b[39;00m i \u001b[38;5;129;01min\u001b[39;00m \u001b[38;5;28mrange\u001b[39m(\u001b[38;5;28mlen\u001b[39m(gdf)):\n\u001b[1;32m----> 4\u001b[0m     nop_cur \u001b[38;5;241m=\u001b[39m get_NOP_recur(gdf\u001b[38;5;241m.\u001b[39miloc[[i]], pd\u001b[38;5;241m.\u001b[39mconcat([gdf\u001b[38;5;241m.\u001b[39miloc[\u001b[38;5;241m0\u001b[39m:i],gdf\u001b[38;5;241m.\u001b[39miloc[i\u001b[38;5;241m+\u001b[39m\u001b[38;5;241m1\u001b[39m:]]))\n\u001b[0;32m      5\u001b[0m     nop_cur \u001b[38;5;241m=\u001b[39m pd\u001b[38;5;241m.\u001b[39mconcat(flatten(nop_cur))\u001b[38;5;241m.\u001b[39mdrop_duplicates(\u001b[38;5;124m'\u001b[39m\u001b[38;5;124mgeometry\u001b[39m\u001b[38;5;124m'\u001b[39m)\n\u001b[0;32m      6\u001b[0m     nop_cur \u001b[38;5;241m=\u001b[39m nop_cur[\u001b[38;5;241m~\u001b[39mnp\u001b[38;5;241m.\u001b[39misclose(nop_cur\u001b[38;5;241m.\u001b[39marea, \u001b[38;5;241m0\u001b[39m)]\n",
      "Cell \u001b[1;32mIn[175], line 9\u001b[0m, in \u001b[0;36mget_NOP_recur\u001b[1;34m(gdf1, gdf2)\u001b[0m\n\u001b[0;32m      7\u001b[0m     \u001b[38;5;28;01mreturn\u001b[39;00m [gdf1]\n\u001b[0;32m      8\u001b[0m \u001b[38;5;28;01melse\u001b[39;00m:\n\u001b[1;32m----> 9\u001b[0m     \u001b[38;5;28;01mreturn\u001b[39;00m [get_NOP_recur(temp_nop\u001b[38;5;241m.\u001b[39miloc[[i]], \n\u001b[0;32m     10\u001b[0m                           pd\u001b[38;5;241m.\u001b[39mconcat([temp_nop\u001b[38;5;241m.\u001b[39miloc[\u001b[38;5;241m0\u001b[39m:i],temp_nop\u001b[38;5;241m.\u001b[39miloc[i\u001b[38;5;241m+\u001b[39m\u001b[38;5;241m1\u001b[39m:]])) \u001b[38;5;28;01mfor\u001b[39;00m i \u001b[38;5;129;01min\u001b[39;00m \u001b[38;5;28mrange\u001b[39m(\u001b[38;5;28mlen\u001b[39m(temp_nop))]\n",
      "Cell \u001b[1;32mIn[175], line 9\u001b[0m, in \u001b[0;36mget_NOP_recur\u001b[1;34m(gdf1, gdf2)\u001b[0m\n\u001b[0;32m      7\u001b[0m     \u001b[38;5;28;01mreturn\u001b[39;00m [gdf1]\n\u001b[0;32m      8\u001b[0m \u001b[38;5;28;01melse\u001b[39;00m:\n\u001b[1;32m----> 9\u001b[0m     \u001b[38;5;28;01mreturn\u001b[39;00m [get_NOP_recur(temp_nop\u001b[38;5;241m.\u001b[39miloc[[i]], \n\u001b[0;32m     10\u001b[0m                           pd\u001b[38;5;241m.\u001b[39mconcat([temp_nop\u001b[38;5;241m.\u001b[39miloc[\u001b[38;5;241m0\u001b[39m:i],temp_nop\u001b[38;5;241m.\u001b[39miloc[i\u001b[38;5;241m+\u001b[39m\u001b[38;5;241m1\u001b[39m:]])) \u001b[38;5;28;01mfor\u001b[39;00m i \u001b[38;5;129;01min\u001b[39;00m \u001b[38;5;28mrange\u001b[39m(\u001b[38;5;28mlen\u001b[39m(temp_nop))]\n",
      "    \u001b[1;31m[... skipping similar frames: get_NOP_recur at line 9 (3 times)]\u001b[0m\n",
      "Cell \u001b[1;32mIn[175], line 9\u001b[0m, in \u001b[0;36mget_NOP_recur\u001b[1;34m(gdf1, gdf2)\u001b[0m\n\u001b[0;32m      7\u001b[0m     \u001b[38;5;28;01mreturn\u001b[39;00m [gdf1]\n\u001b[0;32m      8\u001b[0m \u001b[38;5;28;01melse\u001b[39;00m:\n\u001b[1;32m----> 9\u001b[0m     \u001b[38;5;28;01mreturn\u001b[39;00m [get_NOP_recur(temp_nop\u001b[38;5;241m.\u001b[39miloc[[i]], \n\u001b[0;32m     10\u001b[0m                           pd\u001b[38;5;241m.\u001b[39mconcat([temp_nop\u001b[38;5;241m.\u001b[39miloc[\u001b[38;5;241m0\u001b[39m:i],temp_nop\u001b[38;5;241m.\u001b[39miloc[i\u001b[38;5;241m+\u001b[39m\u001b[38;5;241m1\u001b[39m:]])) \u001b[38;5;28;01mfor\u001b[39;00m i \u001b[38;5;129;01min\u001b[39;00m \u001b[38;5;28mrange\u001b[39m(\u001b[38;5;28mlen\u001b[39m(temp_nop))]\n",
      "Cell \u001b[1;32mIn[175], line 2\u001b[0m, in \u001b[0;36mget_NOP_recur\u001b[1;34m(gdf1, gdf2)\u001b[0m\n\u001b[0;32m      1\u001b[0m \u001b[38;5;28;01mdef\u001b[39;00m \u001b[38;5;21mget_NOP_recur\u001b[39m(gdf1, gdf2):\n\u001b[1;32m----> 2\u001b[0m     intersection \u001b[38;5;241m=\u001b[39m gpd\u001b[38;5;241m.\u001b[39moverlay(gdf1, gdf2, how\u001b[38;5;241m=\u001b[39m\u001b[38;5;124m'\u001b[39m\u001b[38;5;124mintersection\u001b[39m\u001b[38;5;124m'\u001b[39m)\n\u001b[0;32m      3\u001b[0m     difference \u001b[38;5;241m=\u001b[39m gpd\u001b[38;5;241m.\u001b[39moverlay(gdf1, gdf2, how\u001b[38;5;241m=\u001b[39m\u001b[38;5;124m'\u001b[39m\u001b[38;5;124mdifference\u001b[39m\u001b[38;5;124m'\u001b[39m)\n\u001b[0;32m      5\u001b[0m     temp_nop \u001b[38;5;241m=\u001b[39m pd\u001b[38;5;241m.\u001b[39mconcat([intersection, difference])\n",
      "File \u001b[1;32m~\\.conda\\envs\\its_recode\\Lib\\site-packages\\geopandas\\tools\\overlay.py:313\u001b[0m, in \u001b[0;36moverlay\u001b[1;34m(df1, df2, how, keep_geom_type, make_valid)\u001b[0m\n\u001b[0;32m    305\u001b[0m             \u001b[38;5;28;01mraise\u001b[39;00m \u001b[38;5;167;01mValueError\u001b[39;00m(\n\u001b[0;32m    306\u001b[0m                 \u001b[38;5;124m\"\u001b[39m\u001b[38;5;124mYou have passed make_valid=False along with \u001b[39m\u001b[38;5;124m\"\u001b[39m\n\u001b[0;32m    307\u001b[0m                 \u001b[38;5;124mf\u001b[39m\u001b[38;5;124m\"\u001b[39m\u001b[38;5;132;01m{\u001b[39;00mmask\u001b[38;5;241m.\u001b[39msum()\u001b[38;5;132;01m}\u001b[39;00m\u001b[38;5;124m invalid input geometries. \u001b[39m\u001b[38;5;124m\"\u001b[39m\n\u001b[0;32m    308\u001b[0m                 \u001b[38;5;124m\"\u001b[39m\u001b[38;5;124mUse make_valid=True or make sure that all geometries \u001b[39m\u001b[38;5;124m\"\u001b[39m\n\u001b[0;32m    309\u001b[0m                 \u001b[38;5;124m\"\u001b[39m\u001b[38;5;124mare valid before using overlay.\u001b[39m\u001b[38;5;124m\"\u001b[39m\n\u001b[0;32m    310\u001b[0m             )\n\u001b[0;32m    311\u001b[0m     \u001b[38;5;28;01mreturn\u001b[39;00m df\n\u001b[1;32m--> 313\u001b[0m df1 \u001b[38;5;241m=\u001b[39m _make_valid(df1)\n\u001b[0;32m    314\u001b[0m df2 \u001b[38;5;241m=\u001b[39m _make_valid(df2)\n\u001b[0;32m    316\u001b[0m \u001b[38;5;28;01mwith\u001b[39;00m warnings\u001b[38;5;241m.\u001b[39mcatch_warnings():  \u001b[38;5;66;03m# CRS checked above, suppress array-level warning\u001b[39;00m\n",
      "File \u001b[1;32m~\\.conda\\envs\\its_recode\\Lib\\site-packages\\geopandas\\tools\\overlay.py:300\u001b[0m, in \u001b[0;36moverlay.<locals>._make_valid\u001b[1;34m(df)\u001b[0m\n\u001b[0;32m    298\u001b[0m df \u001b[38;5;241m=\u001b[39m df\u001b[38;5;241m.\u001b[39mcopy()\n\u001b[0;32m    299\u001b[0m \u001b[38;5;28;01mif\u001b[39;00m df\u001b[38;5;241m.\u001b[39mgeom_type\u001b[38;5;241m.\u001b[39misin(polys)\u001b[38;5;241m.\u001b[39mall():\n\u001b[1;32m--> 300\u001b[0m     mask \u001b[38;5;241m=\u001b[39m \u001b[38;5;241m~\u001b[39mdf\u001b[38;5;241m.\u001b[39mgeometry\u001b[38;5;241m.\u001b[39mis_valid\n\u001b[0;32m    301\u001b[0m     col \u001b[38;5;241m=\u001b[39m df\u001b[38;5;241m.\u001b[39m_geometry_column_name\n\u001b[0;32m    302\u001b[0m     \u001b[38;5;28;01mif\u001b[39;00m make_valid:\n",
      "File \u001b[1;32m~\\.conda\\envs\\its_recode\\Lib\\site-packages\\geopandas\\base.py:334\u001b[0m, in \u001b[0;36mGeoPandasBase.is_valid\u001b[1;34m(self)\u001b[0m\n\u001b[0;32m    296\u001b[0m \u001b[38;5;129m@property\u001b[39m\n\u001b[0;32m    297\u001b[0m \u001b[38;5;28;01mdef\u001b[39;00m \u001b[38;5;21mis_valid\u001b[39m(\u001b[38;5;28mself\u001b[39m):\n\u001b[0;32m    298\u001b[0m \u001b[38;5;250m    \u001b[39m\u001b[38;5;124;03m\"\"\"Returns a ``Series`` of ``dtype('bool')`` with value ``True`` for\u001b[39;00m\n\u001b[0;32m    299\u001b[0m \u001b[38;5;124;03m    geometries that are valid.\u001b[39;00m\n\u001b[0;32m    300\u001b[0m \n\u001b[1;32m   (...)\u001b[0m\n\u001b[0;32m    332\u001b[0m \u001b[38;5;124;03m    GeoSeries.is_valid_reason : reason for invalidity\u001b[39;00m\n\u001b[0;32m    333\u001b[0m \u001b[38;5;124;03m    \"\"\"\u001b[39;00m\n\u001b[1;32m--> 334\u001b[0m     \u001b[38;5;28;01mreturn\u001b[39;00m _delegate_property(\u001b[38;5;124m\"\u001b[39m\u001b[38;5;124mis_valid\u001b[39m\u001b[38;5;124m\"\u001b[39m, \u001b[38;5;28mself\u001b[39m)\n",
      "File \u001b[1;32m~\\.conda\\envs\\its_recode\\Lib\\site-packages\\geopandas\\base.py:83\u001b[0m, in \u001b[0;36m_delegate_property\u001b[1;34m(op, this)\u001b[0m\n\u001b[0;32m     80\u001b[0m \u001b[38;5;28;01mdef\u001b[39;00m \u001b[38;5;21m_delegate_property\u001b[39m(op, this):\n\u001b[0;32m     81\u001b[0m     \u001b[38;5;66;03m# type: (str, GeoSeries) -> GeoSeries/Series\u001b[39;00m\n\u001b[0;32m     82\u001b[0m     a_this \u001b[38;5;241m=\u001b[39m GeometryArray(this\u001b[38;5;241m.\u001b[39mgeometry\u001b[38;5;241m.\u001b[39mvalues)\n\u001b[1;32m---> 83\u001b[0m     data \u001b[38;5;241m=\u001b[39m \u001b[38;5;28mgetattr\u001b[39m(a_this, op)\n\u001b[0;32m     84\u001b[0m     \u001b[38;5;28;01mif\u001b[39;00m \u001b[38;5;28misinstance\u001b[39m(data, GeometryArray):\n\u001b[0;32m     85\u001b[0m         \u001b[38;5;28;01mfrom\u001b[39;00m \u001b[38;5;21;01m.\u001b[39;00m\u001b[38;5;21;01mgeoseries\u001b[39;00m \u001b[38;5;28;01mimport\u001b[39;00m GeoSeries\n",
      "File \u001b[1;32m~\\.conda\\envs\\its_recode\\Lib\\site-packages\\geopandas\\array.py:498\u001b[0m, in \u001b[0;36mGeometryArray.is_valid\u001b[1;34m(self)\u001b[0m\n\u001b[0;32m    496\u001b[0m \u001b[38;5;129m@property\u001b[39m\n\u001b[0;32m    497\u001b[0m \u001b[38;5;28;01mdef\u001b[39;00m \u001b[38;5;21mis_valid\u001b[39m(\u001b[38;5;28mself\u001b[39m):\n\u001b[1;32m--> 498\u001b[0m     \u001b[38;5;28;01mreturn\u001b[39;00m shapely\u001b[38;5;241m.\u001b[39mis_valid(\u001b[38;5;28mself\u001b[39m\u001b[38;5;241m.\u001b[39m_data)\n",
      "File \u001b[1;32m~\\.conda\\envs\\its_recode\\Lib\\site-packages\\shapely\\decorators.py:77\u001b[0m, in \u001b[0;36mmultithreading_enabled.<locals>.wrapped\u001b[1;34m(*args, **kwargs)\u001b[0m\n\u001b[0;32m     75\u001b[0m     \u001b[38;5;28;01mfor\u001b[39;00m arr \u001b[38;5;129;01min\u001b[39;00m array_args:\n\u001b[0;32m     76\u001b[0m         arr\u001b[38;5;241m.\u001b[39mflags\u001b[38;5;241m.\u001b[39mwriteable \u001b[38;5;241m=\u001b[39m \u001b[38;5;28;01mFalse\u001b[39;00m\n\u001b[1;32m---> 77\u001b[0m     \u001b[38;5;28;01mreturn\u001b[39;00m func(\u001b[38;5;241m*\u001b[39margs, \u001b[38;5;241m*\u001b[39m\u001b[38;5;241m*\u001b[39mkwargs)\n\u001b[0;32m     78\u001b[0m \u001b[38;5;28;01mfinally\u001b[39;00m:\n\u001b[0;32m     79\u001b[0m     \u001b[38;5;28;01mfor\u001b[39;00m arr, old_flag \u001b[38;5;129;01min\u001b[39;00m \u001b[38;5;28mzip\u001b[39m(array_args, old_flags):\n",
      "File \u001b[1;32m~\\.conda\\envs\\its_recode\\Lib\\site-packages\\shapely\\predicates.py:391\u001b[0m, in \u001b[0;36mis_valid\u001b[1;34m(geometry, **kwargs)\u001b[0m\n\u001b[0;32m    389\u001b[0m \u001b[38;5;28;01mwith\u001b[39;00m warnings\u001b[38;5;241m.\u001b[39mcatch_warnings():\n\u001b[0;32m    390\u001b[0m     warnings\u001b[38;5;241m.\u001b[39msimplefilter(\u001b[38;5;124m\"\u001b[39m\u001b[38;5;124mignore\u001b[39m\u001b[38;5;124m\"\u001b[39m)\n\u001b[1;32m--> 391\u001b[0m     result \u001b[38;5;241m=\u001b[39m lib\u001b[38;5;241m.\u001b[39mis_valid(geometry, \u001b[38;5;241m*\u001b[39m\u001b[38;5;241m*\u001b[39mkwargs)\n\u001b[0;32m    392\u001b[0m \u001b[38;5;28;01mreturn\u001b[39;00m result\n",
      "\u001b[1;31mKeyboardInterrupt\u001b[0m: "
     ]
    }
   ],
   "source": [
    "%%time\n",
    "out = get_NOP(dissolved_cur_y)"
   ]
  },
  {
   "cell_type": "code",
   "execution_count": 75,
   "id": "9c1da38d",
   "metadata": {},
   "outputs": [],
   "source": [
    "from matplotlib import pyplot as plt"
   ]
  },
  {
   "cell_type": "code",
   "execution_count": 212,
   "id": "6386e3b9",
   "metadata": {},
   "outputs": [
    {
     "data": {
      "text/plain": [
       "<Axes: >"
      ]
     },
     "execution_count": 212,
     "metadata": {},
     "output_type": "execute_result"
    },
    {
     "data": {
      "image/png": "[encoded data removed]",
      "text/plain": [
       "<Figure size 1400x1400 with 1 Axes>"
      ]
     },
     "metadata": {},
     "output_type": "display_data"
    }
   ],
   "source": [
    "f, ax = plt.subplots()\n",
    "f.set_size_inches(14, 14)\n",
    "out.plot(ax=ax)\n",
    "out.representative_point().drop_duplicates().plot(ax=ax,c='red',)"
   ]
  },
  {
   "cell_type": "code",
   "execution_count": 195,
   "id": "e8650a7d",
   "metadata": {},
   "outputs": [
    {
     "data": {
      "text/plain": [
       "34"
      ]
     },
     "execution_count": 195,
     "metadata": {},
     "output_type": "execute_result"
    }
   ],
   "source": [
    "len(pd.concat(flatten(out)).representative_point().drop_duplicates())"
   ]
  },
  {
   "cell_type": "code",
   "execution_count": null,
   "id": "c1cdda80",
   "metadata": {},
   "outputs": [],
   "source": [
    "# line buffer simplification does not have enough spatial resolution for this sensitive probability calculation"
   ]
  },
  {
   "cell_type": "code",
   "execution_count": 243,
   "id": "24084fd6",
   "metadata": {},
   "outputs": [
    {
     "data": {
      "text/html": [
       "<div>\n",
       "<style scoped>\n",
       "    .dataframe tbody tr th:only-of-type {\n",
       "        vertical-align: middle;\n",
       "    }\n",
       "\n",
       "    .dataframe tbody tr th {\n",
       "        vertical-align: top;\n",
       "    }\n",
       "\n",
       "    .dataframe thead th {\n",
       "        text-align: right;\n",
       "    }\n",
       "</style>\n",
       "<table border=\"1\" class=\"dataframe\">\n",
       "  <thead>\n",
       "    <tr style=\"text-align: right;\">\n",
       "      <th></th>\n",
       "      <th>PROJECTID_USER</th>\n",
       "      <th>AGENCY</th>\n",
       "      <th>ORG_ADMIN_p</th>\n",
       "      <th>PROJECT_CONTACT</th>\n",
       "      <th>PROJECT_EMAIL</th>\n",
       "      <th>ADMINISTERING_ORG</th>\n",
       "      <th>PROJECT_NAME</th>\n",
       "      <th>PROJECT_STATUS</th>\n",
       "      <th>PROJECT_START</th>\n",
       "      <th>PROJECT_END</th>\n",
       "      <th>...</th>\n",
       "      <th>SHAPE_Area</th>\n",
       "      <th>index_right</th>\n",
       "      <th>FIPS</th>\n",
       "      <th>STATE</th>\n",
       "      <th>ST_ABBREV</th>\n",
       "      <th>SQMI</th>\n",
       "      <th>POPULATION</th>\n",
       "      <th>Shape_Length_1</th>\n",
       "      <th>Shape_Area_1</th>\n",
       "      <th>geometry</th>\n",
       "    </tr>\n",
       "  </thead>\n",
       "  <tbody>\n",
       "    <tr>\n",
       "      <th>12653</th>\n",
       "      <td>{312AFFED-EF63-47C9-82C8-363FD8AAA6FF}-CNRA</td>\n",
       "      <td>CNRA</td>\n",
       "      <td>CALFIRE</td>\n",
       "      <td>CAL FIRE Data Contact</td>\n",
       "      <td>FRAPdatacontact@fire.ca.gov</td>\n",
       "      <td>CALFIRE</td>\n",
       "      <td>High Sierra Front Country Fuel Breaks Project</td>\n",
       "      <td>COMPLETE</td>\n",
       "      <td>2022-03-01 00:00:00+00:00</td>\n",
       "      <td>2023-12-05 00:00:00+00:00</td>\n",
       "      <td>...</td>\n",
       "      <td>NaN</td>\n",
       "      <td>0.0</td>\n",
       "      <td>06</td>\n",
       "      <td>California</td>\n",
       "      <td>CA</td>\n",
       "      <td>158144.83</td>\n",
       "      <td>39648525</td>\n",
       "      <td>5.682717e+06</td>\n",
       "      <td>4.095942e+11</td>\n",
       "      <td>MULTIPOLYGON (((63419.474 -101968.354, 63428.3...</td>\n",
       "    </tr>\n",
       "    <tr>\n",
       "      <th>12655</th>\n",
       "      <td>{312AFFED-EF63-47C9-82C8-363FD8AAA6FF}-CNRA</td>\n",
       "      <td>CNRA</td>\n",
       "      <td>CALFIRE</td>\n",
       "      <td>CAL FIRE Data Contact</td>\n",
       "      <td>FRAPdatacontact@fire.ca.gov</td>\n",
       "      <td>CALFIRE</td>\n",
       "      <td>High Sierra Front Country Fuel Breaks Project</td>\n",
       "      <td>COMPLETE</td>\n",
       "      <td>2022-03-01 00:00:00+00:00</td>\n",
       "      <td>2023-12-05 00:00:00+00:00</td>\n",
       "      <td>...</td>\n",
       "      <td>NaN</td>\n",
       "      <td>0.0</td>\n",
       "      <td>06</td>\n",
       "      <td>California</td>\n",
       "      <td>CA</td>\n",
       "      <td>158144.83</td>\n",
       "      <td>39648525</td>\n",
       "      <td>5.682717e+06</td>\n",
       "      <td>4.095942e+11</td>\n",
       "      <td>MULTIPOLYGON (((63419.474 -101968.354, 63428.3...</td>\n",
       "    </tr>\n",
       "  </tbody>\n",
       "</table>\n",
       "<p>2 rows × 101 columns</p>\n",
       "</div>"
      ],
      "text/plain": [
       "                                    PROJECTID_USER AGENCY ORG_ADMIN_p  \\\n",
       "12653  {312AFFED-EF63-47C9-82C8-363FD8AAA6FF}-CNRA   CNRA     CALFIRE   \n",
       "12655  {312AFFED-EF63-47C9-82C8-363FD8AAA6FF}-CNRA   CNRA     CALFIRE   \n",
       "\n",
       "             PROJECT_CONTACT                PROJECT_EMAIL ADMINISTERING_ORG  \\\n",
       "12653  CAL FIRE Data Contact  FRAPdatacontact@fire.ca.gov           CALFIRE   \n",
       "12655  CAL FIRE Data Contact  FRAPdatacontact@fire.ca.gov           CALFIRE   \n",
       "\n",
       "                                        PROJECT_NAME PROJECT_STATUS  \\\n",
       "12653  High Sierra Front Country Fuel Breaks Project       COMPLETE   \n",
       "12655  High Sierra Front Country Fuel Breaks Project       COMPLETE   \n",
       "\n",
       "                   PROJECT_START                PROJECT_END  ... SHAPE_Area  \\\n",
       "12653  2022-03-01 00:00:00+00:00  2023-12-05 00:00:00+00:00  ...        NaN   \n",
       "12655  2022-03-01 00:00:00+00:00  2023-12-05 00:00:00+00:00  ...        NaN   \n",
       "\n",
       "      index_right FIPS       STATE  ST_ABBREV       SQMI POPULATION  \\\n",
       "12653         0.0   06  California         CA  158144.83   39648525   \n",
       "12655         0.0   06  California         CA  158144.83   39648525   \n",
       "\n",
       "      Shape_Length_1  Shape_Area_1  \\\n",
       "12653   5.682717e+06  4.095942e+11   \n",
       "12655   5.682717e+06  4.095942e+11   \n",
       "\n",
       "                                                geometry  \n",
       "12653  MULTIPOLYGON (((63419.474 -101968.354, 63428.3...  \n",
       "12655  MULTIPOLYGON (((63419.474 -101968.354, 63428.3...  \n",
       "\n",
       "[2 rows x 101 columns]"
      ]
     },
     "execution_count": 243,
     "metadata": {},
     "output_type": "execute_result"
    }
   ],
   "source": [
    "buffered_poly[buffered_poly.TRMTID_USER == '{87AB0448-8E28-488F-A19A-3BF7C86336AA}-CNRA']"
   ]
  },
  {
   "cell_type": "code",
   "execution_count": 244,
   "id": "2af54bd2",
   "metadata": {},
   "outputs": [
    {
     "data": {
      "text/plain": [
       "1.461965217156889"
      ]
     },
     "execution_count": 244,
     "metadata": {},
     "output_type": "execute_result"
    }
   ],
   "source": [
    "max(buffered_ln.ACTIVITY_QUANTITY*4046.86/buffered_ln.geometry.area)"
   ]
  },
  {
   "cell_type": "code",
   "execution_count": 245,
   "id": "93ad9c3e",
   "metadata": {},
   "outputs": [
    {
     "data": {
      "text/plain": [
       "0.9970375098538626"
      ]
     },
     "execution_count": 245,
     "metadata": {},
     "output_type": "execute_result"
    }
   ],
   "source": [
    "min(buffered_ln.ACTIVITY_QUANTITY*4046.86/buffered_ln.geometry.area)"
   ]
  },
  {
   "cell_type": "code",
   "execution_count": 217,
   "id": "191cff15",
   "metadata": {},
   "outputs": [],
   "source": [
    "dissolved_cur_y = dissolved_cur_y.reset_index()"
   ]
  },
  {
   "cell_type": "code",
   "execution_count": 219,
   "id": "2c4e0861",
   "metadata": {},
   "outputs": [
    {
     "name": "stdout",
     "output_type": "stream",
     "text": [
      "CPU times: total: 11.6 s\n",
      "Wall time: 11.6 s\n"
     ]
    }
   ],
   "source": [
    "%%time\n",
    "dissolved_cur_y['geom'] = dissolved_cur_y.geometry\n",
    "\n",
    "gdf = gpd.sjoin(dissolved_cur_y, dissolved_cur_y,\n",
    "                how=\"inner\",\n",
    "                predicate=\"intersects\",\n",
    "                lsuffix=\"left\",\n",
    "                rsuffix=\"right\")\n",
    "\n",
    "gdf = gdf[gdf.index != gdf.index_right]\n",
    "gdf['intersection_geom'] = gdf['geom_left'].intersection(gdf['geom_right'])\n",
    "gdf['intersection'] = gdf.apply(\n",
    "    lambda r: f\"{r['TRMTID_USER_left']} & {r['TRMTID_USER_right']}\", axis=1)"
   ]
  },
  {
   "cell_type": "code",
   "execution_count": 220,
   "id": "81949584",
   "metadata": {},
   "outputs": [
    {
     "name": "stderr",
     "output_type": "stream",
     "text": [
      "C:\\Users\\sky\\AppData\\Local\\Temp\\ipykernel_1265932\\184717377.py:1: FutureWarning: The `drop` keyword argument is deprecated and in future the only supported behaviour will match drop=False. To silence this warning and adopt the future behaviour, stop providing `drop` as a keyword to `set_geometry`. To replicate the `drop=True` behaviour you should update your code to\n",
      "`geo_col_name = gdf.active_geometry_name; gdf.set_geometry(new_geo_col).drop(columns=geo_col_name).rename_geometry(geo_col_name)`.\n",
      "  gdf.set_geometry('intersection_geom', drop=True, inplace=True)\n"
     ]
    }
   ],
   "source": [
    "gdf.set_geometry('intersection_geom', drop=True, inplace=True)"
   ]
  },
  {
   "cell_type": "code",
   "execution_count": 299,
   "id": "6ba1a8e6",
   "metadata": {},
   "outputs": [],
   "source": [
    "interestion_gdf = gdf[['ACTIVITY_QUANTITY_left', 'ACTIVITY_QUANTITY_right', 'TRMTID_USER_left', 'geometry']]"
   ]
  },
  {
   "cell_type": "code",
   "execution_count": 327,
   "id": "e5749aa4",
   "metadata": {},
   "outputs": [],
   "source": [
    "gdf['prob_left'] = gdf.ACTIVITY_QUANTITY_left*4046.86/gdf.geom_left.area\n",
    "gdf.loc[gdf['prob_left'] > 1, 'prob_left'] = 1\n",
    "gdf['prob_right'] = gdf.ACTIVITY_QUANTITY_right*4046.86/gdf.geom_right.area\n",
    "gdf.loc[gdf['prob_right'] > 1, 'prob_right'] = 1"
   ]
  },
  {
   "cell_type": "code",
   "execution_count": 300,
   "id": "9fe1587d",
   "metadata": {},
   "outputs": [],
   "source": [
    "# tolerence for geometry smoothing on intersection results to keep result geom type be multipolygon/polygon\n",
    "tolerence = 1e-8"
   ]
  },
  {
   "cell_type": "code",
   "execution_count": 301,
   "id": "dc853a4a",
   "metadata": {},
   "outputs": [],
   "source": [
    "diff_buffer = interestion_gdf.buffer(tolerence)"
   ]
  },
  {
   "cell_type": "code",
   "execution_count": 302,
   "id": "b72d5839",
   "metadata": {},
   "outputs": [],
   "source": [
    "diff_buffer_gdf = interestion_gdf.copy()\n",
    "diff_buffer_gdf.geometry = diff_buffer"
   ]
  },
  {
   "cell_type": "code",
   "execution_count": 285,
   "id": "bf1ccfe1",
   "metadata": {},
   "outputs": [
    {
     "name": "stdout",
     "output_type": "stream",
     "text": [
      "CPU times: total: 2min 32s\n",
      "Wall time: 2min 32s\n"
     ]
    }
   ],
   "source": [
    "%%time\n",
    "diff_gdf = dissolved_cur_y.overlay(diff_buffer_gdf, how='difference', keep_geom_type=False)\n",
    "#diff_gdf.geometry = diff_gdf.buffer(tolerence)"
   ]
  },
  {
   "cell_type": "code",
   "execution_count": 286,
   "id": "43a7296b",
   "metadata": {},
   "outputs": [
    {
     "data": {
      "text/plain": [
       "3032954594.3421783"
      ]
     },
     "execution_count": 286,
     "metadata": {},
     "output_type": "execute_result"
    }
   ],
   "source": [
    "sum(diff_gdf.geometry.area)"
   ]
  },
  {
   "cell_type": "code",
   "execution_count": 271,
   "id": "1a3a62e5",
   "metadata": {},
   "outputs": [
    {
     "data": {
      "text/plain": [
       "3954377595.371912"
      ]
     },
     "execution_count": 271,
     "metadata": {},
     "output_type": "execute_result"
    }
   ],
   "source": [
    "sum(dissolved_cur_y.geometry.area)"
   ]
  },
  {
   "cell_type": "code",
   "execution_count": 163,
   "id": "f1b02fe7",
   "metadata": {},
   "outputs": [
    {
     "data": {
      "text/plain": [
       "4015915939.452771"
      ]
     },
     "execution_count": 163,
     "metadata": {},
     "output_type": "execute_result"
    }
   ],
   "source": [
    "sum(diff_gdf.geometry.area) + sum(interestion_gdf.geometry.area)"
   ]
  },
  {
   "cell_type": "code",
   "execution_count": 162,
   "id": "4327e2f3",
   "metadata": {},
   "outputs": [
    {
     "data": {
      "text/plain": [
       "982945942.8896587"
      ]
     },
     "execution_count": 162,
     "metadata": {},
     "output_type": "execute_result"
    }
   ],
   "source": [
    "sum(interestion_gdf.geometry.area)"
   ]
  },
  {
   "cell_type": "code",
   "execution_count": 155,
   "id": "31e4437f",
   "metadata": {},
   "outputs": [],
   "source": [
    "interesection_all = interestion_gdf.dissolve()"
   ]
  },
  {
   "cell_type": "code",
   "execution_count": 161,
   "id": "4c156e1d",
   "metadata": {},
   "outputs": [
    {
     "data": {
      "text/plain": [
       "401641724.05769753"
      ]
     },
     "execution_count": 161,
     "metadata": {},
     "output_type": "execute_result"
    }
   ],
   "source": []
  },
  {
   "cell_type": "code",
   "execution_count": 165,
   "id": "22bf5fa4",
   "metadata": {},
   "outputs": [
    {
     "data": {
      "text/plain": [
       "3434611720.6208105"
      ]
     },
     "execution_count": 165,
     "metadata": {},
     "output_type": "execute_result"
    }
   ],
   "source": [
    "sum(diff_gdf.geometry.area) + sum(interesection_all.area)"
   ]
  },
  {
   "cell_type": "code",
   "execution_count": 287,
   "id": "c55717b3",
   "metadata": {},
   "outputs": [],
   "source": [
    "diff_gdf['prob_self'] = diff_gdf.geometry.area/diff_gdf.geom.area"
   ]
  },
  {
   "cell_type": "code",
   "execution_count": 288,
   "id": "9ebea7ad",
   "metadata": {},
   "outputs": [],
   "source": [
    "diff_gdf.loc[diff_gdf['prob_self']>1, 'prob_self'] = 1"
   ]
  },
  {
   "cell_type": "code",
   "execution_count": 291,
   "id": "c32998c2",
   "metadata": {},
   "outputs": [
    {
     "data": {
      "text/html": [
       "<div>\n",
       "<style scoped>\n",
       "    .dataframe tbody tr th:only-of-type {\n",
       "        vertical-align: middle;\n",
       "    }\n",
       "\n",
       "    .dataframe tbody tr th {\n",
       "        vertical-align: top;\n",
       "    }\n",
       "\n",
       "    .dataframe thead th {\n",
       "        text-align: right;\n",
       "    }\n",
       "</style>\n",
       "<table border=\"1\" class=\"dataframe\">\n",
       "  <thead>\n",
       "    <tr style=\"text-align: right;\">\n",
       "      <th></th>\n",
       "      <th>TRMTID_USER</th>\n",
       "      <th>geometry</th>\n",
       "      <th>ACTIVITY_QUANTITY</th>\n",
       "      <th>geom</th>\n",
       "      <th>prob_self</th>\n",
       "    </tr>\n",
       "  </thead>\n",
       "  <tbody>\n",
       "    <tr>\n",
       "      <th>0</th>\n",
       "      <td>01-DN-101-DN-NOR-WUI</td>\n",
       "      <td>MULTIPOLYGON (((-342291.412 406063.922, -34229...</td>\n",
       "      <td>32.40</td>\n",
       "      <td>MULTIPOLYGON (((-342583.596 406960.852, -34258...</td>\n",
       "      <td>0.809056</td>\n",
       "    </tr>\n",
       "    <tr>\n",
       "      <th>1</th>\n",
       "      <td>01-DN-169-DN-NOR-WUI</td>\n",
       "      <td>MULTIPOLYGON (((-336986.135 396726.867, -33698...</td>\n",
       "      <td>8.50</td>\n",
       "      <td>POLYGON ((-337005.425 396726.106, -336987.306 ...</td>\n",
       "      <td>0.999887</td>\n",
       "    </tr>\n",
       "    <tr>\n",
       "      <th>2</th>\n",
       "      <td>01-DN-197-DN-NOR-WUI</td>\n",
       "      <td>POLYGON ((-339575.871 428285.734, -339559.487 ...</td>\n",
       "      <td>5.86</td>\n",
       "      <td>POLYGON ((-339603.722 428203.383, -339600.298 ...</td>\n",
       "      <td>0.999945</td>\n",
       "    </tr>\n",
       "    <tr>\n",
       "      <th>3</th>\n",
       "      <td>01-DN-199-DN-NOR-NON</td>\n",
       "      <td>MULTIPOLYGON (((-345198.562 428197.653, -34519...</td>\n",
       "      <td>10.00</td>\n",
       "      <td>POLYGON ((-345202.203 428196.454, -345202.18 4...</td>\n",
       "      <td>0.999964</td>\n",
       "    </tr>\n",
       "    <tr>\n",
       "      <th>4</th>\n",
       "      <td>01-HUM-036-HUM-NOR-WUI</td>\n",
       "      <td>MULTIPOLYGON (((-351052.646 289067.603, -35105...</td>\n",
       "      <td>45.00</td>\n",
       "      <td>POLYGON ((-351049.545 289066.052, -351065.559 ...</td>\n",
       "      <td>0.999969</td>\n",
       "    </tr>\n",
       "    <tr>\n",
       "      <th>...</th>\n",
       "      <td>...</td>\n",
       "      <td>...</td>\n",
       "      <td>...</td>\n",
       "      <td>...</td>\n",
       "      <td>...</td>\n",
       "    </tr>\n",
       "    <tr>\n",
       "      <th>6000</th>\n",
       "      <td>{FF598D57-7CFF-4FB8-800C-30CC05762B0F}-CNRA</td>\n",
       "      <td>POLYGON ((113262.243 -408589.435, 113257.71 -4...</td>\n",
       "      <td>20.00</td>\n",
       "      <td>POLYGON ((113262.243 -408589.435, 113257.71 -4...</td>\n",
       "      <td>1.000000</td>\n",
       "    </tr>\n",
       "    <tr>\n",
       "      <th>6001</th>\n",
       "      <td>{FFBBE1BD-76E2-4C81-A648-836A7A5BE12B}-CNRA</td>\n",
       "      <td>MULTIPOLYGON (((136377.394 -255147.671, 136376...</td>\n",
       "      <td>1.00</td>\n",
       "      <td>MULTIPOLYGON (((136377.394 -255147.671, 136376...</td>\n",
       "      <td>1.000000</td>\n",
       "    </tr>\n",
       "    <tr>\n",
       "      <th>6002</th>\n",
       "      <td>{FFCAC627-1969-4812-99E7-CF25F1D98D4A}-CNRA</td>\n",
       "      <td>MULTIPOLYGON (((-62945.288 105650.715, -62944....</td>\n",
       "      <td>10.00</td>\n",
       "      <td>POLYGON ((-62943.677 105739.715, -62944.36 105...</td>\n",
       "      <td>0.031704</td>\n",
       "    </tr>\n",
       "    <tr>\n",
       "      <th>6003</th>\n",
       "      <td>{FFCE3441-F814-4C8C-B2A5-4273E9B64873}-CNRA</td>\n",
       "      <td>POLYGON ((83235.69 -138825.181, 83253.236 -138...</td>\n",
       "      <td>37.00</td>\n",
       "      <td>POLYGON ((83235.69 -138825.181, 83253.236 -138...</td>\n",
       "      <td>1.000000</td>\n",
       "    </tr>\n",
       "    <tr>\n",
       "      <th>6004</th>\n",
       "      <td>{FFD48B17-C855-4251-A129-9E0E916C99DF}-CNRA</td>\n",
       "      <td>POLYGON ((-238897.649 399230.455, -239126.394 ...</td>\n",
       "      <td>87.00</td>\n",
       "      <td>POLYGON ((-238897.649 399230.455, -239126.394 ...</td>\n",
       "      <td>1.000000</td>\n",
       "    </tr>\n",
       "  </tbody>\n",
       "</table>\n",
       "<p>6005 rows × 5 columns</p>\n",
       "</div>"
      ],
      "text/plain": [
       "                                      TRMTID_USER  \\\n",
       "0                            01-DN-101-DN-NOR-WUI   \n",
       "1                            01-DN-169-DN-NOR-WUI   \n",
       "2                            01-DN-197-DN-NOR-WUI   \n",
       "3                            01-DN-199-DN-NOR-NON   \n",
       "4                          01-HUM-036-HUM-NOR-WUI   \n",
       "...                                           ...   \n",
       "6000  {FF598D57-7CFF-4FB8-800C-30CC05762B0F}-CNRA   \n",
       "6001  {FFBBE1BD-76E2-4C81-A648-836A7A5BE12B}-CNRA   \n",
       "6002  {FFCAC627-1969-4812-99E7-CF25F1D98D4A}-CNRA   \n",
       "6003  {FFCE3441-F814-4C8C-B2A5-4273E9B64873}-CNRA   \n",
       "6004  {FFD48B17-C855-4251-A129-9E0E916C99DF}-CNRA   \n",
       "\n",
       "                                               geometry  ACTIVITY_QUANTITY  \\\n",
       "0     MULTIPOLYGON (((-342291.412 406063.922, -34229...              32.40   \n",
       "1     MULTIPOLYGON (((-336986.135 396726.867, -33698...               8.50   \n",
       "2     POLYGON ((-339575.871 428285.734, -339559.487 ...               5.86   \n",
       "3     MULTIPOLYGON (((-345198.562 428197.653, -34519...              10.00   \n",
       "4     MULTIPOLYGON (((-351052.646 289067.603, -35105...              45.00   \n",
       "...                                                 ...                ...   \n",
       "6000  POLYGON ((113262.243 -408589.435, 113257.71 -4...              20.00   \n",
       "6001  MULTIPOLYGON (((136377.394 -255147.671, 136376...               1.00   \n",
       "6002  MULTIPOLYGON (((-62945.288 105650.715, -62944....              10.00   \n",
       "6003  POLYGON ((83235.69 -138825.181, 83253.236 -138...              37.00   \n",
       "6004  POLYGON ((-238897.649 399230.455, -239126.394 ...              87.00   \n",
       "\n",
       "                                                   geom  prob_self  \n",
       "0     MULTIPOLYGON (((-342583.596 406960.852, -34258...   0.809056  \n",
       "1     POLYGON ((-337005.425 396726.106, -336987.306 ...   0.999887  \n",
       "2     POLYGON ((-339603.722 428203.383, -339600.298 ...   0.999945  \n",
       "3     POLYGON ((-345202.203 428196.454, -345202.18 4...   0.999964  \n",
       "4     POLYGON ((-351049.545 289066.052, -351065.559 ...   0.999969  \n",
       "...                                                 ...        ...  \n",
       "6000  POLYGON ((113262.243 -408589.435, 113257.71 -4...   1.000000  \n",
       "6001  MULTIPOLYGON (((136377.394 -255147.671, 136376...   1.000000  \n",
       "6002  POLYGON ((-62943.677 105739.715, -62944.36 105...   0.031704  \n",
       "6003  POLYGON ((83235.69 -138825.181, 83253.236 -138...   1.000000  \n",
       "6004  POLYGON ((-238897.649 399230.455, -239126.394 ...   1.000000  \n",
       "\n",
       "[6005 rows x 5 columns]"
      ]
     },
     "execution_count": 291,
     "metadata": {},
     "output_type": "execute_result"
    }
   ],
   "source": [
    "diff_gdf"
   ]
  },
  {
   "cell_type": "code",
   "execution_count": 280,
   "id": "81edc8c9",
   "metadata": {},
   "outputs": [
    {
     "data": {
      "text/html": [
       "<div>\n",
       "<style scoped>\n",
       "    .dataframe tbody tr th:only-of-type {\n",
       "        vertical-align: middle;\n",
       "    }\n",
       "\n",
       "    .dataframe tbody tr th {\n",
       "        vertical-align: top;\n",
       "    }\n",
       "\n",
       "    .dataframe thead th {\n",
       "        text-align: right;\n",
       "    }\n",
       "</style>\n",
       "<table border=\"1\" class=\"dataframe\">\n",
       "  <thead>\n",
       "    <tr style=\"text-align: right;\">\n",
       "      <th></th>\n",
       "      <th>TRMTID_USER_1</th>\n",
       "      <th>ACTIVITY_QUANTITY_1</th>\n",
       "      <th>TRMTID_USER_2</th>\n",
       "      <th>ACTIVITY_QUANTITY_2</th>\n",
       "      <th>geometry</th>\n",
       "    </tr>\n",
       "  </thead>\n",
       "  <tbody>\n",
       "    <tr>\n",
       "      <th>1</th>\n",
       "      <td>01-DN-101-DN-NOR-WUI</td>\n",
       "      <td>32.4</td>\n",
       "      <td>01-DN-169-DN-NOR-WUI</td>\n",
       "      <td>8.50</td>\n",
       "      <td>POLYGON ((-337035.564 396722.601, -337034.107 ...</td>\n",
       "    </tr>\n",
       "    <tr>\n",
       "      <th>2</th>\n",
       "      <td>01-DN-101-DN-NOR-WUI</td>\n",
       "      <td>32.4</td>\n",
       "      <td>01-DN-197-DN-NOR-WUI</td>\n",
       "      <td>5.86</td>\n",
       "      <td>POLYGON ((-343862.16 436805.722, -343862.805 4...</td>\n",
       "    </tr>\n",
       "    <tr>\n",
       "      <th>3</th>\n",
       "      <td>01-DN-101-DN-NOR-WUI</td>\n",
       "      <td>32.4</td>\n",
       "      <td>01-DN-199-DN-NOR-NON</td>\n",
       "      <td>10.00</td>\n",
       "      <td>POLYGON ((-345196.93 428198.472, -345197.501 4...</td>\n",
       "    </tr>\n",
       "    <tr>\n",
       "      <th>4</th>\n",
       "      <td>01-DN-101-DN-NOR-WUI</td>\n",
       "      <td>32.4</td>\n",
       "      <td>01-HUM-101-HUM-NOR-NON</td>\n",
       "      <td>88.22</td>\n",
       "      <td>MULTIPOLYGON (((-337573.844 390254.38, -337573...</td>\n",
       "    </tr>\n",
       "    <tr>\n",
       "      <th>5</th>\n",
       "      <td>01-DN-101-DN-NOR-WUI</td>\n",
       "      <td>32.4</td>\n",
       "      <td>{7A8F6B6C-4B62-419C-96B2-322264EBCD8D}-CNRA</td>\n",
       "      <td>225.00</td>\n",
       "      <td>MULTIPOLYGON (((-342584.01 406966.193, -342591...</td>\n",
       "    </tr>\n",
       "    <tr>\n",
       "      <th>...</th>\n",
       "      <td>...</td>\n",
       "      <td>...</td>\n",
       "      <td>...</td>\n",
       "      <td>...</td>\n",
       "      <td>...</td>\n",
       "    </tr>\n",
       "    <tr>\n",
       "      <th>19155</th>\n",
       "      <td>{FE96B4DC-B6EA-4011-A06B-DF502E15B1A0}-CNRA</td>\n",
       "      <td>3.8</td>\n",
       "      <td>{EF7C0DBE-3D73-47A0-948E-4BFC24D0CE94}-CNRA</td>\n",
       "      <td>6.30</td>\n",
       "      <td>POLYGON ((324754.869 -538602.318, 324758.391 -...</td>\n",
       "    </tr>\n",
       "    <tr>\n",
       "      <th>19156</th>\n",
       "      <td>{FE96B4DC-B6EA-4011-A06B-DF502E15B1A0}-CNRA</td>\n",
       "      <td>3.8</td>\n",
       "      <td>{F8234F64-8357-4AA0-A906-D9772D8A99A8}-CNRA</td>\n",
       "      <td>8.60</td>\n",
       "      <td>POLYGON ((324748.788 -538617.841, 324748.431 -...</td>\n",
       "    </tr>\n",
       "    <tr>\n",
       "      <th>19157</th>\n",
       "      <td>{FE96B4DC-B6EA-4011-A06B-DF502E15B1A0}-CNRA</td>\n",
       "      <td>3.8</td>\n",
       "      <td>{FC1D44EC-E5E8-4BB9-8197-A8C57D6B9688}-CNRA</td>\n",
       "      <td>1.00</td>\n",
       "      <td>POLYGON ((324756.902 -538599.787, 324761.72 -5...</td>\n",
       "    </tr>\n",
       "    <tr>\n",
       "      <th>19160</th>\n",
       "      <td>{FED24A6D-4C52-41C9-A42E-F9C8FE0A0E43}-CNRA</td>\n",
       "      <td>21.0</td>\n",
       "      <td>{1CECCD06-ABEE-4FBF-B7B0-A5A240E75A19}-CNRA</td>\n",
       "      <td>21.00</td>\n",
       "      <td>MULTIPOLYGON (((-205565.255 331583.555, -20557...</td>\n",
       "    </tr>\n",
       "    <tr>\n",
       "      <th>19165</th>\n",
       "      <td>{FFCAC627-1969-4812-99E7-CF25F1D98D4A}-CNRA</td>\n",
       "      <td>10.0</td>\n",
       "      <td>{6EC22077-EA59-4E9C-B85E-C035392224A4}-CNRA</td>\n",
       "      <td>21.00</td>\n",
       "      <td>POLYGON ((-62960.414 105495.058, -62991.106 10...</td>\n",
       "    </tr>\n",
       "  </tbody>\n",
       "</table>\n",
       "<p>12460 rows × 5 columns</p>\n",
       "</div>"
      ],
      "text/plain": [
       "                                     TRMTID_USER_1  ACTIVITY_QUANTITY_1  \\\n",
       "1                             01-DN-101-DN-NOR-WUI                 32.4   \n",
       "2                             01-DN-101-DN-NOR-WUI                 32.4   \n",
       "3                             01-DN-101-DN-NOR-WUI                 32.4   \n",
       "4                             01-DN-101-DN-NOR-WUI                 32.4   \n",
       "5                             01-DN-101-DN-NOR-WUI                 32.4   \n",
       "...                                            ...                  ...   \n",
       "19155  {FE96B4DC-B6EA-4011-A06B-DF502E15B1A0}-CNRA                  3.8   \n",
       "19156  {FE96B4DC-B6EA-4011-A06B-DF502E15B1A0}-CNRA                  3.8   \n",
       "19157  {FE96B4DC-B6EA-4011-A06B-DF502E15B1A0}-CNRA                  3.8   \n",
       "19160  {FED24A6D-4C52-41C9-A42E-F9C8FE0A0E43}-CNRA                 21.0   \n",
       "19165  {FFCAC627-1969-4812-99E7-CF25F1D98D4A}-CNRA                 10.0   \n",
       "\n",
       "                                     TRMTID_USER_2  ACTIVITY_QUANTITY_2  \\\n",
       "1                             01-DN-169-DN-NOR-WUI                 8.50   \n",
       "2                             01-DN-197-DN-NOR-WUI                 5.86   \n",
       "3                             01-DN-199-DN-NOR-NON                10.00   \n",
       "4                           01-HUM-101-HUM-NOR-NON                88.22   \n",
       "5      {7A8F6B6C-4B62-419C-96B2-322264EBCD8D}-CNRA               225.00   \n",
       "...                                            ...                  ...   \n",
       "19155  {EF7C0DBE-3D73-47A0-948E-4BFC24D0CE94}-CNRA                 6.30   \n",
       "19156  {F8234F64-8357-4AA0-A906-D9772D8A99A8}-CNRA                 8.60   \n",
       "19157  {FC1D44EC-E5E8-4BB9-8197-A8C57D6B9688}-CNRA                 1.00   \n",
       "19160  {1CECCD06-ABEE-4FBF-B7B0-A5A240E75A19}-CNRA                21.00   \n",
       "19165  {6EC22077-EA59-4E9C-B85E-C035392224A4}-CNRA                21.00   \n",
       "\n",
       "                                                geometry  \n",
       "1      POLYGON ((-337035.564 396722.601, -337034.107 ...  \n",
       "2      POLYGON ((-343862.16 436805.722, -343862.805 4...  \n",
       "3      POLYGON ((-345196.93 428198.472, -345197.501 4...  \n",
       "4      MULTIPOLYGON (((-337573.844 390254.38, -337573...  \n",
       "5      MULTIPOLYGON (((-342584.01 406966.193, -342591...  \n",
       "...                                                  ...  \n",
       "19155  POLYGON ((324754.869 -538602.318, 324758.391 -...  \n",
       "19156  POLYGON ((324748.788 -538617.841, 324748.431 -...  \n",
       "19157  POLYGON ((324756.902 -538599.787, 324761.72 -5...  \n",
       "19160  MULTIPOLYGON (((-205565.255 331583.555, -20557...  \n",
       "19165  POLYGON ((-62960.414 105495.058, -62991.106 10...  \n",
       "\n",
       "[12460 rows x 5 columns]"
      ]
     },
     "execution_count": 280,
     "metadata": {},
     "output_type": "execute_result"
    }
   ],
   "source": [
    "intersection_gdf"
   ]
  },
  {
   "cell_type": "code",
   "execution_count": 293,
   "id": "2cccac3e",
   "metadata": {},
   "outputs": [],
   "source": [
    "dissolved_cur_y['p_ACTIVITY'] = dissolved_cur_y.ACTIVITY_QUANTITY*4046.86/dissolved_cur_y.geometry.area"
   ]
  },
  {
   "cell_type": "code",
   "execution_count": 294,
   "id": "cf1cfd18",
   "metadata": {},
   "outputs": [],
   "source": [
    "# enforce p <= 1 on inaccurate buffered polygons (mostly from line data)\n",
    "dissolved_cur_y.loc[dissolved_cur_y['p_ACTIVITY'] > 1, 'p_ACTIVITY'] = 1"
   ]
  },
  {
   "cell_type": "code",
   "execution_count": null,
   "id": "0135d9e3",
   "metadata": {},
   "outputs": [],
   "source": [
    "dissolved_cur_y['FOOTPRINT_ACRES'] = dissolved_cur_y.apply()"
   ]
  },
  {
   "cell_type": "code",
   "execution_count": 304,
   "id": "60c6a3b8",
   "metadata": {},
   "outputs": [],
   "source": [
    "test_id = \"01-DN-101-DN-NOR-WUI\""
   ]
  },
  {
   "cell_type": "code",
   "execution_count": 329,
   "id": "31c35cf7",
   "metadata": {},
   "outputs": [],
   "source": [
    "intersecting_areas = gdf[gdf['TRMTID_USER_left'] == test_id]"
   ]
  },
  {
   "cell_type": "code",
   "execution_count": 321,
   "id": "ef574f1c",
   "metadata": {},
   "outputs": [
    {
     "data": {
      "text/html": [
       "<div>\n",
       "<style scoped>\n",
       "    .dataframe tbody tr th:only-of-type {\n",
       "        vertical-align: middle;\n",
       "    }\n",
       "\n",
       "    .dataframe tbody tr th {\n",
       "        vertical-align: top;\n",
       "    }\n",
       "\n",
       "    .dataframe thead th {\n",
       "        text-align: right;\n",
       "    }\n",
       "</style>\n",
       "<table border=\"1\" class=\"dataframe\">\n",
       "  <thead>\n",
       "    <tr style=\"text-align: right;\">\n",
       "      <th></th>\n",
       "      <th>TRMTID_USER_left</th>\n",
       "      <th>geometry</th>\n",
       "      <th>ACTIVITY_QUANTITY_left</th>\n",
       "      <th>geom_left</th>\n",
       "      <th>index_right</th>\n",
       "      <th>TRMTID_USER_right</th>\n",
       "      <th>ACTIVITY_QUANTITY_right</th>\n",
       "      <th>geom_right</th>\n",
       "      <th>intersection</th>\n",
       "      <th>prob_left</th>\n",
       "    </tr>\n",
       "  </thead>\n",
       "  <tbody>\n",
       "    <tr>\n",
       "      <th>0</th>\n",
       "      <td>01-DN-101-DN-NOR-WUI</td>\n",
       "      <td>MULTIPOLYGON (((-337574.449 390254.641, -33757...</td>\n",
       "      <td>32.4</td>\n",
       "      <td>MULTIPOLYGON (((-342583.596 406960.852, -34258...</td>\n",
       "      <td>6</td>\n",
       "      <td>01-HUM-101-HUM-NOR-NON</td>\n",
       "      <td>88.22</td>\n",
       "      <td>MULTIPOLYGON (((-322811.141 227232.756, -32281...</td>\n",
       "      <td>01-DN-101-DN-NOR-WUI &amp; 01-HUM-101-HUM-NOR-NON</td>\n",
       "      <td>4.375942e-08</td>\n",
       "    </tr>\n",
       "    <tr>\n",
       "      <th>0</th>\n",
       "      <td>01-DN-101-DN-NOR-WUI</td>\n",
       "      <td>POLYGON ((-337035.564 396722.601, -337034.107 ...</td>\n",
       "      <td>32.4</td>\n",
       "      <td>MULTIPOLYGON (((-342583.596 406960.852, -34258...</td>\n",
       "      <td>1</td>\n",
       "      <td>01-DN-169-DN-NOR-WUI</td>\n",
       "      <td>8.50</td>\n",
       "      <td>POLYGON ((-337005.425 396726.106, -336987.306 ...</td>\n",
       "      <td>01-DN-101-DN-NOR-WUI &amp; 01-DN-169-DN-NOR-WUI</td>\n",
       "      <td>2.956419e-05</td>\n",
       "    </tr>\n",
       "    <tr>\n",
       "      <th>0</th>\n",
       "      <td>01-DN-101-DN-NOR-WUI</td>\n",
       "      <td>MULTIPOLYGON (((-342584.01 406966.193, -342591...</td>\n",
       "      <td>32.4</td>\n",
       "      <td>MULTIPOLYGON (((-342583.596 406960.852, -34258...</td>\n",
       "      <td>5311</td>\n",
       "      <td>{7A8F6B6C-4B62-419C-96B2-322264EBCD8D}-CNRA</td>\n",
       "      <td>225.00</td>\n",
       "      <td>MULTIPOLYGON (((-338572.881 372842.016, -33855...</td>\n",
       "      <td>01-DN-101-DN-NOR-WUI &amp; {7A8F6B6C-4B62-419C-96B...</td>\n",
       "      <td>1.909002e-01</td>\n",
       "    </tr>\n",
       "    <tr>\n",
       "      <th>0</th>\n",
       "      <td>01-DN-101-DN-NOR-WUI</td>\n",
       "      <td>POLYGON ((-343862.16 436805.722, -343862.805 4...</td>\n",
       "      <td>32.4</td>\n",
       "      <td>MULTIPOLYGON (((-342583.596 406960.852, -34258...</td>\n",
       "      <td>2</td>\n",
       "      <td>01-DN-197-DN-NOR-WUI</td>\n",
       "      <td>5.86</td>\n",
       "      <td>POLYGON ((-339603.722 428203.383, -339600.298 ...</td>\n",
       "      <td>01-DN-101-DN-NOR-WUI &amp; 01-DN-197-DN-NOR-WUI</td>\n",
       "      <td>6.615047e-06</td>\n",
       "    </tr>\n",
       "    <tr>\n",
       "      <th>0</th>\n",
       "      <td>01-DN-101-DN-NOR-WUI</td>\n",
       "      <td>POLYGON ((-345196.93 428198.472, -345197.501 4...</td>\n",
       "      <td>32.4</td>\n",
       "      <td>MULTIPOLYGON (((-342583.596 406960.852, -34258...</td>\n",
       "      <td>3</td>\n",
       "      <td>01-DN-199-DN-NOR-NON</td>\n",
       "      <td>10.00</td>\n",
       "      <td>POLYGON ((-345202.203 428196.454, -345202.18 4...</td>\n",
       "      <td>01-DN-101-DN-NOR-WUI &amp; 01-DN-199-DN-NOR-NON</td>\n",
       "      <td>7.812525e-06</td>\n",
       "    </tr>\n",
       "  </tbody>\n",
       "</table>\n",
       "</div>"
      ],
      "text/plain": [
       "       TRMTID_USER_left                                           geometry  \\\n",
       "0  01-DN-101-DN-NOR-WUI  MULTIPOLYGON (((-337574.449 390254.641, -33757...   \n",
       "0  01-DN-101-DN-NOR-WUI  POLYGON ((-337035.564 396722.601, -337034.107 ...   \n",
       "0  01-DN-101-DN-NOR-WUI  MULTIPOLYGON (((-342584.01 406966.193, -342591...   \n",
       "0  01-DN-101-DN-NOR-WUI  POLYGON ((-343862.16 436805.722, -343862.805 4...   \n",
       "0  01-DN-101-DN-NOR-WUI  POLYGON ((-345196.93 428198.472, -345197.501 4...   \n",
       "\n",
       "   ACTIVITY_QUANTITY_left                                          geom_left  \\\n",
       "0                    32.4  MULTIPOLYGON (((-342583.596 406960.852, -34258...   \n",
       "0                    32.4  MULTIPOLYGON (((-342583.596 406960.852, -34258...   \n",
       "0                    32.4  MULTIPOLYGON (((-342583.596 406960.852, -34258...   \n",
       "0                    32.4  MULTIPOLYGON (((-342583.596 406960.852, -34258...   \n",
       "0                    32.4  MULTIPOLYGON (((-342583.596 406960.852, -34258...   \n",
       "\n",
       "   index_right                            TRMTID_USER_right  \\\n",
       "0            6                       01-HUM-101-HUM-NOR-NON   \n",
       "0            1                         01-DN-169-DN-NOR-WUI   \n",
       "0         5311  {7A8F6B6C-4B62-419C-96B2-322264EBCD8D}-CNRA   \n",
       "0            2                         01-DN-197-DN-NOR-WUI   \n",
       "0            3                         01-DN-199-DN-NOR-NON   \n",
       "\n",
       "   ACTIVITY_QUANTITY_right                                         geom_right  \\\n",
       "0                    88.22  MULTIPOLYGON (((-322811.141 227232.756, -32281...   \n",
       "0                     8.50  POLYGON ((-337005.425 396726.106, -336987.306 ...   \n",
       "0                   225.00  MULTIPOLYGON (((-338572.881 372842.016, -33855...   \n",
       "0                     5.86  POLYGON ((-339603.722 428203.383, -339600.298 ...   \n",
       "0                    10.00  POLYGON ((-345202.203 428196.454, -345202.18 4...   \n",
       "\n",
       "                                        intersection     prob_left  \n",
       "0      01-DN-101-DN-NOR-WUI & 01-HUM-101-HUM-NOR-NON  4.375942e-08  \n",
       "0        01-DN-101-DN-NOR-WUI & 01-DN-169-DN-NOR-WUI  2.956419e-05  \n",
       "0  01-DN-101-DN-NOR-WUI & {7A8F6B6C-4B62-419C-96B...  1.909002e-01  \n",
       "0        01-DN-101-DN-NOR-WUI & 01-DN-197-DN-NOR-WUI  6.615047e-06  \n",
       "0        01-DN-101-DN-NOR-WUI & 01-DN-199-DN-NOR-NON  7.812525e-06  "
      ]
     },
     "execution_count": 321,
     "metadata": {},
     "output_type": "execute_result"
    }
   ],
   "source": [
    "intersecting_areas['TRMTID_USER_right']"
   ]
  },
  {
   "cell_type": "code",
   "execution_count": 315,
   "id": "637bf0c5",
   "metadata": {},
   "outputs": [],
   "source": [
    "p_activity = dissolved_cur_y[dissolved_cur_y['TRMTID_USER'].isin(intersecting_areas['TRMTID_USER_right'])].p_ACTIVITY"
   ]
  },
  {
   "cell_type": "code",
   "execution_count": 320,
   "id": "db29d28b",
   "metadata": {},
   "outputs": [],
   "source": [
    "p_treatment = 1 - sum(1-p_activity)"
   ]
  },
  {
   "cell_type": "code",
   "execution_count": null,
   "id": "cf5ee835",
   "metadata": {},
   "outputs": [],
   "source": [
    "def get_footprint_acre(row):\n",
    "    intersecting_areas = gdf[gdf['TRMTID_USER_left'] == row['TRMTID_USER']]\n",
    "    p_activity = dissolved_cur_y[dissolved_cur_y['TRMTID_USER'] in intersecting_areas['TRMTID_USER_right']].p_ACTIVITY\n",
    "    \n",
    "    p_treatment = 1 - sum(1-p_activity)"
   ]
  },
  {
   "cell_type": "code",
   "execution_count": null,
   "id": "f752cd85",
   "metadata": {},
   "outputs": [],
   "source": []
  },
  {
   "cell_type": "code",
   "execution_count": null,
   "id": "3248f1a4",
   "metadata": {},
   "outputs": [],
   "source": []
  },
  {
   "cell_type": "code",
   "execution_count": 332,
   "id": "87fa8b57",
   "metadata": {},
   "outputs": [
    {
     "data": {
      "text/plain": [
       "<Axes: >"
      ]
     },
     "execution_count": 332,
     "metadata": {},
     "output_type": "execute_result"
    },
    {
     "data": {
      "image/png": "[encoded data removed]",
      "text/plain": [
       "<Figure size 640x480 with 1 Axes>"
      ]
     },
     "metadata": {},
     "output_type": "display_data"
    }
   ],
   "source": [
    "polygons = [\n",
    "    Polygon([[1, 1], [1, 3], [3, 3], [3, 1], [1, 1]]),\n",
    "    Polygon([[1, 3], [1, 5], [3, 5], [3, 3], [1, 3]]),\n",
    "    Polygon([[2, 2], [2, 3.5], [3.5, 3.5], [3.5, 2], [2, 2]]),\n",
    "    Polygon([[3, 1], [3, 2], [4, 2], [4, 1], [3, 1]]),\n",
    "]\n",
    "gdf = gpd.GeoDataFrame(data={'A': list('ABCD')}, geometry=polygons)\n",
    "gdf.plot(column='A', alpha=0.75)"
   ]
  },
  {
   "cell_type": "code",
   "execution_count": 333,
   "id": "aad1612e",
   "metadata": {},
   "outputs": [],
   "source": [
    "non_overlapping = []\n",
    "for n, p in enumerate(polygons[:-1], 1):\n",
    "    if not any(p.overlaps(g) for g in polygons[n:]):\n",
    "        non_overlapping.append(p)"
   ]
  },
  {
   "cell_type": "code",
   "execution_count": 334,
   "id": "630577cd",
   "metadata": {},
   "outputs": [
    {
     "data": {
      "text/plain": [
       "[<POLYGON ((2 2, 2 3.5, 3.5 3.5, 3.5 2, 2 2))>]"
      ]
     },
     "execution_count": 334,
     "metadata": {},
     "output_type": "execute_result"
    }
   ],
   "source": [
    "non_overlapping"
   ]
  },
  {
   "cell_type": "code",
   "execution_count": 338,
   "id": "d9e4a5d1",
   "metadata": {},
   "outputs": [],
   "source": [
    "region_id = '04'\n",
    "usfs_input_gdb_path = r'D:\\WORK\\wildfire\\Interagency-Tracking-System\\V2.0\\FACTS_V2.0\\Actv_CommonAttribute_PL_Region{}.gdb'.format(region_id)\n",
    "        "
   ]
  },
  {
   "cell_type": "code",
   "execution_count": 339,
   "id": "1e0b55c8",
   "metadata": {},
   "outputs": [
    {
     "data": {
      "text/html": [
       "<div>\n",
       "<style scoped>\n",
       "    .dataframe tbody tr th:only-of-type {\n",
       "        vertical-align: middle;\n",
       "    }\n",
       "\n",
       "    .dataframe tbody tr th {\n",
       "        vertical-align: top;\n",
       "    }\n",
       "\n",
       "    .dataframe thead th {\n",
       "        text-align: right;\n",
       "    }\n",
       "</style>\n",
       "<table border=\"1\" class=\"dataframe\">\n",
       "  <thead>\n",
       "    <tr style=\"text-align: right;\">\n",
       "      <th></th>\n",
       "      <th>name</th>\n",
       "      <th>geometry_type</th>\n",
       "    </tr>\n",
       "  </thead>\n",
       "  <tbody>\n",
       "    <tr>\n",
       "      <th>0</th>\n",
       "      <td>Actv_CommonAttribute_PL</td>\n",
       "      <td>MultiPolygon</td>\n",
       "    </tr>\n",
       "  </tbody>\n",
       "</table>\n",
       "</div>"
      ],
      "text/plain": [
       "                      name geometry_type\n",
       "0  Actv_CommonAttribute_PL  MultiPolygon"
      ]
     },
     "execution_count": 339,
     "metadata": {},
     "output_type": "execute_result"
    }
   ],
   "source": [
    "gpd.list_layers(usfs_input_gdb_path)"
   ]
  },
  {
   "cell_type": "code",
   "execution_count": 3,
   "id": "8371ed42",
   "metadata": {},
   "outputs": [
    {
     "data": {
      "text/html": [
       "<div>\n",
       "<style scoped>\n",
       "    .dataframe tbody tr th:only-of-type {\n",
       "        vertical-align: middle;\n",
       "    }\n",
       "\n",
       "    .dataframe tbody tr th {\n",
       "        vertical-align: top;\n",
       "    }\n",
       "\n",
       "    .dataframe thead th {\n",
       "        text-align: right;\n",
       "    }\n",
       "</style>\n",
       "<table border=\"1\" class=\"dataframe\">\n",
       "  <thead>\n",
       "    <tr style=\"text-align: right;\">\n",
       "      <th></th>\n",
       "      <th>name</th>\n",
       "      <th>geometry_type</th>\n",
       "    </tr>\n",
       "  </thead>\n",
       "  <tbody>\n",
       "    <tr>\n",
       "      <th>0</th>\n",
       "      <td>footprint2021</td>\n",
       "      <td>MultiPolygon Z</td>\n",
       "    </tr>\n",
       "    <tr>\n",
       "      <th>1</th>\n",
       "      <td>footprint2022</td>\n",
       "      <td>MultiPolygon Z</td>\n",
       "    </tr>\n",
       "    <tr>\n",
       "      <th>2</th>\n",
       "      <td>footprint2023</td>\n",
       "      <td>MultiPolygon Z</td>\n",
       "    </tr>\n",
       "    <tr>\n",
       "      <th>3</th>\n",
       "      <td>footprint2024</td>\n",
       "      <td>MultiPolygon</td>\n",
       "    </tr>\n",
       "  </tbody>\n",
       "</table>\n",
       "</div>"
      ],
      "text/plain": [
       "            name   geometry_type\n",
       "0  footprint2021  MultiPolygon Z\n",
       "1  footprint2022  MultiPolygon Z\n",
       "2  footprint2023  MultiPolygon Z\n",
       "3  footprint2024    MultiPolygon"
      ]
     },
     "execution_count": 3,
     "metadata": {},
     "output_type": "execute_result"
    }
   ],
   "source": [
    "gpd.list_layers(report_path)"
   ]
  },
  {
   "cell_type": "code",
   "execution_count": null,
   "id": "139c5340",
   "metadata": {},
   "outputs": [],
   "source": []
  }
 ],
 "metadata": {
  "kernelspec": {
   "display_name": "Python 3 (ipykernel)",
   "language": "python",
   "name": "python3"
  },
  "language_info": {
   "codemirror_mode": {
    "name": "ipython",
    "version": 3
   },
   "file_extension": ".py",
   "mimetype": "text/x-python",
   "name": "python",
   "nbconvert_exporter": "python",
   "pygments_lexer": "ipython3",
   "version": "3.13.1"
  }
 },
 "nbformat": 4,
 "nbformat_minor": 5
}

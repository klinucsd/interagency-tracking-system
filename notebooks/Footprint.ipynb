{
 "cells": [
  {
   "cell_type": "code",
   "execution_count": 1,
   "id": "6f301cf5",
   "metadata": {},
   "outputs": [],
   "source": [
    "import os\n",
    "import numpy as np\n",
    "import pandas as pd\n",
    "import geopandas as gpd\n",
    "import sys\n",
    "import math\n",
    "import logging\n",
    "sys.path.append('../')\n",
    "\n",
    "import dask_geopandas\n",
    "# some data need to be converted to multi-type again\n",
    "from utils.save_gdf_to_gdb import save_gdf_to_gdb\n",
    "#from process.footprint_report import update_ln, update_poly, update_pt\n",
    "from shapely import Polygon, MultiPolygon\n",
    "from shapely import affinity\n",
    "\n",
    "from its_logging.logger_config import logger\n",
    "logger = logging.getLogger('process.footprint')"
   ]
  },
  {
   "cell_type": "code",
   "execution_count": 2,
   "id": "4c4e1595",
   "metadata": {},
   "outputs": [],
   "source": [
    "append_path = r\"D:\\WORK\\wildfire\\Interagency-Tracking-System\\its\\ITSGDB_backup\\V2.0\\appended.gdb\""
   ]
  },
  {
   "cell_type": "code",
   "execution_count": 3,
   "id": "d97883d7",
   "metadata": {},
   "outputs": [
    {
     "name": "stderr",
     "output_type": "stream",
     "text": [
      "C:\\Users\\sky\\.conda\\envs\\its_recode\\Lib\\site-packages\\pyogrio\\raw.py:198: RuntimeWarning: driver OpenFileGDB does not support open option DRIVER\n",
      "  return ogr_read(\n",
      "C:\\Users\\sky\\.conda\\envs\\its_recode\\Lib\\site-packages\\pyogrio\\raw.py:198: RuntimeWarning: organizePolygons() received a polygon with more than 100 parts. The processing may be really slow.  You can skip the processing by setting METHOD=SKIP, or only make it analyze counter-clock wise parts by setting METHOD=ONLY_CCW if you can assume that the outline of holes is counter-clock wise defined\n",
      "  return ogr_read(\n",
      "C:\\Users\\sky\\.conda\\envs\\its_recode\\Lib\\site-packages\\pyogrio\\raw.py:198: RuntimeWarning: driver OpenFileGDB does not support open option DRIVER\n",
      "  return ogr_read(\n",
      "C:\\Users\\sky\\.conda\\envs\\its_recode\\Lib\\site-packages\\pyogrio\\raw.py:198: RuntimeWarning: driver OpenFileGDB does not support open option DRIVER\n",
      "  return ogr_read(\n"
     ]
    }
   ],
   "source": [
    "enriched_polygons = gpd.read_file(append_path, driver='OpenFileGDB', layer='appended_poly')\n",
    "enriched_points = gpd.read_file(append_path, driver='OpenFileGDB', layer='appended_point')\n",
    "enriched_lines = gpd.read_file(append_path, driver='OpenFileGDB', layer='appended_line')"
   ]
  },
  {
   "cell_type": "code",
   "execution_count": 4,
   "id": "31d140ad",
   "metadata": {},
   "outputs": [],
   "source": [
    "years = ['2021', '2022', '2023']"
   ]
  },
  {
   "cell_type": "code",
   "execution_count": 5,
   "id": "e328b6c4",
   "metadata": {},
   "outputs": [],
   "source": [
    "def get_max_treatment(gdf):\n",
    "    '''\n",
    "    only use on specific agencies where treatment is reported with the same geometry\n",
    "    '''\n",
    "    max_idx = gdf.groupby(['TRMTID_USER', 'Year_txt'])['ACTIVITY_QUANTITY'].idxmax()\n",
    "    return gdf.loc[max_idx]"
   ]
  },
  {
   "cell_type": "code",
   "execution_count": 6,
   "id": "01db723f",
   "metadata": {},
   "outputs": [],
   "source": [
    "def buffer_overreport_poly(row):\n",
    "    if row.ACRE_RATIO <= 1:\n",
    "        return row.geometry\n",
    "    \n",
    "    # scale up by centroid if type is polygon\n",
    "    if isinstance(row.geometry, Polygon):\n",
    "        return affinity.scale(row.geometry, xfact=np.sqrt(row.ACRE_RATIO), yfact=np.sqrt(row.ACRE_RATIO))\n",
    "    # scale up by centroid of each polygon in multi-polygon\n",
    "    else:\n",
    "        out = []\n",
    "        for geom in list(row.geometry.geoms):\n",
    "            out.append(affinity.scale(geom, xfact=np.sqrt(row.ACRE_RATIO), yfact=np.sqrt(row.ACRE_RATIO)))\n",
    "        return MultiPolygon(out)"
   ]
  },
  {
   "cell_type": "code",
   "execution_count": 7,
   "id": "a4e9b4c6",
   "metadata": {},
   "outputs": [],
   "source": [
    "def update_pt(enriched_points: gpd.GeoDataFrame) -> gpd.GeoDataFrame:\n",
    "    \"\"\"Update points with buffer calculations.\"\"\"\n",
    "    logger.info(f\"      initial points count: {len(enriched_points)}\")\n",
    "    \n",
    "    # Add BufferMeters field\n",
    "    enriched_points['BufferMeters'] = None\n",
    "    \n",
    "    # Calculate buffer for AC units\n",
    "    mask1 = (enriched_points['ACTIVITY_QUANTITY'].notna()) & (enriched_points['ACTIVITY_UOM'] == 'AC')\n",
    "    logger.info(f\"      points with valid ACTIVITY_QUANTITY and AC units: {mask1.sum()}\")\n",
    "    \n",
    "    # Buffer point by their reported activity quantity \n",
    "    enriched_points.loc[mask1, 'BufferMeters'] = np.sqrt((enriched_points.loc[mask1, 'ACTIVITY_QUANTITY'] * 4046.86) / math.pi)\n",
    "    \n",
    "    # Filter for COUNTS_TO_MAS\n",
    "    mask2 = (enriched_points['COUNTS_TO_MAS'] == 'YES') & (enriched_points['BufferMeters'].notna())\n",
    "    logger.info(f\"      points with COUNTS_TO_MAS='YES' and valid BufferMeters: {mask2.sum()}\")\n",
    "    \n",
    "    selected_points = enriched_points[mask2].copy()\n",
    "\n",
    "    selected_points = selected_points[selected_points['BufferMeters'] > 0]\n",
    "    logger.info(f\"      points with BufferMeters > 0: {len(selected_points)}\")\n",
    "    \n",
    "    # Create buffers\n",
    "    buffered_geoms = selected_points.apply(\n",
    "        lambda row: row.geometry.buffer(row['BufferMeters']) if pd.notnull(row['BufferMeters']) else row.geometry,\n",
    "        axis=1\n",
    "    )\n",
    "    \n",
    "    # Create new GeoDataFrame with buffered geometries\n",
    "    result = selected_points.copy()\n",
    "    result.geometry = buffered_geoms\n",
    "    logger.info(f\"      final points count: {len(result)}\")\n",
    "    return result\n",
    "\n",
    "\n",
    "def update_ln(enriched_lines: gpd.GeoDataFrame) -> gpd.GeoDataFrame:\n",
    "    \"\"\"Update lines with buffer calculations.\"\"\"\n",
    "    logger.info(f\"      initial lines count: {len(enriched_lines)}\")\n",
    "        \n",
    "    # Check for case differences\n",
    "    if 'ACTIVITY_UOM' in enriched_lines.columns:\n",
    "        unique_uom = enriched_lines['ACTIVITY_UOM'].unique()\n",
    "        logger.info(f\"      unique ACTIVITY_UOM values: {unique_uom}\")\n",
    "    \n",
    "    # Add BufferMeters field\n",
    "    enriched_lines['BufferMeters'] = None\n",
    "    \n",
    "    # Calculate line lengths\n",
    "    line_lengths = enriched_lines.geometry.length\n",
    "    logger.info(f\"      lines with length > 0: {(line_lengths > 0).sum()}\")\n",
    "    \n",
    "    # Modify conditions to be more lenient and check for case variations\n",
    "    condition1 = enriched_lines['ACTIVITY_QUANTITY'].notna() if 'ACTIVITY_QUANTITY' in enriched_lines.columns else False\n",
    "    logger.info(f\"      lines with valid ACTIVITY_QUANTITY: {condition1.sum() if isinstance(condition1, pd.Series) else 0}\")\n",
    "    \n",
    "    condition2 = enriched_lines['ACTIVITY_UOM'].str.upper() == 'AC' if 'ACTIVITY_UOM' in enriched_lines.columns else False\n",
    "    logger.info(f\"      lines with ACTIVITY_UOM = 'AC' (case insensitive): {condition2.sum() if isinstance(condition2, pd.Series) else 0}\")\n",
    "    \n",
    "    # Check combined conditions\n",
    "    mask1 = condition1 & condition2 & (line_lengths > 0)\n",
    "    logger.info(f\"      lines meeting all conditions: {mask1.sum() if isinstance(mask1, pd.Series) else 0}\")\n",
    "    \n",
    "    if not isinstance(mask1, pd.Series) or mask1.sum() == 0:\n",
    "        logger.warning(\"      no lines meet the filtering criteria. Please check if the required columns exist and contain expected values.\")\n",
    "        return enriched_lines[enriched_lines['geometry'].notna()].head(0)  # Return empty GeoDataFrame with same schema\n",
    "    \n",
    "    # Calculate buffer distances\n",
    "    enriched_lines.loc[mask1, 'BufferMeters'] = (\n",
    "        (enriched_lines.loc[mask1, 'ACTIVITY_QUANTITY'] * 4046.86) / \n",
    "        line_lengths[mask1] / 2\n",
    "    )\n",
    "    \n",
    "    # Check COUNTS_TO_MAS condition\n",
    "    condition3 =  (enriched_lines['COUNTS_TO_MAS'] == 'YES') & (enriched_lines['BufferMeters'].notna())\n",
    "    logger.info(f\"      lines with COUNTS_TO_MAS = 'YES': {condition3.sum() if isinstance(condition3, pd.Series) else 0}\")\n",
    "    \n",
    "    condition4 = ~((enriched_lines['BufferMeters'] >= 200) & (enriched_lines['Source'] == 'CalTrans'))\n",
    "    \n",
    "    # Final filter\n",
    "    mask2 = condition3 & condition4\n",
    "    selected_lines = enriched_lines[mask2].copy()\n",
    "    \n",
    "    # caltrans activity is merged with treatment_id/geometry pair\n",
    "    # safe to only take max to reduce dissolve process time\n",
    "    caltrans = get_max_treatment(selected_lines[selected_lines.Source == 'CALTRANS'])\n",
    "    selected_lines = pd.concat([selected_lines[selected_lines.Source != 'CALTRANS'], caltrans],ignore_index=True)\n",
    "    \n",
    "    \n",
    "    # Create buffers\n",
    "    buffered_geoms = selected_lines.apply(\n",
    "        lambda row: row.geometry.buffer(row['BufferMeters'], cap_style='flat'),\n",
    "        axis=1\n",
    "    )\n",
    "    \n",
    "    # Create new GeoDataFrame with buffered geometries\n",
    "    result = selected_lines.copy()\n",
    "    result.geometry = buffered_geoms\n",
    "    logger.info(f\"      final lines count: {len(result)}\")\n",
    "    \n",
    "    return result\n",
    "\n",
    "\n",
    "def update_poly(enriched_polygons: gpd.GeoDataFrame) -> gpd.GeoDataFrame:\n",
    "    \"\"\"Update polygons with selection criteria.\"\"\"\n",
    "    logger.info(f\"      initial polygons count: {len(enriched_polygons)}\")\n",
    "\n",
    "    mas_gdf = enriched_polygons[enriched_polygons['COUNTS_TO_MAS'] == 'YES']\n",
    "    logger.info(f\"      polygons with COUNTS_TO_MAS = 'YES': {mas_gdf.shape}\")\n",
    "    \n",
    "    # inherited from arcpy version\n",
    "    # from logger there seems to be no such anomoly\n",
    "    treatment_gdf = enriched_polygons[enriched_polygons['TREATMENT_AREA'] < 100000]\n",
    "    logger.info(f\"      polygons with 'TREATMENT_AREA' < 100000: {treatment_gdf.shape}\")\n",
    "    \n",
    "    mask = (\n",
    "        (enriched_polygons['COUNTS_TO_MAS'] == 'YES') & \n",
    "        (enriched_polygons['TREATMENT_AREA'] < 100000)\n",
    "    )\n",
    "\n",
    "    final_gdf = enriched_polygons[mask].copy()\n",
    "    \n",
    "    \n",
    "        \n",
    "\n",
    "    # scale up by centroid of polygon geometry if reported acre is larger than geometry area\n",
    "    final_gdf['ACRE_RATIO'] = final_gdf.ACTIVITY_QUANTITY* 4046.86/(final_gdf.geometry.area)\n",
    "    final_gdf.geometry = final_gdf.apply(buffer_overreport_poly, axis = 1)\n",
    "    final_gdf = final_gdf.drop('ACRE_RATIO', axis=1)\n",
    "    \n",
    "    \n",
    "    logger.info(f\"      final polygons: {final_gdf.shape}\")\n",
    "    \n",
    "    return final_gdf"
   ]
  },
  {
   "cell_type": "code",
   "execution_count": 8,
   "id": "478544bf",
   "metadata": {},
   "outputs": [
    {
     "name": "stderr",
     "output_type": "stream",
     "text": [
      "2025-05-21 10:30:46,784 INFO  [process.footprint     ]        initial points count: 14415\n",
      "2025-05-21 10:30:46,787 INFO  [process.footprint     ]        points with valid ACTIVITY_QUANTITY and AC units: 13637\n",
      "2025-05-21 10:30:46,791 INFO  [process.footprint     ]        points with COUNTS_TO_MAS='YES' and valid BufferMeters: 3116\n",
      "2025-05-21 10:30:46,805 INFO  [process.footprint     ]        points with BufferMeters > 0: 2502\n",
      "2025-05-21 10:30:46,878 INFO  [process.footprint     ]        final points count: 2502\n",
      "2025-05-21 10:30:46,879 INFO  [process.footprint     ]        initial lines count: 103837\n",
      "2025-05-21 10:30:46,889 INFO  [process.footprint     ]        unique ACTIVITY_UOM values: ['AC' 'MI' None 'EA' 'TON']\n",
      "2025-05-21 10:30:47,298 INFO  [process.footprint     ]        lines with length > 0: 103837\n",
      "2025-05-21 10:30:47,298 INFO  [process.footprint     ]        lines with valid ACTIVITY_QUANTITY: 103747\n",
      "2025-05-21 10:30:47,320 INFO  [process.footprint     ]        lines with ACTIVITY_UOM = 'AC' (case insensitive): 103675\n",
      "2025-05-21 10:30:47,321 INFO  [process.footprint     ]        lines meeting all conditions: 103675\n",
      "2025-05-21 10:30:47,332 INFO  [process.footprint     ]        lines with COUNTS_TO_MAS = 'YES': 75784\n",
      "2025-05-21 10:30:49,639 INFO  [process.footprint     ]        final lines count: 1580\n",
      "2025-05-21 10:30:49,640 INFO  [process.footprint     ]        initial polygons count: 62088\n",
      "2025-05-21 10:30:49,681 INFO  [process.footprint     ]        polygons with COUNTS_TO_MAS = 'YES': (42318, 101)\n",
      "2025-05-21 10:30:49,710 INFO  [process.footprint     ]        polygons with 'TREATMENT_AREA' < 100000: (62088, 101)\n",
      "2025-05-21 10:30:51,104 INFO  [process.footprint     ]        final polygons: (42318, 101)\n"
     ]
    },
    {
     "name": "stdout",
     "output_type": "stream",
     "text": [
      "CPU times: total: 4.33 s\n",
      "Wall time: 4.35 s\n"
     ]
    }
   ],
   "source": [
    "%%time\n",
    "# Unit of Measure == Acres\n",
    "# buffer data by activity quantity acre to the exact amount of acres\n",
    "buffered_pt = update_pt(enriched_points)\n",
    "buffered_ln = update_ln(enriched_lines)\n",
    "buffered_poly = update_poly(enriched_polygons)"
   ]
  },
  {
   "cell_type": "code",
   "execution_count": 119,
   "id": "02bd4fa8",
   "metadata": {},
   "outputs": [
    {
     "name": "stdout",
     "output_type": "stream",
     "text": [
      "CPU times: total: 1min 30s\n",
      "Wall time: 1min 30s\n"
     ]
    }
   ],
   "source": [
    "%%time\n",
    "for y in years:\n",
    "    poly_cur_y = buffered_poly[buffered_poly['Year_txt'] == y]\n",
    "    ln_cur_y = buffered_ln[buffered_ln['Year_txt'] == y]\n",
    "    pt_cur_y = buffered_pt[buffered_pt['Year_txt'] == y]\n",
    "    \n",
    "    # timber nonspatial should not follow the spatial operations below\n",
    "    # take reported value at face value\n",
    "    # append later to final result\n",
    "    timber_cur_y = pt_cur_y[pt_cur_y.AGENCY == 'TIMBER']\n",
    "\n",
    "    \n",
    "    # concat together\n",
    "    footprint_cur_y = pd.concat([poly_cur_y, ln_cur_y, pt_cur_y[pt_cur_y.AGENCY != 'TIMBER']], ignore_index=True)\n",
    "    \n",
    "    # drop unecessary fields, dissolve by treatment and take max activity quantity \n",
    "    # 05/08/2025 UPDATE: subject to change\n",
    "    dissolved_cur_y = footprint_cur_y[['TRMTID_USER', 'ACTIVITY_QUANTITY', 'geometry']].dissolve('TRMTID_USER', aggfunc='max')\n",
    "    \n",
    "    # make valid would split a invalid polygon to multiple valid polygons and convert to MultiPolygon type\n",
    "    dissolved_cur_y.geometry = dissolved_cur_y.make_valid()\n",
    "    \n",
    "    # simplified SIG Meatball&Speghetti function\n",
    "    # use spatial join to rule out high overlapping\n",
    "    ##############################################################################################################\n",
    "    \n",
    "    # create \"meatballs\" by taking the representative point of footprint polygons\n",
    "    dissolved_point = dissolved_cur_y.copy()\n",
    "    dissolved_point.geometry = dissolved_point.representative_point()\n",
    "    \n",
    "    # perform spatial join to find intersecting point/polygon\n",
    "    joined_data = gpd.sjoin(dissolved_point, dissolved_cur_y, how='left', predicate='intersects').reset_index()\n",
    "    \n",
    "    # for polygon with multiple overlapping points, find the Treatment ID of those points whose Activity Quantity\n",
    "    # is smaller than the polygon's Activity Quantity\n",
    "    footprint_mask = joined_data[joined_data['ACTIVITY_QUANTITY_left'] < joined_data['ACTIVITY_QUANTITY_right']]['TRMTID_USER_left']\n",
    "    \n",
    "    # remove these non-qualifying treatments from footprint, essentially the same as taking max for overlapping\n",
    "    footpring_gdf = dissolved_cur_y.reset_index()\n",
    "    footpring_gdf = footpring_gdf[~footpring_gdf['TRMTID_USER'].isin(footprint_mask)]\n",
    "    \n",
    "    ##############################################################################################################\n"
   ]
  },
  {
   "cell_type": "code",
   "execution_count": 122,
   "id": "1f90e8e8",
   "metadata": {},
   "outputs": [
    {
     "data": {
      "text/plain": [
       "np.float64(698130.6024464676)"
      ]
     },
     "execution_count": 122,
     "metadata": {},
     "output_type": "execute_result"
    }
   ],
   "source": [
    "footpring_gdf.ACTIVITY_QUANTITY.sum() + timber_cur_y.ACTIVITY_QUANTITY.sum()"
   ]
  },
  {
   "cell_type": "code",
   "execution_count": 87,
   "id": "bd4b88b9",
   "metadata": {},
   "outputs": [],
   "source": [
    "test_timber = timber_cur_y[['TRMTID_USER', 'ACTIVITY_QUANTITY', 'geometry']].set_index('TRMTID_USER')"
   ]
  },
  {
   "cell_type": "code",
   "execution_count": 88,
   "id": "ea7a77bf",
   "metadata": {},
   "outputs": [],
   "source": [
    "dissolved_point = test_timber.copy()\n",
    "dissolved_point.geometry = dissolved_point.representative_point()"
   ]
  },
  {
   "cell_type": "code",
   "execution_count": 89,
   "id": "6e138ca9",
   "metadata": {},
   "outputs": [],
   "source": [
    "# Perform spatial join\n",
    "joined_data = gpd.sjoin(dissolved_point, test_timber, how='left', predicate='intersects')\n"
   ]
  },
  {
   "cell_type": "code",
   "execution_count": 90,
   "id": "14acabe3",
   "metadata": {},
   "outputs": [],
   "source": [
    "max_footprint = joined_data.reset_index()"
   ]
  },
  {
   "cell_type": "code",
   "execution_count": 97,
   "id": "f108e747",
   "metadata": {},
   "outputs": [],
   "source": [
    "test_mid = max_footprint[max_footprint['TRMTID_USER_left'] != max_footprint['TRMTID_USER_right']]"
   ]
  },
  {
   "cell_type": "code",
   "execution_count": 100,
   "id": "c82ddc66",
   "metadata": {},
   "outputs": [
    {
     "data": {
      "text/html": [
       "<div>\n",
       "<style scoped>\n",
       "    .dataframe tbody tr th:only-of-type {\n",
       "        vertical-align: middle;\n",
       "    }\n",
       "\n",
       "    .dataframe tbody tr th {\n",
       "        vertical-align: top;\n",
       "    }\n",
       "\n",
       "    .dataframe thead th {\n",
       "        text-align: right;\n",
       "    }\n",
       "</style>\n",
       "<table border=\"1\" class=\"dataframe\">\n",
       "  <thead>\n",
       "    <tr style=\"text-align: right;\">\n",
       "      <th></th>\n",
       "      <th>TRMTID_USER_left</th>\n",
       "      <th>ACTIVITY_QUANTITY_left</th>\n",
       "      <th>geometry</th>\n",
       "      <th>TRMTID_USER_right</th>\n",
       "      <th>ACTIVITY_QUANTITY_right</th>\n",
       "    </tr>\n",
       "  </thead>\n",
       "  <tbody>\n",
       "    <tr>\n",
       "      <th>1</th>\n",
       "      <td>TI-2</td>\n",
       "      <td>13169.946525</td>\n",
       "      <td>POINT (-294794.243 -53301.196)</td>\n",
       "      <td>TI-70</td>\n",
       "      <td>34337.536889</td>\n",
       "    </tr>\n",
       "    <tr>\n",
       "      <th>2</th>\n",
       "      <td>TI-8</td>\n",
       "      <td>375.000000</td>\n",
       "      <td>POINT (-286320.171 -38298.821)</td>\n",
       "      <td>TI-61</td>\n",
       "      <td>30646.452164</td>\n",
       "    </tr>\n",
       "    <tr>\n",
       "      <th>8</th>\n",
       "      <td>TI-22</td>\n",
       "      <td>1000.000000</td>\n",
       "      <td>POINT (-306999.994 -38983.172)</td>\n",
       "      <td>TI-19</td>\n",
       "      <td>95578.777497</td>\n",
       "    </tr>\n",
       "    <tr>\n",
       "      <th>10</th>\n",
       "      <td>TI-25</td>\n",
       "      <td>500.000000</td>\n",
       "      <td>POINT (-299529.723 -40247.824)</td>\n",
       "      <td>TI-19</td>\n",
       "      <td>95578.777497</td>\n",
       "    </tr>\n",
       "    <tr>\n",
       "      <th>17</th>\n",
       "      <td>TI-49</td>\n",
       "      <td>142.660678</td>\n",
       "      <td>POINT (-298644.626 -51202.982)</td>\n",
       "      <td>TI-70</td>\n",
       "      <td>34337.536889</td>\n",
       "    </tr>\n",
       "    <tr>\n",
       "      <th>20</th>\n",
       "      <td>TI-52</td>\n",
       "      <td>2918.398095</td>\n",
       "      <td>POINT (-297394.655 -41806.259)</td>\n",
       "      <td>TI-61</td>\n",
       "      <td>30646.452164</td>\n",
       "    </tr>\n",
       "    <tr>\n",
       "      <th>22</th>\n",
       "      <td>TI-58</td>\n",
       "      <td>1525.818568</td>\n",
       "      <td>POINT (-293083.987 -45224.923)</td>\n",
       "      <td>TI-70</td>\n",
       "      <td>34337.536889</td>\n",
       "    </tr>\n",
       "    <tr>\n",
       "      <th>25</th>\n",
       "      <td>TI-64</td>\n",
       "      <td>2298.548819</td>\n",
       "      <td>POINT (-297551.933 -46312.175)</td>\n",
       "      <td>TI-70</td>\n",
       "      <td>34337.536889</td>\n",
       "    </tr>\n",
       "  </tbody>\n",
       "</table>\n",
       "</div>"
      ],
      "text/plain": [
       "   TRMTID_USER_left  ACTIVITY_QUANTITY_left                        geometry  \\\n",
       "1              TI-2            13169.946525  POINT (-294794.243 -53301.196)   \n",
       "2              TI-8              375.000000  POINT (-286320.171 -38298.821)   \n",
       "8             TI-22             1000.000000  POINT (-306999.994 -38983.172)   \n",
       "10            TI-25              500.000000  POINT (-299529.723 -40247.824)   \n",
       "17            TI-49              142.660678  POINT (-298644.626 -51202.982)   \n",
       "20            TI-52             2918.398095  POINT (-297394.655 -41806.259)   \n",
       "22            TI-58             1525.818568  POINT (-293083.987 -45224.923)   \n",
       "25            TI-64             2298.548819  POINT (-297551.933 -46312.175)   \n",
       "\n",
       "   TRMTID_USER_right  ACTIVITY_QUANTITY_right  \n",
       "1              TI-70             34337.536889  \n",
       "2              TI-61             30646.452164  \n",
       "8              TI-19             95578.777497  \n",
       "10             TI-19             95578.777497  \n",
       "17             TI-70             34337.536889  \n",
       "20             TI-61             30646.452164  \n",
       "22             TI-70             34337.536889  \n",
       "25             TI-70             34337.536889  "
      ]
     },
     "execution_count": 100,
     "metadata": {},
     "output_type": "execute_result"
    }
   ],
   "source": [
    "test_mid"
   ]
  },
  {
   "cell_type": "code",
   "execution_count": 104,
   "id": "c0f4183d",
   "metadata": {},
   "outputs": [],
   "source": [
    "test_mask = "
   ]
  },
  {
   "cell_type": "code",
   "execution_count": 108,
   "id": "5487bdbc",
   "metadata": {},
   "outputs": [
    {
     "data": {
      "text/plain": [
       "<Axes: >"
      ]
     },
     "execution_count": 108,
     "metadata": {},
     "output_type": "execute_result"
    },
    {
     "data": {
      "image/png": "[encoded data removed]",
      "text/plain": [
       "<Figure size 640x480 with 1 Axes>"
      ]
     },
     "metadata": {},
     "output_type": "display_data"
    }
   ],
   "source": [
    "timber_cur_y[~timber_cur_y['TRMTID_USER'].isin(test_mask)].plot()"
   ]
  },
  {
   "cell_type": "code",
   "execution_count": 109,
   "id": "8cf133e1",
   "metadata": {},
   "outputs": [
    {
     "data": {
      "text/plain": [
       "<Axes: >"
      ]
     },
     "execution_count": 109,
     "metadata": {},
     "output_type": "execute_result"
    },
    {
     "data": {
      "image/png": "[encoded data removed]",
      "text/plain": [
       "<Figure size 640x480 with 1 Axes>"
      ]
     },
     "metadata": {},
     "output_type": "display_data"
    }
   ],
   "source": [
    "timber_cur_y.plot()"
   ]
  },
  {
   "cell_type": "code",
   "execution_count": 94,
   "id": "bc61aded",
   "metadata": {},
   "outputs": [],
   "source": [
    "test_out = max_footprint[max_footprint['ACTIVITY_QUANTITY_left'] >= max_footprint['ACTIVITY_QUANTITY_right']].groupby('TRMTID_USER_right').max('ACTIVITY_QUANTITY_right')"
   ]
  },
  {
   "cell_type": "code",
   "execution_count": 95,
   "id": "d3eebf18",
   "metadata": {},
   "outputs": [
    {
     "data": {
      "text/plain": [
       "20"
      ]
     },
     "execution_count": 95,
     "metadata": {},
     "output_type": "execute_result"
    }
   ],
   "source": [
    "len(test_out)"
   ]
  },
  {
   "cell_type": "code",
   "execution_count": 96,
   "id": "89fe2532",
   "metadata": {},
   "outputs": [
    {
     "data": {
      "text/plain": [
       "20"
      ]
     },
     "execution_count": 96,
     "metadata": {},
     "output_type": "execute_result"
    }
   ],
   "source": [
    "len(test_timber)"
   ]
  },
  {
   "cell_type": "code",
   "execution_count": 11,
   "id": "982ad738",
   "metadata": {},
   "outputs": [],
   "source": [
    "def get_NOP_recur(gdf1, gdf2):\n",
    "    intersection = gpd.overlay(gdf1, gdf2, how='intersection')\n",
    "    difference = gpd.overlay(gdf1, gdf2, how='difference')\n",
    "    \n",
    "    temp_nop = pd.concat([intersection, difference])\n",
    "    if len(temp_nop) <= 1:\n",
    "        return [gdf1]\n",
    "    else:\n",
    "        return [get_NOP_recur(temp_nop.iloc[[i]], \n",
    "                              pd.concat([temp_nop.iloc[0:i],temp_nop.iloc[i+1:]])) for i in range(len(temp_nop))]"
   ]
  },
  {
   "cell_type": "code",
   "execution_count": null,
   "id": "7e8cb309",
   "metadata": {},
   "outputs": [],
   "source": []
  },
  {
   "cell_type": "code",
   "execution_count": 12,
   "id": "0680b370",
   "metadata": {},
   "outputs": [],
   "source": [
    "\n",
    "def get_NOP(gdf):\n",
    "    out = []\n",
    "    for i in range(len(gdf)):\n",
    "        nop_cur = get_NOP_recur(gdf.iloc[[i]], pd.concat([gdf.iloc[0:i],gdf.iloc[i+1:]]))\n",
    "        nop_cur = pd.concat(flatten(nop_cur)).drop_duplicates('geometry')\n",
    "        nop_cur = nop_cur[~np.isclose(nop_cur.area, 0)]\n",
    "        \n",
    "        out.append(nop_cur)\n",
    "        \n",
    "    return pd.concat(flatten(out)).drop_duplicates('geometry')"
   ]
  },
  {
   "cell_type": "code",
   "execution_count": 13,
   "id": "b1fb0b7f",
   "metadata": {},
   "outputs": [],
   "source": [
    "import warnings\n",
    "warnings.filterwarnings(\"ignore\")"
   ]
  },
  {
   "cell_type": "code",
   "execution_count": null,
   "id": "5a5a1ce6",
   "metadata": {},
   "outputs": [],
   "source": []
  },
  {
   "cell_type": "code",
   "execution_count": 14,
   "id": "c28680b2",
   "metadata": {},
   "outputs": [],
   "source": [
    "import dask_geopandas\n",
    "# some data need to be converted to multi-type again\n",
    "from utils.save_gdf_to_gdb import save_gdf_to_gdb"
   ]
  },
  {
   "cell_type": "code",
   "execution_count": null,
   "id": "2ddcc9e3",
   "metadata": {},
   "outputs": [],
   "source": []
  },
  {
   "cell_type": "code",
   "execution_count": null,
   "id": "ebfffab9",
   "metadata": {},
   "outputs": [],
   "source": [
    "%%time\n",
    "from multiprocessing import Pool\n",
    "\n",
    "def process_nop(i):\n",
    "    nop_cur = get_NOP_recur(dissolved_cur_y.iloc[[i]], pd.concat([dissolved_cur_y.iloc[0:i],dissolved_cur_y.iloc[i+1:]]))\n",
    "    nop_cur = pd.concat(flatten(nop_cur)).drop_duplicates('geometry')\n",
    "    nop_cur = nop_cur[~np.isclose(nop_cur.area, 0)]\n",
    "    return nop_cur\n",
    "\n",
    "\n",
    "if __name__ == '__main__':\n",
    "    pool = Pool(processes=8)                      \n",
    "    pool.map(process_nop, range(len(dissolved_cur_y)))"
   ]
  },
  {
   "cell_type": "code",
   "execution_count": 213,
   "id": "4fe059b8",
   "metadata": {},
   "outputs": [
    {
     "ename": "KeyboardInterrupt",
     "evalue": "",
     "output_type": "error",
     "traceback": [
      "\u001b[1;31m---------------------------------------------------------------------------\u001b[0m",
      "\u001b[1;31mKeyboardInterrupt\u001b[0m                         Traceback (most recent call last)",
      "File \u001b[1;32m<timed exec>:1\u001b[0m\n",
      "Cell \u001b[1;32mIn[207], line 4\u001b[0m, in \u001b[0;36mget_NOP\u001b[1;34m(gdf)\u001b[0m\n\u001b[0;32m      2\u001b[0m out \u001b[38;5;241m=\u001b[39m []\n\u001b[0;32m      3\u001b[0m \u001b[38;5;28;01mfor\u001b[39;00m i \u001b[38;5;129;01min\u001b[39;00m \u001b[38;5;28mrange\u001b[39m(\u001b[38;5;28mlen\u001b[39m(gdf)):\n\u001b[1;32m----> 4\u001b[0m     nop_cur \u001b[38;5;241m=\u001b[39m get_NOP_recur(gdf\u001b[38;5;241m.\u001b[39miloc[[i]], pd\u001b[38;5;241m.\u001b[39mconcat([gdf\u001b[38;5;241m.\u001b[39miloc[\u001b[38;5;241m0\u001b[39m:i],gdf\u001b[38;5;241m.\u001b[39miloc[i\u001b[38;5;241m+\u001b[39m\u001b[38;5;241m1\u001b[39m:]]))\n\u001b[0;32m      5\u001b[0m     nop_cur \u001b[38;5;241m=\u001b[39m pd\u001b[38;5;241m.\u001b[39mconcat(flatten(nop_cur))\u001b[38;5;241m.\u001b[39mdrop_duplicates(\u001b[38;5;124m'\u001b[39m\u001b[38;5;124mgeometry\u001b[39m\u001b[38;5;124m'\u001b[39m)\n\u001b[0;32m      6\u001b[0m     nop_cur \u001b[38;5;241m=\u001b[39m nop_cur[\u001b[38;5;241m~\u001b[39mnp\u001b[38;5;241m.\u001b[39misclose(nop_cur\u001b[38;5;241m.\u001b[39marea, \u001b[38;5;241m0\u001b[39m)]\n",
      "Cell \u001b[1;32mIn[175], line 9\u001b[0m, in \u001b[0;36mget_NOP_recur\u001b[1;34m(gdf1, gdf2)\u001b[0m\n\u001b[0;32m      7\u001b[0m     \u001b[38;5;28;01mreturn\u001b[39;00m [gdf1]\n\u001b[0;32m      8\u001b[0m \u001b[38;5;28;01melse\u001b[39;00m:\n\u001b[1;32m----> 9\u001b[0m     \u001b[38;5;28;01mreturn\u001b[39;00m [get_NOP_recur(temp_nop\u001b[38;5;241m.\u001b[39miloc[[i]], \n\u001b[0;32m     10\u001b[0m                           pd\u001b[38;5;241m.\u001b[39mconcat([temp_nop\u001b[38;5;241m.\u001b[39miloc[\u001b[38;5;241m0\u001b[39m:i],temp_nop\u001b[38;5;241m.\u001b[39miloc[i\u001b[38;5;241m+\u001b[39m\u001b[38;5;241m1\u001b[39m:]])) \u001b[38;5;28;01mfor\u001b[39;00m i \u001b[38;5;129;01min\u001b[39;00m \u001b[38;5;28mrange\u001b[39m(\u001b[38;5;28mlen\u001b[39m(temp_nop))]\n",
      "Cell \u001b[1;32mIn[175], line 9\u001b[0m, in \u001b[0;36mget_NOP_recur\u001b[1;34m(gdf1, gdf2)\u001b[0m\n\u001b[0;32m      7\u001b[0m     \u001b[38;5;28;01mreturn\u001b[39;00m [gdf1]\n\u001b[0;32m      8\u001b[0m \u001b[38;5;28;01melse\u001b[39;00m:\n\u001b[1;32m----> 9\u001b[0m     \u001b[38;5;28;01mreturn\u001b[39;00m [get_NOP_recur(temp_nop\u001b[38;5;241m.\u001b[39miloc[[i]], \n\u001b[0;32m     10\u001b[0m                           pd\u001b[38;5;241m.\u001b[39mconcat([temp_nop\u001b[38;5;241m.\u001b[39miloc[\u001b[38;5;241m0\u001b[39m:i],temp_nop\u001b[38;5;241m.\u001b[39miloc[i\u001b[38;5;241m+\u001b[39m\u001b[38;5;241m1\u001b[39m:]])) \u001b[38;5;28;01mfor\u001b[39;00m i \u001b[38;5;129;01min\u001b[39;00m \u001b[38;5;28mrange\u001b[39m(\u001b[38;5;28mlen\u001b[39m(temp_nop))]\n",
      "    \u001b[1;31m[... skipping similar frames: get_NOP_recur at line 9 (3 times)]\u001b[0m\n",
      "Cell \u001b[1;32mIn[175], line 9\u001b[0m, in \u001b[0;36mget_NOP_recur\u001b[1;34m(gdf1, gdf2)\u001b[0m\n\u001b[0;32m      7\u001b[0m     \u001b[38;5;28;01mreturn\u001b[39;00m [gdf1]\n\u001b[0;32m      8\u001b[0m \u001b[38;5;28;01melse\u001b[39;00m:\n\u001b[1;32m----> 9\u001b[0m     \u001b[38;5;28;01mreturn\u001b[39;00m [get_NOP_recur(temp_nop\u001b[38;5;241m.\u001b[39miloc[[i]], \n\u001b[0;32m     10\u001b[0m                           pd\u001b[38;5;241m.\u001b[39mconcat([temp_nop\u001b[38;5;241m.\u001b[39miloc[\u001b[38;5;241m0\u001b[39m:i],temp_nop\u001b[38;5;241m.\u001b[39miloc[i\u001b[38;5;241m+\u001b[39m\u001b[38;5;241m1\u001b[39m:]])) \u001b[38;5;28;01mfor\u001b[39;00m i \u001b[38;5;129;01min\u001b[39;00m \u001b[38;5;28mrange\u001b[39m(\u001b[38;5;28mlen\u001b[39m(temp_nop))]\n",
      "Cell \u001b[1;32mIn[175], line 2\u001b[0m, in \u001b[0;36mget_NOP_recur\u001b[1;34m(gdf1, gdf2)\u001b[0m\n\u001b[0;32m      1\u001b[0m \u001b[38;5;28;01mdef\u001b[39;00m \u001b[38;5;21mget_NOP_recur\u001b[39m(gdf1, gdf2):\n\u001b[1;32m----> 2\u001b[0m     intersection \u001b[38;5;241m=\u001b[39m gpd\u001b[38;5;241m.\u001b[39moverlay(gdf1, gdf2, how\u001b[38;5;241m=\u001b[39m\u001b[38;5;124m'\u001b[39m\u001b[38;5;124mintersection\u001b[39m\u001b[38;5;124m'\u001b[39m)\n\u001b[0;32m      3\u001b[0m     difference \u001b[38;5;241m=\u001b[39m gpd\u001b[38;5;241m.\u001b[39moverlay(gdf1, gdf2, how\u001b[38;5;241m=\u001b[39m\u001b[38;5;124m'\u001b[39m\u001b[38;5;124mdifference\u001b[39m\u001b[38;5;124m'\u001b[39m)\n\u001b[0;32m      5\u001b[0m     temp_nop \u001b[38;5;241m=\u001b[39m pd\u001b[38;5;241m.\u001b[39mconcat([intersection, difference])\n",
      "File \u001b[1;32m~\\.conda\\envs\\its_recode\\Lib\\site-packages\\geopandas\\tools\\overlay.py:313\u001b[0m, in \u001b[0;36moverlay\u001b[1;34m(df1, df2, how, keep_geom_type, make_valid)\u001b[0m\n\u001b[0;32m    305\u001b[0m             \u001b[38;5;28;01mraise\u001b[39;00m \u001b[38;5;167;01mValueError\u001b[39;00m(\n\u001b[0;32m    306\u001b[0m                 \u001b[38;5;124m\"\u001b[39m\u001b[38;5;124mYou have passed make_valid=False along with \u001b[39m\u001b[38;5;124m\"\u001b[39m\n\u001b[0;32m    307\u001b[0m                 \u001b[38;5;124mf\u001b[39m\u001b[38;5;124m\"\u001b[39m\u001b[38;5;132;01m{\u001b[39;00mmask\u001b[38;5;241m.\u001b[39msum()\u001b[38;5;132;01m}\u001b[39;00m\u001b[38;5;124m invalid input geometries. \u001b[39m\u001b[38;5;124m\"\u001b[39m\n\u001b[0;32m    308\u001b[0m                 \u001b[38;5;124m\"\u001b[39m\u001b[38;5;124mUse make_valid=True or make sure that all geometries \u001b[39m\u001b[38;5;124m\"\u001b[39m\n\u001b[0;32m    309\u001b[0m                 \u001b[38;5;124m\"\u001b[39m\u001b[38;5;124mare valid before using overlay.\u001b[39m\u001b[38;5;124m\"\u001b[39m\n\u001b[0;32m    310\u001b[0m             )\n\u001b[0;32m    311\u001b[0m     \u001b[38;5;28;01mreturn\u001b[39;00m df\n\u001b[1;32m--> 313\u001b[0m df1 \u001b[38;5;241m=\u001b[39m _make_valid(df1)\n\u001b[0;32m    314\u001b[0m df2 \u001b[38;5;241m=\u001b[39m _make_valid(df2)\n\u001b[0;32m    316\u001b[0m \u001b[38;5;28;01mwith\u001b[39;00m warnings\u001b[38;5;241m.\u001b[39mcatch_warnings():  \u001b[38;5;66;03m# CRS checked above, suppress array-level warning\u001b[39;00m\n",
      "File \u001b[1;32m~\\.conda\\envs\\its_recode\\Lib\\site-packages\\geopandas\\tools\\overlay.py:300\u001b[0m, in \u001b[0;36moverlay.<locals>._make_valid\u001b[1;34m(df)\u001b[0m\n\u001b[0;32m    298\u001b[0m df \u001b[38;5;241m=\u001b[39m df\u001b[38;5;241m.\u001b[39mcopy()\n\u001b[0;32m    299\u001b[0m \u001b[38;5;28;01mif\u001b[39;00m df\u001b[38;5;241m.\u001b[39mgeom_type\u001b[38;5;241m.\u001b[39misin(polys)\u001b[38;5;241m.\u001b[39mall():\n\u001b[1;32m--> 300\u001b[0m     mask \u001b[38;5;241m=\u001b[39m \u001b[38;5;241m~\u001b[39mdf\u001b[38;5;241m.\u001b[39mgeometry\u001b[38;5;241m.\u001b[39mis_valid\n\u001b[0;32m    301\u001b[0m     col \u001b[38;5;241m=\u001b[39m df\u001b[38;5;241m.\u001b[39m_geometry_column_name\n\u001b[0;32m    302\u001b[0m     \u001b[38;5;28;01mif\u001b[39;00m make_valid:\n",
      "File \u001b[1;32m~\\.conda\\envs\\its_recode\\Lib\\site-packages\\geopandas\\base.py:334\u001b[0m, in \u001b[0;36mGeoPandasBase.is_valid\u001b[1;34m(self)\u001b[0m\n\u001b[0;32m    296\u001b[0m \u001b[38;5;129m@property\u001b[39m\n\u001b[0;32m    297\u001b[0m \u001b[38;5;28;01mdef\u001b[39;00m \u001b[38;5;21mis_valid\u001b[39m(\u001b[38;5;28mself\u001b[39m):\n\u001b[0;32m    298\u001b[0m \u001b[38;5;250m    \u001b[39m\u001b[38;5;124;03m\"\"\"Returns a ``Series`` of ``dtype('bool')`` with value ``True`` for\u001b[39;00m\n\u001b[0;32m    299\u001b[0m \u001b[38;5;124;03m    geometries that are valid.\u001b[39;00m\n\u001b[0;32m    300\u001b[0m \n\u001b[1;32m   (...)\u001b[0m\n\u001b[0;32m    332\u001b[0m \u001b[38;5;124;03m    GeoSeries.is_valid_reason : reason for invalidity\u001b[39;00m\n\u001b[0;32m    333\u001b[0m \u001b[38;5;124;03m    \"\"\"\u001b[39;00m\n\u001b[1;32m--> 334\u001b[0m     \u001b[38;5;28;01mreturn\u001b[39;00m _delegate_property(\u001b[38;5;124m\"\u001b[39m\u001b[38;5;124mis_valid\u001b[39m\u001b[38;5;124m\"\u001b[39m, \u001b[38;5;28mself\u001b[39m)\n",
      "File \u001b[1;32m~\\.conda\\envs\\its_recode\\Lib\\site-packages\\geopandas\\base.py:83\u001b[0m, in \u001b[0;36m_delegate_property\u001b[1;34m(op, this)\u001b[0m\n\u001b[0;32m     80\u001b[0m \u001b[38;5;28;01mdef\u001b[39;00m \u001b[38;5;21m_delegate_property\u001b[39m(op, this):\n\u001b[0;32m     81\u001b[0m     \u001b[38;5;66;03m# type: (str, GeoSeries) -> GeoSeries/Series\u001b[39;00m\n\u001b[0;32m     82\u001b[0m     a_this \u001b[38;5;241m=\u001b[39m GeometryArray(this\u001b[38;5;241m.\u001b[39mgeometry\u001b[38;5;241m.\u001b[39mvalues)\n\u001b[1;32m---> 83\u001b[0m     data \u001b[38;5;241m=\u001b[39m \u001b[38;5;28mgetattr\u001b[39m(a_this, op)\n\u001b[0;32m     84\u001b[0m     \u001b[38;5;28;01mif\u001b[39;00m \u001b[38;5;28misinstance\u001b[39m(data, GeometryArray):\n\u001b[0;32m     85\u001b[0m         \u001b[38;5;28;01mfrom\u001b[39;00m \u001b[38;5;21;01m.\u001b[39;00m\u001b[38;5;21;01mgeoseries\u001b[39;00m \u001b[38;5;28;01mimport\u001b[39;00m GeoSeries\n",
      "File \u001b[1;32m~\\.conda\\envs\\its_recode\\Lib\\site-packages\\geopandas\\array.py:498\u001b[0m, in \u001b[0;36mGeometryArray.is_valid\u001b[1;34m(self)\u001b[0m\n\u001b[0;32m    496\u001b[0m \u001b[38;5;129m@property\u001b[39m\n\u001b[0;32m    497\u001b[0m \u001b[38;5;28;01mdef\u001b[39;00m \u001b[38;5;21mis_valid\u001b[39m(\u001b[38;5;28mself\u001b[39m):\n\u001b[1;32m--> 498\u001b[0m     \u001b[38;5;28;01mreturn\u001b[39;00m shapely\u001b[38;5;241m.\u001b[39mis_valid(\u001b[38;5;28mself\u001b[39m\u001b[38;5;241m.\u001b[39m_data)\n",
      "File \u001b[1;32m~\\.conda\\envs\\its_recode\\Lib\\site-packages\\shapely\\decorators.py:77\u001b[0m, in \u001b[0;36mmultithreading_enabled.<locals>.wrapped\u001b[1;34m(*args, **kwargs)\u001b[0m\n\u001b[0;32m     75\u001b[0m     \u001b[38;5;28;01mfor\u001b[39;00m arr \u001b[38;5;129;01min\u001b[39;00m array_args:\n\u001b[0;32m     76\u001b[0m         arr\u001b[38;5;241m.\u001b[39mflags\u001b[38;5;241m.\u001b[39mwriteable \u001b[38;5;241m=\u001b[39m \u001b[38;5;28;01mFalse\u001b[39;00m\n\u001b[1;32m---> 77\u001b[0m     \u001b[38;5;28;01mreturn\u001b[39;00m func(\u001b[38;5;241m*\u001b[39margs, \u001b[38;5;241m*\u001b[39m\u001b[38;5;241m*\u001b[39mkwargs)\n\u001b[0;32m     78\u001b[0m \u001b[38;5;28;01mfinally\u001b[39;00m:\n\u001b[0;32m     79\u001b[0m     \u001b[38;5;28;01mfor\u001b[39;00m arr, old_flag \u001b[38;5;129;01min\u001b[39;00m \u001b[38;5;28mzip\u001b[39m(array_args, old_flags):\n",
      "File \u001b[1;32m~\\.conda\\envs\\its_recode\\Lib\\site-packages\\shapely\\predicates.py:391\u001b[0m, in \u001b[0;36mis_valid\u001b[1;34m(geometry, **kwargs)\u001b[0m\n\u001b[0;32m    389\u001b[0m \u001b[38;5;28;01mwith\u001b[39;00m warnings\u001b[38;5;241m.\u001b[39mcatch_warnings():\n\u001b[0;32m    390\u001b[0m     warnings\u001b[38;5;241m.\u001b[39msimplefilter(\u001b[38;5;124m\"\u001b[39m\u001b[38;5;124mignore\u001b[39m\u001b[38;5;124m\"\u001b[39m)\n\u001b[1;32m--> 391\u001b[0m     result \u001b[38;5;241m=\u001b[39m lib\u001b[38;5;241m.\u001b[39mis_valid(geometry, \u001b[38;5;241m*\u001b[39m\u001b[38;5;241m*\u001b[39mkwargs)\n\u001b[0;32m    392\u001b[0m \u001b[38;5;28;01mreturn\u001b[39;00m result\n",
      "\u001b[1;31mKeyboardInterrupt\u001b[0m: "
     ]
    }
   ],
   "source": [
    "%%time\n",
    "out = get_NOP(dissolved_cur_y)"
   ]
  },
  {
   "cell_type": "code",
   "execution_count": 75,
   "id": "9c1da38d",
   "metadata": {},
   "outputs": [],
   "source": [
    "from matplotlib import pyplot as plt"
   ]
  },
  {
   "cell_type": "code",
   "execution_count": 212,
   "id": "6386e3b9",
   "metadata": {},
   "outputs": [
    {
     "data": {
      "text/plain": [
       "<Axes: >"
      ]
     },
     "execution_count": 212,
     "metadata": {},
     "output_type": "execute_result"
    },
    {
     "data": {
      "image/png": "[encoded data removed]",
      "text/plain": [
       "<Figure size 1400x1400 with 1 Axes>"
      ]
     },
     "metadata": {},
     "output_type": "display_data"
    }
   ],
   "source": [
    "f, ax = plt.subplots()\n",
    "f.set_size_inches(14, 14)\n",
    "out.plot(ax=ax)\n",
    "out.representative_point().drop_duplicates().plot(ax=ax,c='red',)"
   ]
  },
  {
   "cell_type": "code",
   "execution_count": 195,
   "id": "e8650a7d",
   "metadata": {},
   "outputs": [
    {
     "data": {
      "text/plain": [
       "34"
      ]
     },
     "execution_count": 195,
     "metadata": {},
     "output_type": "execute_result"
    }
   ],
   "source": [
    "len(pd.concat(flatten(out)).representative_point().drop_duplicates())"
   ]
  },
  {
   "cell_type": "code",
   "execution_count": null,
   "id": "c1cdda80",
   "metadata": {},
   "outputs": [],
   "source": [
    "# line buffer simplification does not have enough spatial resolution for this sensitive probability calculation"
   ]
  },
  {
   "cell_type": "code",
   "execution_count": 243,
   "id": "24084fd6",
   "metadata": {},
   "outputs": [
    {
     "data": {
      "text/html": [
       "<div>\n",
       "<style scoped>\n",
       "    .dataframe tbody tr th:only-of-type {\n",
       "        vertical-align: middle;\n",
       "    }\n",
       "\n",
       "    .dataframe tbody tr th {\n",
       "        vertical-align: top;\n",
       "    }\n",
       "\n",
       "    .dataframe thead th {\n",
       "        text-align: right;\n",
       "    }\n",
       "</style>\n",
       "<table border=\"1\" class=\"dataframe\">\n",
       "  <thead>\n",
       "    <tr style=\"text-align: right;\">\n",
       "      <th></th>\n",
       "      <th>PROJECTID_USER</th>\n",
       "      <th>AGENCY</th>\n",
       "      <th>ORG_ADMIN_p</th>\n",
       "      <th>PROJECT_CONTACT</th>\n",
       "      <th>PROJECT_EMAIL</th>\n",
       "      <th>ADMINISTERING_ORG</th>\n",
       "      <th>PROJECT_NAME</th>\n",
       "      <th>PROJECT_STATUS</th>\n",
       "      <th>PROJECT_START</th>\n",
       "      <th>PROJECT_END</th>\n",
       "      <th>...</th>\n",
       "      <th>SHAPE_Area</th>\n",
       "      <th>index_right</th>\n",
       "      <th>FIPS</th>\n",
       "      <th>STATE</th>\n",
       "      <th>ST_ABBREV</th>\n",
       "      <th>SQMI</th>\n",
       "      <th>POPULATION</th>\n",
       "      <th>Shape_Length_1</th>\n",
       "      <th>Shape_Area_1</th>\n",
       "      <th>geometry</th>\n",
       "    </tr>\n",
       "  </thead>\n",
       "  <tbody>\n",
       "    <tr>\n",
       "      <th>12653</th>\n",
       "      <td>{312AFFED-EF63-47C9-82C8-363FD8AAA6FF}-CNRA</td>\n",
       "      <td>CNRA</td>\n",
       "      <td>CALFIRE</td>\n",
       "      <td>CAL FIRE Data Contact</td>\n",
       "      <td>FRAPdatacontact@fire.ca.gov</td>\n",
       "      <td>CALFIRE</td>\n",
       "      <td>High Sierra Front Country Fuel Breaks Project</td>\n",
       "      <td>COMPLETE</td>\n",
       "      <td>2022-03-01 00:00:00+00:00</td>\n",
       "      <td>2023-12-05 00:00:00+00:00</td>\n",
       "      <td>...</td>\n",
       "      <td>NaN</td>\n",
       "      <td>0.0</td>\n",
       "      <td>06</td>\n",
       "      <td>California</td>\n",
       "      <td>CA</td>\n",
       "      <td>158144.83</td>\n",
       "      <td>39648525</td>\n",
       "      <td>5.682717e+06</td>\n",
       "      <td>4.095942e+11</td>\n",
       "      <td>MULTIPOLYGON (((63419.474 -101968.354, 63428.3...</td>\n",
       "    </tr>\n",
       "    <tr>\n",
       "      <th>12655</th>\n",
       "      <td>{312AFFED-EF63-47C9-82C8-363FD8AAA6FF}-CNRA</td>\n",
       "      <td>CNRA</td>\n",
       "      <td>CALFIRE</td>\n",
       "      <td>CAL FIRE Data Contact</td>\n",
       "      <td>FRAPdatacontact@fire.ca.gov</td>\n",
       "      <td>CALFIRE</td>\n",
       "      <td>High Sierra Front Country Fuel Breaks Project</td>\n",
       "      <td>COMPLETE</td>\n",
       "      <td>2022-03-01 00:00:00+00:00</td>\n",
       "      <td>2023-12-05 00:00:00+00:00</td>\n",
       "      <td>...</td>\n",
       "      <td>NaN</td>\n",
       "      <td>0.0</td>\n",
       "      <td>06</td>\n",
       "      <td>California</td>\n",
       "      <td>CA</td>\n",
       "      <td>158144.83</td>\n",
       "      <td>39648525</td>\n",
       "      <td>5.682717e+06</td>\n",
       "      <td>4.095942e+11</td>\n",
       "      <td>MULTIPOLYGON (((63419.474 -101968.354, 63428.3...</td>\n",
       "    </tr>\n",
       "  </tbody>\n",
       "</table>\n",
       "<p>2 rows × 101 columns</p>\n",
       "</div>"
      ],
      "text/plain": [
       "                                    PROJECTID_USER AGENCY ORG_ADMIN_p  \\\n",
       "12653  {312AFFED-EF63-47C9-82C8-363FD8AAA6FF}-CNRA   CNRA     CALFIRE   \n",
       "12655  {312AFFED-EF63-47C9-82C8-363FD8AAA6FF}-CNRA   CNRA     CALFIRE   \n",
       "\n",
       "             PROJECT_CONTACT                PROJECT_EMAIL ADMINISTERING_ORG  \\\n",
       "12653  CAL FIRE Data Contact  FRAPdatacontact@fire.ca.gov           CALFIRE   \n",
       "12655  CAL FIRE Data Contact  FRAPdatacontact@fire.ca.gov           CALFIRE   \n",
       "\n",
       "                                        PROJECT_NAME PROJECT_STATUS  \\\n",
       "12653  High Sierra Front Country Fuel Breaks Project       COMPLETE   \n",
       "12655  High Sierra Front Country Fuel Breaks Project       COMPLETE   \n",
       "\n",
       "                   PROJECT_START                PROJECT_END  ... SHAPE_Area  \\\n",
       "12653  2022-03-01 00:00:00+00:00  2023-12-05 00:00:00+00:00  ...        NaN   \n",
       "12655  2022-03-01 00:00:00+00:00  2023-12-05 00:00:00+00:00  ...        NaN   \n",
       "\n",
       "      index_right FIPS       STATE  ST_ABBREV       SQMI POPULATION  \\\n",
       "12653         0.0   06  California         CA  158144.83   39648525   \n",
       "12655         0.0   06  California         CA  158144.83   39648525   \n",
       "\n",
       "      Shape_Length_1  Shape_Area_1  \\\n",
       "12653   5.682717e+06  4.095942e+11   \n",
       "12655   5.682717e+06  4.095942e+11   \n",
       "\n",
       "                                                geometry  \n",
       "12653  MULTIPOLYGON (((63419.474 -101968.354, 63428.3...  \n",
       "12655  MULTIPOLYGON (((63419.474 -101968.354, 63428.3...  \n",
       "\n",
       "[2 rows x 101 columns]"
      ]
     },
     "execution_count": 243,
     "metadata": {},
     "output_type": "execute_result"
    }
   ],
   "source": [
    "buffered_poly[buffered_poly.TRMTID_USER == '{87AB0448-8E28-488F-A19A-3BF7C86336AA}-CNRA']"
   ]
  },
  {
   "cell_type": "code",
   "execution_count": 244,
   "id": "2af54bd2",
   "metadata": {},
   "outputs": [
    {
     "data": {
      "text/plain": [
       "1.461965217156889"
      ]
     },
     "execution_count": 244,
     "metadata": {},
     "output_type": "execute_result"
    }
   ],
   "source": [
    "max(buffered_ln.ACTIVITY_QUANTITY*4046.86/buffered_ln.geometry.area)"
   ]
  },
  {
   "cell_type": "code",
   "execution_count": 245,
   "id": "93ad9c3e",
   "metadata": {},
   "outputs": [
    {
     "data": {
      "text/plain": [
       "0.9970375098538626"
      ]
     },
     "execution_count": 245,
     "metadata": {},
     "output_type": "execute_result"
    }
   ],
   "source": [
    "min(buffered_ln.ACTIVITY_QUANTITY*4046.86/buffered_ln.geometry.area)"
   ]
  },
  {
   "cell_type": "code",
   "execution_count": 217,
   "id": "191cff15",
   "metadata": {},
   "outputs": [],
   "source": [
    "dissolved_cur_y = dissolved_cur_y.reset_index()"
   ]
  },
  {
   "cell_type": "code",
   "execution_count": 219,
   "id": "2c4e0861",
   "metadata": {},
   "outputs": [
    {
     "name": "stdout",
     "output_type": "stream",
     "text": [
      "CPU times: total: 11.6 s\n",
      "Wall time: 11.6 s\n"
     ]
    }
   ],
   "source": [
    "%%time\n",
    "dissolved_cur_y['geom'] = dissolved_cur_y.geometry\n",
    "\n",
    "gdf = gpd.sjoin(dissolved_cur_y, dissolved_cur_y,\n",
    "                how=\"inner\",\n",
    "                predicate=\"intersects\",\n",
    "                lsuffix=\"left\",\n",
    "                rsuffix=\"right\")\n",
    "\n",
    "gdf = gdf[gdf.index != gdf.index_right]\n",
    "gdf['intersection_geom'] = gdf['geom_left'].intersection(gdf['geom_right'])\n",
    "gdf['intersection'] = gdf.apply(\n",
    "    lambda r: f\"{r['TRMTID_USER_left']} & {r['TRMTID_USER_right']}\", axis=1)"
   ]
  },
  {
   "cell_type": "code",
   "execution_count": 220,
   "id": "81949584",
   "metadata": {},
   "outputs": [
    {
     "name": "stderr",
     "output_type": "stream",
     "text": [
      "C:\\Users\\sky\\AppData\\Local\\Temp\\ipykernel_1265932\\184717377.py:1: FutureWarning: The `drop` keyword argument is deprecated and in future the only supported behaviour will match drop=False. To silence this warning and adopt the future behaviour, stop providing `drop` as a keyword to `set_geometry`. To replicate the `drop=True` behaviour you should update your code to\n",
      "`geo_col_name = gdf.active_geometry_name; gdf.set_geometry(new_geo_col).drop(columns=geo_col_name).rename_geometry(geo_col_name)`.\n",
      "  gdf.set_geometry('intersection_geom', drop=True, inplace=True)\n"
     ]
    }
   ],
   "source": [
    "gdf.set_geometry('intersection_geom', drop=True, inplace=True)"
   ]
  },
  {
   "cell_type": "code",
   "execution_count": 299,
   "id": "6ba1a8e6",
   "metadata": {},
   "outputs": [],
   "source": [
    "interestion_gdf = gdf[['ACTIVITY_QUANTITY_left', 'ACTIVITY_QUANTITY_right', 'TRMTID_USER_left', 'geometry']]"
   ]
  },
  {
   "cell_type": "code",
   "execution_count": 327,
   "id": "e5749aa4",
   "metadata": {},
   "outputs": [],
   "source": [
    "gdf['prob_left'] = gdf.ACTIVITY_QUANTITY_left*4046.86/gdf.geom_left.area\n",
    "gdf.loc[gdf['prob_left'] > 1, 'prob_left'] = 1\n",
    "gdf['prob_right'] = gdf.ACTIVITY_QUANTITY_right*4046.86/gdf.geom_right.area\n",
    "gdf.loc[gdf['prob_right'] > 1, 'prob_right'] = 1"
   ]
  },
  {
   "cell_type": "code",
   "execution_count": 300,
   "id": "9fe1587d",
   "metadata": {},
   "outputs": [],
   "source": [
    "# tolerence for geometry smoothing on intersection results to keep result geom type be multipolygon/polygon\n",
    "tolerence = 1e-8"
   ]
  },
  {
   "cell_type": "code",
   "execution_count": 301,
   "id": "dc853a4a",
   "metadata": {},
   "outputs": [],
   "source": [
    "diff_buffer = interestion_gdf.buffer(tolerence)"
   ]
  },
  {
   "cell_type": "code",
   "execution_count": 302,
   "id": "b72d5839",
   "metadata": {},
   "outputs": [],
   "source": [
    "diff_buffer_gdf = interestion_gdf.copy()\n",
    "diff_buffer_gdf.geometry = diff_buffer"
   ]
  },
  {
   "cell_type": "code",
   "execution_count": 285,
   "id": "bf1ccfe1",
   "metadata": {},
   "outputs": [
    {
     "name": "stdout",
     "output_type": "stream",
     "text": [
      "CPU times: total: 2min 32s\n",
      "Wall time: 2min 32s\n"
     ]
    }
   ],
   "source": [
    "%%time\n",
    "diff_gdf = dissolved_cur_y.overlay(diff_buffer_gdf, how='difference', keep_geom_type=False)\n",
    "#diff_gdf.geometry = diff_gdf.buffer(tolerence)"
   ]
  },
  {
   "cell_type": "code",
   "execution_count": 286,
   "id": "43a7296b",
   "metadata": {},
   "outputs": [
    {
     "data": {
      "text/plain": [
       "3032954594.3421783"
      ]
     },
     "execution_count": 286,
     "metadata": {},
     "output_type": "execute_result"
    }
   ],
   "source": [
    "sum(diff_gdf.geometry.area)"
   ]
  },
  {
   "cell_type": "code",
   "execution_count": 271,
   "id": "1a3a62e5",
   "metadata": {},
   "outputs": [
    {
     "data": {
      "text/plain": [
       "3954377595.371912"
      ]
     },
     "execution_count": 271,
     "metadata": {},
     "output_type": "execute_result"
    }
   ],
   "source": [
    "sum(dissolved_cur_y.geometry.area)"
   ]
  },
  {
   "cell_type": "code",
   "execution_count": 163,
   "id": "f1b02fe7",
   "metadata": {},
   "outputs": [
    {
     "data": {
      "text/plain": [
       "4015915939.452771"
      ]
     },
     "execution_count": 163,
     "metadata": {},
     "output_type": "execute_result"
    }
   ],
   "source": [
    "sum(diff_gdf.geometry.area) + sum(interestion_gdf.geometry.area)"
   ]
  },
  {
   "cell_type": "code",
   "execution_count": 162,
   "id": "4327e2f3",
   "metadata": {},
   "outputs": [
    {
     "data": {
      "text/plain": [
       "982945942.8896587"
      ]
     },
     "execution_count": 162,
     "metadata": {},
     "output_type": "execute_result"
    }
   ],
   "source": [
    "sum(interestion_gdf.geometry.area)"
   ]
  },
  {
   "cell_type": "code",
   "execution_count": 155,
   "id": "31e4437f",
   "metadata": {},
   "outputs": [],
   "source": [
    "interesection_all = interestion_gdf.dissolve()"
   ]
  },
  {
   "cell_type": "code",
   "execution_count": 161,
   "id": "4c156e1d",
   "metadata": {},
   "outputs": [
    {
     "data": {
      "text/plain": [
       "401641724.05769753"
      ]
     },
     "execution_count": 161,
     "metadata": {},
     "output_type": "execute_result"
    }
   ],
   "source": []
  },
  {
   "cell_type": "code",
   "execution_count": 165,
   "id": "22bf5fa4",
   "metadata": {},
   "outputs": [
    {
     "data": {
      "text/plain": [
       "3434611720.6208105"
      ]
     },
     "execution_count": 165,
     "metadata": {},
     "output_type": "execute_result"
    }
   ],
   "source": [
    "sum(diff_gdf.geometry.area) + sum(interesection_all.area)"
   ]
  },
  {
   "cell_type": "code",
   "execution_count": 287,
   "id": "c55717b3",
   "metadata": {},
   "outputs": [],
   "source": [
    "diff_gdf['prob_self'] = diff_gdf.geometry.area/diff_gdf.geom.area"
   ]
  },
  {
   "cell_type": "code",
   "execution_count": 288,
   "id": "9ebea7ad",
   "metadata": {},
   "outputs": [],
   "source": [
    "diff_gdf.loc[diff_gdf['prob_self']>1, 'prob_self'] = 1"
   ]
  },
  {
   "cell_type": "code",
   "execution_count": 291,
   "id": "c32998c2",
   "metadata": {},
   "outputs": [
    {
     "data": {
      "text/html": [
       "<div>\n",
       "<style scoped>\n",
       "    .dataframe tbody tr th:only-of-type {\n",
       "        vertical-align: middle;\n",
       "    }\n",
       "\n",
       "    .dataframe tbody tr th {\n",
       "        vertical-align: top;\n",
       "    }\n",
       "\n",
       "    .dataframe thead th {\n",
       "        text-align: right;\n",
       "    }\n",
       "</style>\n",
       "<table border=\"1\" class=\"dataframe\">\n",
       "  <thead>\n",
       "    <tr style=\"text-align: right;\">\n",
       "      <th></th>\n",
       "      <th>TRMTID_USER</th>\n",
       "      <th>geometry</th>\n",
       "      <th>ACTIVITY_QUANTITY</th>\n",
       "      <th>geom</th>\n",
       "      <th>prob_self</th>\n",
       "    </tr>\n",
       "  </thead>\n",
       "  <tbody>\n",
       "    <tr>\n",
       "      <th>0</th>\n",
       "      <td>01-DN-101-DN-NOR-WUI</td>\n",
       "      <td>MULTIPOLYGON (((-342291.412 406063.922, -34229...</td>\n",
       "      <td>32.40</td>\n",
       "      <td>MULTIPOLYGON (((-342583.596 406960.852, -34258...</td>\n",
       "      <td>0.809056</td>\n",
       "    </tr>\n",
       "    <tr>\n",
       "      <th>1</th>\n",
       "      <td>01-DN-169-DN-NOR-WUI</td>\n",
       "      <td>MULTIPOLYGON (((-336986.135 396726.867, -33698...</td>\n",
       "      <td>8.50</td>\n",
       "      <td>POLYGON ((-337005.425 396726.106, -336987.306 ...</td>\n",
       "      <td>0.999887</td>\n",
       "    </tr>\n",
       "    <tr>\n",
       "      <th>2</th>\n",
       "      <td>01-DN-197-DN-NOR-WUI</td>\n",
       "      <td>POLYGON ((-339575.871 428285.734, -339559.487 ...</td>\n",
       "      <td>5.86</td>\n",
       "      <td>POLYGON ((-339603.722 428203.383, -339600.298 ...</td>\n",
       "      <td>0.999945</td>\n",
       "    </tr>\n",
       "    <tr>\n",
       "      <th>3</th>\n",
       "      <td>01-DN-199-DN-NOR-NON</td>\n",
       "      <td>MULTIPOLYGON (((-345198.562 428197.653, -34519...</td>\n",
       "      <td>10.00</td>\n",
       "      <td>POLYGON ((-345202.203 428196.454, -345202.18 4...</td>\n",
       "      <td>0.999964</td>\n",
       "    </tr>\n",
       "    <tr>\n",
       "      <th>4</th>\n",
       "      <td>01-HUM-036-HUM-NOR-WUI</td>\n",
       "      <td>MULTIPOLYGON (((-351052.646 289067.603, -35105...</td>\n",
       "      <td>45.00</td>\n",
       "      <td>POLYGON ((-351049.545 289066.052, -351065.559 ...</td>\n",
       "      <td>0.999969</td>\n",
       "    </tr>\n",
       "    <tr>\n",
       "      <th>...</th>\n",
       "      <td>...</td>\n",
       "      <td>...</td>\n",
       "      <td>...</td>\n",
       "      <td>...</td>\n",
       "      <td>...</td>\n",
       "    </tr>\n",
       "    <tr>\n",
       "      <th>6000</th>\n",
       "      <td>{FF598D57-7CFF-4FB8-800C-30CC05762B0F}-CNRA</td>\n",
       "      <td>POLYGON ((113262.243 -408589.435, 113257.71 -4...</td>\n",
       "      <td>20.00</td>\n",
       "      <td>POLYGON ((113262.243 -408589.435, 113257.71 -4...</td>\n",
       "      <td>1.000000</td>\n",
       "    </tr>\n",
       "    <tr>\n",
       "      <th>6001</th>\n",
       "      <td>{FFBBE1BD-76E2-4C81-A648-836A7A5BE12B}-CNRA</td>\n",
       "      <td>MULTIPOLYGON (((136377.394 -255147.671, 136376...</td>\n",
       "      <td>1.00</td>\n",
       "      <td>MULTIPOLYGON (((136377.394 -255147.671, 136376...</td>\n",
       "      <td>1.000000</td>\n",
       "    </tr>\n",
       "    <tr>\n",
       "      <th>6002</th>\n",
       "      <td>{FFCAC627-1969-4812-99E7-CF25F1D98D4A}-CNRA</td>\n",
       "      <td>MULTIPOLYGON (((-62945.288 105650.715, -62944....</td>\n",
       "      <td>10.00</td>\n",
       "      <td>POLYGON ((-62943.677 105739.715, -62944.36 105...</td>\n",
       "      <td>0.031704</td>\n",
       "    </tr>\n",
       "    <tr>\n",
       "      <th>6003</th>\n",
       "      <td>{FFCE3441-F814-4C8C-B2A5-4273E9B64873}-CNRA</td>\n",
       "      <td>POLYGON ((83235.69 -138825.181, 83253.236 -138...</td>\n",
       "      <td>37.00</td>\n",
       "      <td>POLYGON ((83235.69 -138825.181, 83253.236 -138...</td>\n",
       "      <td>1.000000</td>\n",
       "    </tr>\n",
       "    <tr>\n",
       "      <th>6004</th>\n",
       "      <td>{FFD48B17-C855-4251-A129-9E0E916C99DF}-CNRA</td>\n",
       "      <td>POLYGON ((-238897.649 399230.455, -239126.394 ...</td>\n",
       "      <td>87.00</td>\n",
       "      <td>POLYGON ((-238897.649 399230.455, -239126.394 ...</td>\n",
       "      <td>1.000000</td>\n",
       "    </tr>\n",
       "  </tbody>\n",
       "</table>\n",
       "<p>6005 rows × 5 columns</p>\n",
       "</div>"
      ],
      "text/plain": [
       "                                      TRMTID_USER  \\\n",
       "0                            01-DN-101-DN-NOR-WUI   \n",
       "1                            01-DN-169-DN-NOR-WUI   \n",
       "2                            01-DN-197-DN-NOR-WUI   \n",
       "3                            01-DN-199-DN-NOR-NON   \n",
       "4                          01-HUM-036-HUM-NOR-WUI   \n",
       "...                                           ...   \n",
       "6000  {FF598D57-7CFF-4FB8-800C-30CC05762B0F}-CNRA   \n",
       "6001  {FFBBE1BD-76E2-4C81-A648-836A7A5BE12B}-CNRA   \n",
       "6002  {FFCAC627-1969-4812-99E7-CF25F1D98D4A}-CNRA   \n",
       "6003  {FFCE3441-F814-4C8C-B2A5-4273E9B64873}-CNRA   \n",
       "6004  {FFD48B17-C855-4251-A129-9E0E916C99DF}-CNRA   \n",
       "\n",
       "                                               geometry  ACTIVITY_QUANTITY  \\\n",
       "0     MULTIPOLYGON (((-342291.412 406063.922, -34229...              32.40   \n",
       "1     MULTIPOLYGON (((-336986.135 396726.867, -33698...               8.50   \n",
       "2     POLYGON ((-339575.871 428285.734, -339559.487 ...               5.86   \n",
       "3     MULTIPOLYGON (((-345198.562 428197.653, -34519...              10.00   \n",
       "4     MULTIPOLYGON (((-351052.646 289067.603, -35105...              45.00   \n",
       "...                                                 ...                ...   \n",
       "6000  POLYGON ((113262.243 -408589.435, 113257.71 -4...              20.00   \n",
       "6001  MULTIPOLYGON (((136377.394 -255147.671, 136376...               1.00   \n",
       "6002  MULTIPOLYGON (((-62945.288 105650.715, -62944....              10.00   \n",
       "6003  POLYGON ((83235.69 -138825.181, 83253.236 -138...              37.00   \n",
       "6004  POLYGON ((-238897.649 399230.455, -239126.394 ...              87.00   \n",
       "\n",
       "                                                   geom  prob_self  \n",
       "0     MULTIPOLYGON (((-342583.596 406960.852, -34258...   0.809056  \n",
       "1     POLYGON ((-337005.425 396726.106, -336987.306 ...   0.999887  \n",
       "2     POLYGON ((-339603.722 428203.383, -339600.298 ...   0.999945  \n",
       "3     POLYGON ((-345202.203 428196.454, -345202.18 4...   0.999964  \n",
       "4     POLYGON ((-351049.545 289066.052, -351065.559 ...   0.999969  \n",
       "...                                                 ...        ...  \n",
       "6000  POLYGON ((113262.243 -408589.435, 113257.71 -4...   1.000000  \n",
       "6001  MULTIPOLYGON (((136377.394 -255147.671, 136376...   1.000000  \n",
       "6002  POLYGON ((-62943.677 105739.715, -62944.36 105...   0.031704  \n",
       "6003  POLYGON ((83235.69 -138825.181, 83253.236 -138...   1.000000  \n",
       "6004  POLYGON ((-238897.649 399230.455, -239126.394 ...   1.000000  \n",
       "\n",
       "[6005 rows x 5 columns]"
      ]
     },
     "execution_count": 291,
     "metadata": {},
     "output_type": "execute_result"
    }
   ],
   "source": [
    "diff_gdf"
   ]
  },
  {
   "cell_type": "code",
   "execution_count": 280,
   "id": "81edc8c9",
   "metadata": {},
   "outputs": [
    {
     "data": {
      "text/html": [
       "<div>\n",
       "<style scoped>\n",
       "    .dataframe tbody tr th:only-of-type {\n",
       "        vertical-align: middle;\n",
       "    }\n",
       "\n",
       "    .dataframe tbody tr th {\n",
       "        vertical-align: top;\n",
       "    }\n",
       "\n",
       "    .dataframe thead th {\n",
       "        text-align: right;\n",
       "    }\n",
       "</style>\n",
       "<table border=\"1\" class=\"dataframe\">\n",
       "  <thead>\n",
       "    <tr style=\"text-align: right;\">\n",
       "      <th></th>\n",
       "      <th>TRMTID_USER_1</th>\n",
       "      <th>ACTIVITY_QUANTITY_1</th>\n",
       "      <th>TRMTID_USER_2</th>\n",
       "      <th>ACTIVITY_QUANTITY_2</th>\n",
       "      <th>geometry</th>\n",
       "    </tr>\n",
       "  </thead>\n",
       "  <tbody>\n",
       "    <tr>\n",
       "      <th>1</th>\n",
       "      <td>01-DN-101-DN-NOR-WUI</td>\n",
       "      <td>32.4</td>\n",
       "      <td>01-DN-169-DN-NOR-WUI</td>\n",
       "      <td>8.50</td>\n",
       "      <td>POLYGON ((-337035.564 396722.601, -337034.107 ...</td>\n",
       "    </tr>\n",
       "    <tr>\n",
       "      <th>2</th>\n",
       "      <td>01-DN-101-DN-NOR-WUI</td>\n",
       "      <td>32.4</td>\n",
       "      <td>01-DN-197-DN-NOR-WUI</td>\n",
       "      <td>5.86</td>\n",
       "      <td>POLYGON ((-343862.16 436805.722, -343862.805 4...</td>\n",
       "    </tr>\n",
       "    <tr>\n",
       "      <th>3</th>\n",
       "      <td>01-DN-101-DN-NOR-WUI</td>\n",
       "      <td>32.4</td>\n",
       "      <td>01-DN-199-DN-NOR-NON</td>\n",
       "      <td>10.00</td>\n",
       "      <td>POLYGON ((-345196.93 428198.472, -345197.501 4...</td>\n",
       "    </tr>\n",
       "    <tr>\n",
       "      <th>4</th>\n",
       "      <td>01-DN-101-DN-NOR-WUI</td>\n",
       "      <td>32.4</td>\n",
       "      <td>01-HUM-101-HUM-NOR-NON</td>\n",
       "      <td>88.22</td>\n",
       "      <td>MULTIPOLYGON (((-337573.844 390254.38, -337573...</td>\n",
       "    </tr>\n",
       "    <tr>\n",
       "      <th>5</th>\n",
       "      <td>01-DN-101-DN-NOR-WUI</td>\n",
       "      <td>32.4</td>\n",
       "      <td>{7A8F6B6C-4B62-419C-96B2-322264EBCD8D}-CNRA</td>\n",
       "      <td>225.00</td>\n",
       "      <td>MULTIPOLYGON (((-342584.01 406966.193, -342591...</td>\n",
       "    </tr>\n",
       "    <tr>\n",
       "      <th>...</th>\n",
       "      <td>...</td>\n",
       "      <td>...</td>\n",
       "      <td>...</td>\n",
       "      <td>...</td>\n",
       "      <td>...</td>\n",
       "    </tr>\n",
       "    <tr>\n",
       "      <th>19155</th>\n",
       "      <td>{FE96B4DC-B6EA-4011-A06B-DF502E15B1A0}-CNRA</td>\n",
       "      <td>3.8</td>\n",
       "      <td>{EF7C0DBE-3D73-47A0-948E-4BFC24D0CE94}-CNRA</td>\n",
       "      <td>6.30</td>\n",
       "      <td>POLYGON ((324754.869 -538602.318, 324758.391 -...</td>\n",
       "    </tr>\n",
       "    <tr>\n",
       "      <th>19156</th>\n",
       "      <td>{FE96B4DC-B6EA-4011-A06B-DF502E15B1A0}-CNRA</td>\n",
       "      <td>3.8</td>\n",
       "      <td>{F8234F64-8357-4AA0-A906-D9772D8A99A8}-CNRA</td>\n",
       "      <td>8.60</td>\n",
       "      <td>POLYGON ((324748.788 -538617.841, 324748.431 -...</td>\n",
       "    </tr>\n",
       "    <tr>\n",
       "      <th>19157</th>\n",
       "      <td>{FE96B4DC-B6EA-4011-A06B-DF502E15B1A0}-CNRA</td>\n",
       "      <td>3.8</td>\n",
       "      <td>{FC1D44EC-E5E8-4BB9-8197-A8C57D6B9688}-CNRA</td>\n",
       "      <td>1.00</td>\n",
       "      <td>POLYGON ((324756.902 -538599.787, 324761.72 -5...</td>\n",
       "    </tr>\n",
       "    <tr>\n",
       "      <th>19160</th>\n",
       "      <td>{FED24A6D-4C52-41C9-A42E-F9C8FE0A0E43}-CNRA</td>\n",
       "      <td>21.0</td>\n",
       "      <td>{1CECCD06-ABEE-4FBF-B7B0-A5A240E75A19}-CNRA</td>\n",
       "      <td>21.00</td>\n",
       "      <td>MULTIPOLYGON (((-205565.255 331583.555, -20557...</td>\n",
       "    </tr>\n",
       "    <tr>\n",
       "      <th>19165</th>\n",
       "      <td>{FFCAC627-1969-4812-99E7-CF25F1D98D4A}-CNRA</td>\n",
       "      <td>10.0</td>\n",
       "      <td>{6EC22077-EA59-4E9C-B85E-C035392224A4}-CNRA</td>\n",
       "      <td>21.00</td>\n",
       "      <td>POLYGON ((-62960.414 105495.058, -62991.106 10...</td>\n",
       "    </tr>\n",
       "  </tbody>\n",
       "</table>\n",
       "<p>12460 rows × 5 columns</p>\n",
       "</div>"
      ],
      "text/plain": [
       "                                     TRMTID_USER_1  ACTIVITY_QUANTITY_1  \\\n",
       "1                             01-DN-101-DN-NOR-WUI                 32.4   \n",
       "2                             01-DN-101-DN-NOR-WUI                 32.4   \n",
       "3                             01-DN-101-DN-NOR-WUI                 32.4   \n",
       "4                             01-DN-101-DN-NOR-WUI                 32.4   \n",
       "5                             01-DN-101-DN-NOR-WUI                 32.4   \n",
       "...                                            ...                  ...   \n",
       "19155  {FE96B4DC-B6EA-4011-A06B-DF502E15B1A0}-CNRA                  3.8   \n",
       "19156  {FE96B4DC-B6EA-4011-A06B-DF502E15B1A0}-CNRA                  3.8   \n",
       "19157  {FE96B4DC-B6EA-4011-A06B-DF502E15B1A0}-CNRA                  3.8   \n",
       "19160  {FED24A6D-4C52-41C9-A42E-F9C8FE0A0E43}-CNRA                 21.0   \n",
       "19165  {FFCAC627-1969-4812-99E7-CF25F1D98D4A}-CNRA                 10.0   \n",
       "\n",
       "                                     TRMTID_USER_2  ACTIVITY_QUANTITY_2  \\\n",
       "1                             01-DN-169-DN-NOR-WUI                 8.50   \n",
       "2                             01-DN-197-DN-NOR-WUI                 5.86   \n",
       "3                             01-DN-199-DN-NOR-NON                10.00   \n",
       "4                           01-HUM-101-HUM-NOR-NON                88.22   \n",
       "5      {7A8F6B6C-4B62-419C-96B2-322264EBCD8D}-CNRA               225.00   \n",
       "...                                            ...                  ...   \n",
       "19155  {EF7C0DBE-3D73-47A0-948E-4BFC24D0CE94}-CNRA                 6.30   \n",
       "19156  {F8234F64-8357-4AA0-A906-D9772D8A99A8}-CNRA                 8.60   \n",
       "19157  {FC1D44EC-E5E8-4BB9-8197-A8C57D6B9688}-CNRA                 1.00   \n",
       "19160  {1CECCD06-ABEE-4FBF-B7B0-A5A240E75A19}-CNRA                21.00   \n",
       "19165  {6EC22077-EA59-4E9C-B85E-C035392224A4}-CNRA                21.00   \n",
       "\n",
       "                                                geometry  \n",
       "1      POLYGON ((-337035.564 396722.601, -337034.107 ...  \n",
       "2      POLYGON ((-343862.16 436805.722, -343862.805 4...  \n",
       "3      POLYGON ((-345196.93 428198.472, -345197.501 4...  \n",
       "4      MULTIPOLYGON (((-337573.844 390254.38, -337573...  \n",
       "5      MULTIPOLYGON (((-342584.01 406966.193, -342591...  \n",
       "...                                                  ...  \n",
       "19155  POLYGON ((324754.869 -538602.318, 324758.391 -...  \n",
       "19156  POLYGON ((324748.788 -538617.841, 324748.431 -...  \n",
       "19157  POLYGON ((324756.902 -538599.787, 324761.72 -5...  \n",
       "19160  MULTIPOLYGON (((-205565.255 331583.555, -20557...  \n",
       "19165  POLYGON ((-62960.414 105495.058, -62991.106 10...  \n",
       "\n",
       "[12460 rows x 5 columns]"
      ]
     },
     "execution_count": 280,
     "metadata": {},
     "output_type": "execute_result"
    }
   ],
   "source": [
    "intersection_gdf"
   ]
  },
  {
   "cell_type": "code",
   "execution_count": 293,
   "id": "2cccac3e",
   "metadata": {},
   "outputs": [],
   "source": [
    "dissolved_cur_y['p_ACTIVITY'] = dissolved_cur_y.ACTIVITY_QUANTITY*4046.86/dissolved_cur_y.geometry.area"
   ]
  },
  {
   "cell_type": "code",
   "execution_count": 294,
   "id": "cf1cfd18",
   "metadata": {},
   "outputs": [],
   "source": [
    "# enforce p <= 1 on inaccurate buffered polygons (mostly from line data)\n",
    "dissolved_cur_y.loc[dissolved_cur_y['p_ACTIVITY'] > 1, 'p_ACTIVITY'] = 1"
   ]
  },
  {
   "cell_type": "code",
   "execution_count": null,
   "id": "0135d9e3",
   "metadata": {},
   "outputs": [],
   "source": [
    "dissolved_cur_y['FOOTPRINT_ACRES'] = dissolved_cur_y.apply()"
   ]
  },
  {
   "cell_type": "code",
   "execution_count": 304,
   "id": "60c6a3b8",
   "metadata": {},
   "outputs": [],
   "source": [
    "test_id = \"01-DN-101-DN-NOR-WUI\""
   ]
  },
  {
   "cell_type": "code",
   "execution_count": 329,
   "id": "31c35cf7",
   "metadata": {},
   "outputs": [],
   "source": [
    "intersecting_areas = gdf[gdf['TRMTID_USER_left'] == test_id]"
   ]
  },
  {
   "cell_type": "code",
   "execution_count": 321,
   "id": "ef574f1c",
   "metadata": {},
   "outputs": [
    {
     "data": {
      "text/html": [
       "<div>\n",
       "<style scoped>\n",
       "    .dataframe tbody tr th:only-of-type {\n",
       "        vertical-align: middle;\n",
       "    }\n",
       "\n",
       "    .dataframe tbody tr th {\n",
       "        vertical-align: top;\n",
       "    }\n",
       "\n",
       "    .dataframe thead th {\n",
       "        text-align: right;\n",
       "    }\n",
       "</style>\n",
       "<table border=\"1\" class=\"dataframe\">\n",
       "  <thead>\n",
       "    <tr style=\"text-align: right;\">\n",
       "      <th></th>\n",
       "      <th>TRMTID_USER_left</th>\n",
       "      <th>geometry</th>\n",
       "      <th>ACTIVITY_QUANTITY_left</th>\n",
       "      <th>geom_left</th>\n",
       "      <th>index_right</th>\n",
       "      <th>TRMTID_USER_right</th>\n",
       "      <th>ACTIVITY_QUANTITY_right</th>\n",
       "      <th>geom_right</th>\n",
       "      <th>intersection</th>\n",
       "      <th>prob_left</th>\n",
       "    </tr>\n",
       "  </thead>\n",
       "  <tbody>\n",
       "    <tr>\n",
       "      <th>0</th>\n",
       "      <td>01-DN-101-DN-NOR-WUI</td>\n",
       "      <td>MULTIPOLYGON (((-337574.449 390254.641, -33757...</td>\n",
       "      <td>32.4</td>\n",
       "      <td>MULTIPOLYGON (((-342583.596 406960.852, -34258...</td>\n",
       "      <td>6</td>\n",
       "      <td>01-HUM-101-HUM-NOR-NON</td>\n",
       "      <td>88.22</td>\n",
       "      <td>MULTIPOLYGON (((-322811.141 227232.756, -32281...</td>\n",
       "      <td>01-DN-101-DN-NOR-WUI &amp; 01-HUM-101-HUM-NOR-NON</td>\n",
       "      <td>4.375942e-08</td>\n",
       "    </tr>\n",
       "    <tr>\n",
       "      <th>0</th>\n",
       "      <td>01-DN-101-DN-NOR-WUI</td>\n",
       "      <td>POLYGON ((-337035.564 396722.601, -337034.107 ...</td>\n",
       "      <td>32.4</td>\n",
       "      <td>MULTIPOLYGON (((-342583.596 406960.852, -34258...</td>\n",
       "      <td>1</td>\n",
       "      <td>01-DN-169-DN-NOR-WUI</td>\n",
       "      <td>8.50</td>\n",
       "      <td>POLYGON ((-337005.425 396726.106, -336987.306 ...</td>\n",
       "      <td>01-DN-101-DN-NOR-WUI &amp; 01-DN-169-DN-NOR-WUI</td>\n",
       "      <td>2.956419e-05</td>\n",
       "    </tr>\n",
       "    <tr>\n",
       "      <th>0</th>\n",
       "      <td>01-DN-101-DN-NOR-WUI</td>\n",
       "      <td>MULTIPOLYGON (((-342584.01 406966.193, -342591...</td>\n",
       "      <td>32.4</td>\n",
       "      <td>MULTIPOLYGON (((-342583.596 406960.852, -34258...</td>\n",
       "      <td>5311</td>\n",
       "      <td>{7A8F6B6C-4B62-419C-96B2-322264EBCD8D}-CNRA</td>\n",
       "      <td>225.00</td>\n",
       "      <td>MULTIPOLYGON (((-338572.881 372842.016, -33855...</td>\n",
       "      <td>01-DN-101-DN-NOR-WUI &amp; {7A8F6B6C-4B62-419C-96B...</td>\n",
       "      <td>1.909002e-01</td>\n",
       "    </tr>\n",
       "    <tr>\n",
       "      <th>0</th>\n",
       "      <td>01-DN-101-DN-NOR-WUI</td>\n",
       "      <td>POLYGON ((-343862.16 436805.722, -343862.805 4...</td>\n",
       "      <td>32.4</td>\n",
       "      <td>MULTIPOLYGON (((-342583.596 406960.852, -34258...</td>\n",
       "      <td>2</td>\n",
       "      <td>01-DN-197-DN-NOR-WUI</td>\n",
       "      <td>5.86</td>\n",
       "      <td>POLYGON ((-339603.722 428203.383, -339600.298 ...</td>\n",
       "      <td>01-DN-101-DN-NOR-WUI &amp; 01-DN-197-DN-NOR-WUI</td>\n",
       "      <td>6.615047e-06</td>\n",
       "    </tr>\n",
       "    <tr>\n",
       "      <th>0</th>\n",
       "      <td>01-DN-101-DN-NOR-WUI</td>\n",
       "      <td>POLYGON ((-345196.93 428198.472, -345197.501 4...</td>\n",
       "      <td>32.4</td>\n",
       "      <td>MULTIPOLYGON (((-342583.596 406960.852, -34258...</td>\n",
       "      <td>3</td>\n",
       "      <td>01-DN-199-DN-NOR-NON</td>\n",
       "      <td>10.00</td>\n",
       "      <td>POLYGON ((-345202.203 428196.454, -345202.18 4...</td>\n",
       "      <td>01-DN-101-DN-NOR-WUI &amp; 01-DN-199-DN-NOR-NON</td>\n",
       "      <td>7.812525e-06</td>\n",
       "    </tr>\n",
       "  </tbody>\n",
       "</table>\n",
       "</div>"
      ],
      "text/plain": [
       "       TRMTID_USER_left                                           geometry  \\\n",
       "0  01-DN-101-DN-NOR-WUI  MULTIPOLYGON (((-337574.449 390254.641, -33757...   \n",
       "0  01-DN-101-DN-NOR-WUI  POLYGON ((-337035.564 396722.601, -337034.107 ...   \n",
       "0  01-DN-101-DN-NOR-WUI  MULTIPOLYGON (((-342584.01 406966.193, -342591...   \n",
       "0  01-DN-101-DN-NOR-WUI  POLYGON ((-343862.16 436805.722, -343862.805 4...   \n",
       "0  01-DN-101-DN-NOR-WUI  POLYGON ((-345196.93 428198.472, -345197.501 4...   \n",
       "\n",
       "   ACTIVITY_QUANTITY_left                                          geom_left  \\\n",
       "0                    32.4  MULTIPOLYGON (((-342583.596 406960.852, -34258...   \n",
       "0                    32.4  MULTIPOLYGON (((-342583.596 406960.852, -34258...   \n",
       "0                    32.4  MULTIPOLYGON (((-342583.596 406960.852, -34258...   \n",
       "0                    32.4  MULTIPOLYGON (((-342583.596 406960.852, -34258...   \n",
       "0                    32.4  MULTIPOLYGON (((-342583.596 406960.852, -34258...   \n",
       "\n",
       "   index_right                            TRMTID_USER_right  \\\n",
       "0            6                       01-HUM-101-HUM-NOR-NON   \n",
       "0            1                         01-DN-169-DN-NOR-WUI   \n",
       "0         5311  {7A8F6B6C-4B62-419C-96B2-322264EBCD8D}-CNRA   \n",
       "0            2                         01-DN-197-DN-NOR-WUI   \n",
       "0            3                         01-DN-199-DN-NOR-NON   \n",
       "\n",
       "   ACTIVITY_QUANTITY_right                                         geom_right  \\\n",
       "0                    88.22  MULTIPOLYGON (((-322811.141 227232.756, -32281...   \n",
       "0                     8.50  POLYGON ((-337005.425 396726.106, -336987.306 ...   \n",
       "0                   225.00  MULTIPOLYGON (((-338572.881 372842.016, -33855...   \n",
       "0                     5.86  POLYGON ((-339603.722 428203.383, -339600.298 ...   \n",
       "0                    10.00  POLYGON ((-345202.203 428196.454, -345202.18 4...   \n",
       "\n",
       "                                        intersection     prob_left  \n",
       "0      01-DN-101-DN-NOR-WUI & 01-HUM-101-HUM-NOR-NON  4.375942e-08  \n",
       "0        01-DN-101-DN-NOR-WUI & 01-DN-169-DN-NOR-WUI  2.956419e-05  \n",
       "0  01-DN-101-DN-NOR-WUI & {7A8F6B6C-4B62-419C-96B...  1.909002e-01  \n",
       "0        01-DN-101-DN-NOR-WUI & 01-DN-197-DN-NOR-WUI  6.615047e-06  \n",
       "0        01-DN-101-DN-NOR-WUI & 01-DN-199-DN-NOR-NON  7.812525e-06  "
      ]
     },
     "execution_count": 321,
     "metadata": {},
     "output_type": "execute_result"
    }
   ],
   "source": [
    "intersecting_areas['TRMTID_USER_right']"
   ]
  },
  {
   "cell_type": "code",
   "execution_count": 315,
   "id": "637bf0c5",
   "metadata": {},
   "outputs": [],
   "source": [
    "p_activity = dissolved_cur_y[dissolved_cur_y['TRMTID_USER'].isin(intersecting_areas['TRMTID_USER_right'])].p_ACTIVITY"
   ]
  },
  {
   "cell_type": "code",
   "execution_count": 320,
   "id": "db29d28b",
   "metadata": {},
   "outputs": [],
   "source": [
    "p_treatment = 1 - sum(1-p_activity)"
   ]
  },
  {
   "cell_type": "code",
   "execution_count": null,
   "id": "cf5ee835",
   "metadata": {},
   "outputs": [],
   "source": [
    "def get_footprint_acre(row):\n",
    "    intersecting_areas = gdf[gdf['TRMTID_USER_left'] == row['TRMTID_USER']]\n",
    "    p_activity = dissolved_cur_y[dissolved_cur_y['TRMTID_USER'] in intersecting_areas['TRMTID_USER_right']].p_ACTIVITY\n",
    "    \n",
    "    p_treatment = 1 - sum(1-p_activity)"
   ]
  },
  {
   "cell_type": "code",
   "execution_count": null,
   "id": "f752cd85",
   "metadata": {},
   "outputs": [],
   "source": []
  },
  {
   "cell_type": "code",
   "execution_count": null,
   "id": "3248f1a4",
   "metadata": {},
   "outputs": [],
   "source": []
  },
  {
   "cell_type": "code",
   "execution_count": 332,
   "id": "87fa8b57",
   "metadata": {},
   "outputs": [
    {
     "data": {
      "text/plain": [
       "<Axes: >"
      ]
     },
     "execution_count": 332,
     "metadata": {},
     "output_type": "execute_result"
    },
    {
     "data": {
      "image/png": "[encoded data removed]",
      "text/plain": [
       "<Figure size 640x480 with 1 Axes>"
      ]
     },
     "metadata": {},
     "output_type": "display_data"
    }
   ],
   "source": [
    "polygons = [\n",
    "    Polygon([[1, 1], [1, 3], [3, 3], [3, 1], [1, 1]]),\n",
    "    Polygon([[1, 3], [1, 5], [3, 5], [3, 3], [1, 3]]),\n",
    "    Polygon([[2, 2], [2, 3.5], [3.5, 3.5], [3.5, 2], [2, 2]]),\n",
    "    Polygon([[3, 1], [3, 2], [4, 2], [4, 1], [3, 1]]),\n",
    "]\n",
    "gdf = gpd.GeoDataFrame(data={'A': list('ABCD')}, geometry=polygons)\n",
    "gdf.plot(column='A', alpha=0.75)"
   ]
  },
  {
   "cell_type": "code",
   "execution_count": 333,
   "id": "aad1612e",
   "metadata": {},
   "outputs": [],
   "source": [
    "non_overlapping = []\n",
    "for n, p in enumerate(polygons[:-1], 1):\n",
    "    if not any(p.overlaps(g) for g in polygons[n:]):\n",
    "        non_overlapping.append(p)"
   ]
  },
  {
   "cell_type": "code",
   "execution_count": 334,
   "id": "630577cd",
   "metadata": {},
   "outputs": [
    {
     "data": {
      "text/plain": [
       "[<POLYGON ((2 2, 2 3.5, 3.5 3.5, 3.5 2, 2 2))>]"
      ]
     },
     "execution_count": 334,
     "metadata": {},
     "output_type": "execute_result"
    }
   ],
   "source": [
    "non_overlapping"
   ]
  },
  {
   "cell_type": "code",
   "execution_count": 338,
   "id": "d9e4a5d1",
   "metadata": {},
   "outputs": [],
   "source": [
    "region_id = '04'\n",
    "usfs_input_gdb_path = r'D:\\WORK\\wildfire\\Interagency-Tracking-System\\V2.0\\FACTS_V2.0\\Actv_CommonAttribute_PL_Region{}.gdb'.format(region_id)\n",
    "        "
   ]
  },
  {
   "cell_type": "code",
   "execution_count": 339,
   "id": "1e0b55c8",
   "metadata": {},
   "outputs": [
    {
     "data": {
      "text/html": [
       "<div>\n",
       "<style scoped>\n",
       "    .dataframe tbody tr th:only-of-type {\n",
       "        vertical-align: middle;\n",
       "    }\n",
       "\n",
       "    .dataframe tbody tr th {\n",
       "        vertical-align: top;\n",
       "    }\n",
       "\n",
       "    .dataframe thead th {\n",
       "        text-align: right;\n",
       "    }\n",
       "</style>\n",
       "<table border=\"1\" class=\"dataframe\">\n",
       "  <thead>\n",
       "    <tr style=\"text-align: right;\">\n",
       "      <th></th>\n",
       "      <th>name</th>\n",
       "      <th>geometry_type</th>\n",
       "    </tr>\n",
       "  </thead>\n",
       "  <tbody>\n",
       "    <tr>\n",
       "      <th>0</th>\n",
       "      <td>Actv_CommonAttribute_PL</td>\n",
       "      <td>MultiPolygon</td>\n",
       "    </tr>\n",
       "  </tbody>\n",
       "</table>\n",
       "</div>"
      ],
      "text/plain": [
       "                      name geometry_type\n",
       "0  Actv_CommonAttribute_PL  MultiPolygon"
      ]
     },
     "execution_count": 339,
     "metadata": {},
     "output_type": "execute_result"
    }
   ],
   "source": [
    "gpd.list_layers(usfs_input_gdb_path)"
   ]
  },
  {
   "cell_type": "code",
   "execution_count": null,
   "id": "8371ed42",
   "metadata": {},
   "outputs": [],
   "source": []
  }
 ],
 "metadata": {
  "kernelspec": {
   "display_name": "Python 3 (ipykernel)",
   "language": "python",
   "name": "python3"
  },
  "language_info": {
   "codemirror_mode": {
    "name": "ipython",
    "version": 3
   },
   "file_extension": ".py",
   "mimetype": "text/x-python",
   "name": "python",
   "nbconvert_exporter": "python",
   "pygments_lexer": "ipython3",
   "version": "3.13.1"
  }
 },
 "nbformat": 4,
 "nbformat_minor": 5
}

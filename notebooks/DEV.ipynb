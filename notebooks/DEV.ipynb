{
 "cells": [
  {
   "cell_type": "code",
   "execution_count": 1,
   "id": "8a6d9a14-e17b-4a32-8d05-bbbc28825d13",
   "metadata": {},
   "outputs": [],
   "source": [
    "import sys\n",
    "sys.path.append('../')"
   ]
  },
  {
   "cell_type": "code",
   "execution_count": 2,
   "id": "b6703453-a2ec-412d-9854-5a5fd0ed37bf",
   "metadata": {},
   "outputs": [],
   "source": [
    "import warnings\n",
    "import logging\n",
    "import time\n",
    "import psutil\n",
    "import os\n",
    "\n",
    "import numpy as np\n",
    "import pandas as pd\n",
    "import geopandas as gpd\n",
    "from datetime import datetime\n",
    "\n",
    "from its_logging.logger_config import logger\n",
    "from utils.its_utils import clip_to_california, get_wfr_tf_template\n",
    "from utils.gdf_utils import repair_geometries, show_columns, verify_gdf_columns\n",
    "from utils.add_common_columns import add_common_columns\n",
    "from utils.enrich_polygons import enrich_polygons\n",
    "from utils.keep_fields import keep_fields\n",
    "from utils.assign_domains import assign_domains\n",
    "from utils.save_gdf_to_gdb import save_gdf_to_gdb"
   ]
  },
  {
   "cell_type": "code",
   "execution_count": 3,
   "id": "6988d1ed",
   "metadata": {},
   "outputs": [],
   "source": [
    "from enrich.enrich_CNRA import enrich_CNRA"
   ]
  },
  {
   "cell_type": "code",
   "execution_count": 4,
   "id": "0146dd2f",
   "metadata": {},
   "outputs": [],
   "source": [
    "process = psutil.Process(os.getpid())\n",
    "\n",
    "cnra_input_gdb_path = r\"D:\\WORK\\wildfire\\Interagency-Tracking-System\\2023\\CNRA_2023\\CNRA_Tracker_Data_Export_20241120.gdb\"\n",
    "cnra_polygon_layer_name = \"TREATMENT_POLY\"\n",
    "cnra_line_layer_name = \"TREATMENT_LINE\"\n",
    "cnra_point_layer_name = \"TREATMENT_POINT\"\n",
    "cnra_project_polygon_layer_name = \"PROJECT_POLY\"\n",
    "cnra_activity_layer_name = \"ACTIVITIES\"\n",
    "a_reference_gdb_path = r\"D:\\WORK\\wildfire\\Interagency-Tracking-System\\its\\Interagency Tracking System.gdb\"\n",
    "start_year, end_year = 2010, 2025\n",
    "output_gdb_path = r\"D:\\WORK\\wildfire\\Interagency-Tracking-System\\its\\ITSGDB_backup\\tmp\\CNRA_{}_{}.gdb\".format(start_year, end_year)\n",
    "output_layer_name = f\"CNRA_enriched_{datetime.today().strftime('%Y%m%d')}\"\n"
   ]
  },
  {
   "cell_type": "code",
   "execution_count": 5,
   "id": "885fbf41",
   "metadata": {},
   "outputs": [
    {
     "name": "stderr",
     "output_type": "stream",
     "text": [
      "2025-01-15 08:06:28,928 INFO  [enrich.enrich_CNRA    ]  Load the CNRA polygon layer into a GeoDataFrame\n",
      "2025-01-15 08:06:29,371 INFO  [enrich.enrich_CNRA    ]     all required columns are present.\n",
      "2025-01-15 08:06:30,093 INFO  [enrich.enrich_CNRA    ]  Load the CNRA line layer into a GeoDataFrame\n",
      "2025-01-15 08:06:30,108 INFO  [enrich.enrich_CNRA    ]     all required columns are present.\n",
      "2025-01-15 08:06:30,112 INFO  [enrich.enrich_CNRA    ]  Load the CNRA point layer into a GeoDataFrame\n",
      "2025-01-15 08:06:30,131 INFO  [enrich.enrich_CNRA    ]     all required columns are present.\n",
      "2025-01-15 08:06:30,132 INFO  [enrich.enrich_CNRA    ]  Load the CNRA project polygon layer into a GeoDataFrame\n",
      "2025-01-15 08:06:30,333 INFO  [enrich.enrich_CNRA    ]     all required columns are present.\n",
      "2025-01-15 08:06:30,753 INFO  [enrich.enrich_CNRA    ]  Load the CNRA activity layer into a DataFrame\n",
      "2025-01-15 08:06:31,443 INFO  [enrich.enrich_CNRA    ]     all required columns are present.\n",
      "2025-01-15 08:06:31,473 INFO  [enrich.enrich_CNRA    ]  Enrich the CNRA polygons...\n",
      "2025-01-15 08:06:31,473 INFO  [enrich.enrich_CNRA    ]     Part 1 Prepare Features\n",
      "2025-01-15 08:06:31,490 INFO  [enrich.enrich_CNRA    ]     Part 2 Prepare Activity Table\n",
      "2025-01-15 08:06:32,000 INFO  [enrich.enrich_CNRA    ]        step 2/17 remove milliseconds from dates\n",
      "2025-01-15 08:06:32,052 INFO  [enrich.enrich_CNRA    ]        step 3/17 create standardized activity table\n",
      "2025-01-15 08:06:32,056 INFO  [enrich.enrich_CNRA    ]        step 4/17 import activities into standardized table\n",
      "2025-01-15 08:06:32,080 INFO  [enrich.enrich_CNRA    ]        step 5/17 calculate unique Treatment ID with postfix '-CNRA'\n",
      "2025-01-15 08:06:32,090 INFO  [enrich.enrich_CNRA    ]     Part 3 - Combine CNRA Features and Activity Table\n",
      "2025-01-15 08:06:32,090 INFO  [enrich.enrich_CNRA    ]        step 6/17 join polygon table and activity table\n",
      "2025-01-15 08:06:35,041 INFO  [enrich.enrich_CNRA    ]     Part 4 Prepare Project Table\n",
      "2025-01-15 08:06:35,043 INFO  [enrich.enrich_CNRA    ]        step 7/17 calculate unique Project ID if null\n",
      "2025-01-15 08:06:35,061 INFO  [enrich.enrich_CNRA    ]     Part 5 Join Project Table to Features/Activities\n",
      "2025-01-15 08:06:35,163 INFO  [enrich.enrich_CNRA    ]        step 8/17 copy features\n",
      "2025-01-15 08:06:35,206 INFO  [enrich.enrich_CNRA    ]        step 9/17 create Features\n",
      "2025-01-15 08:06:35,252 INFO  [enrich.enrich_CNRA    ]        step 10/17 append\n",
      "2025-01-15 08:06:35,293 INFO  [enrich.enrich_CNRA    ]        standardized has 37402 records\n",
      "2025-01-15 08:06:35,293 INFO  [enrich.enrich_CNRA    ]     Part 6 Standardize and Enrich\n",
      "2025-01-15 08:06:35,294 INFO  [enrich.enrich_CNRA    ]        step 11/17 calculate crosswalk\n",
      "2025-01-15 08:06:35,295 INFO  [enrich.enrich_CNRA    ]        step 12/17 calculate source\n",
      "2025-01-15 08:06:35,295 INFO  [enrich.enrich_CNRA    ]        step 13/17 calculate admin\n",
      "2025-01-15 08:06:35,301 INFO  [enrich.enrich_CNRA    ]        step 14/17 update status\n",
      "2025-01-15 08:06:35,306 INFO  [enrich.enrich_CNRA    ]        step 15/17 update activity end date\n",
      "2025-01-15 08:06:35,607 INFO  [enrich.enrich_CNRA    ]     Part 7 Calculate Board Vegetation Types, Ownership and Others ... \n",
      "2025-01-15 08:06:35,637 INFO  [utils.enrich_polygons ]        Executing Polygon Enrichments...\n",
      "2025-01-15 08:06:35,637 INFO  [utils.enrich_polygons ]           Calculating Broad Vegetation Type...\n",
      "2025-01-15 08:06:35,638 INFO  [utils.enrich_polygons ]              enrich step 1/32 summarize veg within polygons\n",
      "2025-01-15 08:06:40,092 INFO  [utils.enrich_polygons ]                 Loaded Broad_Vegetation_Types from cache\n",
      "2025-01-15 08:06:40,093 INFO  [utils.enrich_polygons ]                    time for loading Broad_Vegetation_Types: 4.454879283905029\n",
      "2025-01-15 08:06:40,132 INFO  [utils.enrich_polygons ]              enrich step 2/32 filter board veg types using the bounding box\n",
      "2025-01-15 08:06:41,559 INFO  [utils.enrich_polygons ]                 original board veg type records: 3736147 \n",
      "2025-01-15 08:06:41,560 INFO  [utils.enrich_polygons ]                 filtered board veg type records: 2763826 \n",
      "2025-01-15 08:06:41,561 INFO  [utils.enrich_polygons ]                 records for summary: 1088\n",
      "2025-01-15 08:06:41,561 INFO  [utils.enrich_polygons ]              enrich step 3/32 determining board veg types\n",
      "2025-01-15 08:06:41,561 INFO  [utils.enrich_polygons ]              enrich step 4/32 joining with board veg types\n",
      "2025-01-15 08:06:44,432 INFO  [utils.enrich_polygons ]                 joined records: 55155\n",
      "2025-01-15 08:06:44,434 INFO  [utils.enrich_polygons ]              enrich step 5/32 concurrent calculate veg type for each polygon\n"
     ]
    },
    {
     "ename": "NameError",
     "evalue": "name 'joined' is not defined",
     "output_type": "error",
     "traceback": [
      "\u001b[1;31m---------------------------------------------------------------------------\u001b[0m",
      "\u001b[1;31mRemoteTraceback\u001b[0m                           Traceback (most recent call last)",
      "\u001b[1;31mRemoteTraceback\u001b[0m: \n\"\"\"\nTraceback (most recent call last):\n  File \"C:\\Users\\sky\\.conda\\envs\\its_recode\\Lib\\multiprocessing\\pool.py\", line 125, in worker\n    result = (True, func(*args, **kwds))\n                    ~~~~^^^^^^^^^^^^^^^\n  File \"C:\\Users\\sky\\.conda\\envs\\its_recode\\Lib\\multiprocessing\\pool.py\", line 48, in mapstar\n    return list(map(*args))\n  File \"D:\\WORK\\wildfire\\ITS_RECODE\\interagency-tracking-system\\notebooks\\..\\utils\\enrich_polygons.py\", line 39, in process_group\n    group = joined[joined['Join_ID'] == idx]\n            ^^^^^^\nNameError: name 'joined' is not defined\n\"\"\"",
      "\nThe above exception was the direct cause of the following exception:\n",
      "\u001b[1;31mNameError\u001b[0m                                 Traceback (most recent call last)",
      "Cell \u001b[1;32mIn[5], line 1\u001b[0m\n\u001b[1;32m----> 1\u001b[0m enrich_CNRA(cnra_input_gdb_path,\n\u001b[0;32m      2\u001b[0m             cnra_polygon_layer_name,\n\u001b[0;32m      3\u001b[0m             cnra_line_layer_name,\n\u001b[0;32m      4\u001b[0m             cnra_point_layer_name,\n\u001b[0;32m      5\u001b[0m             cnra_project_polygon_layer_name,\n\u001b[0;32m      6\u001b[0m             cnra_activity_layer_name,\n\u001b[0;32m      7\u001b[0m             a_reference_gdb_path,\n\u001b[0;32m      8\u001b[0m             start_year,\n\u001b[0;32m      9\u001b[0m             end_year,\n\u001b[0;32m     10\u001b[0m             output_gdb_path,\n\u001b[0;32m     11\u001b[0m             output_layer_name)\n\u001b[0;32m     13\u001b[0m \u001b[38;5;66;03m# Get memory usage in bytes, convert to MB\u001b[39;00m\n\u001b[0;32m     14\u001b[0m memory_usage \u001b[38;5;241m=\u001b[39m process\u001b[38;5;241m.\u001b[39mmemory_info()\u001b[38;5;241m.\u001b[39mrss \u001b[38;5;241m/\u001b[39m \u001b[38;5;241m1024\u001b[39m \u001b[38;5;241m/\u001b[39m \u001b[38;5;241m1024\u001b[39m\n",
      "File \u001b[1;32mD:\\WORK\\wildfire\\ITS_RECODE\\interagency-tracking-system\\notebooks\\..\\enrich\\enrich_CNRA.py:457\u001b[0m, in \u001b[0;36menrich_CNRA\u001b[1;34m(cnra_gdb_path, cnra_polygon_layer_name, cnra_line_layer_name, cnra_point_layer_name, cnra_project_polygon_layer_name, cnra_activity_layer_name, a_reference_gdb_path, start_year, end_year, output_gdb_path, output_layer_name)\u001b[0m\n\u001b[0;32m    454\u001b[0m show_columns(logger, cnra_activities, \u001b[38;5;124m\"\u001b[39m\u001b[38;5;124mcnra_activities\u001b[39m\u001b[38;5;124m\"\u001b[39m)\n\u001b[0;32m    456\u001b[0m \u001b[38;5;66;03m# enrich polygons\u001b[39;00m\n\u001b[1;32m--> 457\u001b[0m enrich_CNRA_features(\n\u001b[0;32m    458\u001b[0m     cnra_polygons, \n\u001b[0;32m    459\u001b[0m     cnra_activities, \n\u001b[0;32m    460\u001b[0m     cnra_projects, \n\u001b[0;32m    461\u001b[0m     a_reference_gdb_path,\n\u001b[0;32m    462\u001b[0m     start_year,\n\u001b[0;32m    463\u001b[0m     end_year,\n\u001b[0;32m    464\u001b[0m     output_gdb_path,\n\u001b[0;32m    465\u001b[0m     output_layer_name,\n\u001b[0;32m    466\u001b[0m     \u001b[38;5;124m'\u001b[39m\u001b[38;5;124mpolygon\u001b[39m\u001b[38;5;124m'\u001b[39m\n\u001b[0;32m    467\u001b[0m )\n\u001b[0;32m    469\u001b[0m \u001b[38;5;66;03m# enrich lines\u001b[39;00m\n\u001b[0;32m    470\u001b[0m enrich_CNRA_features(\n\u001b[0;32m    471\u001b[0m     cnra_lines, \n\u001b[0;32m    472\u001b[0m     cnra_activities, \n\u001b[1;32m   (...)\u001b[0m\n\u001b[0;32m    479\u001b[0m     \u001b[38;5;124m'\u001b[39m\u001b[38;5;124mline\u001b[39m\u001b[38;5;124m'\u001b[39m\n\u001b[0;32m    480\u001b[0m )\n",
      "File \u001b[1;32mD:\\WORK\\wildfire\\ITS_RECODE\\interagency-tracking-system\\notebooks\\..\\enrich\\enrich_CNRA.py:395\u001b[0m, in \u001b[0;36menrich_CNRA_features\u001b[1;34m(input_features, cnra_activities, cnra_projects, a_reference_gdb_path, start_year, end_year, output_gdb_path, output_layer_name, feature_type)\u001b[0m\n\u001b[0;32m    392\u001b[0m standardized_features \u001b[38;5;241m=\u001b[39m keep_fields(standardized_features)\n\u001b[0;32m    394\u001b[0m \u001b[38;5;28;01mif\u001b[39;00m feature_type \u001b[38;5;241m==\u001b[39m \u001b[38;5;124m'\u001b[39m\u001b[38;5;124mpolygon\u001b[39m\u001b[38;5;124m'\u001b[39m:\n\u001b[1;32m--> 395\u001b[0m     standardized_features \u001b[38;5;241m=\u001b[39m enrich_polygons(standardized_features, a_reference_gdb_path, start_year, end_year)  \n\u001b[0;32m    396\u001b[0m \u001b[38;5;28;01melif\u001b[39;00m feature_type \u001b[38;5;241m==\u001b[39m \u001b[38;5;124m'\u001b[39m\u001b[38;5;124mline\u001b[39m\u001b[38;5;124m'\u001b[39m:\n\u001b[0;32m    397\u001b[0m     standardized_features \u001b[38;5;241m=\u001b[39m enrich_lines(standardized_features, a_reference_gdb_path, start_year, end_year)\n",
      "File \u001b[1;32mD:\\WORK\\wildfire\\ITS_RECODE\\interagency-tracking-system\\notebooks\\..\\utils\\enrich_polygons.py:230\u001b[0m, in \u001b[0;36menrich_polygons\u001b[1;34m(enrich_in, a_reference_gdb_path, start_year, end_year)\u001b[0m\n\u001b[0;32m    227\u001b[0m     veg_enriched\u001b[38;5;241m.\u001b[39mset_geometry(\u001b[38;5;124m'\u001b[39m\u001b[38;5;124mgeometry\u001b[39m\u001b[38;5;124m'\u001b[39m, inplace\u001b[38;5;241m=\u001b[39m\u001b[38;5;28;01mTrue\u001b[39;00m)\n\u001b[0;32m    229\u001b[0m \u001b[38;5;28;01melse\u001b[39;00m:\n\u001b[1;32m--> 230\u001b[0m     veg_enriched \u001b[38;5;241m=\u001b[39m summarize_within(enrich_in, veg_layer)\n\u001b[0;32m    231\u001b[0m logger\u001b[38;5;241m.\u001b[39minfo(\u001b[38;5;124mf\u001b[39m\u001b[38;5;124m\"\u001b[39m\u001b[38;5;124m               time for summarizing veg types: \u001b[39m\u001b[38;5;132;01m{\u001b[39;00mtime\u001b[38;5;241m.\u001b[39mtime()\u001b[38;5;241m-\u001b[39mstart\u001b[38;5;132;01m}\u001b[39;00m\u001b[38;5;124m\"\u001b[39m)\n\u001b[0;32m    233\u001b[0m veg_enriched \u001b[38;5;241m=\u001b[39m pd\u001b[38;5;241m.\u001b[39mconcat([enrich_input_with_bvt, veg_enriched], ignore_index\u001b[38;5;241m=\u001b[39m\u001b[38;5;28;01mTrue\u001b[39;00m)\n",
      "File \u001b[1;32mD:\\WORK\\wildfire\\ITS_RECODE\\interagency-tracking-system\\notebooks\\..\\utils\\enrich_polygons.py:157\u001b[0m, in \u001b[0;36msummarize_within\u001b[1;34m(in_polygons, in_sum_features, group_field)\u001b[0m\n\u001b[0;32m    154\u001b[0m logger\u001b[38;5;241m.\u001b[39minfo(\u001b[38;5;124mf\u001b[39m\u001b[38;5;124m\"\u001b[39m\u001b[38;5;124m               records for summary: \u001b[39m\u001b[38;5;132;01m{\u001b[39;00min_polygons\u001b[38;5;241m.\u001b[39mshape[\u001b[38;5;241m0\u001b[39m]\u001b[38;5;132;01m}\u001b[39;00m\u001b[38;5;124m\"\u001b[39m)\n\u001b[0;32m    156\u001b[0m logger\u001b[38;5;241m.\u001b[39minfo(\u001b[38;5;124mf\u001b[39m\u001b[38;5;124m\"\u001b[39m\u001b[38;5;124m            enrich step 3/32 determining board veg types\u001b[39m\u001b[38;5;124m\"\u001b[39m)\n\u001b[1;32m--> 157\u001b[0m in_polygons_updated \u001b[38;5;241m=\u001b[39m process_spatial_join_parallel(in_polygons, in_sum_features_filtered)\n\u001b[0;32m    158\u001b[0m logger\u001b[38;5;241m.\u001b[39minfo(\u001b[38;5;124mf\u001b[39m\u001b[38;5;124m\"\u001b[39m\u001b[38;5;124m               assigning vegetation types is completed\u001b[39m\u001b[38;5;124m\"\u001b[39m)\n\u001b[0;32m    159\u001b[0m show_columns(logger, in_polygons_updated, \u001b[38;5;124m\"\u001b[39m\u001b[38;5;124min_polygons_updated\u001b[39m\u001b[38;5;124m\"\u001b[39m)\n",
      "File \u001b[1;32mD:\\WORK\\wildfire\\ITS_RECODE\\interagency-tracking-system\\notebooks\\..\\utils\\enrich_polygons.py:101\u001b[0m, in \u001b[0;36mprocess_spatial_join_parallel\u001b[1;34m(in_polygons_df, in_sum_features_filtered_df, n_processes)\u001b[0m\n\u001b[0;32m     95\u001b[0m logger\u001b[38;5;241m.\u001b[39minfo(\u001b[38;5;124mf\u001b[39m\u001b[38;5;124m\"\u001b[39m\u001b[38;5;124m            enrich step 5/32 concurrent calculate veg type for each polygon\u001b[39m\u001b[38;5;124m\"\u001b[39m)\n\u001b[0;32m     96\u001b[0m \u001b[38;5;28;01mwith\u001b[39;00m Pool(processes\u001b[38;5;241m=\u001b[39mn_processes, \n\u001b[0;32m     97\u001b[0m          initializer\u001b[38;5;241m=\u001b[39minit_globals, \n\u001b[0;32m     98\u001b[0m          initargs\u001b[38;5;241m=\u001b[39m(in_polygons_df, in_sum_features_filtered_df)) \u001b[38;5;28;01mas\u001b[39;00m pool:\n\u001b[0;32m     99\u001b[0m     \n\u001b[0;32m    100\u001b[0m     \u001b[38;5;66;03m# Process groups in parallel\u001b[39;00m\n\u001b[1;32m--> 101\u001b[0m     results \u001b[38;5;241m=\u001b[39m pool\u001b[38;5;241m.\u001b[39mmap(process_group, unique_ids)\n\u001b[0;32m    103\u001b[0m \u001b[38;5;66;03m# Convert results to dictionary\u001b[39;00m\n\u001b[0;32m    104\u001b[0m results_dict \u001b[38;5;241m=\u001b[39m \u001b[38;5;28mdict\u001b[39m(results)\n",
      "File \u001b[1;32m~\\.conda\\envs\\its_recode\\Lib\\multiprocessing\\pool.py:367\u001b[0m, in \u001b[0;36mPool.map\u001b[1;34m(self, func, iterable, chunksize)\u001b[0m\n\u001b[0;32m    362\u001b[0m \u001b[38;5;28;01mdef\u001b[39;00m \u001b[38;5;21mmap\u001b[39m(\u001b[38;5;28mself\u001b[39m, func, iterable, chunksize\u001b[38;5;241m=\u001b[39m\u001b[38;5;28;01mNone\u001b[39;00m):\n\u001b[0;32m    363\u001b[0m \u001b[38;5;250m    \u001b[39m\u001b[38;5;124;03m'''\u001b[39;00m\n\u001b[0;32m    364\u001b[0m \u001b[38;5;124;03m    Apply `func` to each element in `iterable`, collecting the results\u001b[39;00m\n\u001b[0;32m    365\u001b[0m \u001b[38;5;124;03m    in a list that is returned.\u001b[39;00m\n\u001b[0;32m    366\u001b[0m \u001b[38;5;124;03m    '''\u001b[39;00m\n\u001b[1;32m--> 367\u001b[0m     \u001b[38;5;28;01mreturn\u001b[39;00m \u001b[38;5;28mself\u001b[39m\u001b[38;5;241m.\u001b[39m_map_async(func, iterable, mapstar, chunksize)\u001b[38;5;241m.\u001b[39mget()\n",
      "File \u001b[1;32m~\\.conda\\envs\\its_recode\\Lib\\multiprocessing\\pool.py:774\u001b[0m, in \u001b[0;36mApplyResult.get\u001b[1;34m(self, timeout)\u001b[0m\n\u001b[0;32m    772\u001b[0m     \u001b[38;5;28;01mreturn\u001b[39;00m \u001b[38;5;28mself\u001b[39m\u001b[38;5;241m.\u001b[39m_value\n\u001b[0;32m    773\u001b[0m \u001b[38;5;28;01melse\u001b[39;00m:\n\u001b[1;32m--> 774\u001b[0m     \u001b[38;5;28;01mraise\u001b[39;00m \u001b[38;5;28mself\u001b[39m\u001b[38;5;241m.\u001b[39m_value\n",
      "\u001b[1;31mNameError\u001b[0m: name 'joined' is not defined"
     ]
    }
   ],
   "source": [
    "\n",
    "\n",
    "enrich_CNRA(cnra_input_gdb_path,\n",
    "            cnra_polygon_layer_name,\n",
    "            cnra_line_layer_name,\n",
    "            cnra_point_layer_name,\n",
    "            cnra_project_polygon_layer_name,\n",
    "            cnra_activity_layer_name,\n",
    "            a_reference_gdb_path,\n",
    "            start_year,\n",
    "            end_year,\n",
    "            output_gdb_path,\n",
    "            output_layer_name)\n",
    "\n",
    "# Get memory usage in bytes, convert to MB\n",
    "memory_usage = process.memory_info().rss / 1024 / 1024\n",
    "logger.info(f\"Memory usage: {memory_usage:.2f} MB\")\n"
   ]
  },
  {
   "cell_type": "raw",
   "id": "6dd82986",
   "metadata": {},
   "source": [
    "from enrich.enrich_CalTrans import enrich_Caltrans"
   ]
  },
  {
   "cell_type": "code",
   "execution_count": 4,
   "id": "cb66681f-509c-403c-9379-b13e10b2113a",
   "metadata": {},
   "outputs": [],
   "source": [
    "# temp file path\n",
    "caltrans_input_gdb_path = r\"D:\\WORK\\wildfire\\Interagency-Tracking-System\\2023\\CALTRANS_2023\\Caltrans_Vegetation_Management_20_23.gdb\"\n",
    "tree_activity_layer_name = \"Caltrans_Vegetation_Management_Trees_ActivitiesTable_20_23\"\n",
    "tree_treatment_layer_name = \"Caltrans_Vegetation_Management_Trees_Treatments_20_23\"\n",
    "road_activity_layer_name = \"Caltrans_Vegetation_Management_RoadsideLandscape_ActivitiesTable_20_23\"\n",
    "road_treatment_layer_name = \"Caltrans_Vegetation_Management_RoadsideLandscape_Treatments_20_23\"\n",
    "a_reference_gdb_path = r\"D:\\WORK\\wildfire\\Interagency-Tracking-System\\its\\Interagency Tracking System.gdb\"\n",
    "start_year = 2021\n",
    "end_year = 2023\n",
    "output_gdb_path = r\"D:\\WORK\\wildfire\\Interagency-Tracking-System\\its\\ITSGDB_backup\\tmp\\CalTRANS_{}_{}.gdb\".format(start_year, end_year)\n",
    "output_layer_name = f\"CalTRANS_enriched_{datetime.today().strftime('%Y%m%d')}\""
   ]
  },
  {
   "cell_type": "raw",
   "id": "6cb8c0d9",
   "metadata": {},
   "source": [
    "\n",
    "process = psutil.Process(os.getpid())\n",
    "\n",
    "enrich_Caltrans(caltrans_input_gdb_path,\n",
    "                tree_activity_layer_name,\n",
    "                tree_treatment_layer_name,\n",
    "                road_activity_layer_name,\n",
    "                road_treatment_layer_name,\n",
    "                a_reference_gdb_path,\n",
    "                start_year,\n",
    "                end_year,\n",
    "                output_gdb_path,\n",
    "                output_layer_name)\n",
    "\n",
    "# Get memory usage in bytes, convert to MB\n",
    "memory_usage = process.memory_info().rss / 1024 / 1024\n",
    "logger.info(f\"Memory usage: {memory_usage:.2f} MB\")"
   ]
  },
  {
   "cell_type": "code",
   "execution_count": null,
   "id": "781b49f8",
   "metadata": {},
   "outputs": [],
   "source": []
  }
 ],
 "metadata": {
  "kernelspec": {
   "display_name": "Python 3 (ipykernel)",
   "language": "python",
   "name": "python3"
  },
  "language_info": {
   "codemirror_mode": {
    "name": "ipython",
    "version": 3
   },
   "file_extension": ".py",
   "mimetype": "text/x-python",
   "name": "python",
   "nbconvert_exporter": "python",
   "pygments_lexer": "ipython3",
   "version": "3.13.1"
  }
 },
 "nbformat": 4,
 "nbformat_minor": 5
}

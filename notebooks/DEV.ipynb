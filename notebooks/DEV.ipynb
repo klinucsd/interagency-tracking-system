{
 "cells": [
  {
   "cell_type": "code",
   "execution_count": 1,
   "id": "8a6d9a14-e17b-4a32-8d05-bbbc28825d13",
   "metadata": {},
   "outputs": [],
   "source": [
    "import sys\n",
    "sys.path.append('../')"
   ]
  },
  {
   "cell_type": "code",
   "execution_count": 2,
   "id": "b6703453-a2ec-412d-9854-5a5fd0ed37bf",
   "metadata": {},
   "outputs": [],
   "source": [
    "import warnings\n",
    "import logging\n",
    "import time\n",
    "import psutil\n",
    "import os\n",
    "\n",
    "import numpy as np\n",
    "import pandas as pd\n",
    "import geopandas as gpd\n",
    "from datetime import datetime\n",
    "\n",
    "from its_logging.logger_config import logger\n",
    "from utils.its_utils import clip_to_california, get_wfr_tf_template\n",
    "from utils.gdf_utils import repair_geometries, show_columns, verify_gdf_columns\n",
    "from utils.add_common_columns import add_common_columns\n",
    "from utils.enrich_polygons import enrich_polygons\n",
    "from utils.keep_fields import keep_fields\n",
    "from utils.assign_domains import assign_domains\n",
    "from utils.save_gdf_to_gdb import save_gdf_to_gdb"
   ]
  },
  {
   "cell_type": "code",
   "execution_count": 3,
   "id": "2a35dbb8",
   "metadata": {},
   "outputs": [],
   "source": [
    "a_reference_gdb_path = r\"D:\\WORK\\wildfire\\Interagency-Tracking-System\\its\\Interagency Tracking System.gdb\"\n",
    "start_year, end_year = 2020, 2025\n",
    "\n",
    "process = psutil.Process(os.getpid())"
   ]
  },
  {
   "cell_type": "code",
   "execution_count": 4,
   "id": "c0e711e0",
   "metadata": {},
   "outputs": [],
   "source": [
    "from enrich.enrich_NPS import enrich_NPS_from_gdb"
   ]
  },
  {
   "cell_type": "code",
   "execution_count": 5,
   "id": "3c07d9fc",
   "metadata": {},
   "outputs": [],
   "source": [
    "nps_gdb_path = r'D:\\WORK\\wildfire\\Interagency-Tracking-System\\2023\\NPS_2023\\New_NPS_2023_20240625_ReisThomasViaUpload_1.gdb'\n",
    "nps_layer_name = 'NPS_2023_20240625_ReisThomasViaUpload2'\n",
    "output_gdb_path =  r\"D:\\WORK\\wildfire\\Interagency-Tracking-System\\its\\ITSGDB_backup\\tmp\\NPS_{}_{}.gdb\".format(start_year, end_year)\n",
    "output_layer_name = f\"NPS_enriched_{datetime.today().strftime('%Y%m%d')}\"\n",
    "\n"
   ]
  },
  {
   "cell_type": "code",
   "execution_count": 6,
   "id": "1edd8e6b",
   "metadata": {},
   "outputs": [
    {
     "name": "stderr",
     "output_type": "stream",
     "text": [
      "2025-01-27 10:04:16,310 INFO  [enrich.enrich_NPS     ]  Load the NPS data into a GeoDataFrame\n",
      "2025-01-27 10:04:16,913 INFO  [enrich.enrich_NPS     ]     time for loading NPS_2023_20240625_ReisThomasViaUpload2: 0.6021413803100586\n",
      "2025-01-27 10:04:16,914 INFO  [enrich.enrich_NPS     ]     all required columns are present.\n",
      "2025-01-27 10:04:17,393 INFO  [enrich.enrich_NPS     ]  Performing Standardization...\n",
      "2025-01-27 10:04:17,393 INFO  [enrich.enrich_NPS     ]     step 1/11 select after 1995\n",
      "2025-01-27 10:04:17,406 INFO  [enrich.enrich_NPS     ]     step 2/11 repairing geometry\n",
      "2025-01-27 10:04:21,077 INFO  [enrich.enrich_NPS     ]     step 3/11 clip features by CA\n",
      "2025-01-27 10:04:32,056 INFO  [enrich.enrich_NPS     ]     step 4/11 dissolve to implement multipart polygons\n",
      "2025-01-27 10:04:32,786 INFO  [enrich.enrich_NPS     ]     step 5/11 rename and add fields\n",
      "2025-01-27 10:04:32,813 INFO  [enrich.enrich_NPS     ]     step 6/11 import attributes\n",
      "2025-01-27 10:04:32,839 INFO  [enrich.enrich_NPS     ]     step 7/11 Remove Unnecessary Columns...\n",
      "2025-01-27 10:04:32,843 INFO  [enrich.enrich_NPS     ]     step 8/11 Enriching Polygons...\n",
      "2025-01-27 10:04:32,843 INFO  [utils.enrich_polygons ]        Executing Polygon Enrichments...\n",
      "2025-01-27 10:04:32,844 INFO  [utils.enrich_polygons ]           Calculating Broad Vegetation Type...\n",
      "2025-01-27 10:04:32,844 INFO  [utils.enrich_polygons ]              enrich step 1/32 summarize veg within polygons\n",
      "2025-01-27 10:04:37,782 INFO  [utils.enrich_polygons ]                 Loaded Broad_Vegetation_Types from cache\n",
      "2025-01-27 10:04:37,783 INFO  [utils.enrich_polygons ]                    time for loading Broad_Vegetation_Types: 4.938868999481201\n",
      "2025-01-27 10:04:37,802 INFO  [utils.enrich_polygons ]              enrich step 2/32 filter board veg types using the bounding box\n",
      "2025-01-27 10:04:39,530 INFO  [utils.enrich_polygons ]                 original board veg type records: 3736147 \n",
      "2025-01-27 10:04:39,530 INFO  [utils.enrich_polygons ]                 filtered board veg type records: 3438853 \n",
      "2025-01-27 10:04:39,531 INFO  [utils.enrich_polygons ]                 records for summary: 570\n",
      "2025-01-27 10:04:39,531 INFO  [utils.enrich_polygons ]              enrich step 3/32 determining board veg types\n",
      "2025-01-27 10:04:39,532 INFO  [utils.enrich_polygons ]              enrich step 4/32 joining with board veg types\n",
      "2025-01-27 10:05:02,269 INFO  [utils.enrich_polygons ]                 joined records: 13434\n",
      "2025-01-27 10:05:02,270 INFO  [utils.enrich_polygons ]              enrich step 5/32 concurrent calculate veg type for each polygon\n",
      "2025-01-27 10:15:20,104 INFO  [utils.enrich_polygons ]              enrich step 6/32 assign veg type for each polygon\n",
      "2025-01-27 10:15:20,458 INFO  [utils.enrich_polygons ]                 assigning vegetation types is completed\n",
      "2025-01-27 10:15:20,495 INFO  [utils.enrich_polygons ]                 time for summarizing veg types: 642.7115604877472\n",
      "2025-01-27 10:15:20,519 INFO  [utils.enrich_polygons ]              enrich step 7/32 select records where BROAD_VEGETATION_TYPE is not null\n",
      "2025-01-27 10:15:20,519 INFO  [utils.enrich_polygons ]              enrich step 8/32 set BVT_USERD of the selected records to YES\n",
      "2025-01-27 10:15:20,520 INFO  [utils.enrich_polygons ]              enrich step 9/32 select records where BROAD_VEGETATION_TYPE is null\n",
      "2025-01-27 10:15:20,521 INFO  [utils.enrich_polygons ]              enrich step 11/32 set BVT_USERD of the selected records to NO\n",
      "2025-01-27 10:15:20,537 INFO  [utils.enrich_polygons ]              enrich step 12/32 keeping only the necessary columns\n",
      "2025-01-27 10:15:23,984 INFO  [utils.enrich_polygons ]           Calculating WUI...\n",
      "2025-01-27 10:15:24,339 INFO  [utils.enrich_polygons ]              Loaded WUI from cache\n",
      "2025-01-27 10:15:24,339 INFO  [utils.enrich_polygons ]                 time for loading WUI: 0.3546104431152344\n",
      "2025-01-27 10:15:24,340 INFO  [utils.enrich_polygons ]              enrich step 13/32 select records with null WUI\n",
      "2025-01-27 10:15:24,347 INFO  [utils.enrich_polygons ]              enrich step 14/32 select by WUI location\n",
      "2025-01-27 10:15:25,908 INFO  [utils.enrich_polygons ]              enrich step 15/32 calculate WUI yes\n",
      "2025-01-27 10:15:25,910 INFO  [utils.enrich_polygons ]              enrich step 16/32 select remaining null records\n",
      "2025-01-27 10:15:25,914 INFO  [utils.enrich_polygons ]              enrich step 17/32 calculate WUI no\n",
      "2025-01-27 10:15:25,915 INFO  [utils.enrich_polygons ]              enrich step 18/32 feature to point\n",
      "2025-01-27 10:15:25,926 INFO  [utils.enrich_polygons ]              enrich step 19/32 setup ORIG_FID\n",
      "2025-01-27 10:15:25,927 INFO  [utils.enrich_polygons ]           Calculating Ownership, Counties, and Regions...\n",
      "2025-01-27 10:15:26,597 INFO  [utils.enrich_polygons ]              Loaded CALFIRE_Ownership_Update from cache\n",
      "2025-01-27 10:15:26,597 INFO  [utils.enrich_polygons ]                 time for loading CALFIRE_Ownership_Update: 0.6700139045715332\n",
      "2025-01-27 10:15:26,641 INFO  [utils.enrich_polygons ]              Loaded WFRTF_Regions from cache\n",
      "2025-01-27 10:15:26,641 INFO  [utils.enrich_polygons ]                 time for loading WFRTF_Regions: 0.04384922981262207\n",
      "2025-01-27 10:15:26,642 INFO  [utils.enrich_polygons ]              enrich step 20/32 spatial join ownership\n",
      "2025-01-27 10:15:27,539 INFO  [utils.enrich_polygons ]              enrich step 21/32 spatial join with regions layer\n",
      "2025-01-27 10:15:27,749 INFO  [utils.enrich_polygons ]              enrich step 22/32 add ownership and region\n",
      "2025-01-27 10:15:27,757 INFO  [utils.enrich_polygons ]              enrich step 23/32 calculate ownership field\n",
      "2025-01-27 10:15:27,757 INFO  [utils.enrich_polygons ]              enrich step 24/32 calculate county field\n",
      "2025-01-27 10:15:27,758 INFO  [utils.enrich_polygons ]              enrich step 25/32 calculate region field\n",
      "2025-01-27 10:15:27,759 INFO  [utils.enrich_polygons ]              enrich step 26/32 set TRMT_GEOM\n",
      "2025-01-27 10:15:27,759 INFO  [utils.enrich_polygons ]              enrich step 27/32 calculating years...\n",
      "2025-01-27 10:15:27,766 INFO  [utils.enrich_polygons ]              enrich step 28/32 Initiating Crosswalk...\n",
      "2025-01-27 10:15:27,767 INFO  [utils.crosswalk       ]           Calculating Crosswalking Activites...\n",
      "2025-01-27 10:15:27,767 INFO  [utils.crosswalk       ]              Load Crosswalk table...\n",
      "2025-01-27 10:15:27,864 INFO  [utils.crosswalk       ]              cross step 1/8 add join\n",
      "2025-01-27 10:15:27,870 INFO  [utils.crosswalk       ]              cross step 2/8 calculate activities\n",
      "2025-01-27 10:15:27,871 INFO  [utils.crosswalk       ]              cross step 3/8 calculate residue fate field\n",
      "2025-01-27 10:15:27,872 INFO  [utils.crosswalk       ]              cross step 4/8 select attribute by layer\n",
      "2025-01-27 10:15:27,873 INFO  [utils.crosswalk       ]              cross step 5/8 calculating objective...\n",
      "2025-01-27 10:15:27,876 INFO  [utils.crosswalk       ]              cross step 6/8 calculate category\n",
      "2025-01-27 10:15:27,884 INFO  [utils.crosswalk       ]              cross step 7/8 standardize domains\n",
      "2025-01-27 10:15:27,907 INFO  [utils.crosswalk       ]              cross step 8/8 counts towards MAS\n",
      "2025-01-27 10:15:27,908 INFO  [utils.counts_to_mas   ]           Calculating Counts to MAS\n",
      "2025-01-27 10:15:27,908 INFO  [utils.counts_to_mas   ]              counts step 1/8: set to 'NO'\n",
      "2025-01-27 10:15:27,909 INFO  [utils.counts_to_mas   ]              counts step 2/8: select by bounding years (2010-2025)\n",
      "2025-01-27 10:15:27,911 INFO  [utils.counts_to_mas   ]              counts step 3/8: set to 'YES' if activity description is in the list\n",
      "2025-01-27 10:15:27,912 INFO  [utils.counts_to_mas   ]              counts step 4/8: set to 'NO' if not 'Acres'\n",
      "2025-01-27 10:15:27,913 INFO  [utils.counts_to_mas   ]              counts step 5/8: set to 'NO' if status is 'Canceled', 'Planned', 'Outyear', or 'Proposed'\n",
      "2025-01-27 10:15:27,913 INFO  [utils.counts_to_mas   ]              counts step 6/8: set to 'NO' if Activity Category is 'Watershed Improvement'\n",
      "2025-01-27 10:15:27,914 INFO  [utils.counts_to_mas   ]              counts step 7/8: set to 'NO' if Agency is 'Other' and Admin is 'CARB'\n"
     ]
    },
    {
     "name": "stderr",
     "output_type": "stream",
     "text": [
      "2025-01-27 10:15:27,915 INFO  [utils.counts_to_mas   ]              counts step 8/8: set to 'NO' if Org is 'USFS' and Status is 'Active'\n",
      "2025-01-27 10:15:27,919 INFO  [utils.enrich_polygons ]           Crosswalk Complete. Continuing Enrichment...\n",
      "2025-01-27 10:15:27,919 INFO  [utils.enrich_polygons ]              enrich step 29/32 Calculating Latitude and Longitude...\n",
      "2025-01-27 10:15:27,939 INFO  [utils.enrich_polygons ]              enrich step 30/32 calculate treatment acres\n",
      "2025-01-27 10:15:27,942 INFO  [utils.enrich_polygons ]              enrich step 31/32 removing unnecessary fields\n",
      "2025-01-27 10:15:27,944 INFO  [utils.enrich_polygons ]              enrich step 32/32 delete if County is Null\n",
      "2025-01-27 10:15:28,210 INFO  [enrich.enrich_NPS     ]     step 9/11 adding treatment ID\n",
      "2025-01-27 10:15:28,218 INFO  [enrich.enrich_NPS     ]     step 10/11 Assign Domains...\n",
      "2025-01-27 10:15:28,499 INFO  [utils.assign_domains  ]        Created domain 'D_OBJECTIVE' with 27 values\n",
      "2025-01-27 10:15:28,501 INFO  [utils.assign_domains  ]        Created domain 'D_STATUS' with 6 values\n",
      "2025-01-27 10:15:28,506 INFO  [utils.assign_domains  ]        Created domain 'D_CNTY' with 59 values\n",
      "2025-01-27 10:15:28,509 INFO  [utils.assign_domains  ]        Created domain 'D_IN_WUI' with 4 values\n",
      "2025-01-27 10:15:28,512 INFO  [utils.assign_domains  ]        Created domain 'D_ACTVDSCRP' with 61 values\n",
      "2025-01-27 10:15:28,514 INFO  [utils.assign_domains  ]        Created domain 'D_ACTVCAT' with 8 values\n",
      "2025-01-27 10:15:28,516 INFO  [utils.assign_domains  ]        Created domain 'D_USERDEFINED' with 2 values\n",
      "2025-01-27 10:15:28,518 INFO  [utils.assign_domains  ]        Created domain 'D_BVT' with 8 values\n",
      "2025-01-27 10:15:28,521 INFO  [utils.assign_domains  ]        Created domain 'D_RESIDUEFATE' with 15 values\n",
      "2025-01-27 10:15:28,522 INFO  [utils.assign_domains  ]        Created domain 'D_UOM' with 6 values\n",
      "2025-01-27 10:15:28,524 INFO  [utils.assign_domains  ]        Created domain 'D_TASKFORCE' with 5 values\n",
      "2025-01-27 10:15:28,526 INFO  [utils.assign_domains  ]        Created domain 'D_PR_OWN_GR' with 7 values\n",
      "2025-01-27 10:15:28,529 INFO  [utils.assign_domains  ]        Created domain 'D_FNDSRC' with 11 values\n",
      "2025-01-27 10:15:28,531 INFO  [utils.assign_domains  ]        Created domain 'D_AGENCY' with 8 values\n",
      "2025-01-27 10:15:28,533 INFO  [utils.assign_domains  ]        Created domain 'D_ORGANIZATION' with 31 values\n",
      "2025-01-27 10:15:28,535 INFO  [utils.assign_domains  ]        Warning: 1 rows with NULL values were dropped from 'D_DATASTATUS'\n",
      "2025-01-27 10:15:28,536 INFO  [utils.assign_domains  ]        Created domain 'D_DATASTATUS' with 2 values\n",
      "2025-01-27 10:15:28,538 INFO  [utils.assign_domains  ]        Created domain 'D_DATAMSG' with 3 values\n",
      "2025-01-27 10:15:28,540 INFO  [utils.assign_domains  ]        Created domain 'D_VERFIEDMSG' with 2 values\n",
      "2025-01-27 10:15:28,542 INFO  [utils.assign_domains  ]        Created domain 'D_TRMT_GEOM' with 4 values\n",
      "2025-01-27 10:15:28,542 INFO  [utils.assign_domains  ]        Assign domains to project-related columns\n",
      "2025-01-27 10:15:28,549 INFO  [utils.assign_domains  ]        Assign domains to treatment-related columns\n",
      "2025-01-27 10:15:28,557 INFO  [utils.assign_domains  ]        Assign domains to activity-related columns\n",
      "2025-01-27 10:15:29,094 INFO  [its_logging.logger_config]  Memory usage: 378.82 MB\n"
     ]
    }
   ],
   "source": [
    "NPS_gpd = enrich_NPS_from_gdb(nps_gdb_path,\n",
    "                    nps_layer_name,\n",
    "                    a_reference_gdb_path,\n",
    "                    start_year,\n",
    "                    end_year,\n",
    "                    output_gdb_path,\n",
    "                    output_layer_name)\n",
    "\n",
    "# Get memory usage in bytes, convert to MB\n",
    "memory_usage = process.memory_info().rss / 1024 / 1024\n",
    "logger.info(f\"Memory usage: {memory_usage:.2f} MB\")"
   ]
  },
  {
   "cell_type": "code",
   "execution_count": 20,
   "id": "bf3a8d66",
   "metadata": {},
   "outputs": [],
   "source": [
    "NPS_reference = gpd.read_file(r'D:\\WORK\\wildfire\\Interagency-Tracking-System\\its\\Interagency Tracking System.gdb', driver='openFileGDB', layer='nps_flat_fuels_enriched2023_20240925')"
   ]
  },
  {
   "cell_type": "code",
   "execution_count": 21,
   "id": "860a95ab",
   "metadata": {},
   "outputs": [
    {
     "data": {
      "text/plain": [
       "Index(['PROJECTID_USER', 'AGENCY', 'ORG_ADMIN_p', 'PROJECT_CONTACT',\n",
       "       'PROJECT_EMAIL', 'ADMINISTERING_ORG', 'PROJECT_NAME', 'PROJECT_STATUS',\n",
       "       'PROJECT_START', 'PROJECT_END', 'PRIMARY_FUNDING_SOURCE',\n",
       "       'PRIMARY_FUNDING_ORG', 'IMPLEMENTING_ORG', 'LATITUDE', 'LONGITUDE',\n",
       "       'BatchID_p', 'Val_Status_p', 'Val_MSG_p', 'Val_RunDate_p',\n",
       "       'Review_Status_p', 'Review_MSG_p', 'Review_RunDate_p',\n",
       "       'Dataload_Status_p', 'Dataload_Msg_p', 'TRMTID_USER', 'PROJECTID',\n",
       "       'PROJECTNAME_', 'ORG_ADMIN_t', 'PRIMARY_OWNERSHIP_GROUP',\n",
       "       'PRIMARY_OBJECTIVE', 'SECONDARY_OBJECTIVE', 'TERTIARY_OBJECTIVE',\n",
       "       'TREATMENT_STATUS', 'COUNTY', 'IN_WUI', 'REGION', 'TREATMENT_AREA',\n",
       "       'TREATMENT_START', 'TREATMENT_END', 'RETREATMENT_DATE_EST',\n",
       "       'TREATMENT_NAME', 'BatchID', 'Val_Status_t', 'Val_MSG_t',\n",
       "       'Val_RunDate_t', 'Review_Status_t', 'Review_Msg_t', 'Review_RunDate_t',\n",
       "       'Dataload_Status_t', 'Dataload_Msg_t', 'ACTIVID_USER', 'TREATMENTID_',\n",
       "       'ORG_ADMIN_a', 'ACTIVITY_DESCRIPTION', 'ACTIVITY_CAT',\n",
       "       'BROAD_VEGETATION_TYPE', 'BVT_USERD', 'ACTIVITY_STATUS',\n",
       "       'ACTIVITY_QUANTITY', 'ACTIVITY_UOM', 'ACTIVITY_START', 'ACTIVITY_END',\n",
       "       'ADMIN_ORG_NAME', 'IMPLEM_ORG_NAME', 'PRIMARY_FUND_SRC_NAME',\n",
       "       'PRIMARY_FUND_ORG_NAME', 'SECONDARY_FUND_SRC_NAME',\n",
       "       'SECONDARY_FUND_ORG_NAME', 'TERTIARY_FUND_SRC_NAME',\n",
       "       'TERTIARY_FUND_ORG_NAME', 'ACTIVITY_PRCT', 'RESIDUE_FATE',\n",
       "       'RESIDUE_FATE_QUANTITY', 'RESIDUE_FATE_UNITS', 'ACTIVITY_NAME',\n",
       "       'VAL_STATUS_a', 'VAL_MSG_a', 'VAL_RUNDATE_a', 'REVIEW_STATUS_a',\n",
       "       'REVIEW_MSG_a', 'REVIEW_RUNDATE_a', 'DATALOAD_STATUS_a',\n",
       "       'DATALOAD_MSG_a', 'Source', 'Year', 'Year_txt', 'Act_Code', 'Crosswalk',\n",
       "       'Federal_FY', 'State_FY', 'TRMT_GEOM', 'COUNTS_TO_MAS', 'Shape_Length',\n",
       "       'Shape_Area', 'geometry'],\n",
       "      dtype='object')"
      ]
     },
     "execution_count": 21,
     "metadata": {},
     "output_type": "execute_result"
    }
   ],
   "source": [
    "NPS_reference.columns"
   ]
  },
  {
   "cell_type": "code",
   "execution_count": 22,
   "id": "2bc5d961",
   "metadata": {},
   "outputs": [
    {
     "data": {
      "text/html": [
       "<div>\n",
       "<style scoped>\n",
       "    .dataframe tbody tr th:only-of-type {\n",
       "        vertical-align: middle;\n",
       "    }\n",
       "\n",
       "    .dataframe tbody tr th {\n",
       "        vertical-align: top;\n",
       "    }\n",
       "\n",
       "    .dataframe thead th {\n",
       "        text-align: right;\n",
       "    }\n",
       "</style>\n",
       "<table border=\"1\" class=\"dataframe\">\n",
       "  <thead>\n",
       "    <tr style=\"text-align: right;\">\n",
       "      <th></th>\n",
       "      <th></th>\n",
       "      <th></th>\n",
       "      <th></th>\n",
       "      <th>ACTIVITY_QUANTITY</th>\n",
       "    </tr>\n",
       "    <tr>\n",
       "      <th>ADMINISTERING_ORG</th>\n",
       "      <th>COUNTS_TO_MAS</th>\n",
       "      <th>PRIMARY_OBJECTIVE</th>\n",
       "      <th>Year_txt</th>\n",
       "      <th></th>\n",
       "    </tr>\n",
       "  </thead>\n",
       "  <tbody>\n",
       "    <tr>\n",
       "      <th rowspan=\"11\" valign=\"top\">NPS</th>\n",
       "      <th rowspan=\"2\" valign=\"top\">NO</th>\n",
       "      <th>ECO_RESTOR</th>\n",
       "      <th>2023</th>\n",
       "      <td>481.000000000000000</td>\n",
       "    </tr>\n",
       "    <tr>\n",
       "      <th>NOT_DEFINED</th>\n",
       "      <th>2021</th>\n",
       "      <td>1018.000000000000000</td>\n",
       "    </tr>\n",
       "    <tr>\n",
       "      <th rowspan=\"9\" valign=\"top\">YES</th>\n",
       "      <th rowspan=\"3\" valign=\"top\">ECO_RESTOR</th>\n",
       "      <th>2020</th>\n",
       "      <td>1115.000000000000000</td>\n",
       "    </tr>\n",
       "    <tr>\n",
       "      <th>2021</th>\n",
       "      <td>451.000000000000000</td>\n",
       "    </tr>\n",
       "    <tr>\n",
       "      <th>2023</th>\n",
       "      <td>246.000000000000000</td>\n",
       "    </tr>\n",
       "    <tr>\n",
       "      <th rowspan=\"4\" valign=\"top\">OTHER_FUELS_REDUCTION</th>\n",
       "      <th>2020</th>\n",
       "      <td>1050.000000000000000</td>\n",
       "    </tr>\n",
       "    <tr>\n",
       "      <th>2021</th>\n",
       "      <td>3743.000000000000000</td>\n",
       "    </tr>\n",
       "    <tr>\n",
       "      <th>2022</th>\n",
       "      <td>3609.000000000000000</td>\n",
       "    </tr>\n",
       "    <tr>\n",
       "      <th>2023</th>\n",
       "      <td>4508.000000000000000</td>\n",
       "    </tr>\n",
       "    <tr>\n",
       "      <th rowspan=\"2\" valign=\"top\">PRESCRB_FIRE</th>\n",
       "      <th>2020</th>\n",
       "      <td>12051.000000000000000</td>\n",
       "    </tr>\n",
       "    <tr>\n",
       "      <th>2021</th>\n",
       "      <td>3480.000000000000000</td>\n",
       "    </tr>\n",
       "  </tbody>\n",
       "</table>\n",
       "</div>"
      ],
      "text/plain": [
       "                                                                   ACTIVITY_QUANTITY\n",
       "ADMINISTERING_ORG COUNTS_TO_MAS PRIMARY_OBJECTIVE     Year_txt                      \n",
       "NPS               NO            ECO_RESTOR            2023       481.000000000000000\n",
       "                                NOT_DEFINED           2021      1018.000000000000000\n",
       "                  YES           ECO_RESTOR            2020      1115.000000000000000\n",
       "                                                      2021       451.000000000000000\n",
       "                                                      2023       246.000000000000000\n",
       "                                OTHER_FUELS_REDUCTION 2020      1050.000000000000000\n",
       "                                                      2021      3743.000000000000000\n",
       "                                                      2022      3609.000000000000000\n",
       "                                                      2023      4508.000000000000000\n",
       "                                PRESCRB_FIRE          2020     12051.000000000000000\n",
       "                                                      2021      3480.000000000000000"
      ]
     },
     "execution_count": 22,
     "metadata": {},
     "output_type": "execute_result"
    }
   ],
   "source": [
    "NPS_reference[['ACTIVITY_QUANTITY', 'ADMINISTERING_ORG', 'COUNTS_TO_MAS', 'PRIMARY_OBJECTIVE', \"Year_txt\"]].groupby(['ADMINISTERING_ORG', 'COUNTS_TO_MAS', 'PRIMARY_OBJECTIVE', \"Year_txt\"]).sum()"
   ]
  },
  {
   "cell_type": "code",
   "execution_count": 34,
   "id": "d976a08c",
   "metadata": {},
   "outputs": [
    {
     "data": {
      "text/plain": [
       "0      MULTIPOLYGON Z (((-118551.063 270862.26 0, -11...\n",
       "1      MULTIPOLYGON Z (((-130560.279 416575.149 0, -1...\n",
       "2      MULTIPOLYGON Z (((234219.762 -110382.406 0, 23...\n",
       "3      MULTIPOLYGON Z (((-213822.819 291264.476 0, -2...\n",
       "4      MULTIPOLYGON Z (((-222842.298 297066.356 0, -2...\n",
       "                             ...                        \n",
       "155    MULTIPOLYGON Z (((262405.168 -192693.665 0, 26...\n",
       "156    MULTIPOLYGON Z (((33279.901 -32154.605 0, 3327...\n",
       "157    MULTIPOLYGON Z (((-128341.67 283518.877 0, -12...\n",
       "158    MULTIPOLYGON Z (((-335795.604 422976.427 0, -3...\n",
       "159    MULTIPOLYGON Z (((-136538.184 260521.098 0, -1...\n",
       "Name: geometry, Length: 160, dtype: geometry"
      ]
     },
     "execution_count": 34,
     "metadata": {},
     "output_type": "execute_result"
    }
   ],
   "source": [
    "NPS_reference.geometry"
   ]
  },
  {
   "cell_type": "code",
   "execution_count": 37,
   "id": "66c1d56e",
   "metadata": {},
   "outputs": [],
   "source": [
    "from shapely import MultiPolygon, Polygon\n",
    "NPS_gpd.geometry = NPS_gpd.geometry.apply(lambda x: MultiPolygon([x]) if isinstance(x, Polygon) else x)"
   ]
  },
  {
   "cell_type": "code",
   "execution_count": 44,
   "id": "58e30523",
   "metadata": {},
   "outputs": [
    {
     "ename": "AttributeError",
     "evalue": "'property' object has no attribute 'get'",
     "output_type": "error",
     "traceback": [
      "\u001b[1;31m---------------------------------------------------------------------------\u001b[0m",
      "\u001b[1;31mAttributeError\u001b[0m                            Traceback (most recent call last)",
      "Cell \u001b[1;32mIn[44], line 1\u001b[0m\n\u001b[1;32m----> 1\u001b[0m NPS_gpd\u001b[38;5;241m.\u001b[39mgeometry\u001b[38;5;241m.\u001b[39mapply(\u001b[38;5;28;01mlambda\u001b[39;00m x: \u001b[38;5;28mtype\u001b[39m(x))\n",
      "File \u001b[1;32m~\\.conda\\envs\\its_recode\\Lib\\site-packages\\geopandas\\geoseries.py:752\u001b[0m, in \u001b[0;36mGeoSeries.apply\u001b[1;34m(self, func, convert_dtype, args, **kwargs)\u001b[0m\n\u001b[0;32m    749\u001b[0m         kwargs[\u001b[38;5;124m\"\u001b[39m\u001b[38;5;124mconvert_dtype\u001b[39m\u001b[38;5;124m\"\u001b[39m] \u001b[38;5;241m=\u001b[39m \u001b[38;5;28;01mTrue\u001b[39;00m\n\u001b[0;32m    751\u001b[0m \u001b[38;5;66;03m# to avoid warning\u001b[39;00m\n\u001b[1;32m--> 752\u001b[0m result \u001b[38;5;241m=\u001b[39m \u001b[38;5;28msuper\u001b[39m()\u001b[38;5;241m.\u001b[39mapply(func, args\u001b[38;5;241m=\u001b[39margs, \u001b[38;5;241m*\u001b[39m\u001b[38;5;241m*\u001b[39mkwargs)\n\u001b[0;32m    753\u001b[0m \u001b[38;5;28;01mif\u001b[39;00m \u001b[38;5;28misinstance\u001b[39m(result, GeoSeries):\n\u001b[0;32m    754\u001b[0m     \u001b[38;5;28;01mif\u001b[39;00m \u001b[38;5;28mself\u001b[39m\u001b[38;5;241m.\u001b[39mcrs \u001b[38;5;129;01mis\u001b[39;00m \u001b[38;5;129;01mnot\u001b[39;00m \u001b[38;5;28;01mNone\u001b[39;00m:\n",
      "File \u001b[1;32m~\\.conda\\envs\\its_recode\\Lib\\site-packages\\pandas\\core\\series.py:4924\u001b[0m, in \u001b[0;36mSeries.apply\u001b[1;34m(self, func, convert_dtype, args, by_row, **kwargs)\u001b[0m\n\u001b[0;32m   4789\u001b[0m \u001b[38;5;28;01mdef\u001b[39;00m \u001b[38;5;21mapply\u001b[39m(\n\u001b[0;32m   4790\u001b[0m     \u001b[38;5;28mself\u001b[39m,\n\u001b[0;32m   4791\u001b[0m     func: AggFuncType,\n\u001b[1;32m   (...)\u001b[0m\n\u001b[0;32m   4796\u001b[0m     \u001b[38;5;241m*\u001b[39m\u001b[38;5;241m*\u001b[39mkwargs,\n\u001b[0;32m   4797\u001b[0m ) \u001b[38;5;241m-\u001b[39m\u001b[38;5;241m>\u001b[39m DataFrame \u001b[38;5;241m|\u001b[39m Series:\n\u001b[0;32m   4798\u001b[0m \u001b[38;5;250m    \u001b[39m\u001b[38;5;124;03m\"\"\"\u001b[39;00m\n\u001b[0;32m   4799\u001b[0m \u001b[38;5;124;03m    Invoke function on values of Series.\u001b[39;00m\n\u001b[0;32m   4800\u001b[0m \n\u001b[1;32m   (...)\u001b[0m\n\u001b[0;32m   4915\u001b[0m \u001b[38;5;124;03m    dtype: float64\u001b[39;00m\n\u001b[0;32m   4916\u001b[0m \u001b[38;5;124;03m    \"\"\"\u001b[39;00m\n\u001b[0;32m   4917\u001b[0m     \u001b[38;5;28;01mreturn\u001b[39;00m SeriesApply(\n\u001b[0;32m   4918\u001b[0m         \u001b[38;5;28mself\u001b[39m,\n\u001b[0;32m   4919\u001b[0m         func,\n\u001b[0;32m   4920\u001b[0m         convert_dtype\u001b[38;5;241m=\u001b[39mconvert_dtype,\n\u001b[0;32m   4921\u001b[0m         by_row\u001b[38;5;241m=\u001b[39mby_row,\n\u001b[0;32m   4922\u001b[0m         args\u001b[38;5;241m=\u001b[39margs,\n\u001b[0;32m   4923\u001b[0m         kwargs\u001b[38;5;241m=\u001b[39mkwargs,\n\u001b[1;32m-> 4924\u001b[0m     )\u001b[38;5;241m.\u001b[39mapply()\n",
      "File \u001b[1;32m~\\.conda\\envs\\its_recode\\Lib\\site-packages\\pandas\\core\\apply.py:1427\u001b[0m, in \u001b[0;36mSeriesApply.apply\u001b[1;34m(self)\u001b[0m\n\u001b[0;32m   1424\u001b[0m     \u001b[38;5;28;01mreturn\u001b[39;00m \u001b[38;5;28mself\u001b[39m\u001b[38;5;241m.\u001b[39mapply_compat()\n\u001b[0;32m   1426\u001b[0m \u001b[38;5;66;03m# self.func is Callable\u001b[39;00m\n\u001b[1;32m-> 1427\u001b[0m \u001b[38;5;28;01mreturn\u001b[39;00m \u001b[38;5;28mself\u001b[39m\u001b[38;5;241m.\u001b[39mapply_standard()\n",
      "File \u001b[1;32m~\\.conda\\envs\\its_recode\\Lib\\site-packages\\pandas\\core\\apply.py:1516\u001b[0m, in \u001b[0;36mSeriesApply.apply_standard\u001b[1;34m(self)\u001b[0m\n\u001b[0;32m   1514\u001b[0m     \u001b[38;5;28;01mreturn\u001b[39;00m obj\u001b[38;5;241m.\u001b[39m_constructor_expanddim(\u001b[38;5;28mlist\u001b[39m(mapped), index\u001b[38;5;241m=\u001b[39mobj\u001b[38;5;241m.\u001b[39mindex)\n\u001b[0;32m   1515\u001b[0m \u001b[38;5;28;01melse\u001b[39;00m:\n\u001b[1;32m-> 1516\u001b[0m     \u001b[38;5;28;01mreturn\u001b[39;00m obj\u001b[38;5;241m.\u001b[39m_constructor(mapped, index\u001b[38;5;241m=\u001b[39mobj\u001b[38;5;241m.\u001b[39mindex)\u001b[38;5;241m.\u001b[39m__finalize__(\n\u001b[0;32m   1517\u001b[0m         obj, method\u001b[38;5;241m=\u001b[39m\u001b[38;5;124m\"\u001b[39m\u001b[38;5;124mapply\u001b[39m\u001b[38;5;124m\"\u001b[39m\n\u001b[0;32m   1518\u001b[0m     )\n",
      "File \u001b[1;32m~\\.conda\\envs\\its_recode\\Lib\\site-packages\\geopandas\\geoseries.py:48\u001b[0m, in \u001b[0;36m_geoseries_constructor_with_fallback\u001b[1;34m(data, index, crs, **kwargs)\u001b[0m\n\u001b[0;32m     42\u001b[0m \u001b[38;5;250m\u001b[39m\u001b[38;5;124;03m\"\"\"\u001b[39;00m\n\u001b[0;32m     43\u001b[0m \u001b[38;5;124;03mA flexible constructor for GeoSeries._constructor, which needs to be able\u001b[39;00m\n\u001b[0;32m     44\u001b[0m \u001b[38;5;124;03mto fall back to a Series (if a certain operation does not produce\u001b[39;00m\n\u001b[0;32m     45\u001b[0m \u001b[38;5;124;03mgeometries)\u001b[39;00m\n\u001b[0;32m     46\u001b[0m \u001b[38;5;124;03m\"\"\"\u001b[39;00m\n\u001b[0;32m     47\u001b[0m \u001b[38;5;28;01mtry\u001b[39;00m:\n\u001b[1;32m---> 48\u001b[0m     \u001b[38;5;28;01mreturn\u001b[39;00m GeoSeries(data\u001b[38;5;241m=\u001b[39mdata, index\u001b[38;5;241m=\u001b[39mindex, crs\u001b[38;5;241m=\u001b[39mcrs, \u001b[38;5;241m*\u001b[39m\u001b[38;5;241m*\u001b[39mkwargs)\n\u001b[0;32m     49\u001b[0m \u001b[38;5;28;01mexcept\u001b[39;00m \u001b[38;5;167;01mTypeError\u001b[39;00m:\n\u001b[0;32m     50\u001b[0m     \u001b[38;5;28;01mreturn\u001b[39;00m Series(data\u001b[38;5;241m=\u001b[39mdata, index\u001b[38;5;241m=\u001b[39mindex, \u001b[38;5;241m*\u001b[39m\u001b[38;5;241m*\u001b[39mkwargs)\n",
      "File \u001b[1;32m~\\.conda\\envs\\its_recode\\Lib\\site-packages\\geopandas\\geoseries.py:223\u001b[0m, in \u001b[0;36mGeoSeries.__init__\u001b[1;34m(self, data, index, crs, **kwargs)\u001b[0m\n\u001b[0;32m    221\u001b[0m \u001b[38;5;66;03m# try to convert to GeometryArray\u001b[39;00m\n\u001b[0;32m    222\u001b[0m \u001b[38;5;28;01mtry\u001b[39;00m:\n\u001b[1;32m--> 223\u001b[0m     data \u001b[38;5;241m=\u001b[39m from_shapely(data, crs)\n\u001b[0;32m    224\u001b[0m \u001b[38;5;28;01mexcept\u001b[39;00m \u001b[38;5;167;01mTypeError\u001b[39;00m:\n\u001b[0;32m    225\u001b[0m     \u001b[38;5;28;01mraise\u001b[39;00m \u001b[38;5;167;01mTypeError\u001b[39;00m(\n\u001b[0;32m    226\u001b[0m         \u001b[38;5;124m\"\u001b[39m\u001b[38;5;124mNon geometry data passed to GeoSeries constructor, \u001b[39m\u001b[38;5;124m\"\u001b[39m\n\u001b[0;32m    227\u001b[0m         \u001b[38;5;124mf\u001b[39m\u001b[38;5;124m\"\u001b[39m\u001b[38;5;124mreceived data of dtype \u001b[39m\u001b[38;5;124m'\u001b[39m\u001b[38;5;132;01m{\u001b[39;00ms\u001b[38;5;241m.\u001b[39mdtype\u001b[38;5;132;01m}\u001b[39;00m\u001b[38;5;124m'\u001b[39m\u001b[38;5;124m\"\u001b[39m\n\u001b[0;32m    228\u001b[0m     )\n",
      "File \u001b[1;32m~\\.conda\\envs\\its_recode\\Lib\\site-packages\\geopandas\\array.py:174\u001b[0m, in \u001b[0;36mfrom_shapely\u001b[1;34m(data, crs)\u001b[0m\n\u001b[0;32m    172\u001b[0m     out\u001b[38;5;241m.\u001b[39mappend(geom)\n\u001b[0;32m    173\u001b[0m \u001b[38;5;28;01melif\u001b[39;00m \u001b[38;5;28mhasattr\u001b[39m(geom, \u001b[38;5;124m\"\u001b[39m\u001b[38;5;124m__geo_interface__\u001b[39m\u001b[38;5;124m\"\u001b[39m):\n\u001b[1;32m--> 174\u001b[0m     geom \u001b[38;5;241m=\u001b[39m shapely\u001b[38;5;241m.\u001b[39mgeometry\u001b[38;5;241m.\u001b[39mshape(geom)\n\u001b[0;32m    175\u001b[0m     out\u001b[38;5;241m.\u001b[39mappend(geom)\n\u001b[0;32m    176\u001b[0m \u001b[38;5;28;01melif\u001b[39;00m isna(geom):\n",
      "File \u001b[1;32m~\\.conda\\envs\\its_recode\\Lib\\site-packages\\shapely\\geometry\\geo.py:91\u001b[0m, in \u001b[0;36mshape\u001b[1;34m(context)\u001b[0m\n\u001b[0;32m     89\u001b[0m \u001b[38;5;28;01melse\u001b[39;00m:\n\u001b[0;32m     90\u001b[0m     ob \u001b[38;5;241m=\u001b[39m context\n\u001b[1;32m---> 91\u001b[0m geom_type \u001b[38;5;241m=\u001b[39m ob\u001b[38;5;241m.\u001b[39mget(\u001b[38;5;124m\"\u001b[39m\u001b[38;5;124mtype\u001b[39m\u001b[38;5;124m\"\u001b[39m)\u001b[38;5;241m.\u001b[39mlower()\n\u001b[0;32m     92\u001b[0m \u001b[38;5;28;01mif\u001b[39;00m \u001b[38;5;124m\"\u001b[39m\u001b[38;5;124mcoordinates\u001b[39m\u001b[38;5;124m\"\u001b[39m \u001b[38;5;129;01min\u001b[39;00m ob \u001b[38;5;129;01mand\u001b[39;00m _is_coordinates_empty(ob[\u001b[38;5;124m\"\u001b[39m\u001b[38;5;124mcoordinates\u001b[39m\u001b[38;5;124m\"\u001b[39m]):\n\u001b[0;32m     93\u001b[0m     \u001b[38;5;28;01mreturn\u001b[39;00m _empty_shape_for_no_coordinates(geom_type)\n",
      "\u001b[1;31mAttributeError\u001b[0m: 'property' object has no attribute 'get'"
     ]
    }
   ],
   "source": [
    "NPS_gpd.geometry.apply(lambda x: type(x))"
   ]
  },
  {
   "cell_type": "code",
   "execution_count": 39,
   "id": "579bd24f",
   "metadata": {},
   "outputs": [],
   "source": [
    "NPS_gpd.to_file(output_gdb_path, \n",
    "                driver=\"OpenFileGDB\", \n",
    "                layer=output_layer_name)"
   ]
  },
  {
   "cell_type": "code",
   "execution_count": 8,
   "id": "d79da30d",
   "metadata": {},
   "outputs": [],
   "source": [
    "from enrich.enrich_BLM import enrich_BLM"
   ]
  },
  {
   "cell_type": "code",
   "execution_count": 9,
   "id": "86909eb3",
   "metadata": {},
   "outputs": [],
   "source": [
    "blm_input_gdb_path = r\"D:\\WORK\\wildfire\\Interagency-Tracking-System\\2023\\BLM_2023\\BLM_2010_2023_fromReisThomasViaUpload.gdb\"\n",
    "blm_input_layer_name = \"BLM_2010_2023_fromReisThomasViaUpload\"\n",
    "output_gdb_path = r\"D:\\WORK\\wildfire\\Interagency-Tracking-System\\its\\ITSGDB_backup\\tmp\\BLM_{}_{}.gdb\".format(start_year, end_year)\n",
    "output_layer_name = f\"BLM_enriched_{datetime.today().strftime('%Y%m%d')}\""
   ]
  },
  {
   "cell_type": "raw",
   "id": "82d8b5cb",
   "metadata": {},
   "source": [
    "\n",
    "enrich_BLM(blm_input_gdb_path,\n",
    "               blm_input_layer_name,\n",
    "               a_reference_gdb_path,\n",
    "               start_year,\n",
    "               end_year,\n",
    "               output_gdb_path,\n",
    "               output_layer_name)\n",
    "\n",
    "# Get memory usage in bytes, convert to MB\n",
    "memory_usage = process.memory_info().rss / 1024 / 1024\n",
    "logger.info(f\"Memory usage: {memory_usage:.2f} MB\")"
   ]
  },
  {
   "cell_type": "raw",
   "id": "6b3b9e08",
   "metadata": {},
   "source": [
    "from enrich.enrich_CNRA import enrich_CNRA"
   ]
  },
  {
   "cell_type": "code",
   "execution_count": 10,
   "id": "0146dd2f",
   "metadata": {},
   "outputs": [],
   "source": [
    "\n",
    "cnra_input_gdb_path = r\"D:\\WORK\\wildfire\\Interagency-Tracking-System\\2023\\CNRA_2023\\CNRA_Tracker_Data_Export_20241120.gdb\"\n",
    "cnra_polygon_layer_name = \"TREATMENT_POLY\"\n",
    "cnra_line_layer_name = \"TREATMENT_LINE\"\n",
    "cnra_point_layer_name = \"TREATMENT_POINT\"\n",
    "cnra_project_polygon_layer_name = \"PROJECT_POLY\"\n",
    "cnra_activity_layer_name = \"ACTIVITIES\"\n",
    "output_gdb_path = r\"D:\\WORK\\wildfire\\Interagency-Tracking-System\\its\\ITSGDB_backup\\tmp\\CNRA_{}_{}.gdb\".format(start_year, end_year)\n",
    "output_layer_name = f\"CNRA_enriched_{datetime.today().strftime('%Y%m%d')}\"\n"
   ]
  },
  {
   "cell_type": "raw",
   "id": "6abf98a1",
   "metadata": {},
   "source": [
    "\n",
    "enrich_CNRA(cnra_input_gdb_path,\n",
    "            cnra_polygon_layer_name,\n",
    "            cnra_line_layer_name,\n",
    "            cnra_point_layer_name,\n",
    "            cnra_project_polygon_layer_name,\n",
    "            cnra_activity_layer_name,\n",
    "            a_reference_gdb_path,\n",
    "            start_year,\n",
    "            end_year,\n",
    "            output_gdb_path,\n",
    "            output_layer_name)\n",
    "\n",
    "# Get memory usage in bytes, convert to MB\n",
    "memory_usage = process.memory_info().rss / 1024 / 1024\n",
    "logger.info(f\"Memory usage: {memory_usage:.2f} MB\")\n"
   ]
  },
  {
   "cell_type": "raw",
   "id": "6dd82986",
   "metadata": {},
   "source": [
    "from enrich.enrich_CalTrans import enrich_Caltrans"
   ]
  },
  {
   "cell_type": "code",
   "execution_count": 11,
   "id": "cb66681f-509c-403c-9379-b13e10b2113a",
   "metadata": {},
   "outputs": [],
   "source": [
    "# temp file path\n",
    "caltrans_input_gdb_path = r\"D:\\WORK\\wildfire\\Interagency-Tracking-System\\2023\\CALTRANS_2023\\Caltrans_Vegetation_Management_20_23.gdb\"\n",
    "tree_activity_layer_name = \"Caltrans_Vegetation_Management_Trees_ActivitiesTable_20_23\"\n",
    "tree_treatment_layer_name = \"Caltrans_Vegetation_Management_Trees_Treatments_20_23\"\n",
    "road_activity_layer_name = \"Caltrans_Vegetation_Management_RoadsideLandscape_ActivitiesTable_20_23\"\n",
    "road_treatment_layer_name = \"Caltrans_Vegetation_Management_RoadsideLandscape_Treatments_20_23\"\n",
    "start_year = 2021\n",
    "end_year = 2023\n",
    "output_gdb_path = r\"D:\\WORK\\wildfire\\Interagency-Tracking-System\\its\\ITSGDB_backup\\tmp\\CalTRANS_{}_{}.gdb\".format(start_year, end_year)\n",
    "output_layer_name = f\"CalTRANS_enriched_{datetime.today().strftime('%Y%m%d')}\""
   ]
  },
  {
   "cell_type": "raw",
   "id": "6cb8c0d9",
   "metadata": {},
   "source": [
    "\n",
    "enrich_Caltrans(caltrans_input_gdb_path,\n",
    "                tree_activity_layer_name,\n",
    "                tree_treatment_layer_name,\n",
    "                road_activity_layer_name,\n",
    "                road_treatment_layer_name,\n",
    "                a_reference_gdb_path,\n",
    "                start_year,\n",
    "                end_year,\n",
    "                output_gdb_path,\n",
    "                output_layer_name)\n",
    "\n",
    "# Get memory usage in bytes, convert to MB\n",
    "memory_usage = process.memory_info().rss / 1024 / 1024\n",
    "logger.info(f\"Memory usage: {memory_usage:.2f} MB\")"
   ]
  },
  {
   "cell_type": "code",
   "execution_count": null,
   "id": "781b49f8",
   "metadata": {},
   "outputs": [],
   "source": []
  }
 ],
 "metadata": {
  "kernelspec": {
   "display_name": "Python 3 (ipykernel)",
   "language": "python",
   "name": "python3"
  },
  "language_info": {
   "codemirror_mode": {
    "name": "ipython",
    "version": 3
   },
   "file_extension": ".py",
   "mimetype": "text/x-python",
   "name": "python",
   "nbconvert_exporter": "python",
   "pygments_lexer": "ipython3",
   "version": "3.13.1"
  }
 },
 "nbformat": 4,
 "nbformat_minor": 5
}

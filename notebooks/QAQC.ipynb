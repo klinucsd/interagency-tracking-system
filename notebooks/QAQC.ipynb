{
 "cells": [
  {
   "cell_type": "code",
   "execution_count": 1,
   "id": "f9c48a90",
   "metadata": {},
   "outputs": [],
   "source": [
    "import os\n",
    "import numpy as np\n",
    "import pandas as pd\n",
    "import geopandas as gpd\n",
    "import sys\n",
    "import math\n",
    "import logging\n",
    "sys.path.append('../')\n",
    "\n",
    "#import dask_geopandas\n",
    "# some data need to be converted to multi-type again\n",
    "from utils.save_gdf_to_gdb import save_gdf_to_gdb\n",
    "#from process.footprint_report import update_ln, update_poly, update_pt\n",
    "from shapely import Polygon, MultiPolygon\n",
    "from shapely import affinity\n",
    "#import dask_geopandas\n",
    "\n",
    "from its_logging.logger_config import logger\n",
    "logger = logging.getLogger('process.footprint')"
   ]
  },
  {
   "cell_type": "code",
   "execution_count": 2,
   "id": "c771a69a",
   "metadata": {},
   "outputs": [],
   "source": [
    "upload_path = r\"D:\\WORK\\wildfire\\Interagency-Tracking-System\\its\\ITSGDB_backup\\V2.0upload\""
   ]
  },
  {
   "cell_type": "code",
   "execution_count": 48,
   "id": "d91fc02e",
   "metadata": {},
   "outputs": [
    {
     "data": {
      "text/plain": [
       "['ITS_V2.0_Activity.gdb',\n",
       " 'ITS_V2_0_Footprint_Points.gdb',\n",
       " 'ITS_V2_0_Footprint_Polygons.gdb',\n",
       " 'ITS_V2_0_Lines.gdb',\n",
       " 'ITS_V2_0_Points.gdb',\n",
       " 'ITS_V2_0_Polygons.gdb']"
      ]
     },
     "execution_count": 48,
     "metadata": {},
     "output_type": "execute_result"
    }
   ],
   "source": [
    "os.listdir(upload_path)"
   ]
  },
  {
   "cell_type": "code",
   "execution_count": 49,
   "id": "70f08157",
   "metadata": {},
   "outputs": [
    {
     "name": "stderr",
     "output_type": "stream",
     "text": [
      "C:\\Users\\sky\\.conda\\envs\\its_recode\\Lib\\site-packages\\pyogrio\\raw.py:198: RuntimeWarning: driver OpenFileGDB does not support open option DRIVER\n",
      "  return ogr_read(\n",
      "2025-08-27 12:04:21,192 INFO  [utils.save_gdf_to_gdb ]        Windows machine detected\n",
      "2025-08-27 12:04:21,192 INFO  [utils.save_gdf_to_gdb ]        Check geodataframe geometry object and cast to Multi-x type if both exist\n",
      "2025-08-27 12:04:21,203 INFO  [utils.save_gdf_to_gdb ]        Running GDAL OpenFileGDB to save to file\n"
     ]
    },
    {
     "name": "stdout",
     "output_type": "stream",
     "text": [
      "D:\\WORK\\wildfire\\Interagency-Tracking-System\\its\\ITSGDB_backup\\V2.0upload\\ITS_V2_0_Lines.gdb\n"
     ]
    },
    {
     "name": "stderr",
     "output_type": "stream",
     "text": [
      "2025-08-27 12:04:41,099 INFO  [pyogrio._io           ]  Created 131,658 records\n",
      "2025-08-27 12:04:45,052 INFO  [utils.save_gdf_to_gdb ]        File saved to D:\\WORK\\wildfire\\Interagency-Tracking-System\\its\\ITSGDB_backup\\V2.0upload\\ITS_V2_0_Lines.gdb ITS_V2_0_Lines\n",
      "C:\\Users\\sky\\.conda\\envs\\its_recode\\Lib\\site-packages\\pyogrio\\raw.py:198: RuntimeWarning: driver OpenFileGDB does not support open option DRIVER\n",
      "  return ogr_read(\n",
      "2025-08-27 12:04:48,145 INFO  [utils.save_gdf_to_gdb ]        Windows machine detected\n",
      "2025-08-27 12:04:48,145 INFO  [utils.save_gdf_to_gdb ]        Check geodataframe geometry object and cast to Multi-x type if both exist\n",
      "2025-08-27 12:04:48,147 INFO  [utils.save_gdf_to_gdb ]        Running GDAL OpenFileGDB to save to file\n"
     ]
    },
    {
     "name": "stdout",
     "output_type": "stream",
     "text": [
      "D:\\WORK\\wildfire\\Interagency-Tracking-System\\its\\ITSGDB_backup\\V2.0upload\\ITS_V2_0_Points.gdb\n"
     ]
    },
    {
     "name": "stderr",
     "output_type": "stream",
     "text": [
      "2025-08-27 12:04:49,100 INFO  [pyogrio._io           ]  Created 20,443 records\n",
      "2025-08-27 12:04:49,240 INFO  [utils.save_gdf_to_gdb ]        File saved to D:\\WORK\\wildfire\\Interagency-Tracking-System\\its\\ITSGDB_backup\\V2.0upload\\ITS_V2_0_Points.gdb ITS_V2_0_Points\n",
      "C:\\Users\\sky\\.conda\\envs\\its_recode\\Lib\\site-packages\\pyogrio\\raw.py:198: RuntimeWarning: driver OpenFileGDB does not support open option DRIVER\n",
      "  return ogr_read(\n"
     ]
    },
    {
     "name": "stdout",
     "output_type": "stream",
     "text": [
      "Found multiple geom types\n"
     ]
    }
   ],
   "source": [
    "for f in os.listdir(upload_path):\n",
    "    gdb_layer = gpd.list_layers(os.path.join(upload_path,f)).loc[0, 'name']\n",
    "    gdf = gpd.read_file(os.path.join(upload_path,f), driver='OpenFileGDB', layer=gdb_layer)\n",
    "    gdf.geometry = gdf.make_valid()\n",
    "    if len(gdf.geom_type.unique()) > 1:\n",
    "        print(\"Found multiple geom types\")\n",
    "        break\n",
    "    save_gdf_to_gdb(gdf,os.path.join(upload_path,f),gdb_layer)"
   ]
  },
  {
   "cell_type": "code",
   "execution_count": null,
   "id": "882e5d1a",
   "metadata": {},
   "outputs": [],
   "source": []
  },
  {
   "cell_type": "code",
   "execution_count": 59,
   "id": "75ebcfaf",
   "metadata": {},
   "outputs": [
    {
     "data": {
      "text/plain": [
       "array(['MultiPolygon'], dtype=object)"
      ]
     },
     "execution_count": 59,
     "metadata": {},
     "output_type": "execute_result"
    }
   ],
   "source": [
    "gdf.geom_type.unique()"
   ]
  },
  {
   "cell_type": "code",
   "execution_count": 56,
   "id": "d556a3ad",
   "metadata": {},
   "outputs": [],
   "source": [
    "def get_poly(geometry):\n",
    "    if isinstance(geometry, Polygon):\n",
    "        return MultiPolygon([geometry])\n",
    "    elif isinstance(geometry, MultiPolygon):\n",
    "        return geometry\n",
    "    else:\n",
    "        out = []\n",
    "        for geom in geometry.geoms:\n",
    "            if isinstance(geom, Polygon):\n",
    "                out.append(geom)\n",
    "            elif isinstance(geom, MultiPolygon):\n",
    "                for g in geom.geoms:\n",
    "                    out.append(g)\n",
    "            else:\n",
    "                continue\n",
    "        \n",
    "        return MultiPolygon(out)\n",
    "        "
   ]
  },
  {
   "cell_type": "code",
   "execution_count": 57,
   "id": "f874f1fd",
   "metadata": {},
   "outputs": [],
   "source": [
    "gdf.geometry = gdf.geometry.apply(get_poly)"
   ]
  },
  {
   "cell_type": "code",
   "execution_count": 58,
   "id": "793a3a03",
   "metadata": {},
   "outputs": [
    {
     "data": {
      "text/plain": [
       "np.True_"
      ]
     },
     "execution_count": 58,
     "metadata": {},
     "output_type": "execute_result"
    }
   ],
   "source": [
    "np.all(gdf.is_valid)"
   ]
  },
  {
   "cell_type": "code",
   "execution_count": 60,
   "id": "206f3a74",
   "metadata": {},
   "outputs": [
    {
     "name": "stderr",
     "output_type": "stream",
     "text": [
      "2025-08-27 12:12:00,993 INFO  [utils.save_gdf_to_gdb ]        Windows machine detected\n",
      "2025-08-27 12:12:00,993 INFO  [utils.save_gdf_to_gdb ]        Check geodataframe geometry object and cast to Multi-x type if both exist\n",
      "2025-08-27 12:12:01,030 INFO  [utils.save_gdf_to_gdb ]        Running GDAL OpenFileGDB to save to file\n"
     ]
    },
    {
     "name": "stdout",
     "output_type": "stream",
     "text": [
      "D:\\WORK\\wildfire\\Interagency-Tracking-System\\its\\ITSGDB_backup\\V2.0upload\\ITS_V2_0_Polygons.gdb\n"
     ]
    },
    {
     "name": "stderr",
     "output_type": "stream",
     "text": [
      "2025-08-27 12:12:28,509 INFO  [pyogrio._io           ]  Created 454,597 records\n",
      "2025-08-27 12:12:35,637 INFO  [utils.save_gdf_to_gdb ]        File saved to D:\\WORK\\wildfire\\Interagency-Tracking-System\\its\\ITSGDB_backup\\V2.0upload\\ITS_V2_0_Polygons.gdb ITS_V2_0_Polygons\n"
     ]
    }
   ],
   "source": [
    "save_gdf_to_gdb(gdf,os.path.join(upload_path,f),gdb_layer)"
   ]
  },
  {
   "cell_type": "code",
   "execution_count": 52,
   "id": "b1bb8dca",
   "metadata": {},
   "outputs": [
    {
     "name": "stderr",
     "output_type": "stream",
     "text": [
      "C:\\Users\\sky\\.conda\\envs\\its_recode\\Lib\\site-packages\\pyogrio\\raw.py:198: RuntimeWarning: driver OpenFileGDB does not support open option DRIVER\n",
      "  return ogr_read(\n"
     ]
    },
    {
     "name": "stdout",
     "output_type": "stream",
     "text": [
      "True\n"
     ]
    },
    {
     "name": "stderr",
     "output_type": "stream",
     "text": [
      "C:\\Users\\sky\\.conda\\envs\\its_recode\\Lib\\site-packages\\pyogrio\\raw.py:198: RuntimeWarning: driver OpenFileGDB does not support open option DRIVER\n",
      "  return ogr_read(\n"
     ]
    },
    {
     "name": "stdout",
     "output_type": "stream",
     "text": [
      "True\n"
     ]
    },
    {
     "name": "stderr",
     "output_type": "stream",
     "text": [
      "C:\\Users\\sky\\.conda\\envs\\its_recode\\Lib\\site-packages\\pyogrio\\raw.py:198: RuntimeWarning: driver OpenFileGDB does not support open option DRIVER\n",
      "  return ogr_read(\n"
     ]
    },
    {
     "name": "stdout",
     "output_type": "stream",
     "text": [
      "True\n"
     ]
    },
    {
     "name": "stderr",
     "output_type": "stream",
     "text": [
      "C:\\Users\\sky\\.conda\\envs\\its_recode\\Lib\\site-packages\\pyogrio\\raw.py:198: RuntimeWarning: driver OpenFileGDB does not support open option DRIVER\n",
      "  return ogr_read(\n"
     ]
    },
    {
     "name": "stdout",
     "output_type": "stream",
     "text": [
      "True\n"
     ]
    },
    {
     "name": "stderr",
     "output_type": "stream",
     "text": [
      "C:\\Users\\sky\\.conda\\envs\\its_recode\\Lib\\site-packages\\pyogrio\\raw.py:198: RuntimeWarning: driver OpenFileGDB does not support open option DRIVER\n",
      "  return ogr_read(\n"
     ]
    },
    {
     "name": "stdout",
     "output_type": "stream",
     "text": [
      "True\n"
     ]
    },
    {
     "name": "stderr",
     "output_type": "stream",
     "text": [
      "C:\\Users\\sky\\.conda\\envs\\its_recode\\Lib\\site-packages\\pyogrio\\raw.py:198: RuntimeWarning: driver OpenFileGDB does not support open option DRIVER\n",
      "  return ogr_read(\n"
     ]
    },
    {
     "name": "stdout",
     "output_type": "stream",
     "text": [
      "False\n"
     ]
    }
   ],
   "source": [
    "for f in os.listdir(upload_path):\n",
    "    gdb_layer = gpd.list_layers(os.path.join(upload_path,f)).loc[0, 'name']\n",
    "    gdf = gpd.read_file(os.path.join(upload_path,f), driver='OpenFileGDB', layer=gdb_layer)\n",
    "    print(np.all(gdf.is_valid))"
   ]
  },
  {
   "cell_type": "code",
   "execution_count": 53,
   "id": "a21ccc3f",
   "metadata": {},
   "outputs": [
    {
     "data": {
      "text/plain": [
       "'ITS_V2_0_Polygons'"
      ]
     },
     "execution_count": 53,
     "metadata": {},
     "output_type": "execute_result"
    }
   ],
   "source": [
    "gdb_layer"
   ]
  },
  {
   "cell_type": "code",
   "execution_count": 54,
   "id": "2b9484fc",
   "metadata": {},
   "outputs": [],
   "source": [
    "gdf.geometry = gdf.make_valid()"
   ]
  },
  {
   "cell_type": "code",
   "execution_count": 55,
   "id": "6fbab32e",
   "metadata": {},
   "outputs": [
    {
     "data": {
      "text/plain": [
       "array(['MultiPolygon', 'GeometryCollection'], dtype=object)"
      ]
     },
     "execution_count": 55,
     "metadata": {},
     "output_type": "execute_result"
    }
   ],
   "source": [
    "gdf.geom_type.unique()"
   ]
  },
  {
   "cell_type": "code",
   "execution_count": null,
   "id": "b6f668aa",
   "metadata": {},
   "outputs": [],
   "source": []
  }
 ],
 "metadata": {
  "kernelspec": {
   "display_name": "Python 3 (ipykernel)",
   "language": "python",
   "name": "python3"
  },
  "language_info": {
   "codemirror_mode": {
    "name": "ipython",
    "version": 3
   },
   "file_extension": ".py",
   "mimetype": "text/x-python",
   "name": "python",
   "nbconvert_exporter": "python",
   "pygments_lexer": "ipython3",
   "version": "3.13.1"
  }
 },
 "nbformat": 4,
 "nbformat_minor": 5
}

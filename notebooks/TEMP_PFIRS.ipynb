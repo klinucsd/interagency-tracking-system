{
 "cells": [
  {
   "cell_type": "code",
   "execution_count": 1,
   "id": "9cf7ae01",
   "metadata": {},
   "outputs": [],
   "source": [
    "import sys\n",
    "sys.path.append('../')"
   ]
  },
  {
   "cell_type": "code",
   "execution_count": 2,
   "id": "9b2324b8",
   "metadata": {},
   "outputs": [],
   "source": [
    "import geopandas as gpd\n",
    "import pandas as pd\n",
    "import time\n",
    "from datetime import datetime"
   ]
  },
  {
   "cell_type": "code",
   "execution_count": 3,
   "id": "d9b4ae72",
   "metadata": {},
   "outputs": [],
   "source": [
    "from its_logging.logger_config import logger"
   ]
  },
  {
   "cell_type": "code",
   "execution_count": 4,
   "id": "6ec2cdcf",
   "metadata": {},
   "outputs": [],
   "source": [
    "pfirs_gdb_path = r'D:\\WORK\\wildfire\\Interagency-Tracking-System\\2023\\PFIRS_2023\\PFIRS2023.gdb'\n",
    "pfirs_layer_name = 'PFIRS2023_20240624Pull'\n",
    "lookup_table_path = r'D:\\WORK\\wildfire\\Interagency-Tracking-System\\2023\\PFIRS_2023\\pfirs_agency_2022_2023_AT.xlsx'\n",
    "a_reference_gdb_path = r\"D:\\WORK\\wildfire\\Interagency-Tracking-System\\its\\Interagency Tracking System.gdb\"\n",
    "start_year, end_year = 2020, 2025\n",
    "\n",
    "output_gdb_path =  r\"D:\\WORK\\wildfire\\Interagency-Tracking-System\\its\\ITSGDB_backup\\tmp\\PFIRS_{}_{}.gdb\".format(start_year, end_year)\n",
    "output_layer_name = f\"PFIRS_{datetime.today().strftime('%Y%m%d')}\""
   ]
  },
  {
   "cell_type": "code",
   "execution_count": 6,
   "id": "6f723932",
   "metadata": {},
   "outputs": [],
   "source": [
    "from enrich.enrich_PFIRS import enrich_PFIRS"
   ]
  },
  {
   "cell_type": "code",
   "execution_count": 22,
   "id": "e6bd654b",
   "metadata": {},
   "outputs": [
    {
     "name": "stderr",
     "output_type": "stream",
     "text": [
      "2025-04-07 11:58:15,670 INFO  [enrich.enrich_PFIRS   ]  Load the PFIRS data into a GeoDataFrame\n",
      "2025-04-07 11:58:16,184 INFO  [enrich.enrich_PFIRS   ]     time for loading PFIRS2023_20240624Pull: 0.513556718826294\n",
      "2025-04-07 11:58:16,185 INFO  [enrich.enrich_PFIRS   ]     all required columns are present.\n",
      "2025-04-07 11:58:16,209 INFO  [enrich.enrich_PFIRS   ]  Performing Standardization\n",
      "2025-04-07 11:58:16,210 INFO  [enrich.enrich_PFIRS   ]     step 1/8 remove some agencies\n",
      "2025-04-07 11:58:16,227 INFO  [enrich.enrich_PFIRS   ]     step 2/8 rename fields\n",
      "2025-04-07 11:58:16,234 INFO  [enrich.enrich_PFIRS   ]     step 3/8 adding common columns...\n",
      "2025-04-07 11:58:16,308 INFO  [enrich.enrich_PFIRS   ]     step 4/8 import attributes\n",
      "2025-04-07 11:58:16,350 INFO  [enrich.enrich_PFIRS   ]        standardized has 12175 records\n",
      "2025-04-07 11:58:16,350 INFO  [enrich.enrich_PFIRS   ]     step 5/8 remove points that intersect burn polygons\n"
     ]
    }
   ],
   "source": [
    "gdf = enrich_PFIRS(pfirs_gdb_path,\n",
    "                 pfirs_layer_name,\n",
    "                 None,\n",
    "                 a_reference_gdb_path,\n",
    "                 lookup_table_path,\n",
    "                 start_year,\n",
    "                 end_year,\n",
    "                 output_gdb_path,\n",
    "                 output_layer_name)"
   ]
  },
  {
   "cell_type": "code",
   "execution_count": 136,
   "id": "8228da1d",
   "metadata": {},
   "outputs": [],
   "source": [
    "nfpors_input_gdb_path = r'D:\\WORK\\wildfire\\Interagency-Tracking-System\\2023\\NFPORS_2023\\NFPORS_2023_20240624_ServiceDownload.gdb'\n",
    "nfpors_polygon_layer_name = \"NFPORS_2023_20240619_Fuel_Treatment_Polygons_ServiceDownload\"\n",
    "nfpors_bia_layer_name = \"NFPORS_2023_20240619_Current_FY_Treatments_BIA_ServiceDownload\"\n",
    "nfpors_fws_layer_name = \"NFPORS_2023_20240619_Current_FY_Treatments_FWS_ServiceDownload\"\n",
    "a_reference_gdb_path = r\"D:\\WORK\\wildfire\\Interagency-Tracking-System\\its\\Interagency Tracking System.gdb\"\n",
    "start_year, end_year = 2020, 2025\n",
    "\n",
    "output_gdb_path =  r\"D:\\WORK\\wildfire\\Interagency-Tracking-System\\its\\ITSGDB_backup\\tmp\\NFPORS_{}_{}.gdb\".format(start_year, end_year)\n",
    "output_layer_name = f\"NFPORS_{datetime.today().strftime('%Y%m%d')}\""
   ]
  },
  {
   "cell_type": "code",
   "execution_count": null,
   "id": "f7b02b36",
   "metadata": {},
   "outputs": [],
   "source": []
  }
 ],
 "metadata": {
  "kernelspec": {
   "display_name": "Python 3 (ipykernel)",
   "language": "python",
   "name": "python3"
  },
  "language_info": {
   "codemirror_mode": {
    "name": "ipython",
    "version": 3
   },
   "file_extension": ".py",
   "mimetype": "text/x-python",
   "name": "python",
   "nbconvert_exporter": "python",
   "pygments_lexer": "ipython3",
   "version": "3.13.1"
  }
 },
 "nbformat": 4,
 "nbformat_minor": 5
}

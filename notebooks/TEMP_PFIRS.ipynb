{
 "cells": [
  {
   "cell_type": "code",
   "execution_count": 1,
   "id": "9cf7ae01",
   "metadata": {},
   "outputs": [],
   "source": [
    "import sys\n",
    "sys.path.append('../')"
   ]
  },
  {
   "cell_type": "code",
   "execution_count": 2,
   "id": "9b2324b8",
   "metadata": {},
   "outputs": [],
   "source": [
    "import geopandas as gpd\n",
    "import pandas as pd\n",
    "import time\n",
    "from datetime import datetime"
   ]
  },
  {
   "cell_type": "code",
   "execution_count": 3,
   "id": "d9b4ae72",
   "metadata": {},
   "outputs": [],
   "source": [
    "from its_logging.logger_config import logger"
   ]
  },
  {
   "cell_type": "code",
   "execution_count": 4,
   "id": "6ec2cdcf",
   "metadata": {},
   "outputs": [],
   "source": [
    "pfirs_gdb_path = r'D:\\WORK\\wildfire\\Interagency-Tracking-System\\V2.0\\PFIRS_V2.0\\PFIRS2024_combined.gdb'\n",
    "pfirs_layer_name = 'PFIRS2024'\n",
    "lookup_table_path = r'D:\\WORK\\wildfire\\Interagency-Tracking-System\\2023\\PFIRS_2023\\pfirs_agency_2022_2023_AT.xlsx'\n",
    "a_reference_gdb_path = r\"D:\\WORK\\wildfire\\Interagency-Tracking-System\\its\\Interagency Tracking System.gdb\"\n",
    "start_year, end_year = 1950, 2025\n",
    "\n",
    "output_gdb_path =  r\"D:\\WORK\\wildfire\\Interagency-Tracking-System\\its\\ITSGDB_backup\\V2.0\\PFIRS_{}_{}.gdb\".format(start_year, end_year)\n",
    "output_layer_name = f\"PFIRS_{datetime.today().strftime('%Y%m%d')}\""
   ]
  },
  {
   "cell_type": "code",
   "execution_count": null,
   "id": "271c5447",
   "metadata": {},
   "outputs": [],
   "source": []
  },
  {
   "cell_type": "code",
   "execution_count": null,
   "id": "833b8ca1",
   "metadata": {},
   "outputs": [],
   "source": []
  },
  {
   "cell_type": "code",
   "execution_count": 5,
   "id": "a3c757e9",
   "metadata": {},
   "outputs": [
    {
     "name": "stderr",
     "output_type": "stream",
     "text": [
      "C:\\Users\\sky\\.conda\\envs\\its_recode\\Lib\\site-packages\\pyogrio\\raw.py:198: RuntimeWarning: driver OpenFileGDB does not support open option DRIVER\n",
      "  return ogr_read(\n",
      "C:\\Users\\sky\\.conda\\envs\\its_recode\\Lib\\site-packages\\pyogrio\\raw.py:198: RuntimeWarning: organizePolygons() received a polygon with more than 100 parts. The processing may be really slow.  You can skip the processing by setting METHOD=SKIP, or only make it analyze counter-clock wise parts by setting METHOD=ONLY_CCW if you can assume that the outline of holes is counter-clock wise defined\n",
      "  return ogr_read(\n"
     ]
    }
   ],
   "source": [
    "append_path = r\"D:\\WORK\\wildfire\\Interagency-Tracking-System\\its\\ITSGDB_backup\\V2.0\\appended.gdb\"\n",
    "enriched_polygons = gpd.read_file(append_path, driver='OpenFileGDB', layer='appended_poly')"
   ]
  },
  {
   "cell_type": "code",
   "execution_count": 6,
   "id": "6f723932",
   "metadata": {},
   "outputs": [],
   "source": [
    "from enrich.enrich_PFIRS import enrich_PFIRS"
   ]
  },
  {
   "cell_type": "code",
   "execution_count": 7,
   "id": "e6bd654b",
   "metadata": {},
   "outputs": [
    {
     "name": "stderr",
     "output_type": "stream",
     "text": [
      "2025-07-18 12:19:55,238 INFO  [enrich.enrich_PFIRS   ]  Load the PFIRS data into a GeoDataFrame\n",
      "2025-07-18 12:19:56,164 INFO  [enrich.enrich_PFIRS   ]     time for loading PFIRS2024: 0.9256188869476318\n",
      "2025-07-18 12:19:56,165 INFO  [enrich.enrich_PFIRS   ]     all required columns are present.\n",
      "2025-07-18 12:19:56,210 INFO  [enrich.enrich_PFIRS   ]  Performing Standardization\n",
      "2025-07-18 12:19:56,210 INFO  [enrich.enrich_PFIRS   ]     step 1/8 remove some agencies\n",
      "2025-07-18 12:19:56,235 INFO  [enrich.enrich_PFIRS   ]     step 2/8 rename fields\n",
      "2025-07-18 12:19:56,246 INFO  [enrich.enrich_PFIRS   ]     step 3/8 adding common columns...\n",
      "2025-07-18 12:19:56,340 INFO  [enrich.enrich_PFIRS   ]     step 4/8 import attributes\n",
      "2025-07-18 12:19:56,401 INFO  [enrich.enrich_PFIRS   ]        standardized has 15847 records\n",
      "2025-07-18 12:19:56,401 INFO  [enrich.enrich_PFIRS   ]     step 5/8 remove points that intersect burn polygons\n",
      "2025-07-18 12:19:56,402 INFO  [enrich.enrich_PFIRS   ]     step 6/8 Remove Unnecessary Columns...\n",
      "2025-07-18 12:19:56,426 INFO  [enrich.enrich_PFIRS   ]  Performing Enrichments\n",
      "2025-07-18 12:19:56,427 INFO  [utils.enrich_points   ]        Executing Point Enrichments...\n",
      "2025-07-18 12:19:56,447 INFO  [utils.enrich_points   ]           Calculating WUI...\n",
      "2025-07-18 12:19:56,448 INFO  [utils.enrich_points   ]              enrich step 1/16 loading WUI from cache\n",
      "2025-07-18 12:19:56,639 INFO  [utils.enrich_points   ]                 time for loading WUI: 0.19091010093688965\n",
      "2025-07-18 12:19:56,640 INFO  [utils.enrich_points   ]              enrich step 2/16 select records with null WUI\n",
      "2025-07-18 12:19:56,674 INFO  [utils.enrich_points   ]              enrich step 3/16 select by WUI location\n",
      "2025-07-18 12:19:58,224 INFO  [utils.enrich_points   ]              enrich step 4/16 calculate WUI yes\n",
      "2025-07-18 12:19:58,226 INFO  [utils.enrich_points   ]              enrich step 5/16 select remaining null records\n",
      "2025-07-18 12:19:58,244 INFO  [utils.enrich_points   ]              enrich step 6/16 calculate WUI no\n",
      "2025-07-18 12:19:58,245 INFO  [utils.enrich_points   ]           Calculating Ownership, Counties, and Regions...\n",
      "2025-07-18 12:19:58,246 INFO  [utils.enrich_points   ]              enrich step 7/16 loading CALFIRE_Ownership_Update from cache\n",
      "2025-07-18 12:19:58,674 INFO  [utils.enrich_points   ]                 time for loading CALFIRE_Ownership_Update: 0.428131103515625\n",
      "2025-07-18 12:19:58,675 INFO  [utils.enrich_points   ]              enrich step 8/16 spatial join ownership\n",
      "2025-07-18 12:20:26,434 INFO  [utils.enrich_points   ]              enrich step 9/16 loading WFRTF_Regions from cache\n",
      "2025-07-18 12:20:26,444 INFO  [utils.enrich_points   ]                 time for loading WFRTF_Regions: 0.00988626480102539\n",
      "2025-07-18 12:20:26,444 INFO  [utils.enrich_points   ]              enrich step 10/16 spatial join regions\n",
      "2025-07-18 12:20:39,412 INFO  [utils.enrich_points   ]              enrich step 11/16 loading Broad_Vegetation_Types from cache\n",
      "2025-07-18 12:20:44,512 INFO  [utils.enrich_points   ]                 time for loading Broad_Vegetation_Types: 18.078532218933105\n",
      "2025-07-18 12:20:44,513 INFO  [utils.enrich_points   ]              enrich step 12/16 spatial join veg and calculations\n",
      "2025-07-18 12:21:51,279 INFO  [utils.enrich_points   ]              enrich step 13/16 Initiating Crosswalk\n",
      "2025-07-18 12:21:51,280 INFO  [utils.crosswalk       ]           Calculating Crosswalking Activites...\n",
      "2025-07-18 12:21:51,280 INFO  [utils.crosswalk       ]              Load Crosswalk table...\n",
      "2025-07-18 12:21:51,310 INFO  [utils.crosswalk       ]              cross step 1/8 add join\n",
      "2025-07-18 12:21:51,351 INFO  [utils.crosswalk       ]              cross step 2/8 calculate activities\n",
      "2025-07-18 12:21:51,354 INFO  [utils.crosswalk       ]              cross step 3/8 calculate residue fate field\n",
      "2025-07-18 12:21:51,356 INFO  [utils.crosswalk       ]              cross step 4/8 select attribute by layer\n",
      "2025-07-18 12:21:51,357 INFO  [utils.crosswalk       ]              cross step 5/8 calculating objective...\n",
      "C:\\Users\\sky\\.conda\\envs\\its_recode\\Lib\\site-packages\\geopandas\\geodataframe.py:1819: SettingWithCopyWarning: \n",
      "A value is trying to be set on a copy of a slice from a DataFrame.\n",
      "Try using .loc[row_indexer,col_indexer] = value instead\n",
      "\n",
      "See the caveats in the documentation: https://pandas.pydata.org/pandas-docs/stable/user_guide/indexing.html#returning-a-view-versus-a-copy\n",
      "  super().__setitem__(key, value)\n",
      "C:\\Users\\sky\\.conda\\envs\\its_recode\\Lib\\site-packages\\geopandas\\geodataframe.py:1819: SettingWithCopyWarning: \n",
      "A value is trying to be set on a copy of a slice from a DataFrame.\n",
      "Try using .loc[row_indexer,col_indexer] = value instead\n",
      "\n",
      "See the caveats in the documentation: https://pandas.pydata.org/pandas-docs/stable/user_guide/indexing.html#returning-a-view-versus-a-copy\n",
      "  super().__setitem__(key, value)\n",
      "2025-07-18 12:21:51,403 INFO  [utils.crosswalk       ]              cross step 6/8 calculate category\n",
      "2025-07-18 12:21:51,522 INFO  [utils.crosswalk       ]              cross step 7/8 standardize domains\n",
      "2025-07-18 12:21:51,889 INFO  [utils.crosswalk       ]              cross step 8/8 counts towards MAS\n",
      "2025-07-18 12:21:51,889 INFO  [utils.counts_to_mas   ]           Calculating Counts to MAS\n",
      "2025-07-18 12:21:51,890 INFO  [utils.counts_to_mas   ]              counts step 1/8: set to 'NO'\n",
      "2025-07-18 12:21:51,890 INFO  [utils.counts_to_mas   ]              counts step 2/8: select by bounding years (1950-2025)\n",
      "2025-07-18 12:21:51,896 INFO  [utils.counts_to_mas   ]              counts step 3/8: set to 'YES' if activity description is in the list\n",
      "2025-07-18 12:21:51,897 INFO  [utils.counts_to_mas   ]              counts step 4/8: set to 'NO' if not 'Acres'\n",
      "2025-07-18 12:21:51,898 INFO  [utils.counts_to_mas   ]              counts step 5/8: set to 'NO' if status is 'Canceled', 'Planned', 'Outyear', or 'Proposed'\n",
      "2025-07-18 12:21:51,899 INFO  [utils.counts_to_mas   ]              counts step 6/8: set to 'NO' if Activity Category is 'Watershed Improvement'\n",
      "2025-07-18 12:21:51,900 INFO  [utils.counts_to_mas   ]              counts step 7/8: set to 'NO' if Agency is 'Other' and Admin is 'CARB'\n",
      "2025-07-18 12:21:51,906 INFO  [utils.counts_to_mas   ]              counts step 8/8: set to 'NO' if Org is 'USFS' and Status is 'Active'\n",
      "2025-07-18 12:21:51,925 INFO  [utils.enrich_points   ]           Crosswalk Complete. Continuing Enrichment...\n",
      "2025-07-18 12:21:51,926 INFO  [utils.enrich_points   ]              enrich step 14/16 calculating Years\n",
      "2025-07-18 12:21:51,969 INFO  [utils.enrich_points   ]              enrich step 15/16 calculating Latitude and Longitude\n",
      "2025-07-18 12:21:51,973 INFO  [utils.enrich_points   ]              enrich step 16/16 removing unnecessary fields\n",
      "2025-07-18 12:21:51,987 INFO  [utils.enrich_points   ]           Enrich Points Complete...\n",
      "2025-07-18 12:21:52,217 INFO  [enrich.enrich_PFIRS   ]     step 7/8 Assign Domains...\n",
      "2025-07-18 12:21:52,288 INFO  [utils.assign_domains  ]        Created domain 'D_OBJECTIVE' with 27 values\n",
      "2025-07-18 12:21:52,294 INFO  [utils.assign_domains  ]        Created domain 'D_STATUS' with 6 values\n",
      "2025-07-18 12:21:52,302 INFO  [utils.assign_domains  ]        Created domain 'D_CNTY' with 59 values\n",
      "2025-07-18 12:21:52,308 INFO  [utils.assign_domains  ]        Created domain 'D_IN_WUI' with 4 values\n",
      "2025-07-18 12:21:52,316 INFO  [utils.assign_domains  ]        Created domain 'D_ACTVDSCRP' with 61 values\n",
      "2025-07-18 12:21:52,322 INFO  [utils.assign_domains  ]        Created domain 'D_ACTVCAT' with 8 values\n",
      "2025-07-18 12:21:52,328 INFO  [utils.assign_domains  ]        Created domain 'D_USERDEFINED' with 2 values\n",
      "2025-07-18 12:21:52,334 INFO  [utils.assign_domains  ]        Created domain 'D_BVT' with 8 values\n",
      "2025-07-18 12:21:52,341 INFO  [utils.assign_domains  ]        Created domain 'D_RESIDUEFATE' with 15 values\n",
      "2025-07-18 12:21:52,347 INFO  [utils.assign_domains  ]        Created domain 'D_UOM' with 6 values\n",
      "2025-07-18 12:21:52,353 INFO  [utils.assign_domains  ]        Created domain 'D_TASKFORCE' with 5 values\n",
      "2025-07-18 12:21:52,360 INFO  [utils.assign_domains  ]        Created domain 'D_PR_OWN_GR' with 7 values\n"
     ]
    },
    {
     "name": "stderr",
     "output_type": "stream",
     "text": [
      "2025-07-18 12:21:52,367 INFO  [utils.assign_domains  ]        Created domain 'D_FNDSRC' with 11 values\n",
      "2025-07-18 12:21:52,373 INFO  [utils.assign_domains  ]        Created domain 'D_AGENCY' with 9 values\n",
      "2025-07-18 12:21:52,381 INFO  [utils.assign_domains  ]        Created domain 'D_ORGANIZATION' with 32 values\n",
      "2025-07-18 12:21:52,388 INFO  [utils.assign_domains  ]        Warning: 1 rows with NULL values were dropped from 'D_DATASTATUS'\n",
      "2025-07-18 12:21:52,388 INFO  [utils.assign_domains  ]        Created domain 'D_DATASTATUS' with 2 values\n",
      "2025-07-18 12:21:52,394 INFO  [utils.assign_domains  ]        Created domain 'D_DATAMSG' with 3 values\n",
      "2025-07-18 12:21:52,401 INFO  [utils.assign_domains  ]        Created domain 'D_VERFIEDMSG' with 2 values\n",
      "2025-07-18 12:21:52,407 INFO  [utils.assign_domains  ]        Created domain 'D_TRMT_GEOM' with 4 values\n",
      "2025-07-18 12:21:52,408 INFO  [utils.assign_domains  ]        Assign domains to project-related columns\n",
      "2025-07-18 12:21:52,424 INFO  [utils.assign_domains  ]        Assign domains to treatment-related columns\n",
      "2025-07-18 12:21:52,442 INFO  [utils.assign_domains  ]        Assign domains to activity-related columns\n",
      "2025-07-18 12:21:52,881 INFO  [enrich.enrich_PFIRS   ]     step 8/8 Save Result...\n",
      "2025-07-18 12:21:52,881 INFO  [utils.save_gdf_to_gdb ]        Windows machine detected\n",
      "2025-07-18 12:21:52,881 INFO  [utils.save_gdf_to_gdb ]        Check geodataframe geometry object and cast to Multi-x type if both exist\n",
      "2025-07-18 12:21:52,883 INFO  [utils.save_gdf_to_gdb ]        Running GDAL OpenFileGDB to save to file\n"
     ]
    },
    {
     "name": "stdout",
     "output_type": "stream",
     "text": [
      "D:\\WORK\\wildfire\\Interagency-Tracking-System\\its\\ITSGDB_backup\\V2.0\\PFIRS_1950_2025.gdb\n"
     ]
    },
    {
     "name": "stderr",
     "output_type": "stream",
     "text": [
      "2025-07-18 12:21:53,631 INFO  [utils.save_gdf_to_gdb ]        File saved to D:\\WORK\\wildfire\\Interagency-Tracking-System\\its\\ITSGDB_backup\\V2.0\\PFIRS_1950_2025.gdb PFIRS_20250718\n"
     ]
    }
   ],
   "source": [
    "enrich_PFIRS(pfirs_gdb_path,\n",
    "             pfirs_layer_name,\n",
    "             enriched_polygons,\n",
    "             a_reference_gdb_path,\n",
    "             lookup_table_path,\n",
    "             start_year,\n",
    "             end_year,\n",
    "             output_gdb_path,\n",
    "             output_layer_name)"
   ]
  },
  {
   "cell_type": "code",
   "execution_count": 8,
   "id": "e47c6f61",
   "metadata": {},
   "outputs": [],
   "source": [
    "PFIRS_enriched = gpd.read_file(output_gdb_path,\n",
    "                               driver='OpenFileGDB',\n",
    "                               layer=output_layer_name)"
   ]
  },
  {
   "cell_type": "code",
   "execution_count": 13,
   "id": "fd1e887e",
   "metadata": {},
   "outputs": [
    {
     "data": {
      "text/html": [
       "<div>\n",
       "<style scoped>\n",
       "    .dataframe tbody tr th:only-of-type {\n",
       "        vertical-align: middle;\n",
       "    }\n",
       "\n",
       "    .dataframe tbody tr th {\n",
       "        vertical-align: top;\n",
       "    }\n",
       "\n",
       "    .dataframe thead th {\n",
       "        text-align: right;\n",
       "    }\n",
       "</style>\n",
       "<table border=\"1\" class=\"dataframe\">\n",
       "  <thead>\n",
       "    <tr style=\"text-align: right;\">\n",
       "      <th></th>\n",
       "      <th>PROJECTID_USER</th>\n",
       "      <th>AGENCY</th>\n",
       "      <th>ORG_ADMIN_p</th>\n",
       "      <th>PROJECT_CONTACT</th>\n",
       "      <th>PROJECT_EMAIL</th>\n",
       "      <th>ADMINISTERING_ORG</th>\n",
       "      <th>PROJECT_NAME</th>\n",
       "      <th>PROJECT_STATUS</th>\n",
       "      <th>PROJECT_START</th>\n",
       "      <th>PROJECT_END</th>\n",
       "      <th>...</th>\n",
       "      <th>Source</th>\n",
       "      <th>Year</th>\n",
       "      <th>Year_txt</th>\n",
       "      <th>Act_Code</th>\n",
       "      <th>Crosswalk</th>\n",
       "      <th>Federal_FY</th>\n",
       "      <th>State_FY</th>\n",
       "      <th>TRMT_GEOM</th>\n",
       "      <th>COUNTS_TO_MAS</th>\n",
       "      <th>geometry</th>\n",
       "    </tr>\n",
       "  </thead>\n",
       "  <tbody>\n",
       "  </tbody>\n",
       "</table>\n",
       "<p>0 rows × 91 columns</p>\n",
       "</div>"
      ],
      "text/plain": [
       "Empty GeoDataFrame\n",
       "Columns: [PROJECTID_USER, AGENCY, ORG_ADMIN_p, PROJECT_CONTACT, PROJECT_EMAIL, ADMINISTERING_ORG, PROJECT_NAME, PROJECT_STATUS, PROJECT_START, PROJECT_END, PRIMARY_FUNDING_SOURCE, PRIMARY_FUNDING_ORG, IMPLEMENTING_ORG, LATITUDE, LONGITUDE, Val_Status_p, Val_Message_p, Val_RunDate_p, Review_Status_p, Review_Message_p, Review_RunDate_p, Dataload_Status_p, Dataload_Msg_p, TRMTID_USER, PROJECTID, PROJECTNAME_, ORG_ADMIN_t, PRIMARY_OWNERSHIP_GROUP, PRIMARY_OBJECTIVE, SECONDARY_OBJECTIVE, TERTIARY_OBJECTIVE, TREATMENT_STATUS, COUNTY, IN_WUI, REGION, TREATMENT_AREA, TREATMENT_START, TREATMENT_END, RETREATMENT_DATE_EST, TREATMENT_NAME, Val_Status_t, Val_Message_t, Val_RunDate_t, Review_Status_t, Review_Message_t, Review_RunDate_t, Dataload_Status_t, Dataload_Msg_t, ACTIVID_USER, TREATMENTID_, ORG_ADMIN_a, ACTIVITY_DESCRIPTION, ACTIVITY_CAT, BROAD_VEGETATION_TYPE, BVT_USERD, ACTIVITY_STATUS, ACTIVITY_QUANTITY, ACTIVITY_UOM, ACTIVITY_START, ACTIVITY_END, ADMIN_ORG_NAME, IMPLEM_ORG_NAME, PRIMARY_FUND_SRC_NAME, PRIMARY_FUND_ORG_NAME, SECONDARY_FUND_SRC_NAME, SECONDARY_FUND_ORG_NAME, TERTIARY_FUND_SRC_NAME, TERTIARY_FUND_ORG_NAME, ACTIVITY_PRCT, RESIDUE_FATE, RESIDUE_FATE_QUANTITY, RESIDUE_FATE_UNITS, ACTIVITY_NAME, VAL_STATUS_a, VAL_MSG_a, VAL_RUNDATE_a, REVIEW_STATUS_a, REVIEW_MSG_a, REVIEW_RUNDATE_a, DATALOAD_STATUS_a, DATALOAD_MSG_a, Source, Year, Year_txt, Act_Code, Crosswalk, Federal_FY, State_FY, TRMT_GEOM, COUNTS_TO_MAS, geometry]\n",
       "Index: []\n",
       "\n",
       "[0 rows x 91 columns]"
      ]
     },
     "execution_count": 13,
     "metadata": {},
     "output_type": "execute_result"
    }
   ],
   "source": [
    "PFIRS_enriched[(PFIRS_enriched.AGENCY.isna()) & (PFIRS_enriched.COUNTS_TO_MAS=='YES')]"
   ]
  },
  {
   "cell_type": "code",
   "execution_count": 15,
   "id": "7c6c2740",
   "metadata": {},
   "outputs": [
    {
     "data": {
      "text/plain": [
       "array(['OTHER', 'PARKS', 'TIMBER', 'DOD', 'DOE'], dtype=object)"
      ]
     },
     "execution_count": 15,
     "metadata": {},
     "output_type": "execute_result"
    }
   ],
   "source": [
    "PFIRS_enriched.ADMINISTERING_ORG.unique()"
   ]
  },
  {
   "cell_type": "code",
   "execution_count": null,
   "id": "f69b3eee",
   "metadata": {},
   "outputs": [],
   "source": []
  }
 ],
 "metadata": {
  "kernelspec": {
   "display_name": "Python 3 (ipykernel)",
   "language": "python",
   "name": "python3"
  },
  "language_info": {
   "codemirror_mode": {
    "name": "ipython",
    "version": 3
   },
   "file_extension": ".py",
   "mimetype": "text/x-python",
   "name": "python",
   "nbconvert_exporter": "python",
   "pygments_lexer": "ipython3",
   "version": "3.13.1"
  }
 },
 "nbformat": 4,
 "nbformat_minor": 5
}

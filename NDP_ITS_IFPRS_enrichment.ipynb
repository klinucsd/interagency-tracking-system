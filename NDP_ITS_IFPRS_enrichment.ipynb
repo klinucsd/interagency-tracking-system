{
 "cells": [
  {
   "cell_type": "markdown",
   "id": "308ba089-5aec-4099-b648-c28fecc024c8",
   "metadata": {},
   "source": [
    "## **Install Required Python Libraries**\n",
    "\n",
    "You are editing this notebook, so we assume you have already cloned the repository from  \n",
    "[https://github.com/klinucsd/interagency-tracking-system](https://github.com/klinucsd/interagency-tracking-system) into the folder ~/work/interagency-tracking-system. Please verify that the `requirements.txt` file is available in that folder before proceeding."
   ]
  },
  {
   "cell_type": "code",
   "execution_count": null,
   "id": "271664ff-955c-4367-bb50-973b13c78f65",
   "metadata": {},
   "outputs": [],
   "source": [
    "! pip install -r requirements.txt"
   ]
  },
  {
   "cell_type": "markdown",
   "id": "65e1ba04-1d12-44f8-bec7-8d8d2f2af8eb",
   "metadata": {},
   "source": [
    "## **Download IFPRS data in GDB format**"
   ]
  },
  {
   "cell_type": "code",
   "execution_count": null,
   "id": "0581db83-e417-4020-8d41-36dd07217fa2",
   "metadata": {},
   "outputs": [],
   "source": [
    "from utils.download_from_box import download_box_shared_link\n",
    "\n",
    "file_url = \"https://calfire.box.com/s/j0vscybpp9mloj24pdgvq65efmmn2z31\"\n",
    "downloaded = download_box_shared_link(file_url, output_dir=\".\")\n",
    "\n",
    "! unzip IFPRS_20250328.gdb.zip"
   ]
  },
  {
   "cell_type": "markdown",
   "id": "630f3c45-2ae0-488e-9639-c482c0f013fa",
   "metadata": {},
   "source": [
    "## **Download Reference Data in GDB format**"
   ]
  },
  {
   "cell_type": "code",
   "execution_count": null,
   "id": "e19f189c-5185-45c5-be9c-2c0aeedac9cc",
   "metadata": {},
   "outputs": [],
   "source": [
    "! wget https://sparcal.sdsc.edu/a_Reference.gdb.zip\n",
    "! unzip a_Reference.gdb.zip "
   ]
  },
  {
   "cell_type": "markdown",
   "id": "df3518aa-51ab-40dd-8046-9ed4b794090c",
   "metadata": {},
   "source": [
    "## **Enriching IFPRS Data**\n",
    "\n",
    "Converts the U.S. Department of Interior, Integrated Fuels Prioritization and Reporting System (IFPRS) actual treatments dataset into the Task Force standardized schema. Dataset is enriched with vegetation, ownership, county, WUI, Task Force Region, and year. "
   ]
  },
  {
   "cell_type": "code",
   "execution_count": null,
   "id": "6b0e50fc-ed23-4112-80bf-61baca45a2c4",
   "metadata": {},
   "outputs": [],
   "source": [
    "\n",
    "import warnings\n",
    "import logging\n",
    "import time\n",
    "from datetime import datetime\n",
    "import psutil\n",
    "import os\n",
    "from enrich.enrich_IFPRS import enrich_IFPRS\n",
    "\n",
    "# Get the current process ID\n",
    "process = psutil.Process(os.getpid())\n",
    "\n",
    "ifprs_input_gdb_path = \"IFPRS_20250328.gdb\"\n",
    "ifprs_input_layer_name = \"ifprs_actual_treatment\"\n",
    "a_reference_gdb_path = \"a_Reference.gdb\"\n",
    "start_year, end_year = 2023, 2025\n",
    "output_gdb_path = f\"/tmp/IFPRS_{start_year}_{end_year}.gdb\"\n",
    "output_layer_name = f\"IFPRS_enriched_{datetime.today().strftime('%Y%m%d')}\"\n",
    "\n",
    "enrich_IFPRS(ifprs_input_gdb_path,\n",
    "             ifprs_input_layer_name,\n",
    "             a_reference_gdb_path,\n",
    "             start_year,\n",
    "             end_year,\n",
    "             output_gdb_path,\n",
    "             output_layer_name)\n",
    "\n",
    "# Get memory usage in bytes, convert to MB\n",
    "memory_usage = process.memory_info().rss / 1024 / 1024\n",
    "print(f\"Memory usage: {memory_usage:.2f} MB\")\n",
    "print(f\"IFPRS enrichment GDB: {output_gdb_path}\")\n",
    "print(f\"IFPRS enrichment Layer: {output_layer_name}\")"
   ]
  }
 ],
 "metadata": {
  "kernelspec": {
   "display_name": "Python 3 (ipykernel)",
   "language": "python",
   "name": "python3"
  },
  "language_info": {
   "codemirror_mode": {
    "name": "ipython",
    "version": 3
   },
   "file_extension": ".py",
   "mimetype": "text/x-python",
   "name": "python",
   "nbconvert_exporter": "python",
   "pygments_lexer": "ipython3",
   "version": "3.10.12"
  }
 },
 "nbformat": 4,
 "nbformat_minor": 5
}
